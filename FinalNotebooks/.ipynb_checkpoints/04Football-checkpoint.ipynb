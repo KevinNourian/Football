{
 "cells": [
  {
   "cell_type": "markdown",
   "id": "4c8e4870",
   "metadata": {},
   "source": [
    "# Analysis of Data Related to European Football Leagues"
   ]
  },
  {
   "cell_type": "markdown",
   "id": "dd2aef82",
   "metadata": {},
   "source": [
    "# Introduction"
   ]
  },
  {
   "cell_type": "markdown",
   "id": "6ec18ec7",
   "metadata": {},
   "source": [
    "Football is believed to have originated in China in the third century BC. It is the world’s most popular ball game in numbers of players and spectators. Football, is a game in which two teams of 11 players, use any part of their bodies except their hands and arms to maneuver the ball into the opposing team’s goal. Only the goalkeeper is permitted to use his hands and may do so only within the penalty area surrounding the goal. The team that scores more goals wins. The standard length of a game is 90 minutes with a short break, known as ‘half time’, at the 45-minute mark. Football’s governing body is the Fédération Internationale de Football Association (FIFA). Only America and Canada call the sport soccer. "
   ]
  },
  {
   "cell_type": "markdown",
   "id": "1318f1c5",
   "metadata": {},
   "source": [
    "# Goals"
   ]
  },
  {
   "cell_type": "markdown",
   "id": "21c70b65",
   "metadata": {},
   "source": [
    "In this report, I analyze the Ultimate 25k+ Matches Football Database (European) from Kaggle to determine if there are ways to gain an advantage in predicting the outcome of a game. "
   ]
  },
  {
   "cell_type": "markdown",
   "id": "18ec9520",
   "metadata": {},
   "source": [
    "# Technical Requirements"
   ]
  },
  {
   "cell_type": "markdown",
   "id": "934a3615",
   "metadata": {},
   "source": [
    "1. Perform Data cleaning, exploratory data analysis and feature engineering.\n",
    "2. Use parameters that gives the most important statistical insights of the data.\n",
    "3. Create visualizations of the data.\n",
    "4. Perform statistical inferences and hypothesis testing. Set appropriate significance levels and create confidence intervals for the variables of interest.\n",
    "5. Apply linear machine learning models and use them for forecasting. \n",
    "6. Use cross validation, information criteria, and other methods to specify correct modeling.\n",
    "7. Choose and use appropriate metrics to measure models' performances.\n",
    "8. Provide clear explanations. \n",
    "9. Provide conclusions and suggest how the analysis can be improved."
   ]
  },
  {
   "cell_type": "markdown",
   "id": "75b82b1a",
   "metadata": {},
   "source": [
    "# Standards"
   ]
  },
  {
   "cell_type": "markdown",
   "id": "c84c9b4e",
   "metadata": {},
   "source": [
    "Below is a summary of the standards I followed to create this report. "
   ]
  },
  {
   "cell_type": "markdown",
   "id": "257dce32",
   "metadata": {},
   "source": [
    ">* **Standard 1:** In the matches table, 11 players from each team are listed. I assumed that these 11 players are the only players that participated in the specific game.\n",
    ">* **Standard 2:** I changed all column headers to follow the specific format of capitalizing the first letter of each word and connecting the two words together without underscore, like this example: \"CountryID\". \n",
    ">* **Standard 3:** If a column contained more than 75% missing data, I eliminated that column from the table.\n",
    ">* **Standard 4:** To keep the data as conscise as possible, I dropped any column that I deemed unnecessary or useful to achieve the goals of this report. "
   ]
  },
  {
   "cell_type": "markdown",
   "id": "b911ddc0",
   "metadata": {},
   "source": [
    "# Biases"
   ]
  },
  {
   "cell_type": "markdown",
   "id": "8f2d56de",
   "metadata": {},
   "source": [
    "Below are the biases I identified while creating this report."
   ]
  },
  {
   "cell_type": "markdown",
   "id": "096b9a11",
   "metadata": {},
   "source": [
    ">* **Bias 1:** Clear information about players in each team is not part of this data set. This may be because the players can change at any moment in the game and this information is not entered. \n",
    ">* **Bias 2:** I have no expertise football. There may be parts of the data that I have overlooked that may have been most important and I may have given importance to parts of the data that may have had little significance. "
   ]
  },
  {
   "cell_type": "markdown",
   "id": "5c8fabad",
   "metadata": {},
   "source": [
    "# Libraries"
   ]
  },
  {
   "cell_type": "code",
   "execution_count": 2,
   "id": "edbd314d",
   "metadata": {},
   "outputs": [],
   "source": [
    "import pandas as pd\n",
    "import numpy as np\n",
    "import sqlite3\n",
    "import seaborn as sns\n",
    "import matplotlib as mpl\n",
    "import matplotlib.pyplot as plt\n",
    "import warnings\n",
    "import xml.etree.ElementTree as ET\n",
    "import eli5 as eli\n",
    "\n",
    "from sklearn.model_selection import train_test_split, GridSearchCV\n",
    "from sklearn.linear_model import LogisticRegression\n",
    "from sklearn.preprocessing import StandardScaler\n",
    "from sklearn.metrics import accuracy_score, confusion_matrix, classification_report\n",
    "from sklearn.decomposition import PCA\n",
    "from sklearn.model_selection import GridSearchCV\n",
    "from xml.etree.ElementTree import fromstring, ElementTree\n",
    "from sklearn.impute import SimpleImputer\n",
    "from sklearn.ensemble import RandomForestClassifier\n",
    "from sklearn.metrics import roc_auc_score\n",
    "from sklearn.metrics import roc_curve\n",
    "from eli5.sklearn import PermutationImportance"
   ]
  },
  {
   "cell_type": "markdown",
   "id": "driven-arlington",
   "metadata": {},
   "source": [
    "# Display Parameters"
   ]
  },
  {
   "cell_type": "markdown",
   "id": "double-logging",
   "metadata": {},
   "source": [
    "## Display Features"
   ]
  },
  {
   "cell_type": "code",
   "execution_count": 3,
   "id": "driven-element",
   "metadata": {},
   "outputs": [],
   "source": [
    "%matplotlib inline\n",
    "pd.options.display.max_rows = 300000\n",
    "pd.options.display.max_columns = 999\n",
    "pd.options.display.max_colwidth = 500\n",
    "warnings.filterwarnings(\"ignore\")"
   ]
  },
  {
   "cell_type": "markdown",
   "id": "incredible-stupid",
   "metadata": {},
   "source": [
    "## Figure Parameters"
   ]
  },
  {
   "cell_type": "code",
   "execution_count": 4,
   "id": "secret-canadian",
   "metadata": {},
   "outputs": [],
   "source": [
    "size = 20\n",
    "sns.set(style=\"white\", palette=\"RdBu\")\n",
    "\n",
    "params = {\n",
    "    \"font.family\": \"Times New Roman\",\n",
    "    \"font.size\": size,\n",
    "    \"axes.labelsize\": size,\n",
    "    \"xtick.labelsize\": size * 0.75,\n",
    "    \"ytick.labelsize\": size * 0.75,\n",
    "    \"figure.titlesize\": size * 1.5,\n",
    "    \"axes.titlesize\": size * 1.5,\n",
    "    \"axes.titlepad\": size,\n",
    "    \"axes.labelpad\": size - 10,\n",
    "    \"lines.linewidth\": 2,\n",
    "    \"axes.spines.top\": False,\n",
    "    \"axes.spines.right\": False,\n",
    "    \"axes.spines.left\": False,\n",
    "    \"axes.spines.bottom\": False,\n",
    "    \"legend.fontsize\": size,\n",
    "}"
   ]
  },
  {
   "cell_type": "markdown",
   "id": "b05ff9ae",
   "metadata": {},
   "source": [
    "# The Raw Data"
   ]
  },
  {
   "cell_type": "markdown",
   "id": "6aba3cdd",
   "metadata": {},
   "source": [
    "For this report, I used the Ultimate 25k+ Matches Football Database - European dataset from Kaggle. This data set is comprised of seven (7) tables.\n",
    "1. Country\n",
    "2. Leauge\n",
    "3. Player\n",
    "4. Plater Attribute\n",
    "5. Team\n",
    "6. Team Attribute\n",
    "7. Match"
   ]
  },
  {
   "cell_type": "code",
   "execution_count": 77,
   "id": "b23e4c41",
   "metadata": {},
   "outputs": [],
   "source": [
    "football = sqlite3.connect(\n",
    "    \"C:\\\\Users\\\\Space\\\\Documents\\\\py\\\\Projects\\\\TuringCollege\\\\Football\\\\database.sqlite\"\n",
    ")"
   ]
  },
  {
   "cell_type": "code",
   "execution_count": 80,
   "id": "670cf865",
   "metadata": {},
   "outputs": [],
   "source": [
    "football_db = {}\n",
    "\n",
    "result = football.execute(\"SELECT name FROM sqlite_master WHERE type='table';\")\n",
    "\n",
    "for table in result:\n",
    "    query = \"SELECT * from \" + str(table[0]) + \";\"\n",
    "    football_db[table[0]] = pd.read_sql_query(query, football)"
   ]
  },
  {
   "cell_type": "markdown",
   "id": "d75c889b",
   "metadata": {},
   "source": [
    "# Data Overview and Cleaning"
   ]
  },
  {
   "cell_type": "markdown",
   "id": "dab162fd",
   "metadata": {},
   "source": [
    "## Country"
   ]
  },
  {
   "cell_type": "markdown",
   "id": "1887b77f",
   "metadata": {},
   "source": [
    "The section below contains information about the Country table and how I cleaned this table for further analysis."
   ]
  },
  {
   "cell_type": "code",
   "execution_count": 81,
   "id": "e94cbc0c",
   "metadata": {},
   "outputs": [],
   "source": [
    "country = football_db[\"Country\"].copy()"
   ]
  },
  {
   "cell_type": "code",
   "execution_count": 82,
   "id": "1c6c52fa",
   "metadata": {},
   "outputs": [
    {
     "data": {
      "text/html": [
       "<div>\n",
       "<style scoped>\n",
       "    .dataframe tbody tr th:only-of-type {\n",
       "        vertical-align: middle;\n",
       "    }\n",
       "\n",
       "    .dataframe tbody tr th {\n",
       "        vertical-align: top;\n",
       "    }\n",
       "\n",
       "    .dataframe thead th {\n",
       "        text-align: right;\n",
       "    }\n",
       "</style>\n",
       "<table border=\"1\" class=\"dataframe\">\n",
       "  <thead>\n",
       "    <tr style=\"text-align: right;\">\n",
       "      <th></th>\n",
       "      <th>id</th>\n",
       "      <th>name</th>\n",
       "    </tr>\n",
       "  </thead>\n",
       "  <tbody>\n",
       "    <tr>\n",
       "      <th>0</th>\n",
       "      <td>1</td>\n",
       "      <td>Belgium</td>\n",
       "    </tr>\n",
       "    <tr>\n",
       "      <th>1</th>\n",
       "      <td>1729</td>\n",
       "      <td>England</td>\n",
       "    </tr>\n",
       "    <tr>\n",
       "      <th>2</th>\n",
       "      <td>4769</td>\n",
       "      <td>France</td>\n",
       "    </tr>\n",
       "    <tr>\n",
       "      <th>3</th>\n",
       "      <td>7809</td>\n",
       "      <td>Germany</td>\n",
       "    </tr>\n",
       "    <tr>\n",
       "      <th>4</th>\n",
       "      <td>10257</td>\n",
       "      <td>Italy</td>\n",
       "    </tr>\n",
       "  </tbody>\n",
       "</table>\n",
       "</div>"
      ],
      "text/plain": [
       "      id     name\n",
       "0      1  Belgium\n",
       "1   1729  England\n",
       "2   4769   France\n",
       "3   7809  Germany\n",
       "4  10257    Italy"
      ]
     },
     "execution_count": 82,
     "metadata": {},
     "output_type": "execute_result"
    }
   ],
   "source": [
    "country.head()"
   ]
  },
  {
   "cell_type": "code",
   "execution_count": 356,
   "id": "097d763a",
   "metadata": {},
   "outputs": [],
   "source": [
    "country.rename(columns={\"id\": \"CountryID\", \"name\": \"CountryName\"}, inplace=True)"
   ]
  },
  {
   "cell_type": "code",
   "execution_count": 358,
   "id": "ab828ad2",
   "metadata": {},
   "outputs": [
    {
     "data": {
      "text/html": [
       "<div>\n",
       "<style scoped>\n",
       "    .dataframe tbody tr th:only-of-type {\n",
       "        vertical-align: middle;\n",
       "    }\n",
       "\n",
       "    .dataframe tbody tr th {\n",
       "        vertical-align: top;\n",
       "    }\n",
       "\n",
       "    .dataframe thead th {\n",
       "        text-align: right;\n",
       "    }\n",
       "</style>\n",
       "<table border=\"1\" class=\"dataframe\">\n",
       "  <thead>\n",
       "    <tr style=\"text-align: right;\">\n",
       "      <th></th>\n",
       "      <th>CountryID</th>\n",
       "      <th>CountryName</th>\n",
       "    </tr>\n",
       "  </thead>\n",
       "  <tbody>\n",
       "    <tr>\n",
       "      <th>0</th>\n",
       "      <td>1</td>\n",
       "      <td>Belgium</td>\n",
       "    </tr>\n",
       "    <tr>\n",
       "      <th>1</th>\n",
       "      <td>1729</td>\n",
       "      <td>England</td>\n",
       "    </tr>\n",
       "    <tr>\n",
       "      <th>2</th>\n",
       "      <td>4769</td>\n",
       "      <td>France</td>\n",
       "    </tr>\n",
       "    <tr>\n",
       "      <th>3</th>\n",
       "      <td>7809</td>\n",
       "      <td>Germany</td>\n",
       "    </tr>\n",
       "    <tr>\n",
       "      <th>4</th>\n",
       "      <td>10257</td>\n",
       "      <td>Italy</td>\n",
       "    </tr>\n",
       "    <tr>\n",
       "      <th>5</th>\n",
       "      <td>13274</td>\n",
       "      <td>Netherlands</td>\n",
       "    </tr>\n",
       "    <tr>\n",
       "      <th>6</th>\n",
       "      <td>15722</td>\n",
       "      <td>Poland</td>\n",
       "    </tr>\n",
       "    <tr>\n",
       "      <th>7</th>\n",
       "      <td>17642</td>\n",
       "      <td>Portugal</td>\n",
       "    </tr>\n",
       "    <tr>\n",
       "      <th>8</th>\n",
       "      <td>19694</td>\n",
       "      <td>Scotland</td>\n",
       "    </tr>\n",
       "    <tr>\n",
       "      <th>9</th>\n",
       "      <td>21518</td>\n",
       "      <td>Spain</td>\n",
       "    </tr>\n",
       "    <tr>\n",
       "      <th>10</th>\n",
       "      <td>24558</td>\n",
       "      <td>Switzerland</td>\n",
       "    </tr>\n",
       "  </tbody>\n",
       "</table>\n",
       "</div>"
      ],
      "text/plain": [
       "    CountryID  CountryName\n",
       "0           1      Belgium\n",
       "1        1729      England\n",
       "2        4769       France\n",
       "3        7809      Germany\n",
       "4       10257        Italy\n",
       "5       13274  Netherlands\n",
       "6       15722       Poland\n",
       "7       17642     Portugal\n",
       "8       19694     Scotland\n",
       "9       21518        Spain\n",
       "10      24558  Switzerland"
      ]
     },
     "execution_count": 358,
     "metadata": {},
     "output_type": "execute_result"
    }
   ],
   "source": [
    "country"
   ]
  },
  {
   "cell_type": "code",
   "execution_count": 388,
   "id": "fb265e53",
   "metadata": {},
   "outputs": [
    {
     "data": {
      "text/plain": [
       "(11, 2)"
      ]
     },
     "execution_count": 388,
     "metadata": {},
     "output_type": "execute_result"
    }
   ],
   "source": [
    "country.shape"
   ]
  },
  {
   "cell_type": "markdown",
   "id": "4f18a87c",
   "metadata": {},
   "source": [
    "### Section Summary\n",
    "> 11 countries are represented in this data set. I changed the header for column \"id\" to \"CountryID,\" and \"name\" to \"CountryName.\" "
   ]
  },
  {
   "cell_type": "markdown",
   "id": "632ddf37",
   "metadata": {},
   "source": [
    "## League"
   ]
  },
  {
   "cell_type": "markdown",
   "id": "1d89d4fa",
   "metadata": {},
   "source": [
    "The section below contains information about the League table and how I cleaned this table for further analysis."
   ]
  },
  {
   "cell_type": "code",
   "execution_count": 85,
   "id": "5247800d",
   "metadata": {},
   "outputs": [],
   "source": [
    "league = football_db[\"League\"].copy()"
   ]
  },
  {
   "cell_type": "code",
   "execution_count": 86,
   "id": "b3f3d31a",
   "metadata": {},
   "outputs": [
    {
     "data": {
      "text/html": [
       "<div>\n",
       "<style scoped>\n",
       "    .dataframe tbody tr th:only-of-type {\n",
       "        vertical-align: middle;\n",
       "    }\n",
       "\n",
       "    .dataframe tbody tr th {\n",
       "        vertical-align: top;\n",
       "    }\n",
       "\n",
       "    .dataframe thead th {\n",
       "        text-align: right;\n",
       "    }\n",
       "</style>\n",
       "<table border=\"1\" class=\"dataframe\">\n",
       "  <thead>\n",
       "    <tr style=\"text-align: right;\">\n",
       "      <th></th>\n",
       "      <th>id</th>\n",
       "      <th>country_id</th>\n",
       "      <th>name</th>\n",
       "    </tr>\n",
       "  </thead>\n",
       "  <tbody>\n",
       "    <tr>\n",
       "      <th>0</th>\n",
       "      <td>1</td>\n",
       "      <td>1</td>\n",
       "      <td>Belgium Jupiler League</td>\n",
       "    </tr>\n",
       "    <tr>\n",
       "      <th>1</th>\n",
       "      <td>1729</td>\n",
       "      <td>1729</td>\n",
       "      <td>England Premier League</td>\n",
       "    </tr>\n",
       "    <tr>\n",
       "      <th>2</th>\n",
       "      <td>4769</td>\n",
       "      <td>4769</td>\n",
       "      <td>France Ligue 1</td>\n",
       "    </tr>\n",
       "    <tr>\n",
       "      <th>3</th>\n",
       "      <td>7809</td>\n",
       "      <td>7809</td>\n",
       "      <td>Germany 1. Bundesliga</td>\n",
       "    </tr>\n",
       "    <tr>\n",
       "      <th>4</th>\n",
       "      <td>10257</td>\n",
       "      <td>10257</td>\n",
       "      <td>Italy Serie A</td>\n",
       "    </tr>\n",
       "  </tbody>\n",
       "</table>\n",
       "</div>"
      ],
      "text/plain": [
       "      id  country_id                    name\n",
       "0      1           1  Belgium Jupiler League\n",
       "1   1729        1729  England Premier League\n",
       "2   4769        4769          France Ligue 1\n",
       "3   7809        7809   Germany 1. Bundesliga\n",
       "4  10257       10257           Italy Serie A"
      ]
     },
     "execution_count": 86,
     "metadata": {},
     "output_type": "execute_result"
    }
   ],
   "source": [
    "league.head()"
   ]
  },
  {
   "cell_type": "code",
   "execution_count": 363,
   "id": "b7489092",
   "metadata": {},
   "outputs": [],
   "source": [
    "del league[\"id\"]\n",
    "league = league.rename(columns={\"country_id\": \"LeagueID\", \"name\": \"LeagueName\"})"
   ]
  },
  {
   "cell_type": "code",
   "execution_count": 366,
   "id": "23e5920a",
   "metadata": {
    "scrolled": true
   },
   "outputs": [
    {
     "data": {
      "text/html": [
       "<div>\n",
       "<style scoped>\n",
       "    .dataframe tbody tr th:only-of-type {\n",
       "        vertical-align: middle;\n",
       "    }\n",
       "\n",
       "    .dataframe tbody tr th {\n",
       "        vertical-align: top;\n",
       "    }\n",
       "\n",
       "    .dataframe thead th {\n",
       "        text-align: right;\n",
       "    }\n",
       "</style>\n",
       "<table border=\"1\" class=\"dataframe\">\n",
       "  <thead>\n",
       "    <tr style=\"text-align: right;\">\n",
       "      <th></th>\n",
       "      <th>LeagueID</th>\n",
       "      <th>LeagueName</th>\n",
       "    </tr>\n",
       "  </thead>\n",
       "  <tbody>\n",
       "    <tr>\n",
       "      <th>0</th>\n",
       "      <td>1</td>\n",
       "      <td>Belgium Jupiler League</td>\n",
       "    </tr>\n",
       "    <tr>\n",
       "      <th>1</th>\n",
       "      <td>1729</td>\n",
       "      <td>England Premier League</td>\n",
       "    </tr>\n",
       "    <tr>\n",
       "      <th>2</th>\n",
       "      <td>4769</td>\n",
       "      <td>France Ligue 1</td>\n",
       "    </tr>\n",
       "    <tr>\n",
       "      <th>3</th>\n",
       "      <td>7809</td>\n",
       "      <td>Germany 1. Bundesliga</td>\n",
       "    </tr>\n",
       "    <tr>\n",
       "      <th>4</th>\n",
       "      <td>10257</td>\n",
       "      <td>Italy Serie A</td>\n",
       "    </tr>\n",
       "  </tbody>\n",
       "</table>\n",
       "</div>"
      ],
      "text/plain": [
       "   LeagueID              LeagueName\n",
       "0         1  Belgium Jupiler League\n",
       "1      1729  England Premier League\n",
       "2      4769          France Ligue 1\n",
       "3      7809   Germany 1. Bundesliga\n",
       "4     10257           Italy Serie A"
      ]
     },
     "execution_count": 366,
     "metadata": {},
     "output_type": "execute_result"
    }
   ],
   "source": [
    "league.head()"
   ]
  },
  {
   "cell_type": "code",
   "execution_count": 387,
   "id": "e545c680",
   "metadata": {
    "scrolled": true
   },
   "outputs": [
    {
     "data": {
      "text/plain": [
       "(11, 2)"
      ]
     },
     "execution_count": 387,
     "metadata": {},
     "output_type": "execute_result"
    }
   ],
   "source": [
    "league.shape"
   ]
  },
  {
   "cell_type": "markdown",
   "id": "0c255e21",
   "metadata": {},
   "source": [
    "### Section Summary\n",
    "> 11 leagues are represented in this data set, one from each country in the Country table. I dropped the \"id\" column because it contains the same information as the \"country_id\" column. I changed the header for column \"country_id\" to \"LeagueID,\" and \"name\" to \"LeagueName.\" "
   ]
  },
  {
   "cell_type": "markdown",
   "id": "633671ba",
   "metadata": {},
   "source": [
    "## Player"
   ]
  },
  {
   "cell_type": "markdown",
   "id": "b68b6df6",
   "metadata": {},
   "source": [
    "The section below contains information about the Player table and how I cleaned this table for further analysis."
   ]
  },
  {
   "cell_type": "code",
   "execution_count": 96,
   "id": "da699ec3",
   "metadata": {},
   "outputs": [],
   "source": [
    "player = football_db[\"Player\"].copy()"
   ]
  },
  {
   "cell_type": "code",
   "execution_count": 97,
   "id": "78e8430a",
   "metadata": {},
   "outputs": [
    {
     "data": {
      "text/html": [
       "<div>\n",
       "<style scoped>\n",
       "    .dataframe tbody tr th:only-of-type {\n",
       "        vertical-align: middle;\n",
       "    }\n",
       "\n",
       "    .dataframe tbody tr th {\n",
       "        vertical-align: top;\n",
       "    }\n",
       "\n",
       "    .dataframe thead th {\n",
       "        text-align: right;\n",
       "    }\n",
       "</style>\n",
       "<table border=\"1\" class=\"dataframe\">\n",
       "  <thead>\n",
       "    <tr style=\"text-align: right;\">\n",
       "      <th></th>\n",
       "      <th>id</th>\n",
       "      <th>player_api_id</th>\n",
       "      <th>player_name</th>\n",
       "      <th>player_fifa_api_id</th>\n",
       "      <th>birthday</th>\n",
       "      <th>height</th>\n",
       "      <th>weight</th>\n",
       "    </tr>\n",
       "  </thead>\n",
       "  <tbody>\n",
       "    <tr>\n",
       "      <th>0</th>\n",
       "      <td>1</td>\n",
       "      <td>505942</td>\n",
       "      <td>Aaron Appindangoye</td>\n",
       "      <td>218353</td>\n",
       "      <td>1992-02-29 00:00:00</td>\n",
       "      <td>182.88</td>\n",
       "      <td>187</td>\n",
       "    </tr>\n",
       "    <tr>\n",
       "      <th>1</th>\n",
       "      <td>2</td>\n",
       "      <td>155782</td>\n",
       "      <td>Aaron Cresswell</td>\n",
       "      <td>189615</td>\n",
       "      <td>1989-12-15 00:00:00</td>\n",
       "      <td>170.18</td>\n",
       "      <td>146</td>\n",
       "    </tr>\n",
       "    <tr>\n",
       "      <th>2</th>\n",
       "      <td>3</td>\n",
       "      <td>162549</td>\n",
       "      <td>Aaron Doran</td>\n",
       "      <td>186170</td>\n",
       "      <td>1991-05-13 00:00:00</td>\n",
       "      <td>170.18</td>\n",
       "      <td>163</td>\n",
       "    </tr>\n",
       "    <tr>\n",
       "      <th>3</th>\n",
       "      <td>4</td>\n",
       "      <td>30572</td>\n",
       "      <td>Aaron Galindo</td>\n",
       "      <td>140161</td>\n",
       "      <td>1982-05-08 00:00:00</td>\n",
       "      <td>182.88</td>\n",
       "      <td>198</td>\n",
       "    </tr>\n",
       "    <tr>\n",
       "      <th>4</th>\n",
       "      <td>5</td>\n",
       "      <td>23780</td>\n",
       "      <td>Aaron Hughes</td>\n",
       "      <td>17725</td>\n",
       "      <td>1979-11-08 00:00:00</td>\n",
       "      <td>182.88</td>\n",
       "      <td>154</td>\n",
       "    </tr>\n",
       "  </tbody>\n",
       "</table>\n",
       "</div>"
      ],
      "text/plain": [
       "   id  player_api_id         player_name  player_fifa_api_id  \\\n",
       "0   1         505942  Aaron Appindangoye              218353   \n",
       "1   2         155782     Aaron Cresswell              189615   \n",
       "2   3         162549         Aaron Doran              186170   \n",
       "3   4          30572       Aaron Galindo              140161   \n",
       "4   5          23780        Aaron Hughes               17725   \n",
       "\n",
       "              birthday  height  weight  \n",
       "0  1992-02-29 00:00:00  182.88     187  \n",
       "1  1989-12-15 00:00:00  170.18     146  \n",
       "2  1991-05-13 00:00:00  170.18     163  \n",
       "3  1982-05-08 00:00:00  182.88     198  \n",
       "4  1979-11-08 00:00:00  182.88     154  "
      ]
     },
     "execution_count": 97,
     "metadata": {},
     "output_type": "execute_result"
    }
   ],
   "source": [
    "player.head()"
   ]
  },
  {
   "cell_type": "code",
   "execution_count": 89,
   "id": "b4915fca",
   "metadata": {},
   "outputs": [
    {
     "data": {
      "text/plain": [
       "id                    0.0\n",
       "player_api_id         0.0\n",
       "player_name           0.0\n",
       "player_fifa_api_id    0.0\n",
       "birthday              0.0\n",
       "height                0.0\n",
       "weight                0.0\n",
       "dtype: float64"
      ]
     },
     "execution_count": 89,
     "metadata": {},
     "output_type": "execute_result"
    }
   ],
   "source": [
    "player[player.duplicated()].sum()"
   ]
  },
  {
   "cell_type": "code",
   "execution_count": 98,
   "id": "014f8bc0",
   "metadata": {},
   "outputs": [
    {
     "data": {
      "text/plain": [
       "id                    0\n",
       "player_api_id         0\n",
       "player_name           0\n",
       "player_fifa_api_id    0\n",
       "birthday              0\n",
       "height                0\n",
       "weight                0\n",
       "dtype: int64"
      ]
     },
     "execution_count": 98,
     "metadata": {},
     "output_type": "execute_result"
    }
   ],
   "source": [
    "player.isna().sum()"
   ]
  },
  {
   "cell_type": "code",
   "execution_count": 90,
   "id": "49ad8869",
   "metadata": {},
   "outputs": [],
   "source": [
    "player.drop(columns=[\"id\", \"player_fifa_api_id\"], inplace=True)\n",
    "player = player.set_index(\"player_api_id\")\n",
    "player = player.rename_axis(\"player_api_id\").reset_index()"
   ]
  },
  {
   "cell_type": "code",
   "execution_count": 91,
   "id": "f368a2ae",
   "metadata": {},
   "outputs": [],
   "source": [
    "player.rename(\n",
    "    columns={\n",
    "        \"player_api_id\": \"PlayerID\",\n",
    "        \"player_name\": \"PlayerName\",\n",
    "        \"birthday\": \"Birthday\",\n",
    "        \"height\": \"Height\",\n",
    "        \"weight\": \"Weight\",\n",
    "    },\n",
    "    inplace=True,\n",
    ")"
   ]
  },
  {
   "cell_type": "code",
   "execution_count": 92,
   "id": "2d35ef3b",
   "metadata": {},
   "outputs": [],
   "source": [
    "player[\"BMI\"] = np.round(\n",
    "    (player[\"Weight\"] / 2.205) / ((player[\"Height\"] / 100.0) ** 2), 2\n",
    ")"
   ]
  },
  {
   "cell_type": "code",
   "execution_count": 93,
   "id": "f0c183c1",
   "metadata": {},
   "outputs": [],
   "source": [
    "player[\"Birthday\"] = pd.DatetimeIndex(player[\"Birthday\"]).year"
   ]
  },
  {
   "cell_type": "code",
   "execution_count": 94,
   "id": "5bf1a4fc",
   "metadata": {
    "scrolled": false
   },
   "outputs": [
    {
     "data": {
      "text/html": [
       "<div>\n",
       "<style scoped>\n",
       "    .dataframe tbody tr th:only-of-type {\n",
       "        vertical-align: middle;\n",
       "    }\n",
       "\n",
       "    .dataframe tbody tr th {\n",
       "        vertical-align: top;\n",
       "    }\n",
       "\n",
       "    .dataframe thead th {\n",
       "        text-align: right;\n",
       "    }\n",
       "</style>\n",
       "<table border=\"1\" class=\"dataframe\">\n",
       "  <thead>\n",
       "    <tr style=\"text-align: right;\">\n",
       "      <th></th>\n",
       "      <th>PlayerID</th>\n",
       "      <th>PlayerName</th>\n",
       "      <th>Birthday</th>\n",
       "      <th>Height</th>\n",
       "      <th>Weight</th>\n",
       "      <th>BMI</th>\n",
       "    </tr>\n",
       "  </thead>\n",
       "  <tbody>\n",
       "    <tr>\n",
       "      <th>0</th>\n",
       "      <td>505942</td>\n",
       "      <td>Aaron Appindangoye</td>\n",
       "      <td>1992</td>\n",
       "      <td>182.88</td>\n",
       "      <td>187</td>\n",
       "      <td>25.36</td>\n",
       "    </tr>\n",
       "    <tr>\n",
       "      <th>1</th>\n",
       "      <td>155782</td>\n",
       "      <td>Aaron Cresswell</td>\n",
       "      <td>1989</td>\n",
       "      <td>170.18</td>\n",
       "      <td>146</td>\n",
       "      <td>22.86</td>\n",
       "    </tr>\n",
       "    <tr>\n",
       "      <th>2</th>\n",
       "      <td>162549</td>\n",
       "      <td>Aaron Doran</td>\n",
       "      <td>1991</td>\n",
       "      <td>170.18</td>\n",
       "      <td>163</td>\n",
       "      <td>25.52</td>\n",
       "    </tr>\n",
       "    <tr>\n",
       "      <th>3</th>\n",
       "      <td>30572</td>\n",
       "      <td>Aaron Galindo</td>\n",
       "      <td>1982</td>\n",
       "      <td>182.88</td>\n",
       "      <td>198</td>\n",
       "      <td>26.85</td>\n",
       "    </tr>\n",
       "    <tr>\n",
       "      <th>4</th>\n",
       "      <td>23780</td>\n",
       "      <td>Aaron Hughes</td>\n",
       "      <td>1979</td>\n",
       "      <td>182.88</td>\n",
       "      <td>154</td>\n",
       "      <td>20.88</td>\n",
       "    </tr>\n",
       "  </tbody>\n",
       "</table>\n",
       "</div>"
      ],
      "text/plain": [
       "   PlayerID          PlayerName  Birthday  Height  Weight    BMI\n",
       "0    505942  Aaron Appindangoye      1992  182.88     187  25.36\n",
       "1    155782     Aaron Cresswell      1989  170.18     146  22.86\n",
       "2    162549         Aaron Doran      1991  170.18     163  25.52\n",
       "3     30572       Aaron Galindo      1982  182.88     198  26.85\n",
       "4     23780        Aaron Hughes      1979  182.88     154  20.88"
      ]
     },
     "execution_count": 94,
     "metadata": {},
     "output_type": "execute_result"
    }
   ],
   "source": [
    "player.head()"
   ]
  },
  {
   "cell_type": "code",
   "execution_count": 385,
   "id": "18afd4ec",
   "metadata": {},
   "outputs": [
    {
     "data": {
      "text/plain": [
       "(11060, 6)"
      ]
     },
     "execution_count": 385,
     "metadata": {},
     "output_type": "execute_result"
    }
   ],
   "source": [
    "player.shape"
   ]
  },
  {
   "cell_type": "markdown",
   "id": "20581398",
   "metadata": {},
   "source": [
    "### Section Summary\n",
    "> * This table contains no duplicate values.\n",
    "> * This table contains no  Null values.\n",
    "> * I eliminated these columns from the Player table: \"id\", \"player_fifa_api_id\".\n",
    "> * I changed the names of the other columns to the consistent format for this report as indicated in the Standards section.\n",
    "> * Using the \"Weight\" and \"Height\" columns, I calcuated the BMI for each player and included it in this table. "
   ]
  },
  {
   "cell_type": "markdown",
   "id": "c7306c86",
   "metadata": {},
   "source": [
    "## Player Attributes"
   ]
  },
  {
   "cell_type": "markdown",
   "id": "fe8dea76",
   "metadata": {},
   "source": [
    "The section below contains information about the Player Attributes table and how I cleaned this table for further analysis."
   ]
  },
  {
   "cell_type": "code",
   "execution_count": 136,
   "id": "4e520ffc",
   "metadata": {},
   "outputs": [],
   "source": [
    "player_attributes = football_db[\"Player_Attributes\"].copy()"
   ]
  },
  {
   "cell_type": "code",
   "execution_count": 137,
   "id": "922156b0",
   "metadata": {
    "scrolled": false
   },
   "outputs": [
    {
     "data": {
      "text/html": [
       "<div>\n",
       "<style scoped>\n",
       "    .dataframe tbody tr th:only-of-type {\n",
       "        vertical-align: middle;\n",
       "    }\n",
       "\n",
       "    .dataframe tbody tr th {\n",
       "        vertical-align: top;\n",
       "    }\n",
       "\n",
       "    .dataframe thead th {\n",
       "        text-align: right;\n",
       "    }\n",
       "</style>\n",
       "<table border=\"1\" class=\"dataframe\">\n",
       "  <thead>\n",
       "    <tr style=\"text-align: right;\">\n",
       "      <th></th>\n",
       "      <th>id</th>\n",
       "      <th>player_fifa_api_id</th>\n",
       "      <th>player_api_id</th>\n",
       "      <th>date</th>\n",
       "      <th>overall_rating</th>\n",
       "      <th>potential</th>\n",
       "      <th>preferred_foot</th>\n",
       "      <th>attacking_work_rate</th>\n",
       "      <th>defensive_work_rate</th>\n",
       "      <th>crossing</th>\n",
       "      <th>finishing</th>\n",
       "      <th>heading_accuracy</th>\n",
       "      <th>short_passing</th>\n",
       "      <th>volleys</th>\n",
       "      <th>dribbling</th>\n",
       "      <th>curve</th>\n",
       "      <th>free_kick_accuracy</th>\n",
       "      <th>long_passing</th>\n",
       "      <th>ball_control</th>\n",
       "      <th>acceleration</th>\n",
       "      <th>sprint_speed</th>\n",
       "      <th>agility</th>\n",
       "      <th>reactions</th>\n",
       "      <th>balance</th>\n",
       "      <th>shot_power</th>\n",
       "      <th>jumping</th>\n",
       "      <th>stamina</th>\n",
       "      <th>strength</th>\n",
       "      <th>long_shots</th>\n",
       "      <th>aggression</th>\n",
       "      <th>interceptions</th>\n",
       "      <th>positioning</th>\n",
       "      <th>vision</th>\n",
       "      <th>penalties</th>\n",
       "      <th>marking</th>\n",
       "      <th>standing_tackle</th>\n",
       "      <th>sliding_tackle</th>\n",
       "      <th>gk_diving</th>\n",
       "      <th>gk_handling</th>\n",
       "      <th>gk_kicking</th>\n",
       "      <th>gk_positioning</th>\n",
       "      <th>gk_reflexes</th>\n",
       "    </tr>\n",
       "  </thead>\n",
       "  <tbody>\n",
       "    <tr>\n",
       "      <th>0</th>\n",
       "      <td>1</td>\n",
       "      <td>218353</td>\n",
       "      <td>505942</td>\n",
       "      <td>2016-02-18 00:00:00</td>\n",
       "      <td>67.0</td>\n",
       "      <td>71.0</td>\n",
       "      <td>right</td>\n",
       "      <td>medium</td>\n",
       "      <td>medium</td>\n",
       "      <td>49.0</td>\n",
       "      <td>44.0</td>\n",
       "      <td>71.0</td>\n",
       "      <td>61.0</td>\n",
       "      <td>44.0</td>\n",
       "      <td>51.0</td>\n",
       "      <td>45.0</td>\n",
       "      <td>39.0</td>\n",
       "      <td>64.0</td>\n",
       "      <td>49.0</td>\n",
       "      <td>60.0</td>\n",
       "      <td>64.0</td>\n",
       "      <td>59.0</td>\n",
       "      <td>47.0</td>\n",
       "      <td>65.0</td>\n",
       "      <td>55.0</td>\n",
       "      <td>58.0</td>\n",
       "      <td>54.0</td>\n",
       "      <td>76.0</td>\n",
       "      <td>35.0</td>\n",
       "      <td>71.0</td>\n",
       "      <td>70.0</td>\n",
       "      <td>45.0</td>\n",
       "      <td>54.0</td>\n",
       "      <td>48.0</td>\n",
       "      <td>65.0</td>\n",
       "      <td>69.0</td>\n",
       "      <td>69.0</td>\n",
       "      <td>6.0</td>\n",
       "      <td>11.0</td>\n",
       "      <td>10.0</td>\n",
       "      <td>8.0</td>\n",
       "      <td>8.0</td>\n",
       "    </tr>\n",
       "    <tr>\n",
       "      <th>1</th>\n",
       "      <td>2</td>\n",
       "      <td>218353</td>\n",
       "      <td>505942</td>\n",
       "      <td>2015-11-19 00:00:00</td>\n",
       "      <td>67.0</td>\n",
       "      <td>71.0</td>\n",
       "      <td>right</td>\n",
       "      <td>medium</td>\n",
       "      <td>medium</td>\n",
       "      <td>49.0</td>\n",
       "      <td>44.0</td>\n",
       "      <td>71.0</td>\n",
       "      <td>61.0</td>\n",
       "      <td>44.0</td>\n",
       "      <td>51.0</td>\n",
       "      <td>45.0</td>\n",
       "      <td>39.0</td>\n",
       "      <td>64.0</td>\n",
       "      <td>49.0</td>\n",
       "      <td>60.0</td>\n",
       "      <td>64.0</td>\n",
       "      <td>59.0</td>\n",
       "      <td>47.0</td>\n",
       "      <td>65.0</td>\n",
       "      <td>55.0</td>\n",
       "      <td>58.0</td>\n",
       "      <td>54.0</td>\n",
       "      <td>76.0</td>\n",
       "      <td>35.0</td>\n",
       "      <td>71.0</td>\n",
       "      <td>70.0</td>\n",
       "      <td>45.0</td>\n",
       "      <td>54.0</td>\n",
       "      <td>48.0</td>\n",
       "      <td>65.0</td>\n",
       "      <td>69.0</td>\n",
       "      <td>69.0</td>\n",
       "      <td>6.0</td>\n",
       "      <td>11.0</td>\n",
       "      <td>10.0</td>\n",
       "      <td>8.0</td>\n",
       "      <td>8.0</td>\n",
       "    </tr>\n",
       "    <tr>\n",
       "      <th>2</th>\n",
       "      <td>3</td>\n",
       "      <td>218353</td>\n",
       "      <td>505942</td>\n",
       "      <td>2015-09-21 00:00:00</td>\n",
       "      <td>62.0</td>\n",
       "      <td>66.0</td>\n",
       "      <td>right</td>\n",
       "      <td>medium</td>\n",
       "      <td>medium</td>\n",
       "      <td>49.0</td>\n",
       "      <td>44.0</td>\n",
       "      <td>71.0</td>\n",
       "      <td>61.0</td>\n",
       "      <td>44.0</td>\n",
       "      <td>51.0</td>\n",
       "      <td>45.0</td>\n",
       "      <td>39.0</td>\n",
       "      <td>64.0</td>\n",
       "      <td>49.0</td>\n",
       "      <td>60.0</td>\n",
       "      <td>64.0</td>\n",
       "      <td>59.0</td>\n",
       "      <td>47.0</td>\n",
       "      <td>65.0</td>\n",
       "      <td>55.0</td>\n",
       "      <td>58.0</td>\n",
       "      <td>54.0</td>\n",
       "      <td>76.0</td>\n",
       "      <td>35.0</td>\n",
       "      <td>63.0</td>\n",
       "      <td>41.0</td>\n",
       "      <td>45.0</td>\n",
       "      <td>54.0</td>\n",
       "      <td>48.0</td>\n",
       "      <td>65.0</td>\n",
       "      <td>66.0</td>\n",
       "      <td>69.0</td>\n",
       "      <td>6.0</td>\n",
       "      <td>11.0</td>\n",
       "      <td>10.0</td>\n",
       "      <td>8.0</td>\n",
       "      <td>8.0</td>\n",
       "    </tr>\n",
       "    <tr>\n",
       "      <th>3</th>\n",
       "      <td>4</td>\n",
       "      <td>218353</td>\n",
       "      <td>505942</td>\n",
       "      <td>2015-03-20 00:00:00</td>\n",
       "      <td>61.0</td>\n",
       "      <td>65.0</td>\n",
       "      <td>right</td>\n",
       "      <td>medium</td>\n",
       "      <td>medium</td>\n",
       "      <td>48.0</td>\n",
       "      <td>43.0</td>\n",
       "      <td>70.0</td>\n",
       "      <td>60.0</td>\n",
       "      <td>43.0</td>\n",
       "      <td>50.0</td>\n",
       "      <td>44.0</td>\n",
       "      <td>38.0</td>\n",
       "      <td>63.0</td>\n",
       "      <td>48.0</td>\n",
       "      <td>60.0</td>\n",
       "      <td>64.0</td>\n",
       "      <td>59.0</td>\n",
       "      <td>46.0</td>\n",
       "      <td>65.0</td>\n",
       "      <td>54.0</td>\n",
       "      <td>58.0</td>\n",
       "      <td>54.0</td>\n",
       "      <td>76.0</td>\n",
       "      <td>34.0</td>\n",
       "      <td>62.0</td>\n",
       "      <td>40.0</td>\n",
       "      <td>44.0</td>\n",
       "      <td>53.0</td>\n",
       "      <td>47.0</td>\n",
       "      <td>62.0</td>\n",
       "      <td>63.0</td>\n",
       "      <td>66.0</td>\n",
       "      <td>5.0</td>\n",
       "      <td>10.0</td>\n",
       "      <td>9.0</td>\n",
       "      <td>7.0</td>\n",
       "      <td>7.0</td>\n",
       "    </tr>\n",
       "    <tr>\n",
       "      <th>4</th>\n",
       "      <td>5</td>\n",
       "      <td>218353</td>\n",
       "      <td>505942</td>\n",
       "      <td>2007-02-22 00:00:00</td>\n",
       "      <td>61.0</td>\n",
       "      <td>65.0</td>\n",
       "      <td>right</td>\n",
       "      <td>medium</td>\n",
       "      <td>medium</td>\n",
       "      <td>48.0</td>\n",
       "      <td>43.0</td>\n",
       "      <td>70.0</td>\n",
       "      <td>60.0</td>\n",
       "      <td>43.0</td>\n",
       "      <td>50.0</td>\n",
       "      <td>44.0</td>\n",
       "      <td>38.0</td>\n",
       "      <td>63.0</td>\n",
       "      <td>48.0</td>\n",
       "      <td>60.0</td>\n",
       "      <td>64.0</td>\n",
       "      <td>59.0</td>\n",
       "      <td>46.0</td>\n",
       "      <td>65.0</td>\n",
       "      <td>54.0</td>\n",
       "      <td>58.0</td>\n",
       "      <td>54.0</td>\n",
       "      <td>76.0</td>\n",
       "      <td>34.0</td>\n",
       "      <td>62.0</td>\n",
       "      <td>40.0</td>\n",
       "      <td>44.0</td>\n",
       "      <td>53.0</td>\n",
       "      <td>47.0</td>\n",
       "      <td>62.0</td>\n",
       "      <td>63.0</td>\n",
       "      <td>66.0</td>\n",
       "      <td>5.0</td>\n",
       "      <td>10.0</td>\n",
       "      <td>9.0</td>\n",
       "      <td>7.0</td>\n",
       "      <td>7.0</td>\n",
       "    </tr>\n",
       "  </tbody>\n",
       "</table>\n",
       "</div>"
      ],
      "text/plain": [
       "   id  player_fifa_api_id  player_api_id                 date  overall_rating  \\\n",
       "0   1              218353         505942  2016-02-18 00:00:00            67.0   \n",
       "1   2              218353         505942  2015-11-19 00:00:00            67.0   \n",
       "2   3              218353         505942  2015-09-21 00:00:00            62.0   \n",
       "3   4              218353         505942  2015-03-20 00:00:00            61.0   \n",
       "4   5              218353         505942  2007-02-22 00:00:00            61.0   \n",
       "\n",
       "   potential preferred_foot attacking_work_rate defensive_work_rate  crossing  \\\n",
       "0       71.0          right              medium              medium      49.0   \n",
       "1       71.0          right              medium              medium      49.0   \n",
       "2       66.0          right              medium              medium      49.0   \n",
       "3       65.0          right              medium              medium      48.0   \n",
       "4       65.0          right              medium              medium      48.0   \n",
       "\n",
       "   finishing  heading_accuracy  short_passing  volleys  dribbling  curve  \\\n",
       "0       44.0              71.0           61.0     44.0       51.0   45.0   \n",
       "1       44.0              71.0           61.0     44.0       51.0   45.0   \n",
       "2       44.0              71.0           61.0     44.0       51.0   45.0   \n",
       "3       43.0              70.0           60.0     43.0       50.0   44.0   \n",
       "4       43.0              70.0           60.0     43.0       50.0   44.0   \n",
       "\n",
       "   free_kick_accuracy  long_passing  ball_control  acceleration  sprint_speed  \\\n",
       "0                39.0          64.0          49.0          60.0          64.0   \n",
       "1                39.0          64.0          49.0          60.0          64.0   \n",
       "2                39.0          64.0          49.0          60.0          64.0   \n",
       "3                38.0          63.0          48.0          60.0          64.0   \n",
       "4                38.0          63.0          48.0          60.0          64.0   \n",
       "\n",
       "   agility  reactions  balance  shot_power  jumping  stamina  strength  \\\n",
       "0     59.0       47.0     65.0        55.0     58.0     54.0      76.0   \n",
       "1     59.0       47.0     65.0        55.0     58.0     54.0      76.0   \n",
       "2     59.0       47.0     65.0        55.0     58.0     54.0      76.0   \n",
       "3     59.0       46.0     65.0        54.0     58.0     54.0      76.0   \n",
       "4     59.0       46.0     65.0        54.0     58.0     54.0      76.0   \n",
       "\n",
       "   long_shots  aggression  interceptions  positioning  vision  penalties  \\\n",
       "0        35.0        71.0           70.0         45.0    54.0       48.0   \n",
       "1        35.0        71.0           70.0         45.0    54.0       48.0   \n",
       "2        35.0        63.0           41.0         45.0    54.0       48.0   \n",
       "3        34.0        62.0           40.0         44.0    53.0       47.0   \n",
       "4        34.0        62.0           40.0         44.0    53.0       47.0   \n",
       "\n",
       "   marking  standing_tackle  sliding_tackle  gk_diving  gk_handling  \\\n",
       "0     65.0             69.0            69.0        6.0         11.0   \n",
       "1     65.0             69.0            69.0        6.0         11.0   \n",
       "2     65.0             66.0            69.0        6.0         11.0   \n",
       "3     62.0             63.0            66.0        5.0         10.0   \n",
       "4     62.0             63.0            66.0        5.0         10.0   \n",
       "\n",
       "   gk_kicking  gk_positioning  gk_reflexes  \n",
       "0        10.0             8.0          8.0  \n",
       "1        10.0             8.0          8.0  \n",
       "2        10.0             8.0          8.0  \n",
       "3         9.0             7.0          7.0  \n",
       "4         9.0             7.0          7.0  "
      ]
     },
     "execution_count": 137,
     "metadata": {},
     "output_type": "execute_result"
    }
   ],
   "source": [
    "player_attributes.head()"
   ]
  },
  {
   "cell_type": "code",
   "execution_count": 138,
   "id": "9e9144eb",
   "metadata": {},
   "outputs": [
    {
     "data": {
      "text/plain": [
       "(183978, 42)"
      ]
     },
     "execution_count": 138,
     "metadata": {},
     "output_type": "execute_result"
    }
   ],
   "source": [
    "player_attributes.shape"
   ]
  },
  {
   "cell_type": "code",
   "execution_count": 139,
   "id": "dfa68e53",
   "metadata": {
    "scrolled": false
   },
   "outputs": [
    {
     "data": {
      "text/plain": [
       "id                     0.0\n",
       "player_fifa_api_id     0.0\n",
       "player_api_id          0.0\n",
       "date                   0.0\n",
       "overall_rating         0.0\n",
       "potential              0.0\n",
       "preferred_foot         0.0\n",
       "attacking_work_rate    0.0\n",
       "defensive_work_rate    0.0\n",
       "crossing               0.0\n",
       "finishing              0.0\n",
       "heading_accuracy       0.0\n",
       "short_passing          0.0\n",
       "volleys                0.0\n",
       "dribbling              0.0\n",
       "curve                  0.0\n",
       "free_kick_accuracy     0.0\n",
       "long_passing           0.0\n",
       "ball_control           0.0\n",
       "acceleration           0.0\n",
       "sprint_speed           0.0\n",
       "agility                0.0\n",
       "reactions              0.0\n",
       "balance                0.0\n",
       "shot_power             0.0\n",
       "jumping                0.0\n",
       "stamina                0.0\n",
       "strength               0.0\n",
       "long_shots             0.0\n",
       "aggression             0.0\n",
       "interceptions          0.0\n",
       "positioning            0.0\n",
       "vision                 0.0\n",
       "penalties              0.0\n",
       "marking                0.0\n",
       "standing_tackle        0.0\n",
       "sliding_tackle         0.0\n",
       "gk_diving              0.0\n",
       "gk_handling            0.0\n",
       "gk_kicking             0.0\n",
       "gk_positioning         0.0\n",
       "gk_reflexes            0.0\n",
       "dtype: float64"
      ]
     },
     "execution_count": 139,
     "metadata": {},
     "output_type": "execute_result"
    }
   ],
   "source": [
    "player_attributes[player_attributes.duplicated()].sum()"
   ]
  },
  {
   "cell_type": "code",
   "execution_count": 140,
   "id": "d4e516c7",
   "metadata": {},
   "outputs": [
    {
     "data": {
      "text/plain": [
       "id                        0\n",
       "player_fifa_api_id        0\n",
       "player_api_id             0\n",
       "date                      0\n",
       "overall_rating          836\n",
       "potential               836\n",
       "preferred_foot          836\n",
       "attacking_work_rate    3230\n",
       "defensive_work_rate     836\n",
       "crossing                836\n",
       "finishing               836\n",
       "heading_accuracy        836\n",
       "short_passing           836\n",
       "volleys                2713\n",
       "dribbling               836\n",
       "curve                  2713\n",
       "free_kick_accuracy      836\n",
       "long_passing            836\n",
       "ball_control            836\n",
       "acceleration            836\n",
       "sprint_speed            836\n",
       "agility                2713\n",
       "reactions               836\n",
       "balance                2713\n",
       "shot_power              836\n",
       "jumping                2713\n",
       "stamina                 836\n",
       "strength                836\n",
       "long_shots              836\n",
       "aggression              836\n",
       "interceptions           836\n",
       "positioning             836\n",
       "vision                 2713\n",
       "penalties               836\n",
       "marking                 836\n",
       "standing_tackle         836\n",
       "sliding_tackle         2713\n",
       "gk_diving               836\n",
       "gk_handling             836\n",
       "gk_kicking              836\n",
       "gk_positioning          836\n",
       "gk_reflexes             836\n",
       "dtype: int64"
      ]
     },
     "execution_count": 140,
     "metadata": {},
     "output_type": "execute_result"
    }
   ],
   "source": [
    "player_attributes.isna().sum()"
   ]
  },
  {
   "cell_type": "code",
   "execution_count": 141,
   "id": "e39526c5",
   "metadata": {},
   "outputs": [
    {
     "data": {
      "text/plain": [
       "(183978, 42)"
      ]
     },
     "execution_count": 141,
     "metadata": {},
     "output_type": "execute_result"
    }
   ],
   "source": [
    "player_attributes.shape"
   ]
  },
  {
   "cell_type": "code",
   "execution_count": 142,
   "id": "0796185a",
   "metadata": {},
   "outputs": [],
   "source": [
    "null_instances = player_attributes[\n",
    "    player_attributes[\"attacking_work_rate\"].isnull()\n",
    "].index\n",
    "player_attributes.drop(null_instances, inplace=True)"
   ]
  },
  {
   "cell_type": "code",
   "execution_count": 143,
   "id": "7e931c38",
   "metadata": {},
   "outputs": [],
   "source": [
    "null_instances = player_attributes[player_attributes[\"volleys\"].isnull()].index\n",
    "player_attributes.drop(null_instances, inplace=True)"
   ]
  },
  {
   "cell_type": "code",
   "execution_count": 145,
   "id": "a3dc6058",
   "metadata": {},
   "outputs": [
    {
     "data": {
      "text/plain": [
       "(180354, 42)"
      ]
     },
     "execution_count": 145,
     "metadata": {},
     "output_type": "execute_result"
    }
   ],
   "source": [
    "player_attributes.shape"
   ]
  },
  {
   "cell_type": "code",
   "execution_count": 146,
   "id": "c9b84009",
   "metadata": {
    "scrolled": true
   },
   "outputs": [
    {
     "data": {
      "text/plain": [
       "id                     0\n",
       "player_fifa_api_id     0\n",
       "player_api_id          0\n",
       "date                   0\n",
       "overall_rating         0\n",
       "potential              0\n",
       "preferred_foot         0\n",
       "attacking_work_rate    0\n",
       "defensive_work_rate    0\n",
       "crossing               0\n",
       "finishing              0\n",
       "heading_accuracy       0\n",
       "short_passing          0\n",
       "volleys                0\n",
       "dribbling              0\n",
       "curve                  0\n",
       "free_kick_accuracy     0\n",
       "long_passing           0\n",
       "ball_control           0\n",
       "acceleration           0\n",
       "sprint_speed           0\n",
       "agility                0\n",
       "reactions              0\n",
       "balance                0\n",
       "shot_power             0\n",
       "jumping                0\n",
       "stamina                0\n",
       "strength               0\n",
       "long_shots             0\n",
       "aggression             0\n",
       "interceptions          0\n",
       "positioning            0\n",
       "vision                 0\n",
       "penalties              0\n",
       "marking                0\n",
       "standing_tackle        0\n",
       "sliding_tackle         0\n",
       "gk_diving              0\n",
       "gk_handling            0\n",
       "gk_kicking             0\n",
       "gk_positioning         0\n",
       "gk_reflexes            0\n",
       "dtype: int64"
      ]
     },
     "execution_count": 146,
     "metadata": {},
     "output_type": "execute_result"
    }
   ],
   "source": [
    "player_attributes.isna().sum()"
   ]
  },
  {
   "cell_type": "code",
   "execution_count": 148,
   "id": "d7f74ed5",
   "metadata": {},
   "outputs": [
    {
     "data": {
      "text/plain": [
       "(180354, 40)"
      ]
     },
     "execution_count": 148,
     "metadata": {},
     "output_type": "execute_result"
    }
   ],
   "source": [
    "player_attributes.shape"
   ]
  },
  {
   "cell_type": "code",
   "execution_count": 149,
   "id": "171dad93",
   "metadata": {},
   "outputs": [],
   "source": [
    "player_attributes.drop(\n",
    "    columns=[\n",
    "        \"gk_diving\",\n",
    "        \"gk_handling\",\n",
    "        \"gk_kicking\",\n",
    "        \"gk_positioning\",\n",
    "        \"gk_reflexes\",\n",
    "    ],\n",
    "    inplace=True,\n",
    ")"
   ]
  },
  {
   "cell_type": "code",
   "execution_count": 150,
   "id": "7e925368",
   "metadata": {},
   "outputs": [],
   "source": [
    "def break_ties(col: str):\n",
    "    most_common = pd.Series.mode(col)\n",
    "\n",
    "    if len(most_common) > 1:\n",
    "        return most_common[0]\n",
    "    else:\n",
    "        return most_common"
   ]
  },
  {
   "cell_type": "code",
   "execution_count": 151,
   "id": "1abcc9e7",
   "metadata": {},
   "outputs": [],
   "source": [
    "players_categorical = (\n",
    "    player_attributes.groupby([\"player_api_id\", \"date\"])[\n",
    "        [\"preferred_foot\", \"attacking_work_rate\", \"defensive_work_rate\"]\n",
    "    ]\n",
    "    .agg(lambda x: break_ties(x))\n",
    "    .reset_index()\n",
    ")"
   ]
  },
  {
   "cell_type": "code",
   "execution_count": 152,
   "id": "5a68745a",
   "metadata": {},
   "outputs": [],
   "source": [
    "players_numerical = (\n",
    "    player_attributes.groupby([\"player_api_id\", \"date\"])\n",
    "    .agg(\"mean\", numeric_only=True)\n",
    "    .reset_index()\n",
    ")"
   ]
  },
  {
   "cell_type": "code",
   "execution_count": 153,
   "id": "60f403c2",
   "metadata": {},
   "outputs": [],
   "source": [
    "player_attributes = pd.merge(\n",
    "    players_categorical,\n",
    "    players_numerical,\n",
    "    on=[\"player_api_id\", \"date\"],\n",
    "    how=\"inner\",\n",
    ")"
   ]
  },
  {
   "cell_type": "code",
   "execution_count": 130,
   "id": "2ef957ea",
   "metadata": {},
   "outputs": [
    {
     "data": {
      "text/plain": [
       "array(['high', 'medium', 'None', 'low', 'norm', 'stoc', 'le', 'y'],\n",
       "      dtype=object)"
      ]
     },
     "execution_count": 130,
     "metadata": {},
     "output_type": "execute_result"
    }
   ],
   "source": [
    "player_attributes.attacking_work_rate.unique()"
   ]
  },
  {
   "cell_type": "code",
   "execution_count": 131,
   "id": "eea68797",
   "metadata": {},
   "outputs": [
    {
     "data": {
      "text/plain": [
       "array(['medium', 'low', '7', 'high', 'o', 'ormal', '4', 'tocky', '2', '9',\n",
       "       '6', '3', 'ean', '1', '5', 'es', '0', '8'], dtype=object)"
      ]
     },
     "execution_count": 131,
     "metadata": {},
     "output_type": "execute_result"
    }
   ],
   "source": [
    "player_attributes.defensive_work_rate.unique()"
   ]
  },
  {
   "cell_type": "code",
   "execution_count": 132,
   "id": "471615ba",
   "metadata": {},
   "outputs": [],
   "source": [
    "player_attributes[\"attacking_work_rate\"].replace(\n",
    "    [\"norm\", \"stoc\", \"le\", \"y\"], \"None\", inplace=True\n",
    ")\n",
    "player_attributes[\"defensive_work_rate\"].replace(\n",
    "    [\n",
    "        \"7\",\n",
    "        \"o\",\n",
    "        \"ormal\",\n",
    "        \"4\",\n",
    "        \"tocky\",\n",
    "        \"2\",\n",
    "        \"9\",\n",
    "        \"6\",\n",
    "        \"3\",\n",
    "        \"ean\",\n",
    "        \"1\",\n",
    "        \"5\",\n",
    "        \"es\",\n",
    "        \"0\",\n",
    "        \"8\",\n",
    "    ],\n",
    "    \"None\",\n",
    "    inplace=True,\n",
    ")"
   ]
  },
  {
   "cell_type": "code",
   "execution_count": 133,
   "id": "9b77dafa",
   "metadata": {},
   "outputs": [],
   "source": [
    "player_attributes.rename(\n",
    "    columns={\n",
    "        \"player_api_id\": \"PlayerID\",\n",
    "        \"date\": \"Date\",\n",
    "        \"overall_rating\": \"OverallRating\",\n",
    "        \"potential\": \"Potential\",\n",
    "        \"preferred_foot\": \"PreferredFoot\",\n",
    "        \"attacking_work_rate\": \"AttackWorkRate\",\n",
    "        \"defensive_work_rate\": \"DefenceWorkRate\",\n",
    "        \"crossing\": \"Crossing\",\n",
    "        \"finishing\": \"Finishing\",\n",
    "        \"heading_accuracy\": \"HeadingAccuracy\",\n",
    "        \"short_passing\": \"ShortPassing\",\n",
    "        \"volleys\": \"Volleys\",\n",
    "        \"dribbling\": \"Dribbling\",\n",
    "        \"curve\": \"Curve\",\n",
    "        \"free_kick_accuracy\": \"FreeKickAccuracy\",\n",
    "        \"long_passing\": \"LongPassing\",\n",
    "        \"ball_control\": \"BallControl\",\n",
    "        \"acceleration\": \"Acceleration\",\n",
    "        \"sprint_speed\": \"SprintSpeed\",\n",
    "        \"agility\": \"Agility\",\n",
    "        \"reactions\": \"Reactions\",\n",
    "        \"balance\": \"Balance\",\n",
    "        \"shot_power\": \"ShotPower\",\n",
    "        \"jumping\": \"Jumping\",\n",
    "        \"stamina\": \"Stamina\",\n",
    "        \"strength\": \"Strength\",\n",
    "        \"long_shots\": \"LongShots\",\n",
    "        \"aggression\": \"Aggression\",\n",
    "        \"interceptions\": \"Interceptions\",\n",
    "        \"positioning\": \"Positioning\",\n",
    "        \"vision\": \"Vision\",\n",
    "        \"penalties\": \"Penalties\",\n",
    "        \"marking\": \"Marking\",\n",
    "        \"standing_tackle\": \"StandingTackle\",\n",
    "        \"sliding_tackle\": \"SlidingTackle\",\n",
    "    },\n",
    "    inplace=True,\n",
    ")"
   ]
  },
  {
   "cell_type": "code",
   "execution_count": 134,
   "id": "43688136",
   "metadata": {},
   "outputs": [
    {
     "data": {
      "text/html": [
       "<div>\n",
       "<style scoped>\n",
       "    .dataframe tbody tr th:only-of-type {\n",
       "        vertical-align: middle;\n",
       "    }\n",
       "\n",
       "    .dataframe tbody tr th {\n",
       "        vertical-align: top;\n",
       "    }\n",
       "\n",
       "    .dataframe thead th {\n",
       "        text-align: right;\n",
       "    }\n",
       "</style>\n",
       "<table border=\"1\" class=\"dataframe\">\n",
       "  <thead>\n",
       "    <tr style=\"text-align: right;\">\n",
       "      <th></th>\n",
       "      <th>PlayerID</th>\n",
       "      <th>Date</th>\n",
       "      <th>PreferredFoot</th>\n",
       "      <th>AttackWorkRate</th>\n",
       "      <th>DefenceWorkRate</th>\n",
       "      <th>OverallRating</th>\n",
       "      <th>Potential</th>\n",
       "      <th>Crossing</th>\n",
       "      <th>Finishing</th>\n",
       "      <th>HeadingAccuracy</th>\n",
       "      <th>ShortPassing</th>\n",
       "      <th>Volleys</th>\n",
       "      <th>Dribbling</th>\n",
       "      <th>Curve</th>\n",
       "      <th>FreeKickAccuracy</th>\n",
       "      <th>LongPassing</th>\n",
       "      <th>BallControl</th>\n",
       "      <th>Acceleration</th>\n",
       "      <th>SprintSpeed</th>\n",
       "      <th>Agility</th>\n",
       "      <th>Reactions</th>\n",
       "      <th>Balance</th>\n",
       "      <th>ShotPower</th>\n",
       "      <th>Jumping</th>\n",
       "      <th>Stamina</th>\n",
       "      <th>Strength</th>\n",
       "      <th>LongShots</th>\n",
       "      <th>Aggression</th>\n",
       "      <th>Interceptions</th>\n",
       "      <th>Positioning</th>\n",
       "      <th>Vision</th>\n",
       "      <th>Penalties</th>\n",
       "      <th>Marking</th>\n",
       "      <th>StandingTackle</th>\n",
       "      <th>SlidingTackle</th>\n",
       "    </tr>\n",
       "  </thead>\n",
       "  <tbody>\n",
       "    <tr>\n",
       "      <th>0</th>\n",
       "      <td>2625</td>\n",
       "      <td>2007</td>\n",
       "      <td>right</td>\n",
       "      <td>high</td>\n",
       "      <td>medium</td>\n",
       "      <td>63.0</td>\n",
       "      <td>64.0</td>\n",
       "      <td>48.0</td>\n",
       "      <td>48.0</td>\n",
       "      <td>47.0</td>\n",
       "      <td>64.0</td>\n",
       "      <td>38.0</td>\n",
       "      <td>57.0</td>\n",
       "      <td>50.0</td>\n",
       "      <td>48.5</td>\n",
       "      <td>67.0</td>\n",
       "      <td>57.0</td>\n",
       "      <td>67.0</td>\n",
       "      <td>64.0</td>\n",
       "      <td>59.0</td>\n",
       "      <td>52.0</td>\n",
       "      <td>49.0</td>\n",
       "      <td>61.0</td>\n",
       "      <td>56.0</td>\n",
       "      <td>78.0</td>\n",
       "      <td>56.0</td>\n",
       "      <td>59.0</td>\n",
       "      <td>72.0</td>\n",
       "      <td>52.0</td>\n",
       "      <td>55.0</td>\n",
       "      <td>56.0</td>\n",
       "      <td>46.0</td>\n",
       "      <td>64.0</td>\n",
       "      <td>66.0</td>\n",
       "      <td>63.0</td>\n",
       "    </tr>\n",
       "    <tr>\n",
       "      <th>1</th>\n",
       "      <td>2625</td>\n",
       "      <td>2008</td>\n",
       "      <td>right</td>\n",
       "      <td>high</td>\n",
       "      <td>medium</td>\n",
       "      <td>60.0</td>\n",
       "      <td>64.0</td>\n",
       "      <td>48.0</td>\n",
       "      <td>48.0</td>\n",
       "      <td>47.0</td>\n",
       "      <td>64.0</td>\n",
       "      <td>38.0</td>\n",
       "      <td>57.0</td>\n",
       "      <td>50.0</td>\n",
       "      <td>51.0</td>\n",
       "      <td>67.0</td>\n",
       "      <td>57.0</td>\n",
       "      <td>67.0</td>\n",
       "      <td>64.0</td>\n",
       "      <td>59.0</td>\n",
       "      <td>52.0</td>\n",
       "      <td>49.0</td>\n",
       "      <td>61.0</td>\n",
       "      <td>56.0</td>\n",
       "      <td>78.0</td>\n",
       "      <td>56.0</td>\n",
       "      <td>59.0</td>\n",
       "      <td>72.0</td>\n",
       "      <td>52.0</td>\n",
       "      <td>55.0</td>\n",
       "      <td>56.0</td>\n",
       "      <td>46.0</td>\n",
       "      <td>64.0</td>\n",
       "      <td>66.0</td>\n",
       "      <td>63.0</td>\n",
       "    </tr>\n",
       "    <tr>\n",
       "      <th>2</th>\n",
       "      <td>2625</td>\n",
       "      <td>2010</td>\n",
       "      <td>right</td>\n",
       "      <td>high</td>\n",
       "      <td>medium</td>\n",
       "      <td>60.0</td>\n",
       "      <td>64.0</td>\n",
       "      <td>48.0</td>\n",
       "      <td>48.0</td>\n",
       "      <td>47.0</td>\n",
       "      <td>64.0</td>\n",
       "      <td>38.0</td>\n",
       "      <td>57.0</td>\n",
       "      <td>50.0</td>\n",
       "      <td>51.0</td>\n",
       "      <td>67.0</td>\n",
       "      <td>57.0</td>\n",
       "      <td>67.0</td>\n",
       "      <td>64.0</td>\n",
       "      <td>59.0</td>\n",
       "      <td>50.0</td>\n",
       "      <td>49.0</td>\n",
       "      <td>71.0</td>\n",
       "      <td>56.0</td>\n",
       "      <td>78.0</td>\n",
       "      <td>56.0</td>\n",
       "      <td>59.0</td>\n",
       "      <td>72.0</td>\n",
       "      <td>71.0</td>\n",
       "      <td>50.0</td>\n",
       "      <td>56.0</td>\n",
       "      <td>69.0</td>\n",
       "      <td>64.0</td>\n",
       "      <td>66.0</td>\n",
       "      <td>63.0</td>\n",
       "    </tr>\n",
       "    <tr>\n",
       "      <th>3</th>\n",
       "      <td>2625</td>\n",
       "      <td>2011</td>\n",
       "      <td>right</td>\n",
       "      <td>high</td>\n",
       "      <td>medium</td>\n",
       "      <td>58.5</td>\n",
       "      <td>60.5</td>\n",
       "      <td>52.0</td>\n",
       "      <td>47.0</td>\n",
       "      <td>46.0</td>\n",
       "      <td>58.0</td>\n",
       "      <td>37.0</td>\n",
       "      <td>56.0</td>\n",
       "      <td>49.0</td>\n",
       "      <td>50.0</td>\n",
       "      <td>66.0</td>\n",
       "      <td>58.0</td>\n",
       "      <td>66.0</td>\n",
       "      <td>63.0</td>\n",
       "      <td>58.0</td>\n",
       "      <td>49.0</td>\n",
       "      <td>61.5</td>\n",
       "      <td>68.0</td>\n",
       "      <td>55.0</td>\n",
       "      <td>77.0</td>\n",
       "      <td>55.0</td>\n",
       "      <td>58.0</td>\n",
       "      <td>71.0</td>\n",
       "      <td>65.0</td>\n",
       "      <td>49.0</td>\n",
       "      <td>55.0</td>\n",
       "      <td>66.0</td>\n",
       "      <td>63.0</td>\n",
       "      <td>63.0</td>\n",
       "      <td>57.0</td>\n",
       "    </tr>\n",
       "    <tr>\n",
       "      <th>4</th>\n",
       "      <td>2625</td>\n",
       "      <td>2012</td>\n",
       "      <td>right</td>\n",
       "      <td>medium</td>\n",
       "      <td>medium</td>\n",
       "      <td>58.0</td>\n",
       "      <td>58.0</td>\n",
       "      <td>52.0</td>\n",
       "      <td>47.0</td>\n",
       "      <td>46.0</td>\n",
       "      <td>53.0</td>\n",
       "      <td>37.0</td>\n",
       "      <td>56.0</td>\n",
       "      <td>49.0</td>\n",
       "      <td>50.0</td>\n",
       "      <td>66.0</td>\n",
       "      <td>58.0</td>\n",
       "      <td>67.0</td>\n",
       "      <td>63.0</td>\n",
       "      <td>67.0</td>\n",
       "      <td>49.0</td>\n",
       "      <td>76.0</td>\n",
       "      <td>68.0</td>\n",
       "      <td>55.0</td>\n",
       "      <td>77.0</td>\n",
       "      <td>55.5</td>\n",
       "      <td>58.0</td>\n",
       "      <td>71.0</td>\n",
       "      <td>64.0</td>\n",
       "      <td>49.0</td>\n",
       "      <td>55.0</td>\n",
       "      <td>66.0</td>\n",
       "      <td>63.0</td>\n",
       "      <td>63.0</td>\n",
       "      <td>52.0</td>\n",
       "    </tr>\n",
       "  </tbody>\n",
       "</table>\n",
       "</div>"
      ],
      "text/plain": [
       "   PlayerID  Date PreferredFoot AttackWorkRate DefenceWorkRate  OverallRating  \\\n",
       "0      2625  2007         right           high          medium           63.0   \n",
       "1      2625  2008         right           high          medium           60.0   \n",
       "2      2625  2010         right           high          medium           60.0   \n",
       "3      2625  2011         right           high          medium           58.5   \n",
       "4      2625  2012         right         medium          medium           58.0   \n",
       "\n",
       "   Potential  Crossing  Finishing  HeadingAccuracy  ShortPassing  Volleys  \\\n",
       "0       64.0      48.0       48.0             47.0          64.0     38.0   \n",
       "1       64.0      48.0       48.0             47.0          64.0     38.0   \n",
       "2       64.0      48.0       48.0             47.0          64.0     38.0   \n",
       "3       60.5      52.0       47.0             46.0          58.0     37.0   \n",
       "4       58.0      52.0       47.0             46.0          53.0     37.0   \n",
       "\n",
       "   Dribbling  Curve  FreeKickAccuracy  LongPassing  BallControl  Acceleration  \\\n",
       "0       57.0   50.0              48.5         67.0         57.0          67.0   \n",
       "1       57.0   50.0              51.0         67.0         57.0          67.0   \n",
       "2       57.0   50.0              51.0         67.0         57.0          67.0   \n",
       "3       56.0   49.0              50.0         66.0         58.0          66.0   \n",
       "4       56.0   49.0              50.0         66.0         58.0          67.0   \n",
       "\n",
       "   SprintSpeed  Agility  Reactions  Balance  ShotPower  Jumping  Stamina  \\\n",
       "0         64.0     59.0       52.0     49.0       61.0     56.0     78.0   \n",
       "1         64.0     59.0       52.0     49.0       61.0     56.0     78.0   \n",
       "2         64.0     59.0       50.0     49.0       71.0     56.0     78.0   \n",
       "3         63.0     58.0       49.0     61.5       68.0     55.0     77.0   \n",
       "4         63.0     67.0       49.0     76.0       68.0     55.0     77.0   \n",
       "\n",
       "   Strength  LongShots  Aggression  Interceptions  Positioning  Vision  \\\n",
       "0      56.0       59.0        72.0           52.0         55.0    56.0   \n",
       "1      56.0       59.0        72.0           52.0         55.0    56.0   \n",
       "2      56.0       59.0        72.0           71.0         50.0    56.0   \n",
       "3      55.0       58.0        71.0           65.0         49.0    55.0   \n",
       "4      55.5       58.0        71.0           64.0         49.0    55.0   \n",
       "\n",
       "   Penalties  Marking  StandingTackle  SlidingTackle  \n",
       "0       46.0     64.0            66.0           63.0  \n",
       "1       46.0     64.0            66.0           63.0  \n",
       "2       69.0     64.0            66.0           63.0  \n",
       "3       66.0     63.0            63.0           57.0  \n",
       "4       66.0     63.0            63.0           52.0  "
      ]
     },
     "execution_count": 134,
     "metadata": {},
     "output_type": "execute_result"
    }
   ],
   "source": [
    "player_attributes.head()"
   ]
  },
  {
   "cell_type": "code",
   "execution_count": 135,
   "id": "65cdf33e",
   "metadata": {},
   "outputs": [
    {
     "data": {
      "text/plain": [
       "(70941, 35)"
      ]
     },
     "execution_count": 135,
     "metadata": {},
     "output_type": "execute_result"
    }
   ],
   "source": [
    "player_attributes.shape"
   ]
  },
  {
   "cell_type": "markdown",
   "id": "81a1f17e",
   "metadata": {},
   "source": [
    "### Section Summary\n",
    "> * This table originally contained over 180,000 entries.\n",
    "> * This table contains no duplicate values.\n",
    "> * This table contains a large number of Null values.\n",
    "> * I changed the date column to show only the year and combined the information for each player at different times in one year into one row of data for the year.\n",
    "> * I eliminated the rows with Null values in the \"AttackWorkRate\" and \"Volleys\" columns, which eliminated most of the Null values in the other columns as well. For the remaining Null values, I used the strategy outlined below. \n",
    "> * I filled the Null values in the categorical columns with the mode of that column. \n",
    "> * I filled the Null values in the numerical columns with the mean of that column. \n",
    "> * The AttackWorkRate and DefenseWorkRate columns contained a large number of incomprehensible enteries. I replaced those entries with \"None.\"\n",
    "> * I modified the names of all columns according to Standard 2 in the Standards section of this report. \n",
    "> * After modifications, the table contained 70,000 entries."
   ]
  },
  {
   "cell_type": "markdown",
   "id": "be189d20",
   "metadata": {},
   "source": [
    "## Team"
   ]
  },
  {
   "cell_type": "markdown",
   "id": "c88a0036",
   "metadata": {},
   "source": [
    "The section below contains information about the Team table and how I cleaned this table for further analysis."
   ]
  },
  {
   "cell_type": "code",
   "execution_count": 155,
   "id": "73e6bf4b",
   "metadata": {},
   "outputs": [],
   "source": [
    "team = football_db[\"Team\"].copy()"
   ]
  },
  {
   "cell_type": "code",
   "execution_count": 156,
   "id": "b153e4c7",
   "metadata": {},
   "outputs": [
    {
     "data": {
      "text/html": [
       "<div>\n",
       "<style scoped>\n",
       "    .dataframe tbody tr th:only-of-type {\n",
       "        vertical-align: middle;\n",
       "    }\n",
       "\n",
       "    .dataframe tbody tr th {\n",
       "        vertical-align: top;\n",
       "    }\n",
       "\n",
       "    .dataframe thead th {\n",
       "        text-align: right;\n",
       "    }\n",
       "</style>\n",
       "<table border=\"1\" class=\"dataframe\">\n",
       "  <thead>\n",
       "    <tr style=\"text-align: right;\">\n",
       "      <th></th>\n",
       "      <th>id</th>\n",
       "      <th>team_api_id</th>\n",
       "      <th>team_fifa_api_id</th>\n",
       "      <th>team_long_name</th>\n",
       "      <th>team_short_name</th>\n",
       "    </tr>\n",
       "  </thead>\n",
       "  <tbody>\n",
       "    <tr>\n",
       "      <th>0</th>\n",
       "      <td>1</td>\n",
       "      <td>9987</td>\n",
       "      <td>673.0</td>\n",
       "      <td>KRC Genk</td>\n",
       "      <td>GEN</td>\n",
       "    </tr>\n",
       "    <tr>\n",
       "      <th>1</th>\n",
       "      <td>2</td>\n",
       "      <td>9993</td>\n",
       "      <td>675.0</td>\n",
       "      <td>Beerschot AC</td>\n",
       "      <td>BAC</td>\n",
       "    </tr>\n",
       "    <tr>\n",
       "      <th>2</th>\n",
       "      <td>3</td>\n",
       "      <td>10000</td>\n",
       "      <td>15005.0</td>\n",
       "      <td>SV Zulte-Waregem</td>\n",
       "      <td>ZUL</td>\n",
       "    </tr>\n",
       "    <tr>\n",
       "      <th>3</th>\n",
       "      <td>4</td>\n",
       "      <td>9994</td>\n",
       "      <td>2007.0</td>\n",
       "      <td>Sporting Lokeren</td>\n",
       "      <td>LOK</td>\n",
       "    </tr>\n",
       "    <tr>\n",
       "      <th>4</th>\n",
       "      <td>5</td>\n",
       "      <td>9984</td>\n",
       "      <td>1750.0</td>\n",
       "      <td>KSV Cercle Brugge</td>\n",
       "      <td>CEB</td>\n",
       "    </tr>\n",
       "  </tbody>\n",
       "</table>\n",
       "</div>"
      ],
      "text/plain": [
       "   id  team_api_id  team_fifa_api_id     team_long_name team_short_name\n",
       "0   1         9987             673.0           KRC Genk             GEN\n",
       "1   2         9993             675.0       Beerschot AC             BAC\n",
       "2   3        10000           15005.0   SV Zulte-Waregem             ZUL\n",
       "3   4         9994            2007.0   Sporting Lokeren             LOK\n",
       "4   5         9984            1750.0  KSV Cercle Brugge             CEB"
      ]
     },
     "execution_count": 156,
     "metadata": {},
     "output_type": "execute_result"
    }
   ],
   "source": [
    "team.head()"
   ]
  },
  {
   "cell_type": "code",
   "execution_count": 157,
   "id": "ef26d090",
   "metadata": {},
   "outputs": [],
   "source": [
    "team.drop(columns=[\"id\", \"team_fifa_api_id\"], inplace=True)"
   ]
  },
  {
   "cell_type": "code",
   "execution_count": 158,
   "id": "cab3e26c",
   "metadata": {},
   "outputs": [],
   "source": [
    "team.rename(\n",
    "    columns={\n",
    "        \"team_api_id\": \"TeamID\",\n",
    "        \"team_long_name\": \"TeamLongName\",\n",
    "        \"team_short_name\": \"TeamShortName\",\n",
    "    },\n",
    "    inplace=True,\n",
    ")"
   ]
  },
  {
   "cell_type": "code",
   "execution_count": 159,
   "id": "76443384",
   "metadata": {},
   "outputs": [
    {
     "data": {
      "text/plain": [
       "TeamID           0.0\n",
       "TeamLongName     0.0\n",
       "TeamShortName    0.0\n",
       "dtype: float64"
      ]
     },
     "execution_count": 159,
     "metadata": {},
     "output_type": "execute_result"
    }
   ],
   "source": [
    "team[team.duplicated()].sum()"
   ]
  },
  {
   "cell_type": "code",
   "execution_count": 160,
   "id": "8a65ae96",
   "metadata": {},
   "outputs": [
    {
     "data": {
      "text/plain": [
       "TeamID           0\n",
       "TeamLongName     0\n",
       "TeamShortName    0\n",
       "dtype: int64"
      ]
     },
     "execution_count": 160,
     "metadata": {},
     "output_type": "execute_result"
    }
   ],
   "source": [
    "team.isnull().sum()"
   ]
  },
  {
   "cell_type": "code",
   "execution_count": 161,
   "id": "50b805f1",
   "metadata": {
    "scrolled": false
   },
   "outputs": [
    {
     "data": {
      "text/html": [
       "<div>\n",
       "<style scoped>\n",
       "    .dataframe tbody tr th:only-of-type {\n",
       "        vertical-align: middle;\n",
       "    }\n",
       "\n",
       "    .dataframe tbody tr th {\n",
       "        vertical-align: top;\n",
       "    }\n",
       "\n",
       "    .dataframe thead th {\n",
       "        text-align: right;\n",
       "    }\n",
       "</style>\n",
       "<table border=\"1\" class=\"dataframe\">\n",
       "  <thead>\n",
       "    <tr style=\"text-align: right;\">\n",
       "      <th></th>\n",
       "      <th>TeamID</th>\n",
       "      <th>TeamLongName</th>\n",
       "      <th>TeamShortName</th>\n",
       "    </tr>\n",
       "  </thead>\n",
       "  <tbody>\n",
       "    <tr>\n",
       "      <th>0</th>\n",
       "      <td>9987</td>\n",
       "      <td>KRC Genk</td>\n",
       "      <td>GEN</td>\n",
       "    </tr>\n",
       "    <tr>\n",
       "      <th>1</th>\n",
       "      <td>9993</td>\n",
       "      <td>Beerschot AC</td>\n",
       "      <td>BAC</td>\n",
       "    </tr>\n",
       "    <tr>\n",
       "      <th>2</th>\n",
       "      <td>10000</td>\n",
       "      <td>SV Zulte-Waregem</td>\n",
       "      <td>ZUL</td>\n",
       "    </tr>\n",
       "    <tr>\n",
       "      <th>3</th>\n",
       "      <td>9994</td>\n",
       "      <td>Sporting Lokeren</td>\n",
       "      <td>LOK</td>\n",
       "    </tr>\n",
       "    <tr>\n",
       "      <th>4</th>\n",
       "      <td>9984</td>\n",
       "      <td>KSV Cercle Brugge</td>\n",
       "      <td>CEB</td>\n",
       "    </tr>\n",
       "  </tbody>\n",
       "</table>\n",
       "</div>"
      ],
      "text/plain": [
       "   TeamID       TeamLongName TeamShortName\n",
       "0    9987           KRC Genk           GEN\n",
       "1    9993       Beerschot AC           BAC\n",
       "2   10000   SV Zulte-Waregem           ZUL\n",
       "3    9994   Sporting Lokeren           LOK\n",
       "4    9984  KSV Cercle Brugge           CEB"
      ]
     },
     "execution_count": 161,
     "metadata": {},
     "output_type": "execute_result"
    }
   ],
   "source": [
    "team.head()"
   ]
  },
  {
   "cell_type": "code",
   "execution_count": 162,
   "id": "7e08fa55",
   "metadata": {},
   "outputs": [
    {
     "data": {
      "text/plain": [
       "(299, 3)"
      ]
     },
     "execution_count": 162,
     "metadata": {},
     "output_type": "execute_result"
    }
   ],
   "source": [
    "team.shape"
   ]
  },
  {
   "cell_type": "markdown",
   "id": "3d159712",
   "metadata": {},
   "source": [
    "### Section Summary\n",
    "> * There are 299 teams in this table.\n",
    "> * This table contains no duplicate values.\n",
    "> * This table contains a large number of Null values.\n",
    "> * I eliminated the \"id\", \"team_fifa_api_id\" columns. \n",
    "> * I changed the header of each of the other columns to conform the the standard explained in the Standard 2 of the Standards section of this report. "
   ]
  },
  {
   "cell_type": "markdown",
   "id": "795fdb47",
   "metadata": {},
   "source": [
    "## Team Attributes"
   ]
  },
  {
   "cell_type": "markdown",
   "id": "6bb70a66",
   "metadata": {},
   "source": [
    "The section below contains information about the Team Attributes table and how I cleaned this table for further analysis."
   ]
  },
  {
   "cell_type": "code",
   "execution_count": 166,
   "id": "f89f05e4",
   "metadata": {},
   "outputs": [],
   "source": [
    "team_attributes = football_db[\"Team_Attributes\"].copy()"
   ]
  },
  {
   "cell_type": "code",
   "execution_count": 167,
   "id": "91c38e50",
   "metadata": {
    "scrolled": true
   },
   "outputs": [
    {
     "data": {
      "text/html": [
       "<div>\n",
       "<style scoped>\n",
       "    .dataframe tbody tr th:only-of-type {\n",
       "        vertical-align: middle;\n",
       "    }\n",
       "\n",
       "    .dataframe tbody tr th {\n",
       "        vertical-align: top;\n",
       "    }\n",
       "\n",
       "    .dataframe thead th {\n",
       "        text-align: right;\n",
       "    }\n",
       "</style>\n",
       "<table border=\"1\" class=\"dataframe\">\n",
       "  <thead>\n",
       "    <tr style=\"text-align: right;\">\n",
       "      <th></th>\n",
       "      <th>id</th>\n",
       "      <th>team_fifa_api_id</th>\n",
       "      <th>team_api_id</th>\n",
       "      <th>date</th>\n",
       "      <th>buildUpPlaySpeed</th>\n",
       "      <th>buildUpPlaySpeedClass</th>\n",
       "      <th>buildUpPlayDribbling</th>\n",
       "      <th>buildUpPlayDribblingClass</th>\n",
       "      <th>buildUpPlayPassing</th>\n",
       "      <th>buildUpPlayPassingClass</th>\n",
       "      <th>buildUpPlayPositioningClass</th>\n",
       "      <th>chanceCreationPassing</th>\n",
       "      <th>chanceCreationPassingClass</th>\n",
       "      <th>chanceCreationCrossing</th>\n",
       "      <th>chanceCreationCrossingClass</th>\n",
       "      <th>chanceCreationShooting</th>\n",
       "      <th>chanceCreationShootingClass</th>\n",
       "      <th>chanceCreationPositioningClass</th>\n",
       "      <th>defencePressure</th>\n",
       "      <th>defencePressureClass</th>\n",
       "      <th>defenceAggression</th>\n",
       "      <th>defenceAggressionClass</th>\n",
       "      <th>defenceTeamWidth</th>\n",
       "      <th>defenceTeamWidthClass</th>\n",
       "      <th>defenceDefenderLineClass</th>\n",
       "    </tr>\n",
       "  </thead>\n",
       "  <tbody>\n",
       "    <tr>\n",
       "      <th>0</th>\n",
       "      <td>1</td>\n",
       "      <td>434</td>\n",
       "      <td>9930</td>\n",
       "      <td>2010-02-22 00:00:00</td>\n",
       "      <td>60</td>\n",
       "      <td>Balanced</td>\n",
       "      <td>NaN</td>\n",
       "      <td>Little</td>\n",
       "      <td>50</td>\n",
       "      <td>Mixed</td>\n",
       "      <td>Organised</td>\n",
       "      <td>60</td>\n",
       "      <td>Normal</td>\n",
       "      <td>65</td>\n",
       "      <td>Normal</td>\n",
       "      <td>55</td>\n",
       "      <td>Normal</td>\n",
       "      <td>Organised</td>\n",
       "      <td>50</td>\n",
       "      <td>Medium</td>\n",
       "      <td>55</td>\n",
       "      <td>Press</td>\n",
       "      <td>45</td>\n",
       "      <td>Normal</td>\n",
       "      <td>Cover</td>\n",
       "    </tr>\n",
       "    <tr>\n",
       "      <th>1</th>\n",
       "      <td>2</td>\n",
       "      <td>434</td>\n",
       "      <td>9930</td>\n",
       "      <td>2014-09-19 00:00:00</td>\n",
       "      <td>52</td>\n",
       "      <td>Balanced</td>\n",
       "      <td>48.0</td>\n",
       "      <td>Normal</td>\n",
       "      <td>56</td>\n",
       "      <td>Mixed</td>\n",
       "      <td>Organised</td>\n",
       "      <td>54</td>\n",
       "      <td>Normal</td>\n",
       "      <td>63</td>\n",
       "      <td>Normal</td>\n",
       "      <td>64</td>\n",
       "      <td>Normal</td>\n",
       "      <td>Organised</td>\n",
       "      <td>47</td>\n",
       "      <td>Medium</td>\n",
       "      <td>44</td>\n",
       "      <td>Press</td>\n",
       "      <td>54</td>\n",
       "      <td>Normal</td>\n",
       "      <td>Cover</td>\n",
       "    </tr>\n",
       "    <tr>\n",
       "      <th>2</th>\n",
       "      <td>3</td>\n",
       "      <td>434</td>\n",
       "      <td>9930</td>\n",
       "      <td>2015-09-10 00:00:00</td>\n",
       "      <td>47</td>\n",
       "      <td>Balanced</td>\n",
       "      <td>41.0</td>\n",
       "      <td>Normal</td>\n",
       "      <td>54</td>\n",
       "      <td>Mixed</td>\n",
       "      <td>Organised</td>\n",
       "      <td>54</td>\n",
       "      <td>Normal</td>\n",
       "      <td>63</td>\n",
       "      <td>Normal</td>\n",
       "      <td>64</td>\n",
       "      <td>Normal</td>\n",
       "      <td>Organised</td>\n",
       "      <td>47</td>\n",
       "      <td>Medium</td>\n",
       "      <td>44</td>\n",
       "      <td>Press</td>\n",
       "      <td>54</td>\n",
       "      <td>Normal</td>\n",
       "      <td>Cover</td>\n",
       "    </tr>\n",
       "    <tr>\n",
       "      <th>3</th>\n",
       "      <td>4</td>\n",
       "      <td>77</td>\n",
       "      <td>8485</td>\n",
       "      <td>2010-02-22 00:00:00</td>\n",
       "      <td>70</td>\n",
       "      <td>Fast</td>\n",
       "      <td>NaN</td>\n",
       "      <td>Little</td>\n",
       "      <td>70</td>\n",
       "      <td>Long</td>\n",
       "      <td>Organised</td>\n",
       "      <td>70</td>\n",
       "      <td>Risky</td>\n",
       "      <td>70</td>\n",
       "      <td>Lots</td>\n",
       "      <td>70</td>\n",
       "      <td>Lots</td>\n",
       "      <td>Organised</td>\n",
       "      <td>60</td>\n",
       "      <td>Medium</td>\n",
       "      <td>70</td>\n",
       "      <td>Double</td>\n",
       "      <td>70</td>\n",
       "      <td>Wide</td>\n",
       "      <td>Cover</td>\n",
       "    </tr>\n",
       "    <tr>\n",
       "      <th>4</th>\n",
       "      <td>5</td>\n",
       "      <td>77</td>\n",
       "      <td>8485</td>\n",
       "      <td>2011-02-22 00:00:00</td>\n",
       "      <td>47</td>\n",
       "      <td>Balanced</td>\n",
       "      <td>NaN</td>\n",
       "      <td>Little</td>\n",
       "      <td>52</td>\n",
       "      <td>Mixed</td>\n",
       "      <td>Organised</td>\n",
       "      <td>53</td>\n",
       "      <td>Normal</td>\n",
       "      <td>48</td>\n",
       "      <td>Normal</td>\n",
       "      <td>52</td>\n",
       "      <td>Normal</td>\n",
       "      <td>Organised</td>\n",
       "      <td>47</td>\n",
       "      <td>Medium</td>\n",
       "      <td>47</td>\n",
       "      <td>Press</td>\n",
       "      <td>52</td>\n",
       "      <td>Normal</td>\n",
       "      <td>Cover</td>\n",
       "    </tr>\n",
       "  </tbody>\n",
       "</table>\n",
       "</div>"
      ],
      "text/plain": [
       "   id  team_fifa_api_id  team_api_id                 date  buildUpPlaySpeed  \\\n",
       "0   1               434         9930  2010-02-22 00:00:00                60   \n",
       "1   2               434         9930  2014-09-19 00:00:00                52   \n",
       "2   3               434         9930  2015-09-10 00:00:00                47   \n",
       "3   4                77         8485  2010-02-22 00:00:00                70   \n",
       "4   5                77         8485  2011-02-22 00:00:00                47   \n",
       "\n",
       "  buildUpPlaySpeedClass  buildUpPlayDribbling buildUpPlayDribblingClass  \\\n",
       "0              Balanced                   NaN                    Little   \n",
       "1              Balanced                  48.0                    Normal   \n",
       "2              Balanced                  41.0                    Normal   \n",
       "3                  Fast                   NaN                    Little   \n",
       "4              Balanced                   NaN                    Little   \n",
       "\n",
       "   buildUpPlayPassing buildUpPlayPassingClass buildUpPlayPositioningClass  \\\n",
       "0                  50                   Mixed                   Organised   \n",
       "1                  56                   Mixed                   Organised   \n",
       "2                  54                   Mixed                   Organised   \n",
       "3                  70                    Long                   Organised   \n",
       "4                  52                   Mixed                   Organised   \n",
       "\n",
       "   chanceCreationPassing chanceCreationPassingClass  chanceCreationCrossing  \\\n",
       "0                     60                     Normal                      65   \n",
       "1                     54                     Normal                      63   \n",
       "2                     54                     Normal                      63   \n",
       "3                     70                      Risky                      70   \n",
       "4                     53                     Normal                      48   \n",
       "\n",
       "  chanceCreationCrossingClass  chanceCreationShooting  \\\n",
       "0                      Normal                      55   \n",
       "1                      Normal                      64   \n",
       "2                      Normal                      64   \n",
       "3                        Lots                      70   \n",
       "4                      Normal                      52   \n",
       "\n",
       "  chanceCreationShootingClass chanceCreationPositioningClass  defencePressure  \\\n",
       "0                      Normal                      Organised               50   \n",
       "1                      Normal                      Organised               47   \n",
       "2                      Normal                      Organised               47   \n",
       "3                        Lots                      Organised               60   \n",
       "4                      Normal                      Organised               47   \n",
       "\n",
       "  defencePressureClass  defenceAggression defenceAggressionClass  \\\n",
       "0               Medium                 55                  Press   \n",
       "1               Medium                 44                  Press   \n",
       "2               Medium                 44                  Press   \n",
       "3               Medium                 70                 Double   \n",
       "4               Medium                 47                  Press   \n",
       "\n",
       "   defenceTeamWidth defenceTeamWidthClass defenceDefenderLineClass  \n",
       "0                45                Normal                    Cover  \n",
       "1                54                Normal                    Cover  \n",
       "2                54                Normal                    Cover  \n",
       "3                70                  Wide                    Cover  \n",
       "4                52                Normal                    Cover  "
      ]
     },
     "execution_count": 167,
     "metadata": {},
     "output_type": "execute_result"
    }
   ],
   "source": [
    "team_attributes.head()"
   ]
  },
  {
   "cell_type": "code",
   "execution_count": 168,
   "id": "b75d1c11",
   "metadata": {},
   "outputs": [
    {
     "data": {
      "text/plain": [
       "(1458, 25)"
      ]
     },
     "execution_count": 168,
     "metadata": {},
     "output_type": "execute_result"
    }
   ],
   "source": [
    "team_attributes.shape"
   ]
  },
  {
   "cell_type": "code",
   "execution_count": 169,
   "id": "92dcd7c0",
   "metadata": {},
   "outputs": [
    {
     "data": {
      "text/plain": [
       "id                                0.0\n",
       "team_fifa_api_id                  0.0\n",
       "team_api_id                       0.0\n",
       "date                              0.0\n",
       "buildUpPlaySpeed                  0.0\n",
       "buildUpPlaySpeedClass             0.0\n",
       "buildUpPlayDribbling              0.0\n",
       "buildUpPlayDribblingClass         0.0\n",
       "buildUpPlayPassing                0.0\n",
       "buildUpPlayPassingClass           0.0\n",
       "buildUpPlayPositioningClass       0.0\n",
       "chanceCreationPassing             0.0\n",
       "chanceCreationPassingClass        0.0\n",
       "chanceCreationCrossing            0.0\n",
       "chanceCreationCrossingClass       0.0\n",
       "chanceCreationShooting            0.0\n",
       "chanceCreationShootingClass       0.0\n",
       "chanceCreationPositioningClass    0.0\n",
       "defencePressure                   0.0\n",
       "defencePressureClass              0.0\n",
       "defenceAggression                 0.0\n",
       "defenceAggressionClass            0.0\n",
       "defenceTeamWidth                  0.0\n",
       "defenceTeamWidthClass             0.0\n",
       "defenceDefenderLineClass          0.0\n",
       "dtype: float64"
      ]
     },
     "execution_count": 169,
     "metadata": {},
     "output_type": "execute_result"
    }
   ],
   "source": [
    "team_attributes[team_attributes.duplicated()].sum()"
   ]
  },
  {
   "cell_type": "code",
   "execution_count": 170,
   "id": "7e0eb299",
   "metadata": {
    "scrolled": false
   },
   "outputs": [
    {
     "data": {
      "text/plain": [
       "id                                  0\n",
       "team_fifa_api_id                    0\n",
       "team_api_id                         0\n",
       "date                                0\n",
       "buildUpPlaySpeed                    0\n",
       "buildUpPlaySpeedClass               0\n",
       "buildUpPlayDribbling              969\n",
       "buildUpPlayDribblingClass           0\n",
       "buildUpPlayPassing                  0\n",
       "buildUpPlayPassingClass             0\n",
       "buildUpPlayPositioningClass         0\n",
       "chanceCreationPassing               0\n",
       "chanceCreationPassingClass          0\n",
       "chanceCreationCrossing              0\n",
       "chanceCreationCrossingClass         0\n",
       "chanceCreationShooting              0\n",
       "chanceCreationShootingClass         0\n",
       "chanceCreationPositioningClass      0\n",
       "defencePressure                     0\n",
       "defencePressureClass                0\n",
       "defenceAggression                   0\n",
       "defenceAggressionClass              0\n",
       "defenceTeamWidth                    0\n",
       "defenceTeamWidthClass               0\n",
       "defenceDefenderLineClass            0\n",
       "dtype: int64"
      ]
     },
     "execution_count": 170,
     "metadata": {},
     "output_type": "execute_result"
    }
   ],
   "source": [
    "team_attributes.isnull().sum()"
   ]
  },
  {
   "cell_type": "code",
   "execution_count": 171,
   "id": "5c916c63",
   "metadata": {},
   "outputs": [],
   "source": [
    "team_attributes.drop(\n",
    "    columns=[\n",
    "        \"id\",\n",
    "        \"team_fifa_api_id\",\n",
    "        \"buildUpPlayDribbling\",\n",
    "        \"buildUpPlaySpeedClass\",\n",
    "        \"buildUpPlayDribblingClass\",\n",
    "        \"buildUpPlayPassingClass\",\n",
    "        \"buildUpPlayPositioningClass\",\n",
    "        \"chanceCreationPassingClass\",\n",
    "        \"chanceCreationCrossingClass\",\n",
    "        \"chanceCreationShootingClass\",\n",
    "        \"chanceCreationPositioningClass\",\n",
    "        \"defencePressureClass\",\n",
    "        \"defenceAggressionClass\",\n",
    "        \"defenceTeamWidthClass\",\n",
    "        \"defenceDefenderLineClass\",\n",
    "    ],\n",
    "    inplace=True,\n",
    ")"
   ]
  },
  {
   "cell_type": "code",
   "execution_count": 172,
   "id": "549c6b47",
   "metadata": {},
   "outputs": [],
   "source": [
    "team_attributes.rename(\n",
    "    columns={\n",
    "        \"team_api_id\": \"TeamID\",\n",
    "        \"date\": \"Date\",\n",
    "        \"buildUpPlaySpeed\": \"BuildUpPlaySpeed\",\n",
    "        \"buildUpPlayPassing\": \"BuildUpPlayPassing\",\n",
    "        \"chanceCreationPassing\": \"ChanceCreationPassing\",\n",
    "        \"chanceCreationCrossing\": \"ChanceCreationCrossing\",\n",
    "        \"chanceCreationShooting\": \"ChanceCreationShooting\",\n",
    "        \"defencePressure\": \"DefencePressure\",\n",
    "        \"defenceAggression\": \"DefenceAggression\",\n",
    "        \"defenceTeamWidth\": \"DefenceTeamWidth\",\n",
    "    },\n",
    "    inplace=True,\n",
    ")"
   ]
  },
  {
   "cell_type": "code",
   "execution_count": 173,
   "id": "ce375772",
   "metadata": {},
   "outputs": [],
   "source": [
    "team_attributes[\"Date\"] = pd.DatetimeIndex(team_attributes[\"Date\"]).year"
   ]
  },
  {
   "cell_type": "code",
   "execution_count": 174,
   "id": "3dde99fa",
   "metadata": {},
   "outputs": [
    {
     "data": {
      "text/html": [
       "<div>\n",
       "<style scoped>\n",
       "    .dataframe tbody tr th:only-of-type {\n",
       "        vertical-align: middle;\n",
       "    }\n",
       "\n",
       "    .dataframe tbody tr th {\n",
       "        vertical-align: top;\n",
       "    }\n",
       "\n",
       "    .dataframe thead th {\n",
       "        text-align: right;\n",
       "    }\n",
       "</style>\n",
       "<table border=\"1\" class=\"dataframe\">\n",
       "  <thead>\n",
       "    <tr style=\"text-align: right;\">\n",
       "      <th></th>\n",
       "      <th>TeamID</th>\n",
       "      <th>Date</th>\n",
       "      <th>BuildUpPlaySpeed</th>\n",
       "      <th>BuildUpPlayPassing</th>\n",
       "      <th>ChanceCreationPassing</th>\n",
       "      <th>ChanceCreationCrossing</th>\n",
       "      <th>ChanceCreationShooting</th>\n",
       "      <th>DefencePressure</th>\n",
       "      <th>DefenceAggression</th>\n",
       "      <th>DefenceTeamWidth</th>\n",
       "    </tr>\n",
       "  </thead>\n",
       "  <tbody>\n",
       "    <tr>\n",
       "      <th>0</th>\n",
       "      <td>9930</td>\n",
       "      <td>2010</td>\n",
       "      <td>60</td>\n",
       "      <td>50</td>\n",
       "      <td>60</td>\n",
       "      <td>65</td>\n",
       "      <td>55</td>\n",
       "      <td>50</td>\n",
       "      <td>55</td>\n",
       "      <td>45</td>\n",
       "    </tr>\n",
       "    <tr>\n",
       "      <th>1</th>\n",
       "      <td>9930</td>\n",
       "      <td>2014</td>\n",
       "      <td>52</td>\n",
       "      <td>56</td>\n",
       "      <td>54</td>\n",
       "      <td>63</td>\n",
       "      <td>64</td>\n",
       "      <td>47</td>\n",
       "      <td>44</td>\n",
       "      <td>54</td>\n",
       "    </tr>\n",
       "    <tr>\n",
       "      <th>2</th>\n",
       "      <td>9930</td>\n",
       "      <td>2015</td>\n",
       "      <td>47</td>\n",
       "      <td>54</td>\n",
       "      <td>54</td>\n",
       "      <td>63</td>\n",
       "      <td>64</td>\n",
       "      <td>47</td>\n",
       "      <td>44</td>\n",
       "      <td>54</td>\n",
       "    </tr>\n",
       "    <tr>\n",
       "      <th>3</th>\n",
       "      <td>8485</td>\n",
       "      <td>2010</td>\n",
       "      <td>70</td>\n",
       "      <td>70</td>\n",
       "      <td>70</td>\n",
       "      <td>70</td>\n",
       "      <td>70</td>\n",
       "      <td>60</td>\n",
       "      <td>70</td>\n",
       "      <td>70</td>\n",
       "    </tr>\n",
       "    <tr>\n",
       "      <th>4</th>\n",
       "      <td>8485</td>\n",
       "      <td>2011</td>\n",
       "      <td>47</td>\n",
       "      <td>52</td>\n",
       "      <td>53</td>\n",
       "      <td>48</td>\n",
       "      <td>52</td>\n",
       "      <td>47</td>\n",
       "      <td>47</td>\n",
       "      <td>52</td>\n",
       "    </tr>\n",
       "  </tbody>\n",
       "</table>\n",
       "</div>"
      ],
      "text/plain": [
       "   TeamID  Date  BuildUpPlaySpeed  BuildUpPlayPassing  ChanceCreationPassing  \\\n",
       "0    9930  2010                60                  50                     60   \n",
       "1    9930  2014                52                  56                     54   \n",
       "2    9930  2015                47                  54                     54   \n",
       "3    8485  2010                70                  70                     70   \n",
       "4    8485  2011                47                  52                     53   \n",
       "\n",
       "   ChanceCreationCrossing  ChanceCreationShooting  DefencePressure  \\\n",
       "0                      65                      55               50   \n",
       "1                      63                      64               47   \n",
       "2                      63                      64               47   \n",
       "3                      70                      70               60   \n",
       "4                      48                      52               47   \n",
       "\n",
       "   DefenceAggression  DefenceTeamWidth  \n",
       "0                 55                45  \n",
       "1                 44                54  \n",
       "2                 44                54  \n",
       "3                 70                70  \n",
       "4                 47                52  "
      ]
     },
     "execution_count": 174,
     "metadata": {},
     "output_type": "execute_result"
    }
   ],
   "source": [
    "team_attributes.head()"
   ]
  },
  {
   "cell_type": "code",
   "execution_count": 175,
   "id": "2072789b",
   "metadata": {},
   "outputs": [
    {
     "data": {
      "text/plain": [
       "(1458, 10)"
      ]
     },
     "execution_count": 175,
     "metadata": {},
     "output_type": "execute_result"
    }
   ],
   "source": [
    "team_attributes.shape"
   ]
  },
  {
   "cell_type": "markdown",
   "id": "6fbfcc2c",
   "metadata": {},
   "source": [
    "### Section Summary\n",
    "> * There were 1458 rows and 26 columns in this table.\n",
    "> * This table contains no duplicate values.\n",
    "> * One column, \"buildUpPlayDribbling\" contained 969 missing values, which is more than 75% of the rows. According to Standard 3, in the Standards section of this report, I eliminated this column altogether. \n",
    "> * I eliminated the \"id,\" and the \"team_fifa_api_id,\" columns from this table. I kept the \"team_api_id\" column as identifier.\n",
    "> * I dropped all \"class\" columns, such as \"buildUpPlaySpeedClass,\" and \"buildUpPlayPassingClass,\" with catagorical values, since each of them has a corresponding column with numerical values. \n",
    "> * I changed the header of each of the other columns to conform the the standard explained in the Standard 2 of the Standards section of this report.\n",
    "> * The cleaned table contains were 1458 rows and 10 columns."
   ]
  },
  {
   "cell_type": "markdown",
   "id": "a7ffe878",
   "metadata": {},
   "source": [
    "## Match"
   ]
  },
  {
   "cell_type": "markdown",
   "id": "1f0a1283",
   "metadata": {},
   "source": [
    "The section below contains information about the Match table and how I cleaned this table for further analysis."
   ]
  },
  {
   "cell_type": "code",
   "execution_count": 181,
   "id": "133ecd28",
   "metadata": {},
   "outputs": [],
   "source": [
    "match = football_db[\"Match\"].copy()"
   ]
  },
  {
   "cell_type": "code",
   "execution_count": 182,
   "id": "4fedfcd4",
   "metadata": {},
   "outputs": [
    {
     "data": {
      "text/html": [
       "<div>\n",
       "<style scoped>\n",
       "    .dataframe tbody tr th:only-of-type {\n",
       "        vertical-align: middle;\n",
       "    }\n",
       "\n",
       "    .dataframe tbody tr th {\n",
       "        vertical-align: top;\n",
       "    }\n",
       "\n",
       "    .dataframe thead th {\n",
       "        text-align: right;\n",
       "    }\n",
       "</style>\n",
       "<table border=\"1\" class=\"dataframe\">\n",
       "  <thead>\n",
       "    <tr style=\"text-align: right;\">\n",
       "      <th></th>\n",
       "      <th>id</th>\n",
       "      <th>country_id</th>\n",
       "      <th>league_id</th>\n",
       "      <th>season</th>\n",
       "      <th>stage</th>\n",
       "      <th>date</th>\n",
       "      <th>match_api_id</th>\n",
       "      <th>home_team_api_id</th>\n",
       "      <th>away_team_api_id</th>\n",
       "      <th>home_team_goal</th>\n",
       "      <th>away_team_goal</th>\n",
       "      <th>home_player_X1</th>\n",
       "      <th>home_player_X2</th>\n",
       "      <th>home_player_X3</th>\n",
       "      <th>home_player_X4</th>\n",
       "      <th>home_player_X5</th>\n",
       "      <th>home_player_X6</th>\n",
       "      <th>home_player_X7</th>\n",
       "      <th>home_player_X8</th>\n",
       "      <th>home_player_X9</th>\n",
       "      <th>home_player_X10</th>\n",
       "      <th>home_player_X11</th>\n",
       "      <th>away_player_X1</th>\n",
       "      <th>away_player_X2</th>\n",
       "      <th>away_player_X3</th>\n",
       "      <th>away_player_X4</th>\n",
       "      <th>away_player_X5</th>\n",
       "      <th>away_player_X6</th>\n",
       "      <th>away_player_X7</th>\n",
       "      <th>away_player_X8</th>\n",
       "      <th>away_player_X9</th>\n",
       "      <th>away_player_X10</th>\n",
       "      <th>away_player_X11</th>\n",
       "      <th>home_player_Y1</th>\n",
       "      <th>home_player_Y2</th>\n",
       "      <th>home_player_Y3</th>\n",
       "      <th>home_player_Y4</th>\n",
       "      <th>home_player_Y5</th>\n",
       "      <th>home_player_Y6</th>\n",
       "      <th>home_player_Y7</th>\n",
       "      <th>home_player_Y8</th>\n",
       "      <th>home_player_Y9</th>\n",
       "      <th>home_player_Y10</th>\n",
       "      <th>home_player_Y11</th>\n",
       "      <th>away_player_Y1</th>\n",
       "      <th>away_player_Y2</th>\n",
       "      <th>away_player_Y3</th>\n",
       "      <th>away_player_Y4</th>\n",
       "      <th>away_player_Y5</th>\n",
       "      <th>away_player_Y6</th>\n",
       "      <th>away_player_Y7</th>\n",
       "      <th>away_player_Y8</th>\n",
       "      <th>away_player_Y9</th>\n",
       "      <th>away_player_Y10</th>\n",
       "      <th>away_player_Y11</th>\n",
       "      <th>home_player_1</th>\n",
       "      <th>home_player_2</th>\n",
       "      <th>home_player_3</th>\n",
       "      <th>home_player_4</th>\n",
       "      <th>home_player_5</th>\n",
       "      <th>home_player_6</th>\n",
       "      <th>home_player_7</th>\n",
       "      <th>home_player_8</th>\n",
       "      <th>home_player_9</th>\n",
       "      <th>home_player_10</th>\n",
       "      <th>home_player_11</th>\n",
       "      <th>away_player_1</th>\n",
       "      <th>away_player_2</th>\n",
       "      <th>away_player_3</th>\n",
       "      <th>away_player_4</th>\n",
       "      <th>away_player_5</th>\n",
       "      <th>away_player_6</th>\n",
       "      <th>away_player_7</th>\n",
       "      <th>away_player_8</th>\n",
       "      <th>away_player_9</th>\n",
       "      <th>away_player_10</th>\n",
       "      <th>away_player_11</th>\n",
       "      <th>goal</th>\n",
       "      <th>shoton</th>\n",
       "      <th>shotoff</th>\n",
       "      <th>foulcommit</th>\n",
       "      <th>card</th>\n",
       "      <th>cross</th>\n",
       "      <th>corner</th>\n",
       "      <th>possession</th>\n",
       "      <th>B365H</th>\n",
       "      <th>B365D</th>\n",
       "      <th>B365A</th>\n",
       "      <th>BWH</th>\n",
       "      <th>BWD</th>\n",
       "      <th>BWA</th>\n",
       "      <th>IWH</th>\n",
       "      <th>IWD</th>\n",
       "      <th>IWA</th>\n",
       "      <th>LBH</th>\n",
       "      <th>LBD</th>\n",
       "      <th>LBA</th>\n",
       "      <th>PSH</th>\n",
       "      <th>PSD</th>\n",
       "      <th>PSA</th>\n",
       "      <th>WHH</th>\n",
       "      <th>WHD</th>\n",
       "      <th>WHA</th>\n",
       "      <th>SJH</th>\n",
       "      <th>SJD</th>\n",
       "      <th>SJA</th>\n",
       "      <th>VCH</th>\n",
       "      <th>VCD</th>\n",
       "      <th>VCA</th>\n",
       "      <th>GBH</th>\n",
       "      <th>GBD</th>\n",
       "      <th>GBA</th>\n",
       "      <th>BSH</th>\n",
       "      <th>BSD</th>\n",
       "      <th>BSA</th>\n",
       "    </tr>\n",
       "  </thead>\n",
       "  <tbody>\n",
       "    <tr>\n",
       "      <th>0</th>\n",
       "      <td>1</td>\n",
       "      <td>1</td>\n",
       "      <td>1</td>\n",
       "      <td>2008/2009</td>\n",
       "      <td>1</td>\n",
       "      <td>2008-08-17 00:00:00</td>\n",
       "      <td>492473</td>\n",
       "      <td>9987</td>\n",
       "      <td>9993</td>\n",
       "      <td>1</td>\n",
       "      <td>1</td>\n",
       "      <td>NaN</td>\n",
       "      <td>NaN</td>\n",
       "      <td>NaN</td>\n",
       "      <td>NaN</td>\n",
       "      <td>NaN</td>\n",
       "      <td>NaN</td>\n",
       "      <td>NaN</td>\n",
       "      <td>NaN</td>\n",
       "      <td>NaN</td>\n",
       "      <td>NaN</td>\n",
       "      <td>NaN</td>\n",
       "      <td>NaN</td>\n",
       "      <td>NaN</td>\n",
       "      <td>NaN</td>\n",
       "      <td>NaN</td>\n",
       "      <td>NaN</td>\n",
       "      <td>NaN</td>\n",
       "      <td>NaN</td>\n",
       "      <td>NaN</td>\n",
       "      <td>NaN</td>\n",
       "      <td>NaN</td>\n",
       "      <td>NaN</td>\n",
       "      <td>NaN</td>\n",
       "      <td>NaN</td>\n",
       "      <td>NaN</td>\n",
       "      <td>NaN</td>\n",
       "      <td>NaN</td>\n",
       "      <td>NaN</td>\n",
       "      <td>NaN</td>\n",
       "      <td>NaN</td>\n",
       "      <td>NaN</td>\n",
       "      <td>NaN</td>\n",
       "      <td>NaN</td>\n",
       "      <td>NaN</td>\n",
       "      <td>NaN</td>\n",
       "      <td>NaN</td>\n",
       "      <td>NaN</td>\n",
       "      <td>NaN</td>\n",
       "      <td>NaN</td>\n",
       "      <td>NaN</td>\n",
       "      <td>NaN</td>\n",
       "      <td>NaN</td>\n",
       "      <td>NaN</td>\n",
       "      <td>NaN</td>\n",
       "      <td>NaN</td>\n",
       "      <td>NaN</td>\n",
       "      <td>NaN</td>\n",
       "      <td>NaN</td>\n",
       "      <td>NaN</td>\n",
       "      <td>NaN</td>\n",
       "      <td>NaN</td>\n",
       "      <td>NaN</td>\n",
       "      <td>NaN</td>\n",
       "      <td>NaN</td>\n",
       "      <td>NaN</td>\n",
       "      <td>NaN</td>\n",
       "      <td>NaN</td>\n",
       "      <td>NaN</td>\n",
       "      <td>NaN</td>\n",
       "      <td>NaN</td>\n",
       "      <td>NaN</td>\n",
       "      <td>NaN</td>\n",
       "      <td>NaN</td>\n",
       "      <td>NaN</td>\n",
       "      <td>NaN</td>\n",
       "      <td>NaN</td>\n",
       "      <td>None</td>\n",
       "      <td>None</td>\n",
       "      <td>None</td>\n",
       "      <td>None</td>\n",
       "      <td>None</td>\n",
       "      <td>None</td>\n",
       "      <td>None</td>\n",
       "      <td>None</td>\n",
       "      <td>1.73</td>\n",
       "      <td>3.40</td>\n",
       "      <td>5.00</td>\n",
       "      <td>1.75</td>\n",
       "      <td>3.35</td>\n",
       "      <td>4.20</td>\n",
       "      <td>1.85</td>\n",
       "      <td>3.2</td>\n",
       "      <td>3.5</td>\n",
       "      <td>1.80</td>\n",
       "      <td>3.3</td>\n",
       "      <td>3.75</td>\n",
       "      <td>NaN</td>\n",
       "      <td>NaN</td>\n",
       "      <td>NaN</td>\n",
       "      <td>1.70</td>\n",
       "      <td>3.30</td>\n",
       "      <td>4.33</td>\n",
       "      <td>1.90</td>\n",
       "      <td>3.3</td>\n",
       "      <td>4.00</td>\n",
       "      <td>1.65</td>\n",
       "      <td>3.40</td>\n",
       "      <td>4.50</td>\n",
       "      <td>1.78</td>\n",
       "      <td>3.25</td>\n",
       "      <td>4.00</td>\n",
       "      <td>1.73</td>\n",
       "      <td>3.40</td>\n",
       "      <td>4.20</td>\n",
       "    </tr>\n",
       "    <tr>\n",
       "      <th>1</th>\n",
       "      <td>2</td>\n",
       "      <td>1</td>\n",
       "      <td>1</td>\n",
       "      <td>2008/2009</td>\n",
       "      <td>1</td>\n",
       "      <td>2008-08-16 00:00:00</td>\n",
       "      <td>492474</td>\n",
       "      <td>10000</td>\n",
       "      <td>9994</td>\n",
       "      <td>0</td>\n",
       "      <td>0</td>\n",
       "      <td>NaN</td>\n",
       "      <td>NaN</td>\n",
       "      <td>NaN</td>\n",
       "      <td>NaN</td>\n",
       "      <td>NaN</td>\n",
       "      <td>NaN</td>\n",
       "      <td>NaN</td>\n",
       "      <td>NaN</td>\n",
       "      <td>NaN</td>\n",
       "      <td>NaN</td>\n",
       "      <td>NaN</td>\n",
       "      <td>NaN</td>\n",
       "      <td>NaN</td>\n",
       "      <td>NaN</td>\n",
       "      <td>NaN</td>\n",
       "      <td>NaN</td>\n",
       "      <td>NaN</td>\n",
       "      <td>NaN</td>\n",
       "      <td>NaN</td>\n",
       "      <td>NaN</td>\n",
       "      <td>NaN</td>\n",
       "      <td>NaN</td>\n",
       "      <td>NaN</td>\n",
       "      <td>NaN</td>\n",
       "      <td>NaN</td>\n",
       "      <td>NaN</td>\n",
       "      <td>NaN</td>\n",
       "      <td>NaN</td>\n",
       "      <td>NaN</td>\n",
       "      <td>NaN</td>\n",
       "      <td>NaN</td>\n",
       "      <td>NaN</td>\n",
       "      <td>NaN</td>\n",
       "      <td>NaN</td>\n",
       "      <td>NaN</td>\n",
       "      <td>NaN</td>\n",
       "      <td>NaN</td>\n",
       "      <td>NaN</td>\n",
       "      <td>NaN</td>\n",
       "      <td>NaN</td>\n",
       "      <td>NaN</td>\n",
       "      <td>NaN</td>\n",
       "      <td>NaN</td>\n",
       "      <td>NaN</td>\n",
       "      <td>NaN</td>\n",
       "      <td>NaN</td>\n",
       "      <td>NaN</td>\n",
       "      <td>NaN</td>\n",
       "      <td>NaN</td>\n",
       "      <td>NaN</td>\n",
       "      <td>NaN</td>\n",
       "      <td>NaN</td>\n",
       "      <td>NaN</td>\n",
       "      <td>NaN</td>\n",
       "      <td>NaN</td>\n",
       "      <td>NaN</td>\n",
       "      <td>NaN</td>\n",
       "      <td>NaN</td>\n",
       "      <td>NaN</td>\n",
       "      <td>NaN</td>\n",
       "      <td>NaN</td>\n",
       "      <td>NaN</td>\n",
       "      <td>NaN</td>\n",
       "      <td>NaN</td>\n",
       "      <td>NaN</td>\n",
       "      <td>NaN</td>\n",
       "      <td>None</td>\n",
       "      <td>None</td>\n",
       "      <td>None</td>\n",
       "      <td>None</td>\n",
       "      <td>None</td>\n",
       "      <td>None</td>\n",
       "      <td>None</td>\n",
       "      <td>None</td>\n",
       "      <td>1.95</td>\n",
       "      <td>3.20</td>\n",
       "      <td>3.60</td>\n",
       "      <td>1.80</td>\n",
       "      <td>3.30</td>\n",
       "      <td>3.95</td>\n",
       "      <td>1.90</td>\n",
       "      <td>3.2</td>\n",
       "      <td>3.5</td>\n",
       "      <td>1.90</td>\n",
       "      <td>3.2</td>\n",
       "      <td>3.50</td>\n",
       "      <td>NaN</td>\n",
       "      <td>NaN</td>\n",
       "      <td>NaN</td>\n",
       "      <td>1.83</td>\n",
       "      <td>3.30</td>\n",
       "      <td>3.60</td>\n",
       "      <td>1.95</td>\n",
       "      <td>3.3</td>\n",
       "      <td>3.80</td>\n",
       "      <td>2.00</td>\n",
       "      <td>3.25</td>\n",
       "      <td>3.25</td>\n",
       "      <td>1.85</td>\n",
       "      <td>3.25</td>\n",
       "      <td>3.75</td>\n",
       "      <td>1.91</td>\n",
       "      <td>3.25</td>\n",
       "      <td>3.60</td>\n",
       "    </tr>\n",
       "    <tr>\n",
       "      <th>2</th>\n",
       "      <td>3</td>\n",
       "      <td>1</td>\n",
       "      <td>1</td>\n",
       "      <td>2008/2009</td>\n",
       "      <td>1</td>\n",
       "      <td>2008-08-16 00:00:00</td>\n",
       "      <td>492475</td>\n",
       "      <td>9984</td>\n",
       "      <td>8635</td>\n",
       "      <td>0</td>\n",
       "      <td>3</td>\n",
       "      <td>NaN</td>\n",
       "      <td>NaN</td>\n",
       "      <td>NaN</td>\n",
       "      <td>NaN</td>\n",
       "      <td>NaN</td>\n",
       "      <td>NaN</td>\n",
       "      <td>NaN</td>\n",
       "      <td>NaN</td>\n",
       "      <td>NaN</td>\n",
       "      <td>NaN</td>\n",
       "      <td>NaN</td>\n",
       "      <td>NaN</td>\n",
       "      <td>NaN</td>\n",
       "      <td>NaN</td>\n",
       "      <td>NaN</td>\n",
       "      <td>NaN</td>\n",
       "      <td>NaN</td>\n",
       "      <td>NaN</td>\n",
       "      <td>NaN</td>\n",
       "      <td>NaN</td>\n",
       "      <td>NaN</td>\n",
       "      <td>NaN</td>\n",
       "      <td>NaN</td>\n",
       "      <td>NaN</td>\n",
       "      <td>NaN</td>\n",
       "      <td>NaN</td>\n",
       "      <td>NaN</td>\n",
       "      <td>NaN</td>\n",
       "      <td>NaN</td>\n",
       "      <td>NaN</td>\n",
       "      <td>NaN</td>\n",
       "      <td>NaN</td>\n",
       "      <td>NaN</td>\n",
       "      <td>NaN</td>\n",
       "      <td>NaN</td>\n",
       "      <td>NaN</td>\n",
       "      <td>NaN</td>\n",
       "      <td>NaN</td>\n",
       "      <td>NaN</td>\n",
       "      <td>NaN</td>\n",
       "      <td>NaN</td>\n",
       "      <td>NaN</td>\n",
       "      <td>NaN</td>\n",
       "      <td>NaN</td>\n",
       "      <td>NaN</td>\n",
       "      <td>NaN</td>\n",
       "      <td>NaN</td>\n",
       "      <td>NaN</td>\n",
       "      <td>NaN</td>\n",
       "      <td>NaN</td>\n",
       "      <td>NaN</td>\n",
       "      <td>NaN</td>\n",
       "      <td>NaN</td>\n",
       "      <td>NaN</td>\n",
       "      <td>NaN</td>\n",
       "      <td>NaN</td>\n",
       "      <td>NaN</td>\n",
       "      <td>NaN</td>\n",
       "      <td>NaN</td>\n",
       "      <td>NaN</td>\n",
       "      <td>NaN</td>\n",
       "      <td>NaN</td>\n",
       "      <td>NaN</td>\n",
       "      <td>NaN</td>\n",
       "      <td>NaN</td>\n",
       "      <td>NaN</td>\n",
       "      <td>None</td>\n",
       "      <td>None</td>\n",
       "      <td>None</td>\n",
       "      <td>None</td>\n",
       "      <td>None</td>\n",
       "      <td>None</td>\n",
       "      <td>None</td>\n",
       "      <td>None</td>\n",
       "      <td>2.38</td>\n",
       "      <td>3.30</td>\n",
       "      <td>2.75</td>\n",
       "      <td>2.40</td>\n",
       "      <td>3.30</td>\n",
       "      <td>2.55</td>\n",
       "      <td>2.60</td>\n",
       "      <td>3.1</td>\n",
       "      <td>2.3</td>\n",
       "      <td>2.50</td>\n",
       "      <td>3.2</td>\n",
       "      <td>2.50</td>\n",
       "      <td>NaN</td>\n",
       "      <td>NaN</td>\n",
       "      <td>NaN</td>\n",
       "      <td>2.50</td>\n",
       "      <td>3.25</td>\n",
       "      <td>2.40</td>\n",
       "      <td>2.63</td>\n",
       "      <td>3.3</td>\n",
       "      <td>2.50</td>\n",
       "      <td>2.35</td>\n",
       "      <td>3.25</td>\n",
       "      <td>2.65</td>\n",
       "      <td>2.50</td>\n",
       "      <td>3.20</td>\n",
       "      <td>2.50</td>\n",
       "      <td>2.30</td>\n",
       "      <td>3.20</td>\n",
       "      <td>2.75</td>\n",
       "    </tr>\n",
       "    <tr>\n",
       "      <th>3</th>\n",
       "      <td>4</td>\n",
       "      <td>1</td>\n",
       "      <td>1</td>\n",
       "      <td>2008/2009</td>\n",
       "      <td>1</td>\n",
       "      <td>2008-08-17 00:00:00</td>\n",
       "      <td>492476</td>\n",
       "      <td>9991</td>\n",
       "      <td>9998</td>\n",
       "      <td>5</td>\n",
       "      <td>0</td>\n",
       "      <td>NaN</td>\n",
       "      <td>NaN</td>\n",
       "      <td>NaN</td>\n",
       "      <td>NaN</td>\n",
       "      <td>NaN</td>\n",
       "      <td>NaN</td>\n",
       "      <td>NaN</td>\n",
       "      <td>NaN</td>\n",
       "      <td>NaN</td>\n",
       "      <td>NaN</td>\n",
       "      <td>NaN</td>\n",
       "      <td>NaN</td>\n",
       "      <td>NaN</td>\n",
       "      <td>NaN</td>\n",
       "      <td>NaN</td>\n",
       "      <td>NaN</td>\n",
       "      <td>NaN</td>\n",
       "      <td>NaN</td>\n",
       "      <td>NaN</td>\n",
       "      <td>NaN</td>\n",
       "      <td>NaN</td>\n",
       "      <td>NaN</td>\n",
       "      <td>NaN</td>\n",
       "      <td>NaN</td>\n",
       "      <td>NaN</td>\n",
       "      <td>NaN</td>\n",
       "      <td>NaN</td>\n",
       "      <td>NaN</td>\n",
       "      <td>NaN</td>\n",
       "      <td>NaN</td>\n",
       "      <td>NaN</td>\n",
       "      <td>NaN</td>\n",
       "      <td>NaN</td>\n",
       "      <td>NaN</td>\n",
       "      <td>NaN</td>\n",
       "      <td>NaN</td>\n",
       "      <td>NaN</td>\n",
       "      <td>NaN</td>\n",
       "      <td>NaN</td>\n",
       "      <td>NaN</td>\n",
       "      <td>NaN</td>\n",
       "      <td>NaN</td>\n",
       "      <td>NaN</td>\n",
       "      <td>NaN</td>\n",
       "      <td>NaN</td>\n",
       "      <td>NaN</td>\n",
       "      <td>NaN</td>\n",
       "      <td>NaN</td>\n",
       "      <td>NaN</td>\n",
       "      <td>NaN</td>\n",
       "      <td>NaN</td>\n",
       "      <td>NaN</td>\n",
       "      <td>NaN</td>\n",
       "      <td>NaN</td>\n",
       "      <td>NaN</td>\n",
       "      <td>NaN</td>\n",
       "      <td>NaN</td>\n",
       "      <td>NaN</td>\n",
       "      <td>NaN</td>\n",
       "      <td>NaN</td>\n",
       "      <td>NaN</td>\n",
       "      <td>NaN</td>\n",
       "      <td>NaN</td>\n",
       "      <td>NaN</td>\n",
       "      <td>NaN</td>\n",
       "      <td>NaN</td>\n",
       "      <td>None</td>\n",
       "      <td>None</td>\n",
       "      <td>None</td>\n",
       "      <td>None</td>\n",
       "      <td>None</td>\n",
       "      <td>None</td>\n",
       "      <td>None</td>\n",
       "      <td>None</td>\n",
       "      <td>1.44</td>\n",
       "      <td>3.75</td>\n",
       "      <td>7.50</td>\n",
       "      <td>1.40</td>\n",
       "      <td>4.00</td>\n",
       "      <td>6.80</td>\n",
       "      <td>1.40</td>\n",
       "      <td>3.9</td>\n",
       "      <td>6.0</td>\n",
       "      <td>1.44</td>\n",
       "      <td>3.6</td>\n",
       "      <td>6.50</td>\n",
       "      <td>NaN</td>\n",
       "      <td>NaN</td>\n",
       "      <td>NaN</td>\n",
       "      <td>1.44</td>\n",
       "      <td>3.75</td>\n",
       "      <td>6.00</td>\n",
       "      <td>1.44</td>\n",
       "      <td>4.0</td>\n",
       "      <td>7.50</td>\n",
       "      <td>1.45</td>\n",
       "      <td>3.75</td>\n",
       "      <td>6.50</td>\n",
       "      <td>1.50</td>\n",
       "      <td>3.75</td>\n",
       "      <td>5.50</td>\n",
       "      <td>1.44</td>\n",
       "      <td>3.75</td>\n",
       "      <td>6.50</td>\n",
       "    </tr>\n",
       "    <tr>\n",
       "      <th>4</th>\n",
       "      <td>5</td>\n",
       "      <td>1</td>\n",
       "      <td>1</td>\n",
       "      <td>2008/2009</td>\n",
       "      <td>1</td>\n",
       "      <td>2008-08-16 00:00:00</td>\n",
       "      <td>492477</td>\n",
       "      <td>7947</td>\n",
       "      <td>9985</td>\n",
       "      <td>1</td>\n",
       "      <td>3</td>\n",
       "      <td>NaN</td>\n",
       "      <td>NaN</td>\n",
       "      <td>NaN</td>\n",
       "      <td>NaN</td>\n",
       "      <td>NaN</td>\n",
       "      <td>NaN</td>\n",
       "      <td>NaN</td>\n",
       "      <td>NaN</td>\n",
       "      <td>NaN</td>\n",
       "      <td>NaN</td>\n",
       "      <td>NaN</td>\n",
       "      <td>NaN</td>\n",
       "      <td>NaN</td>\n",
       "      <td>NaN</td>\n",
       "      <td>NaN</td>\n",
       "      <td>NaN</td>\n",
       "      <td>NaN</td>\n",
       "      <td>NaN</td>\n",
       "      <td>NaN</td>\n",
       "      <td>NaN</td>\n",
       "      <td>NaN</td>\n",
       "      <td>NaN</td>\n",
       "      <td>NaN</td>\n",
       "      <td>NaN</td>\n",
       "      <td>NaN</td>\n",
       "      <td>NaN</td>\n",
       "      <td>NaN</td>\n",
       "      <td>NaN</td>\n",
       "      <td>NaN</td>\n",
       "      <td>NaN</td>\n",
       "      <td>NaN</td>\n",
       "      <td>NaN</td>\n",
       "      <td>NaN</td>\n",
       "      <td>NaN</td>\n",
       "      <td>NaN</td>\n",
       "      <td>NaN</td>\n",
       "      <td>NaN</td>\n",
       "      <td>NaN</td>\n",
       "      <td>NaN</td>\n",
       "      <td>NaN</td>\n",
       "      <td>NaN</td>\n",
       "      <td>NaN</td>\n",
       "      <td>NaN</td>\n",
       "      <td>NaN</td>\n",
       "      <td>NaN</td>\n",
       "      <td>NaN</td>\n",
       "      <td>NaN</td>\n",
       "      <td>NaN</td>\n",
       "      <td>NaN</td>\n",
       "      <td>NaN</td>\n",
       "      <td>NaN</td>\n",
       "      <td>NaN</td>\n",
       "      <td>NaN</td>\n",
       "      <td>NaN</td>\n",
       "      <td>NaN</td>\n",
       "      <td>NaN</td>\n",
       "      <td>NaN</td>\n",
       "      <td>NaN</td>\n",
       "      <td>NaN</td>\n",
       "      <td>NaN</td>\n",
       "      <td>NaN</td>\n",
       "      <td>NaN</td>\n",
       "      <td>NaN</td>\n",
       "      <td>NaN</td>\n",
       "      <td>NaN</td>\n",
       "      <td>NaN</td>\n",
       "      <td>None</td>\n",
       "      <td>None</td>\n",
       "      <td>None</td>\n",
       "      <td>None</td>\n",
       "      <td>None</td>\n",
       "      <td>None</td>\n",
       "      <td>None</td>\n",
       "      <td>None</td>\n",
       "      <td>5.00</td>\n",
       "      <td>3.50</td>\n",
       "      <td>1.65</td>\n",
       "      <td>5.00</td>\n",
       "      <td>3.50</td>\n",
       "      <td>1.60</td>\n",
       "      <td>4.00</td>\n",
       "      <td>3.3</td>\n",
       "      <td>1.7</td>\n",
       "      <td>4.00</td>\n",
       "      <td>3.4</td>\n",
       "      <td>1.72</td>\n",
       "      <td>NaN</td>\n",
       "      <td>NaN</td>\n",
       "      <td>NaN</td>\n",
       "      <td>4.20</td>\n",
       "      <td>3.40</td>\n",
       "      <td>1.70</td>\n",
       "      <td>4.50</td>\n",
       "      <td>3.5</td>\n",
       "      <td>1.73</td>\n",
       "      <td>4.50</td>\n",
       "      <td>3.40</td>\n",
       "      <td>1.65</td>\n",
       "      <td>4.50</td>\n",
       "      <td>3.50</td>\n",
       "      <td>1.65</td>\n",
       "      <td>4.75</td>\n",
       "      <td>3.30</td>\n",
       "      <td>1.67</td>\n",
       "    </tr>\n",
       "  </tbody>\n",
       "</table>\n",
       "</div>"
      ],
      "text/plain": [
       "   id  country_id  league_id     season  stage                 date  \\\n",
       "0   1           1          1  2008/2009      1  2008-08-17 00:00:00   \n",
       "1   2           1          1  2008/2009      1  2008-08-16 00:00:00   \n",
       "2   3           1          1  2008/2009      1  2008-08-16 00:00:00   \n",
       "3   4           1          1  2008/2009      1  2008-08-17 00:00:00   \n",
       "4   5           1          1  2008/2009      1  2008-08-16 00:00:00   \n",
       "\n",
       "   match_api_id  home_team_api_id  away_team_api_id  home_team_goal  \\\n",
       "0        492473              9987              9993               1   \n",
       "1        492474             10000              9994               0   \n",
       "2        492475              9984              8635               0   \n",
       "3        492476              9991              9998               5   \n",
       "4        492477              7947              9985               1   \n",
       "\n",
       "   away_team_goal  home_player_X1  home_player_X2  home_player_X3  \\\n",
       "0               1             NaN             NaN             NaN   \n",
       "1               0             NaN             NaN             NaN   \n",
       "2               3             NaN             NaN             NaN   \n",
       "3               0             NaN             NaN             NaN   \n",
       "4               3             NaN             NaN             NaN   \n",
       "\n",
       "   home_player_X4  home_player_X5  home_player_X6  home_player_X7  \\\n",
       "0             NaN             NaN             NaN             NaN   \n",
       "1             NaN             NaN             NaN             NaN   \n",
       "2             NaN             NaN             NaN             NaN   \n",
       "3             NaN             NaN             NaN             NaN   \n",
       "4             NaN             NaN             NaN             NaN   \n",
       "\n",
       "   home_player_X8  home_player_X9  home_player_X10  home_player_X11  \\\n",
       "0             NaN             NaN              NaN              NaN   \n",
       "1             NaN             NaN              NaN              NaN   \n",
       "2             NaN             NaN              NaN              NaN   \n",
       "3             NaN             NaN              NaN              NaN   \n",
       "4             NaN             NaN              NaN              NaN   \n",
       "\n",
       "   away_player_X1  away_player_X2  away_player_X3  away_player_X4  \\\n",
       "0             NaN             NaN             NaN             NaN   \n",
       "1             NaN             NaN             NaN             NaN   \n",
       "2             NaN             NaN             NaN             NaN   \n",
       "3             NaN             NaN             NaN             NaN   \n",
       "4             NaN             NaN             NaN             NaN   \n",
       "\n",
       "   away_player_X5  away_player_X6  away_player_X7  away_player_X8  \\\n",
       "0             NaN             NaN             NaN             NaN   \n",
       "1             NaN             NaN             NaN             NaN   \n",
       "2             NaN             NaN             NaN             NaN   \n",
       "3             NaN             NaN             NaN             NaN   \n",
       "4             NaN             NaN             NaN             NaN   \n",
       "\n",
       "   away_player_X9  away_player_X10  away_player_X11  home_player_Y1  \\\n",
       "0             NaN              NaN              NaN             NaN   \n",
       "1             NaN              NaN              NaN             NaN   \n",
       "2             NaN              NaN              NaN             NaN   \n",
       "3             NaN              NaN              NaN             NaN   \n",
       "4             NaN              NaN              NaN             NaN   \n",
       "\n",
       "   home_player_Y2  home_player_Y3  home_player_Y4  home_player_Y5  \\\n",
       "0             NaN             NaN             NaN             NaN   \n",
       "1             NaN             NaN             NaN             NaN   \n",
       "2             NaN             NaN             NaN             NaN   \n",
       "3             NaN             NaN             NaN             NaN   \n",
       "4             NaN             NaN             NaN             NaN   \n",
       "\n",
       "   home_player_Y6  home_player_Y7  home_player_Y8  home_player_Y9  \\\n",
       "0             NaN             NaN             NaN             NaN   \n",
       "1             NaN             NaN             NaN             NaN   \n",
       "2             NaN             NaN             NaN             NaN   \n",
       "3             NaN             NaN             NaN             NaN   \n",
       "4             NaN             NaN             NaN             NaN   \n",
       "\n",
       "   home_player_Y10  home_player_Y11  away_player_Y1  away_player_Y2  \\\n",
       "0              NaN              NaN             NaN             NaN   \n",
       "1              NaN              NaN             NaN             NaN   \n",
       "2              NaN              NaN             NaN             NaN   \n",
       "3              NaN              NaN             NaN             NaN   \n",
       "4              NaN              NaN             NaN             NaN   \n",
       "\n",
       "   away_player_Y3  away_player_Y4  away_player_Y5  away_player_Y6  \\\n",
       "0             NaN             NaN             NaN             NaN   \n",
       "1             NaN             NaN             NaN             NaN   \n",
       "2             NaN             NaN             NaN             NaN   \n",
       "3             NaN             NaN             NaN             NaN   \n",
       "4             NaN             NaN             NaN             NaN   \n",
       "\n",
       "   away_player_Y7  away_player_Y8  away_player_Y9  away_player_Y10  \\\n",
       "0             NaN             NaN             NaN              NaN   \n",
       "1             NaN             NaN             NaN              NaN   \n",
       "2             NaN             NaN             NaN              NaN   \n",
       "3             NaN             NaN             NaN              NaN   \n",
       "4             NaN             NaN             NaN              NaN   \n",
       "\n",
       "   away_player_Y11  home_player_1  home_player_2  home_player_3  \\\n",
       "0              NaN            NaN            NaN            NaN   \n",
       "1              NaN            NaN            NaN            NaN   \n",
       "2              NaN            NaN            NaN            NaN   \n",
       "3              NaN            NaN            NaN            NaN   \n",
       "4              NaN            NaN            NaN            NaN   \n",
       "\n",
       "   home_player_4  home_player_5  home_player_6  home_player_7  home_player_8  \\\n",
       "0            NaN            NaN            NaN            NaN            NaN   \n",
       "1            NaN            NaN            NaN            NaN            NaN   \n",
       "2            NaN            NaN            NaN            NaN            NaN   \n",
       "3            NaN            NaN            NaN            NaN            NaN   \n",
       "4            NaN            NaN            NaN            NaN            NaN   \n",
       "\n",
       "   home_player_9  home_player_10  home_player_11  away_player_1  \\\n",
       "0            NaN             NaN             NaN            NaN   \n",
       "1            NaN             NaN             NaN            NaN   \n",
       "2            NaN             NaN             NaN            NaN   \n",
       "3            NaN             NaN             NaN            NaN   \n",
       "4            NaN             NaN             NaN            NaN   \n",
       "\n",
       "   away_player_2  away_player_3  away_player_4  away_player_5  away_player_6  \\\n",
       "0            NaN            NaN            NaN            NaN            NaN   \n",
       "1            NaN            NaN            NaN            NaN            NaN   \n",
       "2            NaN            NaN            NaN            NaN            NaN   \n",
       "3            NaN            NaN            NaN            NaN            NaN   \n",
       "4            NaN            NaN            NaN            NaN            NaN   \n",
       "\n",
       "   away_player_7  away_player_8  away_player_9  away_player_10  \\\n",
       "0            NaN            NaN            NaN             NaN   \n",
       "1            NaN            NaN            NaN             NaN   \n",
       "2            NaN            NaN            NaN             NaN   \n",
       "3            NaN            NaN            NaN             NaN   \n",
       "4            NaN            NaN            NaN             NaN   \n",
       "\n",
       "   away_player_11  goal shoton shotoff foulcommit  card cross corner  \\\n",
       "0             NaN  None   None    None       None  None  None   None   \n",
       "1             NaN  None   None    None       None  None  None   None   \n",
       "2             NaN  None   None    None       None  None  None   None   \n",
       "3             NaN  None   None    None       None  None  None   None   \n",
       "4             NaN  None   None    None       None  None  None   None   \n",
       "\n",
       "  possession  B365H  B365D  B365A   BWH   BWD   BWA   IWH  IWD  IWA   LBH  \\\n",
       "0       None   1.73   3.40   5.00  1.75  3.35  4.20  1.85  3.2  3.5  1.80   \n",
       "1       None   1.95   3.20   3.60  1.80  3.30  3.95  1.90  3.2  3.5  1.90   \n",
       "2       None   2.38   3.30   2.75  2.40  3.30  2.55  2.60  3.1  2.3  2.50   \n",
       "3       None   1.44   3.75   7.50  1.40  4.00  6.80  1.40  3.9  6.0  1.44   \n",
       "4       None   5.00   3.50   1.65  5.00  3.50  1.60  4.00  3.3  1.7  4.00   \n",
       "\n",
       "   LBD   LBA  PSH  PSD  PSA   WHH   WHD   WHA   SJH  SJD   SJA   VCH   VCD  \\\n",
       "0  3.3  3.75  NaN  NaN  NaN  1.70  3.30  4.33  1.90  3.3  4.00  1.65  3.40   \n",
       "1  3.2  3.50  NaN  NaN  NaN  1.83  3.30  3.60  1.95  3.3  3.80  2.00  3.25   \n",
       "2  3.2  2.50  NaN  NaN  NaN  2.50  3.25  2.40  2.63  3.3  2.50  2.35  3.25   \n",
       "3  3.6  6.50  NaN  NaN  NaN  1.44  3.75  6.00  1.44  4.0  7.50  1.45  3.75   \n",
       "4  3.4  1.72  NaN  NaN  NaN  4.20  3.40  1.70  4.50  3.5  1.73  4.50  3.40   \n",
       "\n",
       "    VCA   GBH   GBD   GBA   BSH   BSD   BSA  \n",
       "0  4.50  1.78  3.25  4.00  1.73  3.40  4.20  \n",
       "1  3.25  1.85  3.25  3.75  1.91  3.25  3.60  \n",
       "2  2.65  2.50  3.20  2.50  2.30  3.20  2.75  \n",
       "3  6.50  1.50  3.75  5.50  1.44  3.75  6.50  \n",
       "4  1.65  4.50  3.50  1.65  4.75  3.30  1.67  "
      ]
     },
     "execution_count": 182,
     "metadata": {},
     "output_type": "execute_result"
    }
   ],
   "source": [
    "match.head()"
   ]
  },
  {
   "cell_type": "code",
   "execution_count": 183,
   "id": "f2d957f1",
   "metadata": {},
   "outputs": [
    {
     "data": {
      "text/plain": [
       "(25979, 115)"
      ]
     },
     "execution_count": 183,
     "metadata": {},
     "output_type": "execute_result"
    }
   ],
   "source": [
    "match.shape"
   ]
  },
  {
   "cell_type": "code",
   "execution_count": 184,
   "id": "33a46448",
   "metadata": {
    "scrolled": false
   },
   "outputs": [
    {
     "data": {
      "text/plain": [
       "id                  0.0\n",
       "country_id          0.0\n",
       "league_id           0.0\n",
       "season              0.0\n",
       "stage               0.0\n",
       "date                0.0\n",
       "match_api_id        0.0\n",
       "home_team_api_id    0.0\n",
       "away_team_api_id    0.0\n",
       "home_team_goal      0.0\n",
       "away_team_goal      0.0\n",
       "home_player_X1      0.0\n",
       "home_player_X2      0.0\n",
       "home_player_X3      0.0\n",
       "home_player_X4      0.0\n",
       "home_player_X5      0.0\n",
       "home_player_X6      0.0\n",
       "home_player_X7      0.0\n",
       "home_player_X8      0.0\n",
       "home_player_X9      0.0\n",
       "home_player_X10     0.0\n",
       "home_player_X11     0.0\n",
       "away_player_X1      0.0\n",
       "away_player_X2      0.0\n",
       "away_player_X3      0.0\n",
       "away_player_X4      0.0\n",
       "away_player_X5      0.0\n",
       "away_player_X6      0.0\n",
       "away_player_X7      0.0\n",
       "away_player_X8      0.0\n",
       "away_player_X9      0.0\n",
       "away_player_X10     0.0\n",
       "away_player_X11     0.0\n",
       "home_player_Y1      0.0\n",
       "home_player_Y2      0.0\n",
       "home_player_Y3      0.0\n",
       "home_player_Y4      0.0\n",
       "home_player_Y5      0.0\n",
       "home_player_Y6      0.0\n",
       "home_player_Y7      0.0\n",
       "home_player_Y8      0.0\n",
       "home_player_Y9      0.0\n",
       "home_player_Y10     0.0\n",
       "home_player_Y11     0.0\n",
       "away_player_Y1      0.0\n",
       "away_player_Y2      0.0\n",
       "away_player_Y3      0.0\n",
       "away_player_Y4      0.0\n",
       "away_player_Y5      0.0\n",
       "away_player_Y6      0.0\n",
       "away_player_Y7      0.0\n",
       "away_player_Y8      0.0\n",
       "away_player_Y9      0.0\n",
       "away_player_Y10     0.0\n",
       "away_player_Y11     0.0\n",
       "home_player_1       0.0\n",
       "home_player_2       0.0\n",
       "home_player_3       0.0\n",
       "home_player_4       0.0\n",
       "home_player_5       0.0\n",
       "home_player_6       0.0\n",
       "home_player_7       0.0\n",
       "home_player_8       0.0\n",
       "home_player_9       0.0\n",
       "home_player_10      0.0\n",
       "home_player_11      0.0\n",
       "away_player_1       0.0\n",
       "away_player_2       0.0\n",
       "away_player_3       0.0\n",
       "away_player_4       0.0\n",
       "away_player_5       0.0\n",
       "away_player_6       0.0\n",
       "away_player_7       0.0\n",
       "away_player_8       0.0\n",
       "away_player_9       0.0\n",
       "away_player_10      0.0\n",
       "away_player_11      0.0\n",
       "goal                0.0\n",
       "shoton              0.0\n",
       "shotoff             0.0\n",
       "foulcommit          0.0\n",
       "card                0.0\n",
       "cross               0.0\n",
       "corner              0.0\n",
       "possession          0.0\n",
       "B365H               0.0\n",
       "B365D               0.0\n",
       "B365A               0.0\n",
       "BWH                 0.0\n",
       "BWD                 0.0\n",
       "BWA                 0.0\n",
       "IWH                 0.0\n",
       "IWD                 0.0\n",
       "IWA                 0.0\n",
       "LBH                 0.0\n",
       "LBD                 0.0\n",
       "LBA                 0.0\n",
       "PSH                 0.0\n",
       "PSD                 0.0\n",
       "PSA                 0.0\n",
       "WHH                 0.0\n",
       "WHD                 0.0\n",
       "WHA                 0.0\n",
       "SJH                 0.0\n",
       "SJD                 0.0\n",
       "SJA                 0.0\n",
       "VCH                 0.0\n",
       "VCD                 0.0\n",
       "VCA                 0.0\n",
       "GBH                 0.0\n",
       "GBD                 0.0\n",
       "GBA                 0.0\n",
       "BSH                 0.0\n",
       "BSD                 0.0\n",
       "BSA                 0.0\n",
       "dtype: float64"
      ]
     },
     "execution_count": 184,
     "metadata": {},
     "output_type": "execute_result"
    }
   ],
   "source": [
    "match[match.duplicated()].sum()"
   ]
  },
  {
   "cell_type": "code",
   "execution_count": 185,
   "id": "70f0dccb",
   "metadata": {},
   "outputs": [
    {
     "data": {
      "text/plain": [
       "TeamID                    0\n",
       "Date                      0\n",
       "BuildUpPlaySpeed          0\n",
       "BuildUpPlayPassing        0\n",
       "ChanceCreationPassing     0\n",
       "ChanceCreationCrossing    0\n",
       "ChanceCreationShooting    0\n",
       "DefencePressure           0\n",
       "DefenceAggression         0\n",
       "DefenceTeamWidth          0\n",
       "dtype: int64"
      ]
     },
     "execution_count": 185,
     "metadata": {},
     "output_type": "execute_result"
    }
   ],
   "source": [
    "team_attributes.isnull().sum()"
   ]
  },
  {
   "cell_type": "code",
   "execution_count": 186,
   "id": "e196a368",
   "metadata": {},
   "outputs": [],
   "source": [
    "def extract_xml(row, col_name, xml_key, away_home):\n",
    "    count = 0\n",
    "\n",
    "    element = row[col_name]\n",
    "    team_id = row[away_home + \"_team_api_id\"]\n",
    "\n",
    "    if type(element) == int:\n",
    "        return element\n",
    "\n",
    "    elif element != None:\n",
    "        tree = ElementTree(fromstring(element))\n",
    "        root = tree.getroot()\n",
    "\n",
    "        for child in root.iter(xml_key):\n",
    "            if str(team_id) == child.text:\n",
    "                count += 1\n",
    "        return count\n",
    "    else:\n",
    "        return np.nan"
   ]
  },
  {
   "cell_type": "code",
   "execution_count": 187,
   "id": "055263f1",
   "metadata": {},
   "outputs": [],
   "source": [
    "def extract_possession_xml(row, col_name, xml_key):\n",
    "    count = 0\n",
    "    sum_pos = 0\n",
    "\n",
    "    element = row[col_name]\n",
    "\n",
    "    if type(element) == int:\n",
    "        return element\n",
    "\n",
    "    elif element != None:\n",
    "        tree = ElementTree(fromstring(element))\n",
    "        root = tree.getroot()\n",
    "        for child in root.iter(xml_key):\n",
    "            count += 1\n",
    "            sum_pos += int(child.text)\n",
    "\n",
    "        if count == 0:\n",
    "            return np.nan\n",
    "        else:\n",
    "            return sum_pos / count\n",
    "    else:\n",
    "        return np.nan"
   ]
  },
  {
   "cell_type": "code",
   "execution_count": 188,
   "id": "24bb0d1b",
   "metadata": {},
   "outputs": [],
   "source": [
    "match[\"HomeShoton\"] = np.nan\n",
    "match[\"AwayShoton\"] = np.nan"
   ]
  },
  {
   "cell_type": "code",
   "execution_count": 189,
   "id": "f1937366",
   "metadata": {},
   "outputs": [],
   "source": [
    "match[\"HomeShoton\"] = match.apply(\n",
    "    lambda x: extract_xml(x, \"shoton\", \"team\", \"home\"), axis=1\n",
    ")\n",
    "match[\"AwayShoton\"] = match.apply(\n",
    "    lambda x: extract_xml(x, \"shoton\", \"team\", \"away\"), axis=1\n",
    ")"
   ]
  },
  {
   "cell_type": "code",
   "execution_count": 190,
   "id": "dcc85231",
   "metadata": {},
   "outputs": [],
   "source": [
    "match[\"HomeShotoff\"] = np.nan\n",
    "match[\"AwayShotoff\"] = np.nan"
   ]
  },
  {
   "cell_type": "code",
   "execution_count": 191,
   "id": "d67f7f77",
   "metadata": {},
   "outputs": [],
   "source": [
    "match[\"HomeShotoff\"] = match.apply(\n",
    "    lambda x: extract_xml(x, \"shotoff\", \"team\", \"home\"), axis=1\n",
    ")\n",
    "match[\"AwayShotoff\"] = match.apply(\n",
    "    lambda x: extract_xml(x, \"shotoff\", \"team\", \"away\"), axis=1\n",
    ")"
   ]
  },
  {
   "cell_type": "code",
   "execution_count": 192,
   "id": "b3217f5d",
   "metadata": {},
   "outputs": [],
   "source": [
    "match[\"HomeFoulCommit\"] = np.nan\n",
    "match[\"AwayFoulCommit\"] = np.nan"
   ]
  },
  {
   "cell_type": "code",
   "execution_count": 193,
   "id": "00b56415",
   "metadata": {},
   "outputs": [],
   "source": [
    "match[\"HomeFoulCommit\"] = match.apply(\n",
    "    lambda x: extract_xml(x, \"foulcommit\", \"team\", \"home\"), axis=1\n",
    ")\n",
    "match[\"AwayFoulCommit\"] = match.apply(\n",
    "    lambda x: extract_xml(x, \"foulcommit\", \"team\", \"away\"), axis=1\n",
    ")"
   ]
  },
  {
   "cell_type": "code",
   "execution_count": 194,
   "id": "9c2e660a",
   "metadata": {},
   "outputs": [],
   "source": [
    "match[\"HomeCard\"] = np.nan\n",
    "match[\"AwayCard\"] = np.nan"
   ]
  },
  {
   "cell_type": "code",
   "execution_count": 195,
   "id": "263ba083",
   "metadata": {},
   "outputs": [],
   "source": [
    "match[\"HomeCard\"] = match.apply(\n",
    "    lambda x: extract_xml(x, \"card\", \"team\", \"home\"), axis=1\n",
    ")\n",
    "match[\"AwayCard\"] = match.apply(\n",
    "    lambda x: extract_xml(x, \"card\", \"team\", \"away\"), axis=1\n",
    ")"
   ]
  },
  {
   "cell_type": "code",
   "execution_count": 196,
   "id": "2d94c8a4",
   "metadata": {},
   "outputs": [],
   "source": [
    "match[\"HomeCross\"] = np.nan\n",
    "match[\"AwayCross\"] = np.nan"
   ]
  },
  {
   "cell_type": "code",
   "execution_count": 197,
   "id": "49d813fd",
   "metadata": {},
   "outputs": [],
   "source": [
    "match[\"HomeCross\"] = match.apply(\n",
    "    lambda x: extract_xml(x, \"cross\", \"team\", \"home\"), axis=1\n",
    ")\n",
    "match[\"AwayCross\"] = match.apply(\n",
    "    lambda x: extract_xml(x, \"cross\", \"team\", \"away\"), axis=1\n",
    ")"
   ]
  },
  {
   "cell_type": "code",
   "execution_count": 198,
   "id": "b515ec18",
   "metadata": {},
   "outputs": [],
   "source": [
    "match[\"HomeCorner\"] = np.nan\n",
    "match[\"AwayCorner\"] = np.nan"
   ]
  },
  {
   "cell_type": "code",
   "execution_count": 199,
   "id": "6e3a6999",
   "metadata": {},
   "outputs": [],
   "source": [
    "match[\"HomeCorner\"] = match.apply(\n",
    "    lambda x: extract_xml(x, \"corner\", \"team\", \"home\"), axis=1\n",
    ")\n",
    "match[\"AwayCorner\"] = match.apply(\n",
    "    lambda x: extract_xml(x, \"corner\", \"team\", \"away\"), axis=1\n",
    ")"
   ]
  },
  {
   "cell_type": "code",
   "execution_count": 200,
   "id": "8f37565a",
   "metadata": {},
   "outputs": [],
   "source": [
    "match[\"HomePossession\"] = np.nan\n",
    "match[\"AwayPossession\"] = np.nan"
   ]
  },
  {
   "cell_type": "code",
   "execution_count": 201,
   "id": "99492bd1",
   "metadata": {},
   "outputs": [],
   "source": [
    "match[\"HomePossession\"] = match.apply(\n",
    "    lambda x: extract_possession_xml(x, \"possession\", \"homepos\"), axis=1\n",
    ")\n",
    "match[\"AwayPossession\"] = match.apply(\n",
    "    lambda x: extract_possession_xml(x, \"possession\", \"awaypos\"), axis=1\n",
    ")"
   ]
  },
  {
   "cell_type": "code",
   "execution_count": 202,
   "id": "95521cc8",
   "metadata": {},
   "outputs": [],
   "source": [
    "match.drop(\n",
    "    columns=[\"id\", \"stage\", \"country_id\", \"season\"],\n",
    "    inplace=True,\n",
    ")"
   ]
  },
  {
   "cell_type": "code",
   "execution_count": 203,
   "id": "2069c4dd",
   "metadata": {},
   "outputs": [],
   "source": [
    "match.rename(\n",
    "    columns={\n",
    "        \"league_id\": \"LeagueID\",\n",
    "        \"match_api_id\": \"MatchID\",\n",
    "        \"home_team_api_id\": \"HomeTeamID\",\n",
    "        \"away_team_api_id\": \"AwayTeamID\",\n",
    "        \"date\": \"Date\",\n",
    "        \"home_team_goal\": \"HomeGoal\",\n",
    "        \"away_team_goal\": \"AwayGoal\",\n",
    "        \"home_player_1\": \"HomePlayer1\",\n",
    "        \"home_player_2\": \"HomePlayer2\",\n",
    "        \"home_player_3\": \"HomePlayer3\",\n",
    "        \"home_player_4\": \"HomePlayer4\",\n",
    "        \"home_player_5\": \"HomePlayer5\",\n",
    "        \"home_player_6\": \"HomePlayer6\",\n",
    "        \"home_player_7\": \"HomePlayer7\",\n",
    "        \"home_player_8\": \"HomePlayer8\",\n",
    "        \"home_player_9\": \"HomePlayer9\",\n",
    "        \"home_player_10\": \"HomePlayer10\",\n",
    "        \"home_player_11\": \"HomePlayer11\",\n",
    "        \"away_player_1\": \"AwayPlayer1\",\n",
    "        \"away_player_2\": \"AwayPlayer2\",\n",
    "        \"away_player_3\": \"AwayPlayer3\",\n",
    "        \"away_player_4\": \"AwayPlayer4\",\n",
    "        \"away_player_5\": \"AwayPlayer5\",\n",
    "        \"away_player_6\": \"AwayPlayer6\",\n",
    "        \"away_player_7\": \"AwayPlayer7\",\n",
    "        \"away_player_8\": \"AwayPlayer8\",\n",
    "        \"away_player_9\": \"AwayPlayer9\",\n",
    "        \"away_player_10\": \"AwayPlayer10\",\n",
    "        \"away_player_11\": \"AwayPlayer11\",\n",
    "    },\n",
    "    inplace=True,\n",
    ")"
   ]
  },
  {
   "cell_type": "code",
   "execution_count": 204,
   "id": "2d6bc699",
   "metadata": {},
   "outputs": [],
   "source": [
    "match.drop(match.iloc[:, 7:51], inplace=True, axis=1)"
   ]
  },
  {
   "cell_type": "code",
   "execution_count": 205,
   "id": "df987440",
   "metadata": {},
   "outputs": [],
   "source": [
    "match.drop(match.iloc[:, 29:67], inplace=True, axis=1)"
   ]
  },
  {
   "cell_type": "code",
   "execution_count": 206,
   "id": "a227472d",
   "metadata": {},
   "outputs": [],
   "source": [
    "match[\"Date\"] = pd.DatetimeIndex(match[\"Date\"]).year"
   ]
  },
  {
   "cell_type": "code",
   "execution_count": 207,
   "id": "d771d063",
   "metadata": {},
   "outputs": [
    {
     "data": {
      "text/html": [
       "<div>\n",
       "<style scoped>\n",
       "    .dataframe tbody tr th:only-of-type {\n",
       "        vertical-align: middle;\n",
       "    }\n",
       "\n",
       "    .dataframe tbody tr th {\n",
       "        vertical-align: top;\n",
       "    }\n",
       "\n",
       "    .dataframe thead th {\n",
       "        text-align: right;\n",
       "    }\n",
       "</style>\n",
       "<table border=\"1\" class=\"dataframe\">\n",
       "  <thead>\n",
       "    <tr style=\"text-align: right;\">\n",
       "      <th></th>\n",
       "      <th>LeagueID</th>\n",
       "      <th>Date</th>\n",
       "      <th>MatchID</th>\n",
       "      <th>HomeTeamID</th>\n",
       "      <th>AwayTeamID</th>\n",
       "      <th>HomeGoal</th>\n",
       "      <th>AwayGoal</th>\n",
       "      <th>HomePlayer1</th>\n",
       "      <th>HomePlayer2</th>\n",
       "      <th>HomePlayer3</th>\n",
       "      <th>HomePlayer4</th>\n",
       "      <th>HomePlayer5</th>\n",
       "      <th>HomePlayer6</th>\n",
       "      <th>HomePlayer7</th>\n",
       "      <th>HomePlayer8</th>\n",
       "      <th>HomePlayer9</th>\n",
       "      <th>HomePlayer10</th>\n",
       "      <th>HomePlayer11</th>\n",
       "      <th>AwayPlayer1</th>\n",
       "      <th>AwayPlayer2</th>\n",
       "      <th>AwayPlayer3</th>\n",
       "      <th>AwayPlayer4</th>\n",
       "      <th>AwayPlayer5</th>\n",
       "      <th>AwayPlayer6</th>\n",
       "      <th>AwayPlayer7</th>\n",
       "      <th>AwayPlayer8</th>\n",
       "      <th>AwayPlayer9</th>\n",
       "      <th>AwayPlayer10</th>\n",
       "      <th>AwayPlayer11</th>\n",
       "      <th>HomeShoton</th>\n",
       "      <th>AwayShoton</th>\n",
       "      <th>HomeShotoff</th>\n",
       "      <th>AwayShotoff</th>\n",
       "      <th>HomeFoulCommit</th>\n",
       "      <th>AwayFoulCommit</th>\n",
       "      <th>HomeCard</th>\n",
       "      <th>AwayCard</th>\n",
       "      <th>HomeCross</th>\n",
       "      <th>AwayCross</th>\n",
       "      <th>HomeCorner</th>\n",
       "      <th>AwayCorner</th>\n",
       "      <th>HomePossession</th>\n",
       "      <th>AwayPossession</th>\n",
       "    </tr>\n",
       "  </thead>\n",
       "  <tbody>\n",
       "    <tr>\n",
       "      <th>0</th>\n",
       "      <td>1</td>\n",
       "      <td>2008</td>\n",
       "      <td>492473</td>\n",
       "      <td>9987</td>\n",
       "      <td>9993</td>\n",
       "      <td>1</td>\n",
       "      <td>1</td>\n",
       "      <td>NaN</td>\n",
       "      <td>NaN</td>\n",
       "      <td>NaN</td>\n",
       "      <td>NaN</td>\n",
       "      <td>NaN</td>\n",
       "      <td>NaN</td>\n",
       "      <td>NaN</td>\n",
       "      <td>NaN</td>\n",
       "      <td>NaN</td>\n",
       "      <td>NaN</td>\n",
       "      <td>NaN</td>\n",
       "      <td>NaN</td>\n",
       "      <td>NaN</td>\n",
       "      <td>NaN</td>\n",
       "      <td>NaN</td>\n",
       "      <td>NaN</td>\n",
       "      <td>NaN</td>\n",
       "      <td>NaN</td>\n",
       "      <td>NaN</td>\n",
       "      <td>NaN</td>\n",
       "      <td>NaN</td>\n",
       "      <td>NaN</td>\n",
       "      <td>NaN</td>\n",
       "      <td>NaN</td>\n",
       "      <td>NaN</td>\n",
       "      <td>NaN</td>\n",
       "      <td>NaN</td>\n",
       "      <td>NaN</td>\n",
       "      <td>NaN</td>\n",
       "      <td>NaN</td>\n",
       "      <td>NaN</td>\n",
       "      <td>NaN</td>\n",
       "      <td>NaN</td>\n",
       "      <td>NaN</td>\n",
       "      <td>NaN</td>\n",
       "      <td>NaN</td>\n",
       "    </tr>\n",
       "    <tr>\n",
       "      <th>1</th>\n",
       "      <td>1</td>\n",
       "      <td>2008</td>\n",
       "      <td>492474</td>\n",
       "      <td>10000</td>\n",
       "      <td>9994</td>\n",
       "      <td>0</td>\n",
       "      <td>0</td>\n",
       "      <td>NaN</td>\n",
       "      <td>NaN</td>\n",
       "      <td>NaN</td>\n",
       "      <td>NaN</td>\n",
       "      <td>NaN</td>\n",
       "      <td>NaN</td>\n",
       "      <td>NaN</td>\n",
       "      <td>NaN</td>\n",
       "      <td>NaN</td>\n",
       "      <td>NaN</td>\n",
       "      <td>NaN</td>\n",
       "      <td>NaN</td>\n",
       "      <td>NaN</td>\n",
       "      <td>NaN</td>\n",
       "      <td>NaN</td>\n",
       "      <td>NaN</td>\n",
       "      <td>NaN</td>\n",
       "      <td>NaN</td>\n",
       "      <td>NaN</td>\n",
       "      <td>NaN</td>\n",
       "      <td>NaN</td>\n",
       "      <td>NaN</td>\n",
       "      <td>NaN</td>\n",
       "      <td>NaN</td>\n",
       "      <td>NaN</td>\n",
       "      <td>NaN</td>\n",
       "      <td>NaN</td>\n",
       "      <td>NaN</td>\n",
       "      <td>NaN</td>\n",
       "      <td>NaN</td>\n",
       "      <td>NaN</td>\n",
       "      <td>NaN</td>\n",
       "      <td>NaN</td>\n",
       "      <td>NaN</td>\n",
       "      <td>NaN</td>\n",
       "      <td>NaN</td>\n",
       "    </tr>\n",
       "    <tr>\n",
       "      <th>2</th>\n",
       "      <td>1</td>\n",
       "      <td>2008</td>\n",
       "      <td>492475</td>\n",
       "      <td>9984</td>\n",
       "      <td>8635</td>\n",
       "      <td>0</td>\n",
       "      <td>3</td>\n",
       "      <td>NaN</td>\n",
       "      <td>NaN</td>\n",
       "      <td>NaN</td>\n",
       "      <td>NaN</td>\n",
       "      <td>NaN</td>\n",
       "      <td>NaN</td>\n",
       "      <td>NaN</td>\n",
       "      <td>NaN</td>\n",
       "      <td>NaN</td>\n",
       "      <td>NaN</td>\n",
       "      <td>NaN</td>\n",
       "      <td>NaN</td>\n",
       "      <td>NaN</td>\n",
       "      <td>NaN</td>\n",
       "      <td>NaN</td>\n",
       "      <td>NaN</td>\n",
       "      <td>NaN</td>\n",
       "      <td>NaN</td>\n",
       "      <td>NaN</td>\n",
       "      <td>NaN</td>\n",
       "      <td>NaN</td>\n",
       "      <td>NaN</td>\n",
       "      <td>NaN</td>\n",
       "      <td>NaN</td>\n",
       "      <td>NaN</td>\n",
       "      <td>NaN</td>\n",
       "      <td>NaN</td>\n",
       "      <td>NaN</td>\n",
       "      <td>NaN</td>\n",
       "      <td>NaN</td>\n",
       "      <td>NaN</td>\n",
       "      <td>NaN</td>\n",
       "      <td>NaN</td>\n",
       "      <td>NaN</td>\n",
       "      <td>NaN</td>\n",
       "      <td>NaN</td>\n",
       "    </tr>\n",
       "    <tr>\n",
       "      <th>3</th>\n",
       "      <td>1</td>\n",
       "      <td>2008</td>\n",
       "      <td>492476</td>\n",
       "      <td>9991</td>\n",
       "      <td>9998</td>\n",
       "      <td>5</td>\n",
       "      <td>0</td>\n",
       "      <td>NaN</td>\n",
       "      <td>NaN</td>\n",
       "      <td>NaN</td>\n",
       "      <td>NaN</td>\n",
       "      <td>NaN</td>\n",
       "      <td>NaN</td>\n",
       "      <td>NaN</td>\n",
       "      <td>NaN</td>\n",
       "      <td>NaN</td>\n",
       "      <td>NaN</td>\n",
       "      <td>NaN</td>\n",
       "      <td>NaN</td>\n",
       "      <td>NaN</td>\n",
       "      <td>NaN</td>\n",
       "      <td>NaN</td>\n",
       "      <td>NaN</td>\n",
       "      <td>NaN</td>\n",
       "      <td>NaN</td>\n",
       "      <td>NaN</td>\n",
       "      <td>NaN</td>\n",
       "      <td>NaN</td>\n",
       "      <td>NaN</td>\n",
       "      <td>NaN</td>\n",
       "      <td>NaN</td>\n",
       "      <td>NaN</td>\n",
       "      <td>NaN</td>\n",
       "      <td>NaN</td>\n",
       "      <td>NaN</td>\n",
       "      <td>NaN</td>\n",
       "      <td>NaN</td>\n",
       "      <td>NaN</td>\n",
       "      <td>NaN</td>\n",
       "      <td>NaN</td>\n",
       "      <td>NaN</td>\n",
       "      <td>NaN</td>\n",
       "      <td>NaN</td>\n",
       "    </tr>\n",
       "    <tr>\n",
       "      <th>4</th>\n",
       "      <td>1</td>\n",
       "      <td>2008</td>\n",
       "      <td>492477</td>\n",
       "      <td>7947</td>\n",
       "      <td>9985</td>\n",
       "      <td>1</td>\n",
       "      <td>3</td>\n",
       "      <td>NaN</td>\n",
       "      <td>NaN</td>\n",
       "      <td>NaN</td>\n",
       "      <td>NaN</td>\n",
       "      <td>NaN</td>\n",
       "      <td>NaN</td>\n",
       "      <td>NaN</td>\n",
       "      <td>NaN</td>\n",
       "      <td>NaN</td>\n",
       "      <td>NaN</td>\n",
       "      <td>NaN</td>\n",
       "      <td>NaN</td>\n",
       "      <td>NaN</td>\n",
       "      <td>NaN</td>\n",
       "      <td>NaN</td>\n",
       "      <td>NaN</td>\n",
       "      <td>NaN</td>\n",
       "      <td>NaN</td>\n",
       "      <td>NaN</td>\n",
       "      <td>NaN</td>\n",
       "      <td>NaN</td>\n",
       "      <td>NaN</td>\n",
       "      <td>NaN</td>\n",
       "      <td>NaN</td>\n",
       "      <td>NaN</td>\n",
       "      <td>NaN</td>\n",
       "      <td>NaN</td>\n",
       "      <td>NaN</td>\n",
       "      <td>NaN</td>\n",
       "      <td>NaN</td>\n",
       "      <td>NaN</td>\n",
       "      <td>NaN</td>\n",
       "      <td>NaN</td>\n",
       "      <td>NaN</td>\n",
       "      <td>NaN</td>\n",
       "      <td>NaN</td>\n",
       "    </tr>\n",
       "  </tbody>\n",
       "</table>\n",
       "</div>"
      ],
      "text/plain": [
       "   LeagueID  Date  MatchID  HomeTeamID  AwayTeamID  HomeGoal  AwayGoal  \\\n",
       "0         1  2008   492473        9987        9993         1         1   \n",
       "1         1  2008   492474       10000        9994         0         0   \n",
       "2         1  2008   492475        9984        8635         0         3   \n",
       "3         1  2008   492476        9991        9998         5         0   \n",
       "4         1  2008   492477        7947        9985         1         3   \n",
       "\n",
       "   HomePlayer1  HomePlayer2  HomePlayer3  HomePlayer4  HomePlayer5  \\\n",
       "0          NaN          NaN          NaN          NaN          NaN   \n",
       "1          NaN          NaN          NaN          NaN          NaN   \n",
       "2          NaN          NaN          NaN          NaN          NaN   \n",
       "3          NaN          NaN          NaN          NaN          NaN   \n",
       "4          NaN          NaN          NaN          NaN          NaN   \n",
       "\n",
       "   HomePlayer6  HomePlayer7  HomePlayer8  HomePlayer9  HomePlayer10  \\\n",
       "0          NaN          NaN          NaN          NaN           NaN   \n",
       "1          NaN          NaN          NaN          NaN           NaN   \n",
       "2          NaN          NaN          NaN          NaN           NaN   \n",
       "3          NaN          NaN          NaN          NaN           NaN   \n",
       "4          NaN          NaN          NaN          NaN           NaN   \n",
       "\n",
       "   HomePlayer11  AwayPlayer1  AwayPlayer2  AwayPlayer3  AwayPlayer4  \\\n",
       "0           NaN          NaN          NaN          NaN          NaN   \n",
       "1           NaN          NaN          NaN          NaN          NaN   \n",
       "2           NaN          NaN          NaN          NaN          NaN   \n",
       "3           NaN          NaN          NaN          NaN          NaN   \n",
       "4           NaN          NaN          NaN          NaN          NaN   \n",
       "\n",
       "   AwayPlayer5  AwayPlayer6  AwayPlayer7  AwayPlayer8  AwayPlayer9  \\\n",
       "0          NaN          NaN          NaN          NaN          NaN   \n",
       "1          NaN          NaN          NaN          NaN          NaN   \n",
       "2          NaN          NaN          NaN          NaN          NaN   \n",
       "3          NaN          NaN          NaN          NaN          NaN   \n",
       "4          NaN          NaN          NaN          NaN          NaN   \n",
       "\n",
       "   AwayPlayer10  AwayPlayer11  HomeShoton  AwayShoton  HomeShotoff  \\\n",
       "0           NaN           NaN         NaN         NaN          NaN   \n",
       "1           NaN           NaN         NaN         NaN          NaN   \n",
       "2           NaN           NaN         NaN         NaN          NaN   \n",
       "3           NaN           NaN         NaN         NaN          NaN   \n",
       "4           NaN           NaN         NaN         NaN          NaN   \n",
       "\n",
       "   AwayShotoff  HomeFoulCommit  AwayFoulCommit  HomeCard  AwayCard  HomeCross  \\\n",
       "0          NaN             NaN             NaN       NaN       NaN        NaN   \n",
       "1          NaN             NaN             NaN       NaN       NaN        NaN   \n",
       "2          NaN             NaN             NaN       NaN       NaN        NaN   \n",
       "3          NaN             NaN             NaN       NaN       NaN        NaN   \n",
       "4          NaN             NaN             NaN       NaN       NaN        NaN   \n",
       "\n",
       "   AwayCross  HomeCorner  AwayCorner  HomePossession  AwayPossession  \n",
       "0        NaN         NaN         NaN             NaN             NaN  \n",
       "1        NaN         NaN         NaN             NaN             NaN  \n",
       "2        NaN         NaN         NaN             NaN             NaN  \n",
       "3        NaN         NaN         NaN             NaN             NaN  \n",
       "4        NaN         NaN         NaN             NaN             NaN  "
      ]
     },
     "execution_count": 207,
     "metadata": {},
     "output_type": "execute_result"
    }
   ],
   "source": [
    "match.head()"
   ]
  },
  {
   "cell_type": "code",
   "execution_count": 208,
   "id": "fa08da07",
   "metadata": {},
   "outputs": [
    {
     "data": {
      "text/plain": [
       "(25979, 43)"
      ]
     },
     "execution_count": 208,
     "metadata": {},
     "output_type": "execute_result"
    }
   ],
   "source": [
    "match.shape"
   ]
  },
  {
   "cell_type": "markdown",
   "id": "8b4ff343",
   "metadata": {},
   "source": [
    "### Section Summary\n",
    "> * This table contained 25,979 rows and 115 columns. \n",
    "> * This table contains no duplicate values.\n",
    "> * This table contains no columns with missing data.\n",
    "> * Some of the data was in XML format that I had to extract.\n",
    "> * In accordance with Standard 4 in the Standards section of this report, I dropped all columns that showed position of the players such as,\"home_player_X4,\" as I did not think they held useful information.\n",
    "> * After cleaning the table now contains 25,979 rows and 43 columns. "
   ]
  },
  {
   "cell_type": "markdown",
   "id": "df1438f6",
   "metadata": {},
   "source": [
    "# Creation of New Datasets"
   ]
  },
  {
   "cell_type": "markdown",
   "id": "8fba3ece",
   "metadata": {},
   "source": [
    "## Players"
   ]
  },
  {
   "cell_type": "markdown",
   "id": "2a1dcd1f",
   "metadata": {},
   "source": [
    "The section below contains information about how I merged the Player Table and the Player Attributes table to create a new dataframe with information about the players."
   ]
  },
  {
   "cell_type": "code",
   "execution_count": null,
   "id": "1ff1da3b",
   "metadata": {},
   "outputs": [],
   "source": [
    "players = pd.merge(player, player_attributes, on=\"PlayerID\", how=\"inner\")"
   ]
  },
  {
   "cell_type": "code",
   "execution_count": null,
   "id": "4d74eab2",
   "metadata": {},
   "outputs": [],
   "source": [
    "players.to_csv(\n",
    "    \"C:\\\\Users\\\\Space\\\\Documents\\\\py\\\\Projects\\\\TuringCollege\\\\Football\\\\DataSets\\\\players.csv\",\n",
    "    index=True,\n",
    ")"
   ]
  },
  {
   "cell_type": "markdown",
   "id": "e4ba4dd7",
   "metadata": {},
   "source": [
    "### Section Summary\n",
    "> * I merged the players table with the players attributes table to make one dataset with information about the players. I called this new dataframe Players, saved it as a csv file and used it in the Exploratory Data Analysis (EDA) of this report. "
   ]
  },
  {
   "cell_type": "markdown",
   "id": "76884572",
   "metadata": {},
   "source": [
    "## Teams"
   ]
  },
  {
   "cell_type": "markdown",
   "id": "93e095b9",
   "metadata": {},
   "source": [
    "The section below contains information about how I merged the Team table and the Team Attributes table to create a new dataframe with information about the teams."
   ]
  },
  {
   "cell_type": "code",
   "execution_count": 67,
   "id": "bf525144",
   "metadata": {},
   "outputs": [],
   "source": [
    "teams = pd.merge(team, team_attributes, on=\"TeamID\", how=\"inner\")"
   ]
  },
  {
   "cell_type": "code",
   "execution_count": 68,
   "id": "ec268759",
   "metadata": {},
   "outputs": [],
   "source": [
    "teams.to_csv(\n",
    "    \"C:\\\\Users\\\\Space\\\\Documents\\\\py\\\\Projects\\\\TuringCollege\\\\Football\\\\DataSets\\\\teams.csv\",\n",
    "    index=True,\n",
    ")"
   ]
  },
  {
   "cell_type": "markdown",
   "id": "c1094ccb",
   "metadata": {},
   "source": [
    "### Section Summary\n",
    "> * I merged the Team and Team Attributes Dataframe to make one dataframe with information about the teams. I called this new dataframe Teams, saved it as a csv file and used it in the Exploratory Data Analysis (EDA) of this report. "
   ]
  },
  {
   "cell_type": "markdown",
   "id": "9c4c5010",
   "metadata": {},
   "source": [
    "## Matches"
   ]
  },
  {
   "cell_type": "markdown",
   "id": "5e51afe4",
   "metadata": {},
   "source": [
    "The section below contains information about how I merged the League, Team, and Match table, in addtion to the Players dataframe to create a new dataframe with information about the matches. This will be the dataframe that I will use in the Maching Learning section of this report."
   ]
  },
  {
   "cell_type": "code",
   "execution_count": null,
   "id": "9830e805",
   "metadata": {},
   "outputs": [],
   "source": [
    "matches = pd.merge(league, match, on=\"LeagueID\", how=\"inner\")"
   ]
  },
  {
   "cell_type": "code",
   "execution_count": null,
   "id": "9435a69e",
   "metadata": {},
   "outputs": [],
   "source": [
    "df_inner_Home = pd.merge(\n",
    "    matches, teams, left_on=[\"HomeTeamID\", \"Date\"], right_on=[\"TeamID\", \"Date\"]\n",
    ")"
   ]
  },
  {
   "cell_type": "code",
   "execution_count": null,
   "id": "7f507497",
   "metadata": {},
   "outputs": [],
   "source": [
    "df_inner_Home.rename(\n",
    "    columns={\n",
    "        \"TeamID\": \"HomeTeamID\",\n",
    "        \"TeamLongName\": \"HomeTeamLongName\",\n",
    "        \"TeamShortName\": \"HomeTeamShortName\",\n",
    "        \"BuildUpPlaySpeed\": \"HomeBuildUpPlaySpeed\",\n",
    "        \"BuildUpPlayPassing\": \"HomeBuildUpPlayPassing\",\n",
    "        \"ChanceCreationPassing\": \"HomeChanceCreationPassing\",\n",
    "        \"ChanceCreationCrossing\": \"HomeChanceCreationCrossing\",\n",
    "        \"ChanceCreationShooting\": \"HomeChanceCreationShooting\",\n",
    "        \"DefencePressure\": \"HomeDefencePressure\",\n",
    "        \"DefenceAggression\": \"HomeDefenceAggression\",\n",
    "        \"DefenceTeamWidth\": \"HomeDefenceTeamWidth\",\n",
    "    },\n",
    "    inplace=True,\n",
    ")"
   ]
  },
  {
   "cell_type": "code",
   "execution_count": null,
   "id": "17242641",
   "metadata": {},
   "outputs": [],
   "source": [
    "df_inner_Away = pd.merge(\n",
    "    df_inner_Home, teams, left_on=[\"AwayTeamID\", \"Date\"], right_on=[\"TeamID\", \"Date\"]\n",
    ")"
   ]
  },
  {
   "cell_type": "code",
   "execution_count": null,
   "id": "01d084e2",
   "metadata": {},
   "outputs": [],
   "source": [
    "df_inner_Away.rename(\n",
    "    columns={\n",
    "        \"TeamID\": \"AwayTeamID\",\n",
    "        \"TeamLongName\": \"AwayTeamLongName\",\n",
    "        \"TeamShortName\": \"AwayTeamShortName\",\n",
    "        \"BuildUpPlaySpeed\": \"AwayBuildUpPlaySpeed\",\n",
    "        \"BuildUpPlayPassing\": \"AwayBuildUpPlayPassing\",\n",
    "        \"ChanceCreationPassing\": \"AwayChanceCreationPassing\",\n",
    "        \"ChanceCreationCrossing\": \"AwayChanceCreationCrossing\",\n",
    "        \"ChanceCreationShooting\": \"AwayChanceCreationShooting\",\n",
    "        \"DefencePressure\": \"AwayDefencePressure\",\n",
    "        \"DefenceAggression\": \"AwayDefenceAggression\",\n",
    "        \"DefenceTeamWidth\": \"AwayDefenceTeamWidth\",\n",
    "    },\n",
    "    inplace=True,\n",
    ")"
   ]
  },
  {
   "cell_type": "code",
   "execution_count": null,
   "id": "215c3843",
   "metadata": {},
   "outputs": [],
   "source": [
    "matches = df_inner_Away"
   ]
  },
  {
   "cell_type": "code",
   "execution_count": null,
   "id": "778cae18",
   "metadata": {},
   "outputs": [],
   "source": [
    "matches.head()"
   ]
  },
  {
   "cell_type": "code",
   "execution_count": null,
   "id": "01303fa9",
   "metadata": {},
   "outputs": [],
   "source": [
    "def overall_function(\n",
    "    player, date, player_id, rating_column, left_dataframe, right_dataframe\n",
    "):\n",
    "\n",
    "    df_merge = pd.merge(\n",
    "        left_dataframe,\n",
    "        right_dataframe,\n",
    "        left_on=[date, player_id],\n",
    "        right_on=[date, player],\n",
    "        how=\"right\",\n",
    "    )\n",
    "    df_merge[player] = df_merge[rating_column]\n",
    "    del df_merge[rating_column]\n",
    "    del df_merge[player_id]\n",
    "\n",
    "    return df_merge"
   ]
  },
  {
   "cell_type": "code",
   "execution_count": null,
   "id": "071b0e08",
   "metadata": {},
   "outputs": [],
   "source": [
    "overall_rating = players[[\"Date\", \"PlayerID\", \"OverallRating\"]]"
   ]
  },
  {
   "cell_type": "code",
   "execution_count": null,
   "id": "96b71571",
   "metadata": {},
   "outputs": [],
   "source": [
    "player = \"HomePlayer1\"\n",
    "date = \"Date\"\n",
    "player_id = \"PlayerID\"\n",
    "rating_column = \"OverallRating\"\n",
    "left_dataframe = overall_rating\n",
    "right_dataframe = matches\n",
    "\n",
    "\n",
    "df_merge = overall_function(\n",
    "    player, date, player_id, rating_column, left_dataframe, right_dataframe\n",
    ")"
   ]
  },
  {
   "cell_type": "code",
   "execution_count": null,
   "id": "8ebab2a6",
   "metadata": {},
   "outputs": [],
   "source": [
    "player = \"HomePlayer2\"\n",
    "date = \"Date\"\n",
    "player_id = \"PlayerID\"\n",
    "rating_column = \"OverallRating\"\n",
    "left_dataframe = overall_rating\n",
    "right_dataframe = df_merge\n",
    "\n",
    "\n",
    "df_merge = overall_function(\n",
    "    player, date, player_id, rating_column, left_dataframe, right_dataframe\n",
    ")"
   ]
  },
  {
   "cell_type": "code",
   "execution_count": null,
   "id": "1391f3c4",
   "metadata": {},
   "outputs": [],
   "source": [
    "player = \"HomePlayer3\"\n",
    "date = \"Date\"\n",
    "player_id = \"PlayerID\"\n",
    "rating_column = \"OverallRating\"\n",
    "left_dataframe = overall_rating\n",
    "right_dataframe = df_merge\n",
    "\n",
    "\n",
    "df_merge = overall_function(\n",
    "    player, date, player_id, rating_column, left_dataframe, right_dataframe\n",
    ")"
   ]
  },
  {
   "cell_type": "code",
   "execution_count": null,
   "id": "1c6c2d64",
   "metadata": {},
   "outputs": [],
   "source": [
    "player = \"HomePlayer4\"\n",
    "date = \"Date\"\n",
    "player_id = \"PlayerID\"\n",
    "rating_column = \"OverallRating\"\n",
    "left_dataframe = overall_rating\n",
    "right_dataframe = df_merge\n",
    "\n",
    "\n",
    "df_merge = overall_function(\n",
    "    player, date, player_id, rating_column, left_dataframe, right_dataframe\n",
    ")"
   ]
  },
  {
   "cell_type": "code",
   "execution_count": null,
   "id": "9efd9b65",
   "metadata": {},
   "outputs": [],
   "source": [
    "player = \"HomePlayer5\"\n",
    "date = \"Date\"\n",
    "player_id = \"PlayerID\"\n",
    "rating_column = \"OverallRating\"\n",
    "left_dataframe = overall_rating\n",
    "right_dataframe = df_merge\n",
    "\n",
    "\n",
    "df_merge = overall_function(\n",
    "    player, date, player_id, rating_column, left_dataframe, right_dataframe\n",
    ")"
   ]
  },
  {
   "cell_type": "code",
   "execution_count": null,
   "id": "7e8cb155",
   "metadata": {},
   "outputs": [],
   "source": [
    "player = \"HomePlayer6\"\n",
    "date = \"Date\"\n",
    "player_id = \"PlayerID\"\n",
    "rating_column = \"OverallRating\"\n",
    "left_dataframe = overall_rating\n",
    "right_dataframe = df_merge\n",
    "\n",
    "\n",
    "df_merge = overall_function(\n",
    "    player, date, player_id, rating_column, left_dataframe, right_dataframe\n",
    ")"
   ]
  },
  {
   "cell_type": "code",
   "execution_count": null,
   "id": "c8b8a0ec",
   "metadata": {},
   "outputs": [],
   "source": [
    "player = \"HomePlayer7\"\n",
    "date = \"Date\"\n",
    "player_id = \"PlayerID\"\n",
    "rating_column = \"OverallRating\"\n",
    "left_dataframe = overall_rating\n",
    "right_dataframe = df_merge\n",
    "\n",
    "\n",
    "df_merge = overall_function(\n",
    "    player, date, player_id, rating_column, left_dataframe, right_dataframe\n",
    ")"
   ]
  },
  {
   "cell_type": "code",
   "execution_count": null,
   "id": "40d408fd",
   "metadata": {},
   "outputs": [],
   "source": [
    "player = \"HomePlayer8\"\n",
    "date = \"Date\"\n",
    "player_id = \"PlayerID\"\n",
    "rating_column = \"OverallRating\"\n",
    "left_dataframe = overall_rating\n",
    "right_dataframe = df_merge\n",
    "\n",
    "\n",
    "df_merge = overall_function(\n",
    "    player, date, player_id, rating_column, left_dataframe, right_dataframe\n",
    ")"
   ]
  },
  {
   "cell_type": "code",
   "execution_count": null,
   "id": "4c03db7d",
   "metadata": {},
   "outputs": [],
   "source": [
    "player = \"HomePlayer9\"\n",
    "date = \"Date\"\n",
    "player_id = \"PlayerID\"\n",
    "rating_column = \"OverallRating\"\n",
    "left_dataframe = overall_rating\n",
    "right_dataframe = df_merge\n",
    "\n",
    "\n",
    "df_merge = overall_function(\n",
    "    player, date, player_id, rating_column, left_dataframe, right_dataframe\n",
    ")"
   ]
  },
  {
   "cell_type": "code",
   "execution_count": null,
   "id": "f02887e8",
   "metadata": {},
   "outputs": [],
   "source": [
    "player = \"HomePlayer10\"\n",
    "date = \"Date\"\n",
    "player_id = \"PlayerID\"\n",
    "rating_column = \"OverallRating\"\n",
    "left_dataframe = overall_rating\n",
    "right_dataframe = df_merge\n",
    "\n",
    "\n",
    "df_merge = overall_function(\n",
    "    player, date, player_id, rating_column, left_dataframe, right_dataframe\n",
    ")"
   ]
  },
  {
   "cell_type": "code",
   "execution_count": null,
   "id": "5954ccf5",
   "metadata": {},
   "outputs": [],
   "source": [
    "player = \"HomePlayer11\"\n",
    "date = \"Date\"\n",
    "player_id = \"PlayerID\"\n",
    "rating_column = \"OverallRating\"\n",
    "left_dataframe = overall_rating\n",
    "right_dataframe = df_merge\n",
    "\n",
    "\n",
    "df_merge = overall_function(\n",
    "    player, date, player_id, rating_column, left_dataframe, right_dataframe\n",
    ")"
   ]
  },
  {
   "cell_type": "code",
   "execution_count": null,
   "id": "8206723e",
   "metadata": {},
   "outputs": [],
   "source": [
    "player = \"AwayPlayer1\"\n",
    "date = \"Date\"\n",
    "player_id = \"PlayerID\"\n",
    "rating_column = \"OverallRating\"\n",
    "left_dataframe = overall_rating\n",
    "right_dataframe = df_merge\n",
    "\n",
    "\n",
    "df_merge = overall_function(\n",
    "    player, date, player_id, rating_column, left_dataframe, right_dataframe\n",
    ")"
   ]
  },
  {
   "cell_type": "code",
   "execution_count": null,
   "id": "103a261a",
   "metadata": {},
   "outputs": [],
   "source": [
    "player = \"AwayPlayer2\"\n",
    "date = \"Date\"\n",
    "player_id = \"PlayerID\"\n",
    "rating_column = \"OverallRating\"\n",
    "left_dataframe = overall_rating\n",
    "right_dataframe = df_merge\n",
    "\n",
    "\n",
    "df_merge = overall_function(\n",
    "    player, date, player_id, rating_column, left_dataframe, right_dataframe\n",
    ")"
   ]
  },
  {
   "cell_type": "code",
   "execution_count": null,
   "id": "ac123ec4",
   "metadata": {},
   "outputs": [],
   "source": [
    "player = \"AwayPlayer3\"\n",
    "date = \"Date\"\n",
    "player_id = \"PlayerID\"\n",
    "rating_column = \"OverallRating\"\n",
    "left_dataframe = overall_rating\n",
    "right_dataframe = df_merge\n",
    "\n",
    "\n",
    "df_merge = overall_function(\n",
    "    player, date, player_id, rating_column, left_dataframe, right_dataframe\n",
    ")"
   ]
  },
  {
   "cell_type": "code",
   "execution_count": null,
   "id": "d10f0776",
   "metadata": {},
   "outputs": [],
   "source": [
    "player = \"AwayPlayer4\"\n",
    "date = \"Date\"\n",
    "player_id = \"PlayerID\"\n",
    "rating_column = \"OverallRating\"\n",
    "left_dataframe = overall_rating\n",
    "right_dataframe = df_merge\n",
    "\n",
    "\n",
    "df_merge = overall_function(\n",
    "    player, date, player_id, rating_column, left_dataframe, right_dataframe\n",
    ")"
   ]
  },
  {
   "cell_type": "code",
   "execution_count": null,
   "id": "ed5664f9",
   "metadata": {},
   "outputs": [],
   "source": [
    "player = \"AwayPlayer5\"\n",
    "date = \"Date\"\n",
    "player_id = \"PlayerID\"\n",
    "rating_column = \"OverallRating\"\n",
    "left_dataframe = overall_rating\n",
    "right_dataframe = df_merge\n",
    "\n",
    "\n",
    "df_merge = overall_function(\n",
    "    player, date, player_id, rating_column, left_dataframe, right_dataframe\n",
    ")"
   ]
  },
  {
   "cell_type": "code",
   "execution_count": null,
   "id": "3db5adbd",
   "metadata": {},
   "outputs": [],
   "source": [
    "player = \"AwayPlayer6\"\n",
    "date = \"Date\"\n",
    "player_id = \"PlayerID\"\n",
    "rating_column = \"OverallRating\"\n",
    "left_dataframe = overall_rating\n",
    "right_dataframe = df_merge\n",
    "\n",
    "\n",
    "df_merge = overall_function(\n",
    "    player, date, player_id, rating_column, left_dataframe, right_dataframe\n",
    ")"
   ]
  },
  {
   "cell_type": "code",
   "execution_count": null,
   "id": "dd7b9af9",
   "metadata": {},
   "outputs": [],
   "source": [
    "player = \"AwayPlayer7\"\n",
    "date = \"Date\"\n",
    "player_id = \"PlayerID\"\n",
    "rating_column = \"OverallRating\"\n",
    "left_dataframe = overall_rating\n",
    "right_dataframe = df_merge\n",
    "\n",
    "\n",
    "df_merge = overall_function(\n",
    "    player, date, player_id, rating_column, left_dataframe, right_dataframe\n",
    ")"
   ]
  },
  {
   "cell_type": "code",
   "execution_count": null,
   "id": "caf1cf06",
   "metadata": {},
   "outputs": [],
   "source": [
    "player = \"AwayPlayer8\"\n",
    "date = \"Date\"\n",
    "player_id = \"PlayerID\"\n",
    "rating_column = \"OverallRating\"\n",
    "left_dataframe = overall_rating\n",
    "right_dataframe = df_merge\n",
    "\n",
    "\n",
    "df_merge = overall_function(\n",
    "    player, date, player_id, rating_column, left_dataframe, right_dataframe\n",
    ")"
   ]
  },
  {
   "cell_type": "code",
   "execution_count": null,
   "id": "a5953768",
   "metadata": {},
   "outputs": [],
   "source": [
    "player = \"AwayPlayer9\"\n",
    "date = \"Date\"\n",
    "player_id = \"PlayerID\"\n",
    "rating_column = \"OverallRating\"\n",
    "left_dataframe = overall_rating\n",
    "right_dataframe = df_merge\n",
    "\n",
    "\n",
    "df_merge = overall_function(\n",
    "    player, date, player_id, rating_column, left_dataframe, right_dataframe\n",
    ")"
   ]
  },
  {
   "cell_type": "code",
   "execution_count": null,
   "id": "109a2fb6",
   "metadata": {},
   "outputs": [],
   "source": [
    "player = \"AwayPlayer10\"\n",
    "date = \"Date\"\n",
    "player_id = \"PlayerID\"\n",
    "rating_column = \"OverallRating\"\n",
    "left_dataframe = overall_rating\n",
    "right_dataframe = df_merge\n",
    "\n",
    "\n",
    "df_merge = overall_function(\n",
    "    player, date, player_id, rating_column, left_dataframe, right_dataframe\n",
    ")"
   ]
  },
  {
   "cell_type": "code",
   "execution_count": null,
   "id": "70353ebe",
   "metadata": {},
   "outputs": [],
   "source": [
    "player = \"AwayPlayer11\"\n",
    "date = \"Date\"\n",
    "player_id = \"PlayerID\"\n",
    "rating_column = \"OverallRating\"\n",
    "left_dataframe = overall_rating\n",
    "right_dataframe = df_merge\n",
    "\n",
    "\n",
    "df_merge = overall_function(\n",
    "    player, date, player_id, rating_column, left_dataframe, right_dataframe\n",
    ")"
   ]
  },
  {
   "cell_type": "code",
   "execution_count": null,
   "id": "f5200296",
   "metadata": {},
   "outputs": [],
   "source": [
    "matches = df_merge"
   ]
  },
  {
   "cell_type": "code",
   "execution_count": null,
   "id": "10d50345",
   "metadata": {},
   "outputs": [],
   "source": [
    "matches = matches.copy(deep=True)\n",
    "\n",
    "matches[\"Result\"] = matches[\"HomeGoal\"] - matches[\"AwayGoal\"]\n",
    "matches.loc[matches[\"Result\"] < 0, \"Result\"] = -1\n",
    "matches.loc[matches[\"Result\"] == 0, \"Result\"] = 0\n",
    "matches.loc[matches[\"Result\"] > 0, \"Result\"] = 1\n",
    "\n",
    "result = matches.pop(\"Result\")\n",
    "matches.insert(8, \"Result\", result)"
   ]
  },
  {
   "cell_type": "code",
   "execution_count": null,
   "id": "dbade686",
   "metadata": {},
   "outputs": [],
   "source": [
    "def calculate_mean(df, column):\n",
    "    df[column] = df[column].fillna(df[column].mean())\n",
    "\n",
    "    return df"
   ]
  },
  {
   "cell_type": "code",
   "execution_count": null,
   "id": "8a1faf9f",
   "metadata": {},
   "outputs": [],
   "source": [
    "attribute_list = [\n",
    "    \"HomeShoton\",\n",
    "    \"AwayShoton\",\n",
    "    \"HomeShotoff\",\n",
    "    \"AwayShotoff\",\n",
    "    \"HomeFoulCommit\",\n",
    "    \"AwayFoulCommit\",\n",
    "    \"HomeCard\",\n",
    "    \"AwayCard\",\n",
    "    \"HomeCross\",\n",
    "    \"AwayCross\",\n",
    "    \"HomeCorner\",\n",
    "    \"AwayCorner\",\n",
    "    \"HomePossession\",\n",
    "    \"AwayPossession\",\n",
    "]"
   ]
  },
  {
   "cell_type": "code",
   "execution_count": null,
   "id": "82555837",
   "metadata": {},
   "outputs": [],
   "source": [
    "player_list = [\n",
    "    \"HomePlayer1\",\n",
    "    \"HomePlayer2\",\n",
    "    \"HomePlayer3\",\n",
    "    \"HomePlayer4\",\n",
    "    \"HomePlayer5\",\n",
    "    \"HomePlayer6\",\n",
    "    \"HomePlayer7\",\n",
    "    \"HomePlayer8\",\n",
    "    \"HomePlayer9\",\n",
    "    \"HomePlayer10\",\n",
    "    \"HomePlayer11\",\n",
    "    \"AwayPlayer1\",\n",
    "    \"AwayPlayer2\",\n",
    "    \"AwayPlayer3\",\n",
    "    \"AwayPlayer4\",\n",
    "    \"AwayPlayer5\",\n",
    "    \"AwayPlayer6\",\n",
    "    \"AwayPlayer7\",\n",
    "    \"AwayPlayer8\",\n",
    "    \"AwayPlayer9\",\n",
    "    \"AwayPlayer10\",\n",
    "    \"AwayPlayer11\",\n",
    "]"
   ]
  },
  {
   "cell_type": "code",
   "execution_count": null,
   "id": "e11800cf",
   "metadata": {},
   "outputs": [],
   "source": [
    "column = player_list\n",
    "\n",
    "matches = round(calculate_mean(matches, column), 1)"
   ]
  },
  {
   "cell_type": "code",
   "execution_count": null,
   "id": "b4afc6c8",
   "metadata": {},
   "outputs": [],
   "source": [
    "column = attribute_list\n",
    "\n",
    "matches = round(calculate_mean(matches, column), 0)"
   ]
  },
  {
   "cell_type": "code",
   "execution_count": null,
   "id": "80bdf086",
   "metadata": {},
   "outputs": [],
   "source": [
    "home_long = matches.pop(\"HomeTeamLongName\")\n",
    "matches.insert(5, \"HomeTeamLongName\", home_long)"
   ]
  },
  {
   "cell_type": "code",
   "execution_count": null,
   "id": "a4d827af",
   "metadata": {},
   "outputs": [],
   "source": [
    "home_short = matches.pop(\"HomeTeamShortName\")\n",
    "matches.insert(6, \"HomeTeamShortName\", home_short)"
   ]
  },
  {
   "cell_type": "code",
   "execution_count": null,
   "id": "151db3da",
   "metadata": {},
   "outputs": [],
   "source": [
    "away_long = matches.pop(\"AwayTeamLongName\")\n",
    "matches.insert(8, \"AwayTeamLongName\", away_long)"
   ]
  },
  {
   "cell_type": "code",
   "execution_count": null,
   "id": "2c28c9c5",
   "metadata": {},
   "outputs": [],
   "source": [
    "away_short = matches.pop(\"AwayTeamShortName\")\n",
    "matches.insert(9, \"AwayTeamShortName\", away_short)"
   ]
  },
  {
   "cell_type": "code",
   "execution_count": null,
   "id": "9786156a",
   "metadata": {},
   "outputs": [],
   "source": [
    "matches = matches.loc[:, ~matches.columns.duplicated()].copy()"
   ]
  },
  {
   "cell_type": "code",
   "execution_count": null,
   "id": "60edfd76",
   "metadata": {},
   "outputs": [],
   "source": [
    "matches.to_csv(\n",
    "    \"C:\\\\Users\\\\Space\\\\Documents\\\\py\\\\Projects\\\\TuringCollege\\\\Football\\\\DataSets\\\\matches.csv\",\n",
    "    index=True,\n",
    ")"
   ]
  },
  {
   "cell_type": "markdown",
   "id": "234ff874",
   "metadata": {},
   "source": [
    "### Section Summary\n",
    "> * I merged the Match dataframe with the League and Players dataframe to make one dataset with information about the matches that also contains information about the players. I called this new dataframe Matches, saved it as a csv file and used it in the Machine Learning part of this report. "
   ]
  },
  {
   "cell_type": "markdown",
   "id": "869c4da0",
   "metadata": {},
   "source": [
    "# Exploratory Data Analysis"
   ]
  },
  {
   "cell_type": "markdown",
   "id": "be3a9837",
   "metadata": {},
   "source": [
    "In this section we will use the Players and Teams dataframe to highlight some information contained in this data."
   ]
  },
  {
   "cell_type": "markdown",
   "id": "cc19235b",
   "metadata": {},
   "source": [
    "## Loading the Dataframes"
   ]
  },
  {
   "cell_type": "code",
   "execution_count": 8,
   "id": "8545a05c",
   "metadata": {},
   "outputs": [],
   "source": [
    "players = pd.read_csv(\n",
    "    \"C:\\\\Users\\\\Space\\\\Documents\\\\py\\\\Projects\\\\TuringCollege\\\\Football\\\\DataSets\\\\players.csv\",\n",
    "    index_col=0,\n",
    ")"
   ]
  },
  {
   "cell_type": "code",
   "execution_count": 9,
   "id": "9d2f8e2e",
   "metadata": {},
   "outputs": [
    {
     "data": {
      "text/html": [
       "<div>\n",
       "<style scoped>\n",
       "    .dataframe tbody tr th:only-of-type {\n",
       "        vertical-align: middle;\n",
       "    }\n",
       "\n",
       "    .dataframe tbody tr th {\n",
       "        vertical-align: top;\n",
       "    }\n",
       "\n",
       "    .dataframe thead th {\n",
       "        text-align: right;\n",
       "    }\n",
       "</style>\n",
       "<table border=\"1\" class=\"dataframe\">\n",
       "  <thead>\n",
       "    <tr style=\"text-align: right;\">\n",
       "      <th></th>\n",
       "      <th>PlayerID</th>\n",
       "      <th>PlayerName</th>\n",
       "      <th>Birthday</th>\n",
       "      <th>Height</th>\n",
       "      <th>Weight</th>\n",
       "      <th>BMI</th>\n",
       "      <th>Date</th>\n",
       "      <th>PreferredFoot</th>\n",
       "      <th>AttackWorkRate</th>\n",
       "      <th>DefenceWorkRate</th>\n",
       "      <th>OverallRating</th>\n",
       "      <th>Potential</th>\n",
       "      <th>Crossing</th>\n",
       "      <th>Finishing</th>\n",
       "      <th>HeadingAccuracy</th>\n",
       "      <th>ShortPassing</th>\n",
       "      <th>Volleys</th>\n",
       "      <th>Dribbling</th>\n",
       "      <th>Curve</th>\n",
       "      <th>FreeKickAccuracy</th>\n",
       "      <th>LongPassing</th>\n",
       "      <th>BallControl</th>\n",
       "      <th>Acceleration</th>\n",
       "      <th>SprintSpeed</th>\n",
       "      <th>Agility</th>\n",
       "      <th>Reactions</th>\n",
       "      <th>Balance</th>\n",
       "      <th>ShotPower</th>\n",
       "      <th>Jumping</th>\n",
       "      <th>Stamina</th>\n",
       "      <th>Strength</th>\n",
       "      <th>LongShots</th>\n",
       "      <th>Aggression</th>\n",
       "      <th>Interceptions</th>\n",
       "      <th>Positioning</th>\n",
       "      <th>Vision</th>\n",
       "      <th>Penalties</th>\n",
       "      <th>Marking</th>\n",
       "      <th>StandingTackle</th>\n",
       "      <th>SlidingTackle</th>\n",
       "    </tr>\n",
       "  </thead>\n",
       "  <tbody>\n",
       "    <tr>\n",
       "      <th>0</th>\n",
       "      <td>505942</td>\n",
       "      <td>Aaron Appindangoye</td>\n",
       "      <td>1992</td>\n",
       "      <td>182.88</td>\n",
       "      <td>187</td>\n",
       "      <td>25.36</td>\n",
       "      <td>2007</td>\n",
       "      <td>right</td>\n",
       "      <td>medium</td>\n",
       "      <td>medium</td>\n",
       "      <td>61.000000</td>\n",
       "      <td>65.000000</td>\n",
       "      <td>48.000000</td>\n",
       "      <td>43.000000</td>\n",
       "      <td>70.000000</td>\n",
       "      <td>60.000000</td>\n",
       "      <td>43.000000</td>\n",
       "      <td>50.000000</td>\n",
       "      <td>44.000000</td>\n",
       "      <td>38.000000</td>\n",
       "      <td>63.000000</td>\n",
       "      <td>48.000000</td>\n",
       "      <td>60.0</td>\n",
       "      <td>64.0</td>\n",
       "      <td>59.0</td>\n",
       "      <td>46.000000</td>\n",
       "      <td>65.0</td>\n",
       "      <td>54.000000</td>\n",
       "      <td>58.0</td>\n",
       "      <td>54.0</td>\n",
       "      <td>76.0</td>\n",
       "      <td>34.000000</td>\n",
       "      <td>62.000000</td>\n",
       "      <td>40.000000</td>\n",
       "      <td>44.000000</td>\n",
       "      <td>53.000000</td>\n",
       "      <td>47.000000</td>\n",
       "      <td>62.0</td>\n",
       "      <td>63.0</td>\n",
       "      <td>66.0</td>\n",
       "    </tr>\n",
       "    <tr>\n",
       "      <th>1</th>\n",
       "      <td>505942</td>\n",
       "      <td>Aaron Appindangoye</td>\n",
       "      <td>1992</td>\n",
       "      <td>182.88</td>\n",
       "      <td>187</td>\n",
       "      <td>25.36</td>\n",
       "      <td>2015</td>\n",
       "      <td>right</td>\n",
       "      <td>medium</td>\n",
       "      <td>medium</td>\n",
       "      <td>63.333333</td>\n",
       "      <td>67.333333</td>\n",
       "      <td>48.666667</td>\n",
       "      <td>43.666667</td>\n",
       "      <td>70.666667</td>\n",
       "      <td>60.666667</td>\n",
       "      <td>43.666667</td>\n",
       "      <td>50.666667</td>\n",
       "      <td>44.666667</td>\n",
       "      <td>38.666667</td>\n",
       "      <td>63.666667</td>\n",
       "      <td>48.666667</td>\n",
       "      <td>60.0</td>\n",
       "      <td>64.0</td>\n",
       "      <td>59.0</td>\n",
       "      <td>46.666667</td>\n",
       "      <td>65.0</td>\n",
       "      <td>54.666667</td>\n",
       "      <td>58.0</td>\n",
       "      <td>54.0</td>\n",
       "      <td>76.0</td>\n",
       "      <td>34.666667</td>\n",
       "      <td>65.333333</td>\n",
       "      <td>50.333333</td>\n",
       "      <td>44.666667</td>\n",
       "      <td>53.666667</td>\n",
       "      <td>47.666667</td>\n",
       "      <td>64.0</td>\n",
       "      <td>66.0</td>\n",
       "      <td>68.0</td>\n",
       "    </tr>\n",
       "    <tr>\n",
       "      <th>2</th>\n",
       "      <td>505942</td>\n",
       "      <td>Aaron Appindangoye</td>\n",
       "      <td>1992</td>\n",
       "      <td>182.88</td>\n",
       "      <td>187</td>\n",
       "      <td>25.36</td>\n",
       "      <td>2016</td>\n",
       "      <td>right</td>\n",
       "      <td>medium</td>\n",
       "      <td>medium</td>\n",
       "      <td>67.000000</td>\n",
       "      <td>71.000000</td>\n",
       "      <td>49.000000</td>\n",
       "      <td>44.000000</td>\n",
       "      <td>71.000000</td>\n",
       "      <td>61.000000</td>\n",
       "      <td>44.000000</td>\n",
       "      <td>51.000000</td>\n",
       "      <td>45.000000</td>\n",
       "      <td>39.000000</td>\n",
       "      <td>64.000000</td>\n",
       "      <td>49.000000</td>\n",
       "      <td>60.0</td>\n",
       "      <td>64.0</td>\n",
       "      <td>59.0</td>\n",
       "      <td>47.000000</td>\n",
       "      <td>65.0</td>\n",
       "      <td>55.000000</td>\n",
       "      <td>58.0</td>\n",
       "      <td>54.0</td>\n",
       "      <td>76.0</td>\n",
       "      <td>35.000000</td>\n",
       "      <td>71.000000</td>\n",
       "      <td>70.000000</td>\n",
       "      <td>45.000000</td>\n",
       "      <td>54.000000</td>\n",
       "      <td>48.000000</td>\n",
       "      <td>65.0</td>\n",
       "      <td>69.0</td>\n",
       "      <td>69.0</td>\n",
       "    </tr>\n",
       "    <tr>\n",
       "      <th>3</th>\n",
       "      <td>155782</td>\n",
       "      <td>Aaron Cresswell</td>\n",
       "      <td>1989</td>\n",
       "      <td>170.18</td>\n",
       "      <td>146</td>\n",
       "      <td>22.86</td>\n",
       "      <td>2007</td>\n",
       "      <td>right</td>\n",
       "      <td>medium</td>\n",
       "      <td>medium</td>\n",
       "      <td>53.000000</td>\n",
       "      <td>60.000000</td>\n",
       "      <td>22.000000</td>\n",
       "      <td>48.000000</td>\n",
       "      <td>52.000000</td>\n",
       "      <td>39.000000</td>\n",
       "      <td>30.000000</td>\n",
       "      <td>26.000000</td>\n",
       "      <td>41.000000</td>\n",
       "      <td>26.000000</td>\n",
       "      <td>49.000000</td>\n",
       "      <td>34.000000</td>\n",
       "      <td>66.0</td>\n",
       "      <td>59.0</td>\n",
       "      <td>59.0</td>\n",
       "      <td>65.000000</td>\n",
       "      <td>62.0</td>\n",
       "      <td>48.000000</td>\n",
       "      <td>48.0</td>\n",
       "      <td>56.0</td>\n",
       "      <td>68.0</td>\n",
       "      <td>35.000000</td>\n",
       "      <td>64.000000</td>\n",
       "      <td>32.000000</td>\n",
       "      <td>28.000000</td>\n",
       "      <td>38.000000</td>\n",
       "      <td>29.000000</td>\n",
       "      <td>53.0</td>\n",
       "      <td>45.0</td>\n",
       "      <td>63.0</td>\n",
       "    </tr>\n",
       "    <tr>\n",
       "      <th>4</th>\n",
       "      <td>155782</td>\n",
       "      <td>Aaron Cresswell</td>\n",
       "      <td>1989</td>\n",
       "      <td>170.18</td>\n",
       "      <td>146</td>\n",
       "      <td>22.86</td>\n",
       "      <td>2008</td>\n",
       "      <td>right</td>\n",
       "      <td>medium</td>\n",
       "      <td>medium</td>\n",
       "      <td>53.000000</td>\n",
       "      <td>60.000000</td>\n",
       "      <td>22.000000</td>\n",
       "      <td>48.000000</td>\n",
       "      <td>52.000000</td>\n",
       "      <td>39.000000</td>\n",
       "      <td>30.000000</td>\n",
       "      <td>26.000000</td>\n",
       "      <td>41.000000</td>\n",
       "      <td>26.000000</td>\n",
       "      <td>49.000000</td>\n",
       "      <td>34.000000</td>\n",
       "      <td>66.0</td>\n",
       "      <td>59.0</td>\n",
       "      <td>59.0</td>\n",
       "      <td>65.000000</td>\n",
       "      <td>62.0</td>\n",
       "      <td>48.000000</td>\n",
       "      <td>48.0</td>\n",
       "      <td>56.0</td>\n",
       "      <td>68.0</td>\n",
       "      <td>35.000000</td>\n",
       "      <td>64.000000</td>\n",
       "      <td>32.000000</td>\n",
       "      <td>28.000000</td>\n",
       "      <td>38.000000</td>\n",
       "      <td>29.000000</td>\n",
       "      <td>53.0</td>\n",
       "      <td>45.0</td>\n",
       "      <td>63.0</td>\n",
       "    </tr>\n",
       "  </tbody>\n",
       "</table>\n",
       "</div>"
      ],
      "text/plain": [
       "   PlayerID          PlayerName  Birthday  Height  Weight    BMI  Date  \\\n",
       "0    505942  Aaron Appindangoye      1992  182.88     187  25.36  2007   \n",
       "1    505942  Aaron Appindangoye      1992  182.88     187  25.36  2015   \n",
       "2    505942  Aaron Appindangoye      1992  182.88     187  25.36  2016   \n",
       "3    155782     Aaron Cresswell      1989  170.18     146  22.86  2007   \n",
       "4    155782     Aaron Cresswell      1989  170.18     146  22.86  2008   \n",
       "\n",
       "  PreferredFoot AttackWorkRate DefenceWorkRate  OverallRating  Potential  \\\n",
       "0         right         medium          medium      61.000000  65.000000   \n",
       "1         right         medium          medium      63.333333  67.333333   \n",
       "2         right         medium          medium      67.000000  71.000000   \n",
       "3         right         medium          medium      53.000000  60.000000   \n",
       "4         right         medium          medium      53.000000  60.000000   \n",
       "\n",
       "    Crossing  Finishing  HeadingAccuracy  ShortPassing    Volleys  Dribbling  \\\n",
       "0  48.000000  43.000000        70.000000     60.000000  43.000000  50.000000   \n",
       "1  48.666667  43.666667        70.666667     60.666667  43.666667  50.666667   \n",
       "2  49.000000  44.000000        71.000000     61.000000  44.000000  51.000000   \n",
       "3  22.000000  48.000000        52.000000     39.000000  30.000000  26.000000   \n",
       "4  22.000000  48.000000        52.000000     39.000000  30.000000  26.000000   \n",
       "\n",
       "       Curve  FreeKickAccuracy  LongPassing  BallControl  Acceleration  \\\n",
       "0  44.000000         38.000000    63.000000    48.000000          60.0   \n",
       "1  44.666667         38.666667    63.666667    48.666667          60.0   \n",
       "2  45.000000         39.000000    64.000000    49.000000          60.0   \n",
       "3  41.000000         26.000000    49.000000    34.000000          66.0   \n",
       "4  41.000000         26.000000    49.000000    34.000000          66.0   \n",
       "\n",
       "   SprintSpeed  Agility  Reactions  Balance  ShotPower  Jumping  Stamina  \\\n",
       "0         64.0     59.0  46.000000     65.0  54.000000     58.0     54.0   \n",
       "1         64.0     59.0  46.666667     65.0  54.666667     58.0     54.0   \n",
       "2         64.0     59.0  47.000000     65.0  55.000000     58.0     54.0   \n",
       "3         59.0     59.0  65.000000     62.0  48.000000     48.0     56.0   \n",
       "4         59.0     59.0  65.000000     62.0  48.000000     48.0     56.0   \n",
       "\n",
       "   Strength  LongShots  Aggression  Interceptions  Positioning     Vision  \\\n",
       "0      76.0  34.000000   62.000000      40.000000    44.000000  53.000000   \n",
       "1      76.0  34.666667   65.333333      50.333333    44.666667  53.666667   \n",
       "2      76.0  35.000000   71.000000      70.000000    45.000000  54.000000   \n",
       "3      68.0  35.000000   64.000000      32.000000    28.000000  38.000000   \n",
       "4      68.0  35.000000   64.000000      32.000000    28.000000  38.000000   \n",
       "\n",
       "   Penalties  Marking  StandingTackle  SlidingTackle  \n",
       "0  47.000000     62.0            63.0           66.0  \n",
       "1  47.666667     64.0            66.0           68.0  \n",
       "2  48.000000     65.0            69.0           69.0  \n",
       "3  29.000000     53.0            45.0           63.0  \n",
       "4  29.000000     53.0            45.0           63.0  "
      ]
     },
     "execution_count": 9,
     "metadata": {},
     "output_type": "execute_result"
    }
   ],
   "source": [
    "players.head()"
   ]
  },
  {
   "cell_type": "code",
   "execution_count": 10,
   "id": "b4fe1eb1",
   "metadata": {},
   "outputs": [],
   "source": [
    "teams = pd.read_csv(\n",
    "    \"C:\\\\Users\\\\Space\\\\Documents\\\\py\\\\Projects\\\\TuringCollege\\\\Football\\\\DataSets\\\\teams.csv\",\n",
    "    index_col=0,\n",
    ")"
   ]
  },
  {
   "cell_type": "code",
   "execution_count": 11,
   "id": "369f095d",
   "metadata": {},
   "outputs": [
    {
     "data": {
      "text/html": [
       "<div>\n",
       "<style scoped>\n",
       "    .dataframe tbody tr th:only-of-type {\n",
       "        vertical-align: middle;\n",
       "    }\n",
       "\n",
       "    .dataframe tbody tr th {\n",
       "        vertical-align: top;\n",
       "    }\n",
       "\n",
       "    .dataframe thead th {\n",
       "        text-align: right;\n",
       "    }\n",
       "</style>\n",
       "<table border=\"1\" class=\"dataframe\">\n",
       "  <thead>\n",
       "    <tr style=\"text-align: right;\">\n",
       "      <th></th>\n",
       "      <th>TeamID</th>\n",
       "      <th>TeamLongName</th>\n",
       "      <th>TeamShortName</th>\n",
       "      <th>Date</th>\n",
       "      <th>BuildUpPlaySpeed</th>\n",
       "      <th>BuildUpPlayPassing</th>\n",
       "      <th>ChanceCreationPassing</th>\n",
       "      <th>ChanceCreationCrossing</th>\n",
       "      <th>ChanceCreationShooting</th>\n",
       "      <th>DefencePressure</th>\n",
       "      <th>DefenceAggression</th>\n",
       "      <th>DefenceTeamWidth</th>\n",
       "    </tr>\n",
       "  </thead>\n",
       "  <tbody>\n",
       "    <tr>\n",
       "      <th>0</th>\n",
       "      <td>9987</td>\n",
       "      <td>KRC Genk</td>\n",
       "      <td>GEN</td>\n",
       "      <td>2010</td>\n",
       "      <td>45</td>\n",
       "      <td>45</td>\n",
       "      <td>50</td>\n",
       "      <td>35</td>\n",
       "      <td>60</td>\n",
       "      <td>70</td>\n",
       "      <td>65</td>\n",
       "      <td>70</td>\n",
       "    </tr>\n",
       "    <tr>\n",
       "      <th>1</th>\n",
       "      <td>9987</td>\n",
       "      <td>KRC Genk</td>\n",
       "      <td>GEN</td>\n",
       "      <td>2011</td>\n",
       "      <td>66</td>\n",
       "      <td>52</td>\n",
       "      <td>65</td>\n",
       "      <td>66</td>\n",
       "      <td>51</td>\n",
       "      <td>48</td>\n",
       "      <td>47</td>\n",
       "      <td>54</td>\n",
       "    </tr>\n",
       "    <tr>\n",
       "      <th>2</th>\n",
       "      <td>9987</td>\n",
       "      <td>KRC Genk</td>\n",
       "      <td>GEN</td>\n",
       "      <td>2012</td>\n",
       "      <td>53</td>\n",
       "      <td>55</td>\n",
       "      <td>55</td>\n",
       "      <td>48</td>\n",
       "      <td>56</td>\n",
       "      <td>47</td>\n",
       "      <td>45</td>\n",
       "      <td>55</td>\n",
       "    </tr>\n",
       "    <tr>\n",
       "      <th>3</th>\n",
       "      <td>9987</td>\n",
       "      <td>KRC Genk</td>\n",
       "      <td>GEN</td>\n",
       "      <td>2013</td>\n",
       "      <td>58</td>\n",
       "      <td>38</td>\n",
       "      <td>67</td>\n",
       "      <td>48</td>\n",
       "      <td>56</td>\n",
       "      <td>47</td>\n",
       "      <td>45</td>\n",
       "      <td>55</td>\n",
       "    </tr>\n",
       "    <tr>\n",
       "      <th>4</th>\n",
       "      <td>9987</td>\n",
       "      <td>KRC Genk</td>\n",
       "      <td>GEN</td>\n",
       "      <td>2014</td>\n",
       "      <td>58</td>\n",
       "      <td>38</td>\n",
       "      <td>67</td>\n",
       "      <td>48</td>\n",
       "      <td>56</td>\n",
       "      <td>47</td>\n",
       "      <td>45</td>\n",
       "      <td>55</td>\n",
       "    </tr>\n",
       "  </tbody>\n",
       "</table>\n",
       "</div>"
      ],
      "text/plain": [
       "   TeamID TeamLongName TeamShortName  Date  BuildUpPlaySpeed  \\\n",
       "0    9987     KRC Genk           GEN  2010                45   \n",
       "1    9987     KRC Genk           GEN  2011                66   \n",
       "2    9987     KRC Genk           GEN  2012                53   \n",
       "3    9987     KRC Genk           GEN  2013                58   \n",
       "4    9987     KRC Genk           GEN  2014                58   \n",
       "\n",
       "   BuildUpPlayPassing  ChanceCreationPassing  ChanceCreationCrossing  \\\n",
       "0                  45                     50                      35   \n",
       "1                  52                     65                      66   \n",
       "2                  55                     55                      48   \n",
       "3                  38                     67                      48   \n",
       "4                  38                     67                      48   \n",
       "\n",
       "   ChanceCreationShooting  DefencePressure  DefenceAggression  \\\n",
       "0                      60               70                 65   \n",
       "1                      51               48                 47   \n",
       "2                      56               47                 45   \n",
       "3                      56               47                 45   \n",
       "4                      56               47                 45   \n",
       "\n",
       "   DefenceTeamWidth  \n",
       "0                70  \n",
       "1                54  \n",
       "2                55  \n",
       "3                55  \n",
       "4                55  "
      ]
     },
     "execution_count": 11,
     "metadata": {},
     "output_type": "execute_result"
    }
   ],
   "source": [
    "teams.head()"
   ]
  },
  {
   "cell_type": "markdown",
   "id": "b007f065",
   "metadata": {},
   "source": [
    "## Total Number of Players"
   ]
  },
  {
   "cell_type": "markdown",
   "id": "24eb7eb1",
   "metadata": {},
   "source": [
    "We will look at approximately 10,000 players."
   ]
  },
  {
   "cell_type": "code",
   "execution_count": 216,
   "id": "63887edf",
   "metadata": {},
   "outputs": [
    {
     "data": {
      "text/plain": [
       "10410"
      ]
     },
     "execution_count": 216,
     "metadata": {},
     "output_type": "execute_result"
    }
   ],
   "source": [
    "players.PlayerID.nunique()"
   ]
  },
  {
   "cell_type": "markdown",
   "id": "79d36272",
   "metadata": {},
   "source": [
    "## Total Number of Teams"
   ]
  },
  {
   "cell_type": "markdown",
   "id": "2f6f81e9",
   "metadata": {},
   "source": [
    "We will look at approximately 300 teams."
   ]
  },
  {
   "cell_type": "code",
   "execution_count": 215,
   "id": "cef8fe6c",
   "metadata": {},
   "outputs": [
    {
     "data": {
      "text/plain": [
       "288"
      ]
     },
     "execution_count": 215,
     "metadata": {},
     "output_type": "execute_result"
    }
   ],
   "source": [
    "teams.TeamID.nunique()"
   ]
  },
  {
   "cell_type": "markdown",
   "id": "ec035c21",
   "metadata": {},
   "source": [
    "## Player's Foot and Overall Rating"
   ]
  },
  {
   "cell_type": "markdown",
   "id": "02b57031",
   "metadata": {},
   "source": [
    "The visualization below shows the right footed or left footed players and their overall ratings."
   ]
  },
  {
   "cell_type": "code",
   "execution_count": 217,
   "id": "4a5cd56a",
   "metadata": {
    "scrolled": false
   },
   "outputs": [
    {
     "data": {
      "image/png": "[encoded data removed]",
      "text/plain": [
       "<Figure size 640x480 with 1 Axes>"
      ]
     },
     "metadata": {},
     "output_type": "display_data"
    }
   ],
   "source": [
    "plt.rcParams.update(params)\n",
    "\n",
    "sns.boxplot(x=\"PreferredFoot\", y=\"OverallRating\", data=players)\n",
    "\n",
    "plt.xlabel(\"Preferred Foot\")\n",
    "plt.ylabel(\"Overall Rating\")\n",
    "plt.title(\"Player Preferred Foot\", fontsize=size)\n",
    "sns.despine()"
   ]
  },
  {
   "cell_type": "markdown",
   "id": "7077f4f1",
   "metadata": {},
   "source": [
    "### Section Summary\n",
    "> * In this section we clearly see that being dominant in one foot or another does not having any bearing on the overall rating of a player. \n",
    "> * The left-footers have slightly better overall rating. "
   ]
  },
  {
   "cell_type": "markdown",
   "id": "bd4a3470",
   "metadata": {},
   "source": [
    "## Body Mass Index"
   ]
  },
  {
   "cell_type": "markdown",
   "id": "64b99d50",
   "metadata": {},
   "source": [
    "The visualization below shows the body mass index (BMI) of the players."
   ]
  },
  {
   "cell_type": "code",
   "execution_count": 223,
   "id": "85b88843",
   "metadata": {},
   "outputs": [
    {
     "data": {
      "image/png": "[encoded data removed]",
      "text/plain": [
       "<Figure size 640x480 with 1 Axes>"
      ]
     },
     "metadata": {},
     "output_type": "display_data"
    }
   ],
   "source": [
    "plt.rcParams.update(params)\n",
    "\n",
    "sns.kdeplot(data=players[\"BMI\"], fill=True, legend=True)\n",
    "\n",
    "plt.title(\"Player Body Mass Index\", fontsize=size)\n",
    "sns.despine()"
   ]
  },
  {
   "cell_type": "markdown",
   "id": "116693f3",
   "metadata": {},
   "source": [
    "### Section Summary\n",
    "> * The BMI of most players is between 21 and 25."
   ]
  },
  {
   "cell_type": "markdown",
   "id": "3ebc21ba",
   "metadata": {},
   "source": [
    "## Current and Potential Rating of Players"
   ]
  },
  {
   "cell_type": "markdown",
   "id": "8444ec85",
   "metadata": {},
   "source": [
    "The graph below depicts a comparison between the current and potential overall rating of the players. "
   ]
  },
  {
   "cell_type": "code",
   "execution_count": 264,
   "id": "5d41f760",
   "metadata": {
    "scrolled": false
   },
   "outputs": [
    {
     "data": {
      "image/png": "[encoded data removed]",
      "text/plain": [
       "<Figure size 640x480 with 1 Axes>"
      ]
     },
     "metadata": {},
     "output_type": "display_data"
    }
   ],
   "source": [
    "plt.rcParams.update(params)\n",
    "\n",
    "sns.kdeplot(data=players[[\"OverallRating\", \"Potential\"]], fill=True, legend=True)\n",
    "\n",
    "plt.title(\"Current and Potential Rating of Players\", fontsize=size)\n",
    "sns.despine()\n",
    "plt.show()"
   ]
  },
  {
   "cell_type": "markdown",
   "id": "b8bf88c5",
   "metadata": {},
   "source": [
    "### Section Summary\n",
    "> * THe players are usually rated with a higher future potential than their current overall rating."
   ]
  },
  {
   "cell_type": "markdown",
   "id": "09ca2493",
   "metadata": {},
   "source": [
    "## Attack and Defense Ratings of Players"
   ]
  },
  {
   "cell_type": "markdown",
   "id": "ffdd13ef",
   "metadata": {},
   "source": [
    "The graph depicts the attack and defense work rate of the players. See definitions above."
   ]
  },
  {
   "cell_type": "code",
   "execution_count": 11,
   "id": "8245e5a2",
   "metadata": {},
   "outputs": [],
   "source": [
    "players[\"AttackWorkRate\"].value_counts()\n",
    "allowed_values = [\"high\", \"medium\", \"low\"]\n",
    "players.loc[~players[\"AttackWorkRate\"].isin(allowed_values), \"AttackWorkRate\"] = np.nan\n",
    "\n",
    "attack_values = players.groupby(\"AttackWorkRate\")[\"PlayerID\"].nunique()\n",
    "attack_values = (\n",
    "    attack_values.to_frame().reset_index().rename(columns={\"PlayerID\": \"Count\"})\n",
    ")\n",
    "attack_values = attack_values.sort_values(\"Count\", ascending=False)"
   ]
  },
  {
   "cell_type": "code",
   "execution_count": 12,
   "id": "a34daf41",
   "metadata": {},
   "outputs": [],
   "source": [
    "players[\"DefenceWorkRate\"].value_counts()\n",
    "allowed_values = [\"high\", \"medium\", \"low\"]\n",
    "players.loc[\n",
    "    ~players[\"DefenceWorkRate\"].isin(allowed_values), \"DefenceWorkRate\"\n",
    "] = np.nan\n",
    "\n",
    "defence_values = players.groupby(\"DefenceWorkRate\")[\"PlayerID\"].nunique()\n",
    "defence_values = (\n",
    "    defence_values.to_frame().reset_index().rename(columns={\"PlayerID\": \"Count\"})\n",
    ")\n",
    "defence_values = defence_values.sort_values(\"Count\", ascending=False)"
   ]
  },
  {
   "cell_type": "code",
   "execution_count": 13,
   "id": "c9f81d1b",
   "metadata": {
    "scrolled": false
   },
   "outputs": [
    {
     "data": {
      "image/png": "[encoded data removed]",
      "text/plain": [
       "<Figure size 2000x800 with 2 Axes>"
      ]
     },
     "metadata": {},
     "output_type": "display_data"
    }
   ],
   "source": [
    "plt.rcParams.update(params)\n",
    "fig, (ax1, ax2) = plt.subplots(1, 2, figsize=(20, 8))\n",
    "\n",
    "sns.barplot(data=attack_values, x=\"AttackWorkRate\", y=\"Count\", ax=ax1)\n",
    "sns.barplot(data=defence_values, x=\"DefenceWorkRate\", y=\"Count\", ax=ax2)\n",
    "\n",
    "ax1.set_xlabel(\"Attack Work Rate\")\n",
    "ax1.set_ylabel(\"Count\")\n",
    "\n",
    "ax2.set_xlabel(\"Defense Work Rate\")\n",
    "ax2.set_ylabel(\"Count\")\n",
    "\n",
    "plt.suptitle(\"Attack and Defence Work Rating of Players\", fontsize=size * 2)\n",
    "sns.despine()"
   ]
  },
  {
   "cell_type": "markdown",
   "id": "721cc670",
   "metadata": {},
   "source": [
    "### Section Summary\n",
    "> * By far, most players are at a medium level in both categories."
   ]
  },
  {
   "cell_type": "markdown",
   "id": "cdc0f1e1",
   "metadata": {},
   "source": [
    "## Player Birth Years"
   ]
  },
  {
   "cell_type": "markdown",
   "id": "8644ae87",
   "metadata": {},
   "source": [
    "The graph depicts the year of birth of the players."
   ]
  },
  {
   "cell_type": "code",
   "execution_count": 62,
   "id": "741553c0",
   "metadata": {},
   "outputs": [],
   "source": [
    "birthdays = players.groupby(\"Birthday\")[\"PlayerID\"].nunique()\n",
    "birthdays = birthdays.to_frame().reset_index().rename(columns={\"PlayerID\": \"Count\"})"
   ]
  },
  {
   "cell_type": "code",
   "execution_count": 69,
   "id": "9e0b33b2",
   "metadata": {
    "scrolled": true
   },
   "outputs": [
    {
     "data": {
      "image/png": "[encoded data removed]",
      "text/plain": [
       "<Figure size 2000x400 with 1 Axes>"
      ]
     },
     "metadata": {},
     "output_type": "display_data"
    }
   ],
   "source": [
    "plt.rcParams.update(params)\n",
    "fig, ax = plt.subplots(figsize=(20, 4))\n",
    "\n",
    "sns.barplot(data=birthdays, x=\"Birthday\", y=\"Count\")\n",
    "\n",
    "ax.set_xlabel('Birth Year')\n",
    "ax.set_ylabel('Number of Players')\n",
    "plt.title(\"Player Birth Years\", fontsize=size * 1.5)\n",
    "sns.despine()"
   ]
  },
  {
   "cell_type": "markdown",
   "id": "8b29333a",
   "metadata": {},
   "source": [
    "### Section Summary\n",
    "> * According the date range of this data, most players are in their twenties."
   ]
  },
  {
   "cell_type": "markdown",
   "id": "f1c5e118",
   "metadata": {},
   "source": [
    "## Players' Height and Weight"
   ]
  },
  {
   "cell_type": "markdown",
   "id": "1fad5381",
   "metadata": {},
   "source": [
    "The graph depicts the Height and weight of the players."
   ]
  },
  {
   "cell_type": "code",
   "execution_count": 13,
   "id": "abcd40f5",
   "metadata": {
    "scrolled": false
   },
   "outputs": [
    {
     "data": {
      "image/png": "[encoded data removed]",
      "text/plain": [
       "<Figure size 2000x800 with 2 Axes>"
      ]
     },
     "metadata": {},
     "output_type": "display_data"
    }
   ],
   "source": [
    "plt.rcParams.update(params)\n",
    "fig, (ax1, ax2) = plt.subplots(1, 2, figsize=(20, 8))\n",
    "\n",
    "sns.kdeplot(data=players[\"Weight\"], fill=True, legend=True, ax=ax1, bw=0.2)\n",
    "sns.kdeplot(data=players[\"Height\"], fill=True, legend=True, ax=ax2, bw=0.2)\n",
    "\n",
    "plt.suptitle(\"Players Weight and Height\", fontsize=size * 2)\n",
    "sns.despine()"
   ]
  },
  {
   "cell_type": "markdown",
   "id": "f4f94c22",
   "metadata": {},
   "source": [
    "### Section Summary\n",
    "> * Weight: Most players are between 160 and 180 kg. \n",
    "> * Height: Most players are between 175 and 190 cm. "
   ]
  },
  {
   "cell_type": "markdown",
   "id": "af7550bb",
   "metadata": {},
   "source": [
    "## Total Number of Goals Made at Home Games and Away Games"
   ]
  },
  {
   "cell_type": "markdown",
   "id": "3c8c9d6c",
   "metadata": {},
   "source": [
    "The graph below depicts the total number of goals made by games played at home rather than games played away."
   ]
  },
  {
   "cell_type": "code",
   "execution_count": 18,
   "id": "8c65b0a4",
   "metadata": {},
   "outputs": [],
   "source": [
    "goals = matches[[\"HomeGoal\", \"AwayGoal\"]]\n",
    "goals = goals.sum(numeric_only=True)\n",
    "goals = goals.to_frame().reset_index().rename(columns={\"index\": \"Goals\", 0: \"Count\"})"
   ]
  },
  {
   "cell_type": "code",
   "execution_count": 20,
   "id": "fd8b36f6",
   "metadata": {
    "scrolled": false
   },
   "outputs": [
    {
     "data": {
      "image/png": "[encoded data removed]",
      "text/plain": [
       "<Figure size 640x480 with 1 Axes>"
      ]
     },
     "metadata": {},
     "output_type": "display_data"
    }
   ],
   "source": [
    "plt.rcParams.update(params)\n",
    "fig, ax = plt.subplots()\n",
    "\n",
    "sns.barplot(x=\"Goals\", y=\"Count\", data=goals)\n",
    "\n",
    "ax.set_xticklabels([\"Home Goals\", \"Away Goals\"])\n",
    "plt.title(\"Total Goals at Home and Away Games\", fontsize=size)\n",
    "sns.despine()"
   ]
  },
  {
   "cell_type": "markdown",
   "id": "103753a2",
   "metadata": {},
   "source": [
    "### Section Summary\n",
    "> * More goals were made at home games."
   ]
  },
  {
   "cell_type": "markdown",
   "id": "d9eabf5f",
   "metadata": {},
   "source": [
    "## Total Goals by Season at Home and Away Games"
   ]
  },
  {
   "cell_type": "markdown",
   "id": "66067e8c",
   "metadata": {},
   "source": [
    "The graph below depicts the total number of goals made in each season"
   ]
  },
  {
   "cell_type": "code",
   "execution_count": 23,
   "id": "a5b233ad",
   "metadata": {},
   "outputs": [],
   "source": [
    "goals_season = matches[[\"Date\", \"HomeGoal\", \"AwayGoal\"]].groupby(by=\"Date\").sum()\n",
    "goals_season = goals_season.rename(\n",
    "    columns={\"HomeGoal\": \"Home Goals\", \"AwayGoal\": \"Away Goals\"}\n",
    ")"
   ]
  },
  {
   "cell_type": "code",
   "execution_count": 28,
   "id": "bf027c0f",
   "metadata": {
    "scrolled": false
   },
   "outputs": [
    {
     "data": {
      "image/png": "[encoded data removed]",
      "text/plain": [
       "<Figure size 640x480 with 1 Axes>"
      ]
     },
     "metadata": {},
     "output_type": "display_data"
    }
   ],
   "source": [
    "plt.rcParams.update(params)\n",
    "\n",
    "sns.lineplot(data=goals_season)\n",
    "plt.xticks(rotation=60)\n",
    "\n",
    "labels = [\"Away Goals\", \"Home Goals\"]\n",
    "plt.ylabel(\"Number of Goals\")\n",
    "plt.xlabel(\"Season\")\n",
    "plt.title(\"Total Goals by Season at Home Games and Away Games\", fontsize=size)\n",
    "sns.despine()"
   ]
  },
  {
   "cell_type": "markdown",
   "id": "53abb202",
   "metadata": {},
   "source": [
    "### Section Summary\n",
    "> * In every season, the number of goals made by home teams were higher than by away teams."
   ]
  },
  {
   "cell_type": "markdown",
   "id": "9e5812d3",
   "metadata": {},
   "source": [
    "### Section Summary\n",
    "> * It is clear from the scatter plot and the performance metrics above that there is not a linear relationship between free sulfur dioxide and alcohol values."
   ]
  },
  {
   "cell_type": "markdown",
   "id": "9fa18a00",
   "metadata": {},
   "source": [
    "## Leagues by Total Number of Wins"
   ]
  },
  {
   "cell_type": "markdown",
   "id": "3c411881",
   "metadata": {},
   "source": [
    "The graph below depicts orders the leagues by total number of wins."
   ]
  },
  {
   "cell_type": "code",
   "execution_count": 14,
   "id": "0801ccfb",
   "metadata": {},
   "outputs": [],
   "source": [
    "league_most_wins = (\n",
    "    matches.groupby(\"LeagueName\")[\"Result\"]\n",
    "    .sum()\n",
    "    .to_frame()\n",
    "    .reset_index()\n",
    "    .sort_values(\"Result\", ascending=False)\n",
    ")"
   ]
  },
  {
   "cell_type": "code",
   "execution_count": 15,
   "id": "599dabc4",
   "metadata": {
    "scrolled": false
   },
   "outputs": [
    {
     "data": {
      "image/png": "[encoded data removed]",
      "text/plain": [
       "<Figure size 640x480 with 1 Axes>"
      ]
     },
     "metadata": {},
     "output_type": "display_data"
    }
   ],
   "source": [
    "plt.rcParams.update(params)\n",
    "fig, ax = plt.subplots()\n",
    "\n",
    "sns.barplot(x=\"Result\", y=\"LeagueName\", data=league_most_wins)\n",
    "\n",
    "ax.set_ylabel(\"League Name\")\n",
    "plt.title(\"Leagues by Total Number of Wins\", fontsize=size)\n",
    "sns.despine()"
   ]
  },
  {
   "cell_type": "markdown",
   "id": "d9b3fdcc",
   "metadata": {},
   "source": [
    "### Section Summary\n",
    "> * Highest: Spain LIGA BBVA\n",
    "> * Lowest: Scotland Premier League"
   ]
  },
  {
   "cell_type": "markdown",
   "id": "f50de98a",
   "metadata": {},
   "source": [
    "## Top 10 Teams by Total Number of Wins"
   ]
  },
  {
   "cell_type": "markdown",
   "id": "f2e4b265",
   "metadata": {},
   "source": [
    "The graph below depicts the top 10 team with most wins."
   ]
  },
  {
   "cell_type": "code",
   "execution_count": 16,
   "id": "fc046d5d",
   "metadata": {},
   "outputs": [],
   "source": [
    "team_most_wins = (\n",
    "    matches.groupby(\"HomeTeamLongName\")[\"Result\"]\n",
    "    .sum()\n",
    "    .to_frame()\n",
    "    .reset_index()\n",
    "    .sort_values(\"Result\", ascending=False)\n",
    ")\n",
    "team_most_wins = team_most_wins.head(10)"
   ]
  },
  {
   "cell_type": "code",
   "execution_count": 17,
   "id": "f3c2f52f",
   "metadata": {
    "scrolled": false
   },
   "outputs": [
    {
     "data": {
      "image/png": "[encoded data removed]",
      "text/plain": [
       "<Figure size 640x480 with 1 Axes>"
      ]
     },
     "metadata": {},
     "output_type": "display_data"
    }
   ],
   "source": [
    "plt.rcParams.update(params)\n",
    "fig, ax = plt.subplots()\n",
    "\n",
    "sns.barplot(x=\"Result\", y=\"HomeTeamLongName\", data=team_most_wins)\n",
    "\n",
    "ax.set_ylabel(\"Team Name\")\n",
    "plt.title(\"Top 10 Teams by Total Number of Wins\", fontsize=size)\n",
    "sns.despine()"
   ]
  },
  {
   "cell_type": "markdown",
   "id": "7ae7a65b",
   "metadata": {},
   "source": [
    "### Section Summary\n",
    "> * FC Barcelona, Real Madrid CF, Celtic."
   ]
  },
  {
   "cell_type": "markdown",
   "id": "8ad8cf67",
   "metadata": {},
   "source": [
    "# Machine Learning"
   ]
  },
  {
   "cell_type": "markdown",
   "id": "8e085a22",
   "metadata": {},
   "source": [
    "## Loading the Matches Dataframe"
   ]
  },
  {
   "cell_type": "code",
   "execution_count": 5,
   "id": "24e3f311",
   "metadata": {},
   "outputs": [],
   "source": [
    "matches = pd.read_csv(\n",
    "    \"C:\\\\Users\\\\Space\\\\Documents\\\\py\\\\Projects\\\\TuringCollege\\\\Football\\\\DataSets\\\\matches.csv\",\n",
    "    index_col=0,\n",
    ")"
   ]
  },
  {
   "cell_type": "code",
   "execution_count": 6,
   "id": "e5287270",
   "metadata": {},
   "outputs": [
    {
     "data": {
      "text/html": [
       "<div>\n",
       "<style scoped>\n",
       "    .dataframe tbody tr th:only-of-type {\n",
       "        vertical-align: middle;\n",
       "    }\n",
       "\n",
       "    .dataframe tbody tr th {\n",
       "        vertical-align: top;\n",
       "    }\n",
       "\n",
       "    .dataframe thead th {\n",
       "        text-align: right;\n",
       "    }\n",
       "</style>\n",
       "<table border=\"1\" class=\"dataframe\">\n",
       "  <thead>\n",
       "    <tr style=\"text-align: right;\">\n",
       "      <th></th>\n",
       "      <th>Date</th>\n",
       "      <th>LeagueID</th>\n",
       "      <th>LeagueName</th>\n",
       "      <th>MatchID</th>\n",
       "      <th>HomeTeamID</th>\n",
       "      <th>HomeTeamLongName</th>\n",
       "      <th>HomeTeamShortName</th>\n",
       "      <th>AwayTeamID</th>\n",
       "      <th>AwayTeamLongName</th>\n",
       "      <th>AwayTeamShortName</th>\n",
       "      <th>HomeGoal</th>\n",
       "      <th>AwayGoal</th>\n",
       "      <th>Result</th>\n",
       "      <th>HomePlayer1</th>\n",
       "      <th>HomePlayer2</th>\n",
       "      <th>HomePlayer3</th>\n",
       "      <th>HomePlayer4</th>\n",
       "      <th>HomePlayer5</th>\n",
       "      <th>HomePlayer6</th>\n",
       "      <th>HomePlayer7</th>\n",
       "      <th>HomePlayer8</th>\n",
       "      <th>HomePlayer9</th>\n",
       "      <th>HomePlayer10</th>\n",
       "      <th>HomePlayer11</th>\n",
       "      <th>AwayPlayer1</th>\n",
       "      <th>AwayPlayer2</th>\n",
       "      <th>AwayPlayer3</th>\n",
       "      <th>AwayPlayer4</th>\n",
       "      <th>AwayPlayer5</th>\n",
       "      <th>AwayPlayer6</th>\n",
       "      <th>AwayPlayer7</th>\n",
       "      <th>AwayPlayer8</th>\n",
       "      <th>AwayPlayer9</th>\n",
       "      <th>AwayPlayer10</th>\n",
       "      <th>AwayPlayer11</th>\n",
       "      <th>HomeShoton</th>\n",
       "      <th>AwayShoton</th>\n",
       "      <th>HomeShotoff</th>\n",
       "      <th>AwayShotoff</th>\n",
       "      <th>HomeFoulCommit</th>\n",
       "      <th>AwayFoulCommit</th>\n",
       "      <th>HomeCard</th>\n",
       "      <th>AwayCard</th>\n",
       "      <th>HomeCross</th>\n",
       "      <th>AwayCross</th>\n",
       "      <th>HomeCorner</th>\n",
       "      <th>AwayCorner</th>\n",
       "      <th>HomePossession</th>\n",
       "      <th>AwayPossession</th>\n",
       "      <th>HomeBuildUpPlaySpeed</th>\n",
       "      <th>HomeBuildUpPlayPassing</th>\n",
       "      <th>HomeChanceCreationPassing</th>\n",
       "      <th>HomeChanceCreationCrossing</th>\n",
       "      <th>HomeChanceCreationShooting</th>\n",
       "      <th>HomeDefencePressure</th>\n",
       "      <th>HomeDefenceAggression</th>\n",
       "      <th>HomeDefenceTeamWidth</th>\n",
       "      <th>AwayBuildUpPlaySpeed</th>\n",
       "      <th>AwayBuildUpPlayPassing</th>\n",
       "      <th>AwayChanceCreationPassing</th>\n",
       "      <th>AwayChanceCreationCrossing</th>\n",
       "      <th>AwayChanceCreationShooting</th>\n",
       "      <th>AwayDefencePressure</th>\n",
       "      <th>AwayDefenceAggression</th>\n",
       "      <th>AwayDefenceTeamWidth</th>\n",
       "    </tr>\n",
       "  </thead>\n",
       "  <tbody>\n",
       "    <tr>\n",
       "      <th>0</th>\n",
       "      <td>2010</td>\n",
       "      <td>1</td>\n",
       "      <td>Belgium Jupiler League</td>\n",
       "      <td>665626</td>\n",
       "      <td>8635</td>\n",
       "      <td>RSC Anderlecht</td>\n",
       "      <td>AND</td>\n",
       "      <td>8342</td>\n",
       "      <td>Club Brugge KV</td>\n",
       "      <td>CLB</td>\n",
       "      <td>3</td>\n",
       "      <td>2</td>\n",
       "      <td>1</td>\n",
       "      <td>72.0</td>\n",
       "      <td>72.0</td>\n",
       "      <td>72.0</td>\n",
       "      <td>74.0</td>\n",
       "      <td>70.0</td>\n",
       "      <td>71.0</td>\n",
       "      <td>75.0</td>\n",
       "      <td>68.0</td>\n",
       "      <td>72.0</td>\n",
       "      <td>78.0</td>\n",
       "      <td>74.0</td>\n",
       "      <td>72.0</td>\n",
       "      <td>72.0</td>\n",
       "      <td>68.0</td>\n",
       "      <td>72.0</td>\n",
       "      <td>68.0</td>\n",
       "      <td>69.0</td>\n",
       "      <td>70.0</td>\n",
       "      <td>70.0</td>\n",
       "      <td>70.0</td>\n",
       "      <td>72.0</td>\n",
       "      <td>70.0</td>\n",
       "      <td>3.0</td>\n",
       "      <td>3.0</td>\n",
       "      <td>4.0</td>\n",
       "      <td>3.0</td>\n",
       "      <td>7.0</td>\n",
       "      <td>7.0</td>\n",
       "      <td>2.0</td>\n",
       "      <td>2.0</td>\n",
       "      <td>11.0</td>\n",
       "      <td>8.0</td>\n",
       "      <td>3.0</td>\n",
       "      <td>3.0</td>\n",
       "      <td>52.0</td>\n",
       "      <td>48.0</td>\n",
       "      <td>50</td>\n",
       "      <td>35</td>\n",
       "      <td>70</td>\n",
       "      <td>50</td>\n",
       "      <td>60</td>\n",
       "      <td>70</td>\n",
       "      <td>50</td>\n",
       "      <td>70</td>\n",
       "      <td>35</td>\n",
       "      <td>40</td>\n",
       "      <td>45</td>\n",
       "      <td>50</td>\n",
       "      <td>45</td>\n",
       "      <td>60</td>\n",
       "      <td>70</td>\n",
       "      <td>70</td>\n",
       "    </tr>\n",
       "    <tr>\n",
       "      <th>11276</th>\n",
       "      <td>2010</td>\n",
       "      <td>15722</td>\n",
       "      <td>Poland Ekstraklasa</td>\n",
       "      <td>838608</td>\n",
       "      <td>2183</td>\n",
       "      <td>P. Warszawa</td>\n",
       "      <td>PWA</td>\n",
       "      <td>10265</td>\n",
       "      <td>Wisła Kraków</td>\n",
       "      <td>WIS</td>\n",
       "      <td>0</td>\n",
       "      <td>1</td>\n",
       "      <td>-1</td>\n",
       "      <td>65.0</td>\n",
       "      <td>56.0</td>\n",
       "      <td>68.0</td>\n",
       "      <td>72.0</td>\n",
       "      <td>60.0</td>\n",
       "      <td>61.0</td>\n",
       "      <td>59.0</td>\n",
       "      <td>68.0</td>\n",
       "      <td>72.0</td>\n",
       "      <td>72.0</td>\n",
       "      <td>68.0</td>\n",
       "      <td>67.0</td>\n",
       "      <td>69.0</td>\n",
       "      <td>65.0</td>\n",
       "      <td>63.0</td>\n",
       "      <td>65.0</td>\n",
       "      <td>71.0</td>\n",
       "      <td>66.0</td>\n",
       "      <td>72.0</td>\n",
       "      <td>73.0</td>\n",
       "      <td>72.0</td>\n",
       "      <td>74.0</td>\n",
       "      <td>3.0</td>\n",
       "      <td>3.0</td>\n",
       "      <td>4.0</td>\n",
       "      <td>3.0</td>\n",
       "      <td>7.0</td>\n",
       "      <td>7.0</td>\n",
       "      <td>2.0</td>\n",
       "      <td>2.0</td>\n",
       "      <td>11.0</td>\n",
       "      <td>8.0</td>\n",
       "      <td>3.0</td>\n",
       "      <td>3.0</td>\n",
       "      <td>52.0</td>\n",
       "      <td>48.0</td>\n",
       "      <td>30</td>\n",
       "      <td>40</td>\n",
       "      <td>45</td>\n",
       "      <td>40</td>\n",
       "      <td>70</td>\n",
       "      <td>55</td>\n",
       "      <td>65</td>\n",
       "      <td>55</td>\n",
       "      <td>40</td>\n",
       "      <td>35</td>\n",
       "      <td>55</td>\n",
       "      <td>35</td>\n",
       "      <td>70</td>\n",
       "      <td>70</td>\n",
       "      <td>70</td>\n",
       "      <td>65</td>\n",
       "    </tr>\n",
       "    <tr>\n",
       "      <th>11277</th>\n",
       "      <td>2010</td>\n",
       "      <td>15722</td>\n",
       "      <td>Poland Ekstraklasa</td>\n",
       "      <td>674856</td>\n",
       "      <td>8028</td>\n",
       "      <td>Piast Gliwice</td>\n",
       "      <td>PIG</td>\n",
       "      <td>10265</td>\n",
       "      <td>Wisła Kraków</td>\n",
       "      <td>WIS</td>\n",
       "      <td>1</td>\n",
       "      <td>4</td>\n",
       "      <td>-1</td>\n",
       "      <td>73.0</td>\n",
       "      <td>70.0</td>\n",
       "      <td>67.0</td>\n",
       "      <td>72.0</td>\n",
       "      <td>70.0</td>\n",
       "      <td>71.0</td>\n",
       "      <td>64.0</td>\n",
       "      <td>72.0</td>\n",
       "      <td>63.0</td>\n",
       "      <td>45.0</td>\n",
       "      <td>59.0</td>\n",
       "      <td>73.0</td>\n",
       "      <td>70.0</td>\n",
       "      <td>71.0</td>\n",
       "      <td>69.0</td>\n",
       "      <td>64.0</td>\n",
       "      <td>71.0</td>\n",
       "      <td>71.0</td>\n",
       "      <td>71.0</td>\n",
       "      <td>66.0</td>\n",
       "      <td>62.0</td>\n",
       "      <td>74.0</td>\n",
       "      <td>3.0</td>\n",
       "      <td>3.0</td>\n",
       "      <td>4.0</td>\n",
       "      <td>3.0</td>\n",
       "      <td>7.0</td>\n",
       "      <td>7.0</td>\n",
       "      <td>2.0</td>\n",
       "      <td>2.0</td>\n",
       "      <td>11.0</td>\n",
       "      <td>8.0</td>\n",
       "      <td>3.0</td>\n",
       "      <td>3.0</td>\n",
       "      <td>52.0</td>\n",
       "      <td>48.0</td>\n",
       "      <td>30</td>\n",
       "      <td>45</td>\n",
       "      <td>45</td>\n",
       "      <td>35</td>\n",
       "      <td>70</td>\n",
       "      <td>65</td>\n",
       "      <td>70</td>\n",
       "      <td>60</td>\n",
       "      <td>40</td>\n",
       "      <td>35</td>\n",
       "      <td>55</td>\n",
       "      <td>35</td>\n",
       "      <td>70</td>\n",
       "      <td>70</td>\n",
       "      <td>70</td>\n",
       "      <td>65</td>\n",
       "    </tr>\n",
       "    <tr>\n",
       "      <th>11278</th>\n",
       "      <td>2010</td>\n",
       "      <td>15722</td>\n",
       "      <td>Poland Ekstraklasa</td>\n",
       "      <td>674870</td>\n",
       "      <td>8673</td>\n",
       "      <td>Legia Warszawa</td>\n",
       "      <td>LEG</td>\n",
       "      <td>10265</td>\n",
       "      <td>Wisła Kraków</td>\n",
       "      <td>WIS</td>\n",
       "      <td>0</td>\n",
       "      <td>3</td>\n",
       "      <td>-1</td>\n",
       "      <td>74.0</td>\n",
       "      <td>63.0</td>\n",
       "      <td>72.0</td>\n",
       "      <td>67.0</td>\n",
       "      <td>70.0</td>\n",
       "      <td>71.0</td>\n",
       "      <td>72.0</td>\n",
       "      <td>58.0</td>\n",
       "      <td>72.0</td>\n",
       "      <td>69.0</td>\n",
       "      <td>73.0</td>\n",
       "      <td>73.0</td>\n",
       "      <td>70.0</td>\n",
       "      <td>69.0</td>\n",
       "      <td>71.0</td>\n",
       "      <td>64.0</td>\n",
       "      <td>66.0</td>\n",
       "      <td>71.0</td>\n",
       "      <td>71.0</td>\n",
       "      <td>64.0</td>\n",
       "      <td>62.0</td>\n",
       "      <td>74.0</td>\n",
       "      <td>3.0</td>\n",
       "      <td>3.0</td>\n",
       "      <td>4.0</td>\n",
       "      <td>3.0</td>\n",
       "      <td>7.0</td>\n",
       "      <td>7.0</td>\n",
       "      <td>2.0</td>\n",
       "      <td>2.0</td>\n",
       "      <td>11.0</td>\n",
       "      <td>8.0</td>\n",
       "      <td>3.0</td>\n",
       "      <td>3.0</td>\n",
       "      <td>52.0</td>\n",
       "      <td>48.0</td>\n",
       "      <td>30</td>\n",
       "      <td>35</td>\n",
       "      <td>55</td>\n",
       "      <td>45</td>\n",
       "      <td>70</td>\n",
       "      <td>65</td>\n",
       "      <td>70</td>\n",
       "      <td>60</td>\n",
       "      <td>40</td>\n",
       "      <td>35</td>\n",
       "      <td>55</td>\n",
       "      <td>35</td>\n",
       "      <td>70</td>\n",
       "      <td>70</td>\n",
       "      <td>70</td>\n",
       "      <td>65</td>\n",
       "    </tr>\n",
       "    <tr>\n",
       "      <th>11279</th>\n",
       "      <td>2010</td>\n",
       "      <td>15722</td>\n",
       "      <td>Poland Ekstraklasa</td>\n",
       "      <td>838509</td>\n",
       "      <td>2182</td>\n",
       "      <td>Lech Poznań</td>\n",
       "      <td>POZ</td>\n",
       "      <td>10265</td>\n",
       "      <td>Wisła Kraków</td>\n",
       "      <td>WIS</td>\n",
       "      <td>4</td>\n",
       "      <td>1</td>\n",
       "      <td>1</td>\n",
       "      <td>59.0</td>\n",
       "      <td>56.0</td>\n",
       "      <td>74.0</td>\n",
       "      <td>72.0</td>\n",
       "      <td>57.0</td>\n",
       "      <td>65.0</td>\n",
       "      <td>64.0</td>\n",
       "      <td>71.0</td>\n",
       "      <td>70.0</td>\n",
       "      <td>66.0</td>\n",
       "      <td>62.0</td>\n",
       "      <td>67.0</td>\n",
       "      <td>69.0</td>\n",
       "      <td>72.0</td>\n",
       "      <td>65.0</td>\n",
       "      <td>65.0</td>\n",
       "      <td>53.0</td>\n",
       "      <td>71.0</td>\n",
       "      <td>66.0</td>\n",
       "      <td>69.0</td>\n",
       "      <td>72.0</td>\n",
       "      <td>74.0</td>\n",
       "      <td>3.0</td>\n",
       "      <td>3.0</td>\n",
       "      <td>4.0</td>\n",
       "      <td>3.0</td>\n",
       "      <td>7.0</td>\n",
       "      <td>7.0</td>\n",
       "      <td>2.0</td>\n",
       "      <td>2.0</td>\n",
       "      <td>11.0</td>\n",
       "      <td>8.0</td>\n",
       "      <td>3.0</td>\n",
       "      <td>3.0</td>\n",
       "      <td>52.0</td>\n",
       "      <td>48.0</td>\n",
       "      <td>40</td>\n",
       "      <td>35</td>\n",
       "      <td>45</td>\n",
       "      <td>40</td>\n",
       "      <td>70</td>\n",
       "      <td>60</td>\n",
       "      <td>55</td>\n",
       "      <td>45</td>\n",
       "      <td>40</td>\n",
       "      <td>35</td>\n",
       "      <td>55</td>\n",
       "      <td>35</td>\n",
       "      <td>70</td>\n",
       "      <td>70</td>\n",
       "      <td>70</td>\n",
       "      <td>65</td>\n",
       "    </tr>\n",
       "  </tbody>\n",
       "</table>\n",
       "</div>"
      ],
      "text/plain": [
       "       Date  LeagueID              LeagueName  MatchID  HomeTeamID  \\\n",
       "0      2010         1  Belgium Jupiler League   665626        8635   \n",
       "11276  2010     15722      Poland Ekstraklasa   838608        2183   \n",
       "11277  2010     15722      Poland Ekstraklasa   674856        8028   \n",
       "11278  2010     15722      Poland Ekstraklasa   674870        8673   \n",
       "11279  2010     15722      Poland Ekstraklasa   838509        2182   \n",
       "\n",
       "      HomeTeamLongName HomeTeamShortName  AwayTeamID AwayTeamLongName  \\\n",
       "0       RSC Anderlecht               AND        8342   Club Brugge KV   \n",
       "11276      P. Warszawa               PWA       10265     Wisła Kraków   \n",
       "11277    Piast Gliwice               PIG       10265     Wisła Kraków   \n",
       "11278   Legia Warszawa               LEG       10265     Wisła Kraków   \n",
       "11279      Lech Poznań               POZ       10265     Wisła Kraków   \n",
       "\n",
       "      AwayTeamShortName  HomeGoal  AwayGoal  Result  HomePlayer1  HomePlayer2  \\\n",
       "0                   CLB         3         2       1         72.0         72.0   \n",
       "11276               WIS         0         1      -1         65.0         56.0   \n",
       "11277               WIS         1         4      -1         73.0         70.0   \n",
       "11278               WIS         0         3      -1         74.0         63.0   \n",
       "11279               WIS         4         1       1         59.0         56.0   \n",
       "\n",
       "       HomePlayer3  HomePlayer4  HomePlayer5  HomePlayer6  HomePlayer7  \\\n",
       "0             72.0         74.0         70.0         71.0         75.0   \n",
       "11276         68.0         72.0         60.0         61.0         59.0   \n",
       "11277         67.0         72.0         70.0         71.0         64.0   \n",
       "11278         72.0         67.0         70.0         71.0         72.0   \n",
       "11279         74.0         72.0         57.0         65.0         64.0   \n",
       "\n",
       "       HomePlayer8  HomePlayer9  HomePlayer10  HomePlayer11  AwayPlayer1  \\\n",
       "0             68.0         72.0          78.0          74.0         72.0   \n",
       "11276         68.0         72.0          72.0          68.0         67.0   \n",
       "11277         72.0         63.0          45.0          59.0         73.0   \n",
       "11278         58.0         72.0          69.0          73.0         73.0   \n",
       "11279         71.0         70.0          66.0          62.0         67.0   \n",
       "\n",
       "       AwayPlayer2  AwayPlayer3  AwayPlayer4  AwayPlayer5  AwayPlayer6  \\\n",
       "0             72.0         68.0         72.0         68.0         69.0   \n",
       "11276         69.0         65.0         63.0         65.0         71.0   \n",
       "11277         70.0         71.0         69.0         64.0         71.0   \n",
       "11278         70.0         69.0         71.0         64.0         66.0   \n",
       "11279         69.0         72.0         65.0         65.0         53.0   \n",
       "\n",
       "       AwayPlayer7  AwayPlayer8  AwayPlayer9  AwayPlayer10  AwayPlayer11  \\\n",
       "0             70.0         70.0         70.0          72.0          70.0   \n",
       "11276         66.0         72.0         73.0          72.0          74.0   \n",
       "11277         71.0         71.0         66.0          62.0          74.0   \n",
       "11278         71.0         71.0         64.0          62.0          74.0   \n",
       "11279         71.0         66.0         69.0          72.0          74.0   \n",
       "\n",
       "       HomeShoton  AwayShoton  HomeShotoff  AwayShotoff  HomeFoulCommit  \\\n",
       "0             3.0         3.0          4.0          3.0             7.0   \n",
       "11276         3.0         3.0          4.0          3.0             7.0   \n",
       "11277         3.0         3.0          4.0          3.0             7.0   \n",
       "11278         3.0         3.0          4.0          3.0             7.0   \n",
       "11279         3.0         3.0          4.0          3.0             7.0   \n",
       "\n",
       "       AwayFoulCommit  HomeCard  AwayCard  HomeCross  AwayCross  HomeCorner  \\\n",
       "0                 7.0       2.0       2.0       11.0        8.0         3.0   \n",
       "11276             7.0       2.0       2.0       11.0        8.0         3.0   \n",
       "11277             7.0       2.0       2.0       11.0        8.0         3.0   \n",
       "11278             7.0       2.0       2.0       11.0        8.0         3.0   \n",
       "11279             7.0       2.0       2.0       11.0        8.0         3.0   \n",
       "\n",
       "       AwayCorner  HomePossession  AwayPossession  HomeBuildUpPlaySpeed  \\\n",
       "0             3.0            52.0            48.0                    50   \n",
       "11276         3.0            52.0            48.0                    30   \n",
       "11277         3.0            52.0            48.0                    30   \n",
       "11278         3.0            52.0            48.0                    30   \n",
       "11279         3.0            52.0            48.0                    40   \n",
       "\n",
       "       HomeBuildUpPlayPassing  HomeChanceCreationPassing  \\\n",
       "0                          35                         70   \n",
       "11276                      40                         45   \n",
       "11277                      45                         45   \n",
       "11278                      35                         55   \n",
       "11279                      35                         45   \n",
       "\n",
       "       HomeChanceCreationCrossing  HomeChanceCreationShooting  \\\n",
       "0                              50                          60   \n",
       "11276                          40                          70   \n",
       "11277                          35                          70   \n",
       "11278                          45                          70   \n",
       "11279                          40                          70   \n",
       "\n",
       "       HomeDefencePressure  HomeDefenceAggression  HomeDefenceTeamWidth  \\\n",
       "0                       70                     50                    70   \n",
       "11276                   55                     65                    55   \n",
       "11277                   65                     70                    60   \n",
       "11278                   65                     70                    60   \n",
       "11279                   60                     55                    45   \n",
       "\n",
       "       AwayBuildUpPlaySpeed  AwayBuildUpPlayPassing  \\\n",
       "0                        35                      40   \n",
       "11276                    40                      35   \n",
       "11277                    40                      35   \n",
       "11278                    40                      35   \n",
       "11279                    40                      35   \n",
       "\n",
       "       AwayChanceCreationPassing  AwayChanceCreationCrossing  \\\n",
       "0                             45                          50   \n",
       "11276                         55                          35   \n",
       "11277                         55                          35   \n",
       "11278                         55                          35   \n",
       "11279                         55                          35   \n",
       "\n",
       "       AwayChanceCreationShooting  AwayDefencePressure  AwayDefenceAggression  \\\n",
       "0                              45                   60                     70   \n",
       "11276                          70                   70                     70   \n",
       "11277                          70                   70                     70   \n",
       "11278                          70                   70                     70   \n",
       "11279                          70                   70                     70   \n",
       "\n",
       "       AwayDefenceTeamWidth  \n",
       "0                        70  \n",
       "11276                    65  \n",
       "11277                    65  \n",
       "11278                    65  \n",
       "11279                    65  "
      ]
     },
     "execution_count": 6,
     "metadata": {},
     "output_type": "execute_result"
    }
   ],
   "source": [
    "matches.sort_values('Date').head()"
   ]
  },
  {
   "cell_type": "markdown",
   "id": "e9b35315",
   "metadata": {},
   "source": [
    "## Logistic Regression"
   ]
  },
  {
   "cell_type": "code",
   "execution_count": 14,
   "id": "2a805fa0",
   "metadata": {},
   "outputs": [],
   "source": [
    "X = matches.loc[:, \"HomePlayer1\":\"AwayDefenceTeamWidth\"]\n",
    "y = matches[\"Result\"]"
   ]
  },
  {
   "cell_type": "markdown",
   "id": "8a76a737",
   "metadata": {},
   "source": [
    "The logistic regresssion model did not show good results."
   ]
  },
  {
   "cell_type": "code",
   "execution_count": 48,
   "id": "e4da4748",
   "metadata": {},
   "outputs": [],
   "source": [
    "X_train, X_test, y_train, y_test = train_test_split(\n",
    "     X, y, test_size=0.20, shuffle=True, random_state=101)"
   ]
  },
  {
   "cell_type": "code",
   "execution_count": 49,
   "id": "5e88de7c",
   "metadata": {},
   "outputs": [],
   "source": [
    "scaler = StandardScaler()\n",
    "scaled_X_train = scaler.fit_transform(X_train)\n",
    "scaled_X_test = scaler.transform(X_test)"
   ]
  },
  {
   "cell_type": "code",
   "execution_count": 50,
   "id": "5e10e228",
   "metadata": {},
   "outputs": [],
   "source": [
    "log_model = LogisticRegression(solver=\"saga\", multi_class=\"ovr\", max_iter=5000)"
   ]
  },
  {
   "cell_type": "code",
   "execution_count": 51,
   "id": "a523a30f",
   "metadata": {},
   "outputs": [
    {
     "data": {
      "text/html": [
       "<style>#sk-container-id-4 {color: black;background-color: white;}#sk-container-id-4 pre{padding: 0;}#sk-container-id-4 div.sk-toggleable {background-color: white;}#sk-container-id-4 label.sk-toggleable__label {cursor: pointer;display: block;width: 100%;margin-bottom: 0;padding: 0.3em;box-sizing: border-box;text-align: center;}#sk-container-id-4 label.sk-toggleable__label-arrow:before {content: \"▸\";float: left;margin-right: 0.25em;color: #696969;}#sk-container-id-4 label.sk-toggleable__label-arrow:hover:before {color: black;}#sk-container-id-4 div.sk-estimator:hover label.sk-toggleable__label-arrow:before {color: black;}#sk-container-id-4 div.sk-toggleable__content {max-height: 0;max-width: 0;overflow: hidden;text-align: left;background-color: #f0f8ff;}#sk-container-id-4 div.sk-toggleable__content pre {margin: 0.2em;color: black;border-radius: 0.25em;background-color: #f0f8ff;}#sk-container-id-4 input.sk-toggleable__control:checked~div.sk-toggleable__content {max-height: 200px;max-width: 100%;overflow: auto;}#sk-container-id-4 input.sk-toggleable__control:checked~label.sk-toggleable__label-arrow:before {content: \"▾\";}#sk-container-id-4 div.sk-estimator input.sk-toggleable__control:checked~label.sk-toggleable__label {background-color: #d4ebff;}#sk-container-id-4 div.sk-label input.sk-toggleable__control:checked~label.sk-toggleable__label {background-color: #d4ebff;}#sk-container-id-4 input.sk-hidden--visually {border: 0;clip: rect(1px 1px 1px 1px);clip: rect(1px, 1px, 1px, 1px);height: 1px;margin: -1px;overflow: hidden;padding: 0;position: absolute;width: 1px;}#sk-container-id-4 div.sk-estimator {font-family: monospace;background-color: #f0f8ff;border: 1px dotted black;border-radius: 0.25em;box-sizing: border-box;margin-bottom: 0.5em;}#sk-container-id-4 div.sk-estimator:hover {background-color: #d4ebff;}#sk-container-id-4 div.sk-parallel-item::after {content: \"\";width: 100%;border-bottom: 1px solid gray;flex-grow: 1;}#sk-container-id-4 div.sk-label:hover label.sk-toggleable__label {background-color: #d4ebff;}#sk-container-id-4 div.sk-serial::before {content: \"\";position: absolute;border-left: 1px solid gray;box-sizing: border-box;top: 0;bottom: 0;left: 50%;z-index: 0;}#sk-container-id-4 div.sk-serial {display: flex;flex-direction: column;align-items: center;background-color: white;padding-right: 0.2em;padding-left: 0.2em;position: relative;}#sk-container-id-4 div.sk-item {position: relative;z-index: 1;}#sk-container-id-4 div.sk-parallel {display: flex;align-items: stretch;justify-content: center;background-color: white;position: relative;}#sk-container-id-4 div.sk-item::before, #sk-container-id-4 div.sk-parallel-item::before {content: \"\";position: absolute;border-left: 1px solid gray;box-sizing: border-box;top: 0;bottom: 0;left: 50%;z-index: -1;}#sk-container-id-4 div.sk-parallel-item {display: flex;flex-direction: column;z-index: 1;position: relative;background-color: white;}#sk-container-id-4 div.sk-parallel-item:first-child::after {align-self: flex-end;width: 50%;}#sk-container-id-4 div.sk-parallel-item:last-child::after {align-self: flex-start;width: 50%;}#sk-container-id-4 div.sk-parallel-item:only-child::after {width: 0;}#sk-container-id-4 div.sk-dashed-wrapped {border: 1px dashed gray;margin: 0 0.4em 0.5em 0.4em;box-sizing: border-box;padding-bottom: 0.4em;background-color: white;}#sk-container-id-4 div.sk-label label {font-family: monospace;font-weight: bold;display: inline-block;line-height: 1.2em;}#sk-container-id-4 div.sk-label-container {text-align: center;}#sk-container-id-4 div.sk-container {/* jupyter's `normalize.less` sets `[hidden] { display: none; }` but bootstrap.min.css set `[hidden] { display: none !important; }` so we also need the `!important` here to be able to override the default hidden behavior on the sphinx rendered scikit-learn.org. See: https://github.com/scikit-learn/scikit-learn/issues/21755 */display: inline-block !important;position: relative;}#sk-container-id-4 div.sk-text-repr-fallback {display: none;}</style><div id=\"sk-container-id-4\" class=\"sk-top-container\"><div class=\"sk-text-repr-fallback\"><pre>LogisticRegression(max_iter=5000, multi_class=&#x27;ovr&#x27;, solver=&#x27;saga&#x27;)</pre><b>In a Jupyter environment, please rerun this cell to show the HTML representation or trust the notebook. <br />On GitHub, the HTML representation is unable to render, please try loading this page with nbviewer.org.</b></div><div class=\"sk-container\" hidden><div class=\"sk-item\"><div class=\"sk-estimator sk-toggleable\"><input class=\"sk-toggleable__control sk-hidden--visually\" id=\"sk-estimator-id-4\" type=\"checkbox\" checked><label for=\"sk-estimator-id-4\" class=\"sk-toggleable__label sk-toggleable__label-arrow\">LogisticRegression</label><div class=\"sk-toggleable__content\"><pre>LogisticRegression(max_iter=5000, multi_class=&#x27;ovr&#x27;, solver=&#x27;saga&#x27;)</pre></div></div></div></div></div>"
      ],
      "text/plain": [
       "LogisticRegression(max_iter=5000, multi_class='ovr', solver='saga')"
      ]
     },
     "execution_count": 51,
     "metadata": {},
     "output_type": "execute_result"
    }
   ],
   "source": [
    "log_model.fit(scaled_X_train, y_train)"
   ]
  },
  {
   "cell_type": "code",
   "execution_count": 52,
   "id": "594b984e",
   "metadata": {},
   "outputs": [],
   "source": [
    "y_predict = log_model.predict(scaled_X_test)"
   ]
  },
  {
   "cell_type": "code",
   "execution_count": 53,
   "id": "2ec6dd34",
   "metadata": {},
   "outputs": [
    {
     "data": {
      "text/plain": [
       "array([[ 535,    8,  507],\n",
       "       [ 290,    4,  639],\n",
       "       [ 278,   12, 1376]], dtype=int64)"
      ]
     },
     "execution_count": 53,
     "metadata": {},
     "output_type": "execute_result"
    }
   ],
   "source": [
    "confusion_matrix(y_test, y_predict)"
   ]
  },
  {
   "cell_type": "code",
   "execution_count": 54,
   "id": "5badbc80",
   "metadata": {
    "scrolled": true
   },
   "outputs": [
    {
     "name": "stdout",
     "output_type": "stream",
     "text": [
      "              precision    recall  f1-score   support\n",
      "\n",
      "          -1       0.49      0.51      0.50      1050\n",
      "           0       0.17      0.00      0.01       933\n",
      "           1       0.55      0.83      0.66      1666\n",
      "\n",
      "    accuracy                           0.52      3649\n",
      "   macro avg       0.40      0.45      0.39      3649\n",
      "weighted avg       0.43      0.52      0.45      3649\n",
      "\n"
     ]
    }
   ],
   "source": [
    "print(classification_report(y_test, y_predict))"
   ]
  },
  {
   "cell_type": "markdown",
   "id": "1b8675c4",
   "metadata": {},
   "source": [
    "### Section Summary\n",
    "> * It is clear from the scatter plot and the performance metrics above that there is not a linear relationship between free sulfur dioxide and alcohol values."
   ]
  },
  {
   "cell_type": "markdown",
   "id": "b46817ee",
   "metadata": {},
   "source": [
    "## PCA"
   ]
  },
  {
   "cell_type": "markdown",
   "id": "146c0769",
   "metadata": {},
   "source": [
    "Principle Component Analysis"
   ]
  },
  {
   "cell_type": "code",
   "execution_count": 22,
   "id": "0fd553e3",
   "metadata": {},
   "outputs": [],
   "source": [
    "scaler = StandardScaler()\n",
    "X_scaled = scaler.fit_transform(X)"
   ]
  },
  {
   "cell_type": "code",
   "execution_count": 23,
   "id": "cb25969c",
   "metadata": {},
   "outputs": [
    {
     "data": {
      "text/html": [
       "<style>#sk-container-id-2 {color: black;background-color: white;}#sk-container-id-2 pre{padding: 0;}#sk-container-id-2 div.sk-toggleable {background-color: white;}#sk-container-id-2 label.sk-toggleable__label {cursor: pointer;display: block;width: 100%;margin-bottom: 0;padding: 0.3em;box-sizing: border-box;text-align: center;}#sk-container-id-2 label.sk-toggleable__label-arrow:before {content: \"▸\";float: left;margin-right: 0.25em;color: #696969;}#sk-container-id-2 label.sk-toggleable__label-arrow:hover:before {color: black;}#sk-container-id-2 div.sk-estimator:hover label.sk-toggleable__label-arrow:before {color: black;}#sk-container-id-2 div.sk-toggleable__content {max-height: 0;max-width: 0;overflow: hidden;text-align: left;background-color: #f0f8ff;}#sk-container-id-2 div.sk-toggleable__content pre {margin: 0.2em;color: black;border-radius: 0.25em;background-color: #f0f8ff;}#sk-container-id-2 input.sk-toggleable__control:checked~div.sk-toggleable__content {max-height: 200px;max-width: 100%;overflow: auto;}#sk-container-id-2 input.sk-toggleable__control:checked~label.sk-toggleable__label-arrow:before {content: \"▾\";}#sk-container-id-2 div.sk-estimator input.sk-toggleable__control:checked~label.sk-toggleable__label {background-color: #d4ebff;}#sk-container-id-2 div.sk-label input.sk-toggleable__control:checked~label.sk-toggleable__label {background-color: #d4ebff;}#sk-container-id-2 input.sk-hidden--visually {border: 0;clip: rect(1px 1px 1px 1px);clip: rect(1px, 1px, 1px, 1px);height: 1px;margin: -1px;overflow: hidden;padding: 0;position: absolute;width: 1px;}#sk-container-id-2 div.sk-estimator {font-family: monospace;background-color: #f0f8ff;border: 1px dotted black;border-radius: 0.25em;box-sizing: border-box;margin-bottom: 0.5em;}#sk-container-id-2 div.sk-estimator:hover {background-color: #d4ebff;}#sk-container-id-2 div.sk-parallel-item::after {content: \"\";width: 100%;border-bottom: 1px solid gray;flex-grow: 1;}#sk-container-id-2 div.sk-label:hover label.sk-toggleable__label {background-color: #d4ebff;}#sk-container-id-2 div.sk-serial::before {content: \"\";position: absolute;border-left: 1px solid gray;box-sizing: border-box;top: 0;bottom: 0;left: 50%;z-index: 0;}#sk-container-id-2 div.sk-serial {display: flex;flex-direction: column;align-items: center;background-color: white;padding-right: 0.2em;padding-left: 0.2em;position: relative;}#sk-container-id-2 div.sk-item {position: relative;z-index: 1;}#sk-container-id-2 div.sk-parallel {display: flex;align-items: stretch;justify-content: center;background-color: white;position: relative;}#sk-container-id-2 div.sk-item::before, #sk-container-id-2 div.sk-parallel-item::before {content: \"\";position: absolute;border-left: 1px solid gray;box-sizing: border-box;top: 0;bottom: 0;left: 50%;z-index: -1;}#sk-container-id-2 div.sk-parallel-item {display: flex;flex-direction: column;z-index: 1;position: relative;background-color: white;}#sk-container-id-2 div.sk-parallel-item:first-child::after {align-self: flex-end;width: 50%;}#sk-container-id-2 div.sk-parallel-item:last-child::after {align-self: flex-start;width: 50%;}#sk-container-id-2 div.sk-parallel-item:only-child::after {width: 0;}#sk-container-id-2 div.sk-dashed-wrapped {border: 1px dashed gray;margin: 0 0.4em 0.5em 0.4em;box-sizing: border-box;padding-bottom: 0.4em;background-color: white;}#sk-container-id-2 div.sk-label label {font-family: monospace;font-weight: bold;display: inline-block;line-height: 1.2em;}#sk-container-id-2 div.sk-label-container {text-align: center;}#sk-container-id-2 div.sk-container {/* jupyter's `normalize.less` sets `[hidden] { display: none; }` but bootstrap.min.css set `[hidden] { display: none !important; }` so we also need the `!important` here to be able to override the default hidden behavior on the sphinx rendered scikit-learn.org. See: https://github.com/scikit-learn/scikit-learn/issues/21755 */display: inline-block !important;position: relative;}#sk-container-id-2 div.sk-text-repr-fallback {display: none;}</style><div id=\"sk-container-id-2\" class=\"sk-top-container\"><div class=\"sk-text-repr-fallback\"><pre>PCA()</pre><b>In a Jupyter environment, please rerun this cell to show the HTML representation or trust the notebook. <br />On GitHub, the HTML representation is unable to render, please try loading this page with nbviewer.org.</b></div><div class=\"sk-container\" hidden><div class=\"sk-item\"><div class=\"sk-estimator sk-toggleable\"><input class=\"sk-toggleable__control sk-hidden--visually\" id=\"sk-estimator-id-2\" type=\"checkbox\" checked><label for=\"sk-estimator-id-2\" class=\"sk-toggleable__label sk-toggleable__label-arrow\">PCA</label><div class=\"sk-toggleable__content\"><pre>PCA()</pre></div></div></div></div></div>"
      ],
      "text/plain": [
       "PCA()"
      ]
     },
     "execution_count": 23,
     "metadata": {},
     "output_type": "execute_result"
    }
   ],
   "source": [
    "pca = PCA(n_components=None)\n",
    "pca.fit(X_scaled)"
   ]
  },
  {
   "cell_type": "code",
   "execution_count": 24,
   "id": "36f27c53",
   "metadata": {},
   "outputs": [
    {
     "name": "stdout",
     "output_type": "stream",
     "text": [
      "Eigenvalues:\n",
      "[1.27784196e+01 6.78254489e+00 4.28732218e+00 2.80243344e+00\n",
      " 1.94798223e+00 1.75933876e+00 1.30138314e+00 1.25765284e+00\n",
      " 1.15218722e+00 1.13516716e+00 9.34662999e-01 8.43165617e-01\n",
      " 8.32261361e-01 7.72375466e-01 7.18475722e-01 7.16747354e-01\n",
      " 6.41628452e-01 6.33278077e-01 6.08211261e-01 5.84044220e-01\n",
      " 4.92095710e-01 4.39359808e-01 3.86246290e-01 3.67884627e-01\n",
      " 3.51895407e-01 3.44990994e-01 3.42791233e-01 3.41097356e-01\n",
      " 3.34638479e-01 3.31027388e-01 3.26576330e-01 3.25585566e-01\n",
      " 3.22285510e-01 3.20200202e-01 3.17761745e-01 3.11026653e-01\n",
      " 3.08068184e-01 3.03932744e-01 3.01221499e-01 2.98462995e-01\n",
      " 2.96992099e-01 2.94199485e-01 2.90958336e-01 2.80327601e-01\n",
      " 2.79710143e-01 2.62651997e-01 2.49023096e-01 2.19708985e-01\n",
      " 2.06722500e-01 1.35149228e-01 1.30976378e-01 2.52009892e-30]\n",
      "\n"
     ]
    }
   ],
   "source": [
    "print(\"Eigenvalues:\")\n",
    "print(pca.explained_variance_)\n",
    "print()"
   ]
  },
  {
   "cell_type": "code",
   "execution_count": 25,
   "id": "06829c15",
   "metadata": {},
   "outputs": [
    {
     "name": "stdout",
     "output_type": "stream",
     "text": [
      "Variances (Percentage):\n",
      "[2.45725368e+01 1.30426406e+01 8.24439840e+00 5.38899966e+00\n",
      " 3.74591432e+00 3.38315830e+00 2.50252270e+00 2.41843058e+00\n",
      " 2.21562319e+00 2.18289412e+00 1.79733032e+00 1.62138346e+00\n",
      " 1.60041489e+00 1.48525602e+00 1.38160834e+00 1.37828474e+00\n",
      " 1.23383323e+00 1.21777570e+00 1.16957293e+00 1.12310040e+00\n",
      " 9.46286030e-01 8.44876394e-01 7.42740610e-01 7.07431656e-01\n",
      " 6.76684841e-01 6.63407851e-01 6.59177774e-01 6.55920497e-01\n",
      " 6.43500261e-01 6.36556236e-01 6.27996978e-01 6.26091767e-01\n",
      " 6.19745854e-01 6.15735866e-01 6.11046783e-01 5.98095392e-01\n",
      " 5.92406340e-01 5.84454008e-01 5.79240361e-01 5.73935835e-01\n",
      " 5.71107344e-01 5.65737227e-01 5.59504589e-01 5.39061989e-01\n",
      " 5.37874635e-01 5.05072307e-01 4.78864318e-01 4.22494118e-01\n",
      " 3.97521477e-01 2.59888116e-01 2.51863843e-01 4.84607841e-30]\n",
      "\n"
     ]
    }
   ],
   "source": [
    "print(\"Variances (Percentage):\")\n",
    "print(pca.explained_variance_ratio_ * 100)\n",
    "print()"
   ]
  },
  {
   "cell_type": "code",
   "execution_count": 26,
   "id": "e95a01fb",
   "metadata": {},
   "outputs": [
    {
     "data": {
      "text/plain": [
       "Text(0, 0.5, 'Explained variance (%)')"
      ]
     },
     "execution_count": 26,
     "metadata": {},
     "output_type": "execute_result"
    },
    {
     "data": {
      "image/png": "[encoded data removed]",
      "text/plain": [
       "<Figure size 640x480 with 1 Axes>"
      ]
     },
     "metadata": {},
     "output_type": "display_data"
    }
   ],
   "source": [
    "plt.plot(np.cumsum(pca.explained_variance_ratio_ * 100))\n",
    "plt.xlabel(\"Number of components (Dimensions)\")\n",
    "plt.ylabel(\"Explained variance (%)\")"
   ]
  },
  {
   "cell_type": "code",
   "execution_count": 27,
   "id": "3653e9b1",
   "metadata": {},
   "outputs": [],
   "source": [
    "scaler = StandardScaler()\n",
    "X_scaled = scaler.fit_transform(X)"
   ]
  },
  {
   "cell_type": "code",
   "execution_count": 28,
   "id": "1cd290c7",
   "metadata": {},
   "outputs": [],
   "source": [
    "pca = PCA(n_components=20)\n",
    "X_pca = pca.fit_transform(X_scaled)"
   ]
  },
  {
   "cell_type": "code",
   "execution_count": 29,
   "id": "9962551d",
   "metadata": {},
   "outputs": [
    {
     "name": "stdout",
     "output_type": "stream",
     "text": [
      "         0         1         2         3         4         5         6   \\\n",
      "0  0.035216 -0.118985  0.719152  2.148871  3.494482  0.857046 -0.203447   \n",
      "1 -0.785478  0.043123 -0.093071  2.188625  3.454294  0.382856 -0.048850   \n",
      "2 -2.900903  0.551126 -1.823413  2.328462  3.856562 -1.168829 -0.790897   \n",
      "3 -2.622294  0.601306 -1.656070  2.364181  2.172798 -0.382874 -0.586375   \n",
      "4 -2.314951  0.453871 -1.465352  0.774226  1.877368 -0.612125 -0.606723   \n",
      "\n",
      "         7         8         9         10        11        12        13  \\\n",
      "0  1.057316  0.096698 -1.031296 -0.713123 -0.530065  1.066181 -0.999868   \n",
      "1  1.437787 -0.078954 -0.960263 -0.684950 -0.518734  1.173728 -1.023704   \n",
      "2  2.045945 -0.782497 -1.591368  0.389626 -0.137196  1.169737  0.716841   \n",
      "3  1.979405  0.871809 -1.993071  1.305167 -0.360485  1.274500  0.139008   \n",
      "4  0.834573  1.535273 -1.731758  0.115783 -0.009838  1.172210  0.192706   \n",
      "\n",
      "         14        15        16        17        18        19  \n",
      "0 -1.231182 -1.128472  0.812050  0.187415 -0.245977 -0.002529  \n",
      "1 -1.326772 -1.020456  0.789937  0.087490 -0.078988 -0.130318  \n",
      "2  0.096226 -0.011433 -0.387276  0.405321  0.143621 -0.430130  \n",
      "3  0.773003  0.341058  0.194890  0.349566  0.064436  0.136082  \n",
      "4 -0.629418 -0.501026  0.050873  0.137861  0.297256 -0.119047  \n",
      "\n",
      "Size: \n",
      "(18243, 20)\n"
     ]
    }
   ],
   "source": [
    "X_pca = pd.DataFrame(X_pca)\n",
    "print(X_pca.head())\n",
    "print(\"\\nSize: \")\n",
    "print(X_pca.shape)"
   ]
  },
  {
   "cell_type": "code",
   "execution_count": 55,
   "id": "21ea4e4c",
   "metadata": {},
   "outputs": [],
   "source": [
    "X_train_pca, X_test_pca, y_train, y_test = train_test_split(\n",
    "    X_pca, y, test_size=0.20, shuffle=True, random_state=101\n",
    ")\n",
    "\n",
    "log_model = LogisticRegression(solver=\"saga\", multi_class=\"ovr\", max_iter=5000)\n",
    "log_model.fit(X_train_pca, y_train)\n",
    "\n",
    "y_predict = log_model.predict(X_test_pca)"
   ]
  },
  {
   "cell_type": "code",
   "execution_count": 56,
   "id": "2ff0b631",
   "metadata": {
    "scrolled": true
   },
   "outputs": [
    {
     "name": "stdout",
     "output_type": "stream",
     "text": [
      "              precision    recall  f1-score   support\n",
      "\n",
      "          -1       0.47      0.49      0.48      1050\n",
      "           0       0.33      0.00      0.00       933\n",
      "           1       0.54      0.83      0.66      1666\n",
      "\n",
      "    accuracy                           0.52      3649\n",
      "   macro avg       0.45      0.44      0.38      3649\n",
      "weighted avg       0.47      0.52      0.44      3649\n",
      "\n"
     ]
    }
   ],
   "source": [
    "print(classification_report(y_test, y_predict))"
   ]
  },
  {
   "cell_type": "markdown",
   "id": "365d36bb",
   "metadata": {},
   "source": [
    "### Section Summary\n",
    "> * It is clear from the scatter plot and the performance metrics above that there is not a linear relationship between free sulfur dioxide and alcohol values."
   ]
  },
  {
   "cell_type": "markdown",
   "id": "138fed55",
   "metadata": {},
   "source": [
    "## Random Forest"
   ]
  },
  {
   "cell_type": "markdown",
   "id": "a4ec648e",
   "metadata": {},
   "source": [
    "Random Forest cannot overfit."
   ]
  },
  {
   "cell_type": "code",
   "execution_count": 59,
   "id": "7b618c9a",
   "metadata": {},
   "outputs": [],
   "source": [
    "X_train, X_test, y_train, y_test = train_test_split(\n",
    "     X, y, test_size=0.20, shuffle=True, random_state=101)"
   ]
  },
  {
   "cell_type": "code",
   "execution_count": 60,
   "id": "12d60d01",
   "metadata": {},
   "outputs": [],
   "source": [
    "model = RandomForestClassifier(n_estimators=10, max_features=\"sqrt\", random_state=101)"
   ]
  },
  {
   "cell_type": "code",
   "execution_count": 61,
   "id": "868908d7",
   "metadata": {},
   "outputs": [],
   "source": [
    "model.fit(X_train, y_train)\n",
    "preds = model.predict(X_test)"
   ]
  },
  {
   "cell_type": "code",
   "execution_count": 63,
   "id": "10bb96d8",
   "metadata": {},
   "outputs": [
    {
     "data": {
      "text/plain": [
       "array([[ 453,  176,  421],\n",
       "       [ 287,  162,  484],\n",
       "       [ 366,  276, 1024]], dtype=int64)"
      ]
     },
     "execution_count": 63,
     "metadata": {},
     "output_type": "execute_result"
    }
   ],
   "source": [
    "confusion_matrix(y_test, preds)"
   ]
  },
  {
   "cell_type": "code",
   "execution_count": 64,
   "id": "56a9f072",
   "metadata": {
    "scrolled": false
   },
   "outputs": [
    {
     "name": "stdout",
     "output_type": "stream",
     "text": [
      "              precision    recall  f1-score   support\n",
      "\n",
      "          -1       0.41      0.43      0.42      1050\n",
      "           0       0.26      0.17      0.21       933\n",
      "           1       0.53      0.61      0.57      1666\n",
      "\n",
      "    accuracy                           0.45      3649\n",
      "   macro avg       0.40      0.41      0.40      3649\n",
      "weighted avg       0.43      0.45      0.43      3649\n",
      "\n"
     ]
    }
   ],
   "source": [
    "print(classification_report(y_test, preds))"
   ]
  },
  {
   "cell_type": "markdown",
   "id": "8c25b0cf",
   "metadata": {},
   "source": [
    "### Section Summary\n",
    "> * It is clear from the scatter plot and the performance metrics above that there is not a linear relationship between free sulfur dioxide and alcohol values."
   ]
  },
  {
   "cell_type": "markdown",
   "id": "663af15f",
   "metadata": {},
   "source": [
    "## Random Forest Grid Search"
   ]
  },
  {
   "cell_type": "markdown",
   "id": "9676357a",
   "metadata": {},
   "source": [
    "Testing different models."
   ]
  },
  {
   "cell_type": "code",
   "execution_count": 128,
   "id": "88dd7bba",
   "metadata": {},
   "outputs": [],
   "source": [
    "X_train, X_test, y_train, y_test = train_test_split(\n",
    "    X, y, test_size=0.2, random_state=101\n",
    ")"
   ]
  },
  {
   "cell_type": "code",
   "execution_count": 65,
   "id": "02469182",
   "metadata": {},
   "outputs": [],
   "source": [
    "n_estimators = [\n",
    "    5,\n",
    "    15,\n",
    "    25,\n",
    "]\n",
    "max_features = [4, 14, 24]\n",
    "bootstrap = [True, False]\n",
    "oob_score = [True, False]"
   ]
  },
  {
   "cell_type": "code",
   "execution_count": 66,
   "id": "23724719",
   "metadata": {},
   "outputs": [],
   "source": [
    "param_grid = {\n",
    "    \"n_estimators\": n_estimators,\n",
    "    \"max_features\": max_features,\n",
    "    \"bootstrap\": bootstrap,\n",
    "    \"oob_score\": oob_score,\n",
    "}"
   ]
  },
  {
   "cell_type": "code",
   "execution_count": 67,
   "id": "83ab545f",
   "metadata": {},
   "outputs": [],
   "source": [
    "rfc = RandomForestClassifier()\n",
    "grid = GridSearchCV(rfc, param_grid)"
   ]
  },
  {
   "cell_type": "code",
   "execution_count": 68,
   "id": "305ae14f",
   "metadata": {},
   "outputs": [
    {
     "data": {
      "text/html": [
       "<style>#sk-container-id-5 {color: black;background-color: white;}#sk-container-id-5 pre{padding: 0;}#sk-container-id-5 div.sk-toggleable {background-color: white;}#sk-container-id-5 label.sk-toggleable__label {cursor: pointer;display: block;width: 100%;margin-bottom: 0;padding: 0.3em;box-sizing: border-box;text-align: center;}#sk-container-id-5 label.sk-toggleable__label-arrow:before {content: \"▸\";float: left;margin-right: 0.25em;color: #696969;}#sk-container-id-5 label.sk-toggleable__label-arrow:hover:before {color: black;}#sk-container-id-5 div.sk-estimator:hover label.sk-toggleable__label-arrow:before {color: black;}#sk-container-id-5 div.sk-toggleable__content {max-height: 0;max-width: 0;overflow: hidden;text-align: left;background-color: #f0f8ff;}#sk-container-id-5 div.sk-toggleable__content pre {margin: 0.2em;color: black;border-radius: 0.25em;background-color: #f0f8ff;}#sk-container-id-5 input.sk-toggleable__control:checked~div.sk-toggleable__content {max-height: 200px;max-width: 100%;overflow: auto;}#sk-container-id-5 input.sk-toggleable__control:checked~label.sk-toggleable__label-arrow:before {content: \"▾\";}#sk-container-id-5 div.sk-estimator input.sk-toggleable__control:checked~label.sk-toggleable__label {background-color: #d4ebff;}#sk-container-id-5 div.sk-label input.sk-toggleable__control:checked~label.sk-toggleable__label {background-color: #d4ebff;}#sk-container-id-5 input.sk-hidden--visually {border: 0;clip: rect(1px 1px 1px 1px);clip: rect(1px, 1px, 1px, 1px);height: 1px;margin: -1px;overflow: hidden;padding: 0;position: absolute;width: 1px;}#sk-container-id-5 div.sk-estimator {font-family: monospace;background-color: #f0f8ff;border: 1px dotted black;border-radius: 0.25em;box-sizing: border-box;margin-bottom: 0.5em;}#sk-container-id-5 div.sk-estimator:hover {background-color: #d4ebff;}#sk-container-id-5 div.sk-parallel-item::after {content: \"\";width: 100%;border-bottom: 1px solid gray;flex-grow: 1;}#sk-container-id-5 div.sk-label:hover label.sk-toggleable__label {background-color: #d4ebff;}#sk-container-id-5 div.sk-serial::before {content: \"\";position: absolute;border-left: 1px solid gray;box-sizing: border-box;top: 0;bottom: 0;left: 50%;z-index: 0;}#sk-container-id-5 div.sk-serial {display: flex;flex-direction: column;align-items: center;background-color: white;padding-right: 0.2em;padding-left: 0.2em;position: relative;}#sk-container-id-5 div.sk-item {position: relative;z-index: 1;}#sk-container-id-5 div.sk-parallel {display: flex;align-items: stretch;justify-content: center;background-color: white;position: relative;}#sk-container-id-5 div.sk-item::before, #sk-container-id-5 div.sk-parallel-item::before {content: \"\";position: absolute;border-left: 1px solid gray;box-sizing: border-box;top: 0;bottom: 0;left: 50%;z-index: -1;}#sk-container-id-5 div.sk-parallel-item {display: flex;flex-direction: column;z-index: 1;position: relative;background-color: white;}#sk-container-id-5 div.sk-parallel-item:first-child::after {align-self: flex-end;width: 50%;}#sk-container-id-5 div.sk-parallel-item:last-child::after {align-self: flex-start;width: 50%;}#sk-container-id-5 div.sk-parallel-item:only-child::after {width: 0;}#sk-container-id-5 div.sk-dashed-wrapped {border: 1px dashed gray;margin: 0 0.4em 0.5em 0.4em;box-sizing: border-box;padding-bottom: 0.4em;background-color: white;}#sk-container-id-5 div.sk-label label {font-family: monospace;font-weight: bold;display: inline-block;line-height: 1.2em;}#sk-container-id-5 div.sk-label-container {text-align: center;}#sk-container-id-5 div.sk-container {/* jupyter's `normalize.less` sets `[hidden] { display: none; }` but bootstrap.min.css set `[hidden] { display: none !important; }` so we also need the `!important` here to be able to override the default hidden behavior on the sphinx rendered scikit-learn.org. See: https://github.com/scikit-learn/scikit-learn/issues/21755 */display: inline-block !important;position: relative;}#sk-container-id-5 div.sk-text-repr-fallback {display: none;}</style><div id=\"sk-container-id-5\" class=\"sk-top-container\"><div class=\"sk-text-repr-fallback\"><pre>GridSearchCV(estimator=RandomForestClassifier(),\n",
       "             param_grid={&#x27;bootstrap&#x27;: [True, False],\n",
       "                         &#x27;max_features&#x27;: [4, 14, 24],\n",
       "                         &#x27;n_estimators&#x27;: [5, 15, 25],\n",
       "                         &#x27;oob_score&#x27;: [True, False]})</pre><b>In a Jupyter environment, please rerun this cell to show the HTML representation or trust the notebook. <br />On GitHub, the HTML representation is unable to render, please try loading this page with nbviewer.org.</b></div><div class=\"sk-container\" hidden><div class=\"sk-item sk-dashed-wrapped\"><div class=\"sk-label-container\"><div class=\"sk-label sk-toggleable\"><input class=\"sk-toggleable__control sk-hidden--visually\" id=\"sk-estimator-id-5\" type=\"checkbox\" ><label for=\"sk-estimator-id-5\" class=\"sk-toggleable__label sk-toggleable__label-arrow\">GridSearchCV</label><div class=\"sk-toggleable__content\"><pre>GridSearchCV(estimator=RandomForestClassifier(),\n",
       "             param_grid={&#x27;bootstrap&#x27;: [True, False],\n",
       "                         &#x27;max_features&#x27;: [4, 14, 24],\n",
       "                         &#x27;n_estimators&#x27;: [5, 15, 25],\n",
       "                         &#x27;oob_score&#x27;: [True, False]})</pre></div></div></div><div class=\"sk-parallel\"><div class=\"sk-parallel-item\"><div class=\"sk-item\"><div class=\"sk-label-container\"><div class=\"sk-label sk-toggleable\"><input class=\"sk-toggleable__control sk-hidden--visually\" id=\"sk-estimator-id-6\" type=\"checkbox\" ><label for=\"sk-estimator-id-6\" class=\"sk-toggleable__label sk-toggleable__label-arrow\">estimator: RandomForestClassifier</label><div class=\"sk-toggleable__content\"><pre>RandomForestClassifier()</pre></div></div></div><div class=\"sk-serial\"><div class=\"sk-item\"><div class=\"sk-estimator sk-toggleable\"><input class=\"sk-toggleable__control sk-hidden--visually\" id=\"sk-estimator-id-7\" type=\"checkbox\" ><label for=\"sk-estimator-id-7\" class=\"sk-toggleable__label sk-toggleable__label-arrow\">RandomForestClassifier</label><div class=\"sk-toggleable__content\"><pre>RandomForestClassifier()</pre></div></div></div></div></div></div></div></div></div></div>"
      ],
      "text/plain": [
       "GridSearchCV(estimator=RandomForestClassifier(),\n",
       "             param_grid={'bootstrap': [True, False],\n",
       "                         'max_features': [4, 14, 24],\n",
       "                         'n_estimators': [5, 15, 25],\n",
       "                         'oob_score': [True, False]})"
      ]
     },
     "execution_count": 68,
     "metadata": {},
     "output_type": "execute_result"
    }
   ],
   "source": [
    "grid.fit(X_train, y_train)"
   ]
  },
  {
   "cell_type": "code",
   "execution_count": 69,
   "id": "1b60d362",
   "metadata": {},
   "outputs": [
    {
     "data": {
      "text/plain": [
       "{'bootstrap': True, 'max_features': 14, 'n_estimators': 25, 'oob_score': True}"
      ]
     },
     "execution_count": 69,
     "metadata": {},
     "output_type": "execute_result"
    }
   ],
   "source": [
    "grid.best_params_"
   ]
  },
  {
   "cell_type": "code",
   "execution_count": 70,
   "id": "d8e39d44",
   "metadata": {},
   "outputs": [],
   "source": [
    "preds = grid.predict(X_test)"
   ]
  },
  {
   "cell_type": "code",
   "execution_count": 71,
   "id": "b7f9c1cd",
   "metadata": {},
   "outputs": [
    {
     "name": "stdout",
     "output_type": "stream",
     "text": [
      "              precision    recall  f1-score   support\n",
      "\n",
      "          -1       0.43      0.41      0.42      1050\n",
      "           0       0.29      0.15      0.19       933\n",
      "           1       0.54      0.71      0.61      1666\n",
      "\n",
      "    accuracy                           0.48      3649\n",
      "   macro avg       0.42      0.42      0.41      3649\n",
      "weighted avg       0.45      0.48      0.45      3649\n",
      "\n"
     ]
    }
   ],
   "source": [
    "print(classification_report(y_test, preds))"
   ]
  },
  {
   "cell_type": "code",
   "execution_count": null,
   "id": "3e4047a9",
   "metadata": {},
   "outputs": [],
   "source": [
    "rfc = RandomForestClassifier(\n",
    "    bootstrap=True, max_features=28, n_estimators=15, oob_score=False\n",
    ")"
   ]
  },
  {
   "cell_type": "code",
   "execution_count": null,
   "id": "17716bd3",
   "metadata": {},
   "outputs": [],
   "source": [
    "rfc.fit(X_train, y_train)\n",
    "preds = rfc.predict(X_test)"
   ]
  },
  {
   "cell_type": "code",
   "execution_count": null,
   "id": "930e8d85",
   "metadata": {},
   "outputs": [],
   "source": [
    "confusion_matrix(y_test, preds)"
   ]
  },
  {
   "cell_type": "code",
   "execution_count": null,
   "id": "710e5f05",
   "metadata": {},
   "outputs": [],
   "source": [
    "print(classification_report(y_test, preds))"
   ]
  },
  {
   "cell_type": "markdown",
   "id": "b6fb4b56",
   "metadata": {},
   "source": [
    "### Section Summary\n",
    "> * It is clear from the scatter plot and the performance metrics above that there is not a linear relationship between free sulfur dioxide and alcohol values."
   ]
  },
  {
   "cell_type": "markdown",
   "id": "89826119",
   "metadata": {},
   "source": [
    "## ELI5"
   ]
  },
  {
   "cell_type": "markdown",
   "id": "6cee71e5",
   "metadata": {},
   "source": [
    "Model importance"
   ]
  },
  {
   "cell_type": "code",
   "execution_count": null,
   "id": "40a51eca",
   "metadata": {},
   "outputs": [],
   "source": [
    "log_model.fit(X_test, y_test)\n",
    "\n",
    "perm = PermutationImportance(log_model, random_state=1)\n",
    "\n",
    "eli.show_prediction(\n",
    "    log_model, X_test.iloc[1], feature_names=list(X.columns), show_feature_values=True\n",
    ")"
   ]
  },
  {
   "cell_type": "markdown",
   "id": "4a5fe984",
   "metadata": {},
   "source": [
    "### Section Summary\n",
    "> * It is clear from the scatter plot and the performance metrics above that there is not a linear relationship between free sulfur dioxide and alcohol values."
   ]
  },
  {
   "cell_type": "markdown",
   "id": "d29a69d7",
   "metadata": {},
   "source": [
    "# Conclusions"
   ]
  },
  {
   "cell_type": "markdown",
   "id": "1c9ac04d",
   "metadata": {},
   "source": [
    "Here is a summary of the conclusions that may be drawn from this report. "
   ]
  },
  {
   "cell_type": "markdown",
   "id": "f1925dff",
   "metadata": {},
   "source": [
    ">* **The Analysis of the Data:** I reviewed nearly 1,600 data points of red Portuguese \"Vinho Verde\" wines. The data in this dataset is imbalanced. For example, while there are only 18 wines of quality 8 there are 681 wines of quality 5. It is hard to trust our conclusions fully since we don't have a balance in the amount of data in each quality category.<br> \n",
    ">* **The Goals:** The goal of this analysis was to determine what makes wine, \"good.\" Since the quality score was given subjectively by a human taster, I chose both 7 and 8 as \"good quality,\" to allow for the natural subjectivity that went into scoring the quality of wines. The report divided the wines in the dataset into two groups: Good wines were quality 7 or 8. Bad wines were quality 3 - 6. The other goal was to predict the alcohol values from the data in this dataset. <br> \n",
    ">* **Multivariant Logistic Regression Model to Predict Quality:** The logistic regression model I tested in this report used 7 features. It predicted quality with an ADEQUATE accuracy score of approximately 0.80. <br>\n",
    ">* **Multivariant Decision Tree Model to Predict Quality:** The decision tree model I tested in this report used 7 features. It predicted quality with an ADEQUATE accuracy score of 0.80. <br>\n",
    ">* **Multivariant Linear Regression Model to Predict Alcohol:** The linear regression model I tested in this report used 6 features. It predicted alcohol with an INADEQUATE R-Squared value of 0.44 and an INADEQUATE adjusted R-Squared value of 0.39. It was clear from the scatter plots that the relationships of none of the features with alcohol were linear. It would be prudent to assume that a non-linear model may give better results.<br> \n",
    ">* **Overall Conclusion:** This analysis seems to indicate that it is possible to adequately predict the quality values from other data in this dataset but it is not possible to adequately predict the alcohol values from the data in this dataset. <br> "
   ]
  },
  {
   "cell_type": "markdown",
   "id": "f4c7f3d5",
   "metadata": {},
   "source": [
    "# Suggestions for Improvement"
   ]
  },
  {
   "cell_type": "markdown",
   "id": "1885cf09",
   "metadata": {},
   "source": [
    "This report has certain weaknesses. In this section, I outlined those weaknesses and indicated some avenues for improvement. "
   ]
  },
  {
   "cell_type": "markdown",
   "id": "612c766e",
   "metadata": {},
   "source": [
    ">* **The Dataset:** As I've mentioned in several locations in this report, the data in this dataset is imbalanced concerning data on wines of different qualities. A more balanced dataset would improve the quality of this analysis substantially. <br>\n",
    ">* **Logistic Regression Model:** My model had an accuracy value of approximately 0.80. The model could improve to achieve a higher accuracy value. I will continue to learn more about creating such models.<br>\n",
    ">* **Decision Tree Model:** My model had an accuracy value of approximately 0.80, almost identical to the logistic regression model. Similar to the logistic regression model, this model could improve to achieve a higher accuracy value and I will continue to learn more in this area as well.<br>\n",
    ">* **Linear Regression Model:** Perhaps it is possible to create a better model to predict alcohol values. The results I obtained with my linear regression model were not impressive. Working with non-linear models could be more helpful.<br>\n",
    ">* **Data Scaling:** I scaled the data for all models that I tested before I split the data into train and test sets. By doing so, I changed the data before the model could see it. This is not a good practice. It is better if the model works with unchanged, \"never seen before\" data. <br>\n",
    ">* **Statistics:** I will continue to improve my statistical knowledge to create better analyses.<br>\n",
    ">* **Pandas:** I will continue to learn to utilize more optimized Pandas techniques and algorithms.<br>\n",
    ">* **Seaborn and Matplotlib:** I will continue to improve my knowledge of Seaborn and Matplotlib for creating visualizations. <br>\n",
    ">* **Python Code:** I will continue to write better and more efficient Python code. <br>\n",
    ">* **Clean Code:** I will continue to adhere to the principles of writing clean code. <br>\n",
    ">* **Readability and Efficiency:** I will continue to improve my skills to find the delicate balance between readability and efficiency in coding.<br>"
   ]
  }
 ],
 "metadata": {
  "kernelspec": {
   "display_name": "Python 3 (ipykernel)",
   "language": "python",
   "name": "python3"
  },
  "language_info": {
   "codemirror_mode": {
    "name": "ipython",
    "version": 3
   },
   "file_extension": ".py",
   "mimetype": "text/x-python",
   "name": "python",
   "nbconvert_exporter": "python",
   "pygments_lexer": "ipython3",
   "version": "3.10.7"
  },
  "toc": {
   "base_numbering": 1,
   "nav_menu": {},
   "number_sections": true,
   "sideBar": true,
   "skip_h1_title": false,
   "title_cell": "Table of Contents",
   "title_sidebar": "Contents",
   "toc_cell": false,
   "toc_position": {},
   "toc_section_display": true,
   "toc_window_display": false
  }
 },
 "nbformat": 4,
 "nbformat_minor": 5
}
