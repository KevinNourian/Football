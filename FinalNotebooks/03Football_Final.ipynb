{
 "cells": [
  {
   "cell_type": "markdown",
   "id": "4c8e4870",
   "metadata": {},
   "source": [
    "# Analysis of Data Related to European Football Leagues"
   ]
  },
  {
   "cell_type": "markdown",
   "id": "dd2aef82",
   "metadata": {},
   "source": [
    "# Introduction"
   ]
  },
  {
   "cell_type": "markdown",
   "id": "6ec18ec7",
   "metadata": {},
   "source": [
    "Football, is a game in which two teams of 11 players, use any part of their bodies except their hands and arms to maneuver the ball into the opposing team’s goal. Only the goalkeeper is permitted to handle the ball and may do so only within the penalty area surrounding the goal. The goal is, typically, a large rectangular frame with a net attached to the back. The goal keeper is allowed to use his/her hands. The team that scores more goals wins. The standard length of a game is 90 minutes with a short break, known as ‘half time’, at the 45-minute mark. \n",
    "\n",
    "Basic skills\n",
    "- Dribbling skills - This is a vital skill that involves skillfully controlling the ball. Dribbling comes into practice throughout the game when passing the ball from player to player and dodging opponents.\n",
    "- Accuracy - This is crucial to learn when passing the ball in a skillful and tactical manner, to avoid the opposing team gaining control of the ball.\n",
    "- Spatial Awareness – Awareness of your surroundings and knowing where the ball, the members or the opposing team and your team members are at all times.\n",
    "- Communication Skills - Good listening and communication skills are another important skill as without them the game will not be successful. It’s important to listen to your teammates to tactfully play the game and get the best result.\n",
    "- Teamwork - It’s important that everyone playing the game knows and understands their role and responsibilities. It’s also vital for each player to value everyone’s efforts and come together as a team to achieve a team win.\n",
    "\n",
    "Football is believed to have originated in China in the third century BC. It is the world’s most popular ball game in numbers of players and spectators. Football’s governing body is the Fédération Internationale de Football Association (FIFA). Only America and Canada call the sport soccer. \n",
    "\n"
   ]
  },
  {
   "cell_type": "markdown",
   "id": "1318f1c5",
   "metadata": {},
   "source": [
    "# Goals"
   ]
  },
  {
   "cell_type": "markdown",
   "id": "21c70b65",
   "metadata": {},
   "source": [
    "Analyse the Europiean football dataset and see if you can provide anything that could give us a competitive advantage in the attempt to start strong in the new endevor."
   ]
  },
  {
   "cell_type": "markdown",
   "id": "18ec9520",
   "metadata": {},
   "source": [
    "# Technical Requirements"
   ]
  },
  {
   "cell_type": "markdown",
   "id": "934a3615",
   "metadata": {},
   "source": [
    "1. Perform data cleaning.\n",
    "2. Perform exploratory data analysis.\n",
    "3. Perform feature engineering.\n",
    "4. Use parameters that give you the most important statistical insights of the data.\n",
    "5. Visualize the data - you can use line, scatter, histogram plots, density plots, regplots, etc.\n",
    "6. Perform statistical inference.\n",
    "7. Do hypothesis testing. Set appropriate significance levels and create confidence intervals for the variables of interest.\n",
    "8. Apply linear machine learning models and use them for forecasting. \n",
    "9. Use cross validation, information criteria, and/or other methods to specify your models correctly.\n",
    "10. Choose and use appropriate metrics to measure your models' performance.\n",
    "11. Provide clear explanations. \n",
    "12. Provide conclusions and suggestions about how the analysis can be improved."
   ]
  },
  {
   "cell_type": "markdown",
   "id": "75b82b1a",
   "metadata": {},
   "source": [
    "# Standards"
   ]
  },
  {
   "cell_type": "markdown",
   "id": "c84c9b4e",
   "metadata": {},
   "source": [
    "Below is a summary of the standards I followed to create this report. "
   ]
  },
  {
   "cell_type": "markdown",
   "id": "257dce32",
   "metadata": {},
   "source": [
    ">* **Standard 1:** Since one of my goals was to determine what makes wine, \"good,\" I concentrated on wines that received a high quality score of 7 or 8.\n",
    ">* **Standard 2:** For correlation between features in the dataset, my threshold was 0.8 or higher to indicate a correlation."
   ]
  },
  {
   "cell_type": "markdown",
   "id": "b911ddc0",
   "metadata": {},
   "source": [
    "# Biases"
   ]
  },
  {
   "cell_type": "markdown",
   "id": "8f2d56de",
   "metadata": {},
   "source": [
    "Below are the biases I identified while creating this report."
   ]
  },
  {
   "cell_type": "markdown",
   "id": "096b9a11",
   "metadata": {},
   "source": [
    ">* **Bias 1:** The number of wines in each quality category varies. For example, there are only 18 wines of quality 8 compared with 681 wines of quality 5. It is hard to trust our conclusions fully since we don't have a balance in the amount of data in each quality category. This creates a significant bias. \n",
    ">* **Bias 2:** I have no expertise in wine production or testing. There may be parts of the data that I have overlooked that may have been most important and I may have given importance to parts of the data that may have had little significance. "
   ]
  },
  {
   "cell_type": "markdown",
   "id": "5c8fabad",
   "metadata": {},
   "source": [
    "# Libraries"
   ]
  },
  {
   "cell_type": "code",
   "execution_count": 352,
   "id": "edbd314d",
   "metadata": {},
   "outputs": [],
   "source": [
    "import pandas as pd\n",
    "import numpy as np\n",
    "import sqlite3\n",
    "import seaborn as sns\n",
    "import matplotlib as mpl\n",
    "import matplotlib.pyplot as plt\n",
    "import warnings\n",
    "import xml.etree.ElementTree as ET\n",
    "import eli5 as eli\n",
    "\n",
    "from sklearn.model_selection import train_test_split, GridSearchCV\n",
    "from sklearn.linear_model import LogisticRegression\n",
    "from sklearn.preprocessing import StandardScaler\n",
    "from sklearn.metrics import accuracy_score, confusion_matrix, classification_report\n",
    "from sklearn.decomposition import PCA\n",
    "from sklearn.model_selection import GridSearchCV\n",
    "from xml.etree.ElementTree import fromstring, ElementTree\n",
    "from sklearn.impute import SimpleImputer\n",
    "from sklearn.ensemble import RandomForestClassifier\n",
    "from eli5.sklearn import PermutationImportance"
   ]
  },
  {
   "cell_type": "markdown",
   "id": "driven-arlington",
   "metadata": {},
   "source": [
    "# Display Parameters"
   ]
  },
  {
   "cell_type": "markdown",
   "id": "double-logging",
   "metadata": {},
   "source": [
    "## Display Features"
   ]
  },
  {
   "cell_type": "code",
   "execution_count": 353,
   "id": "driven-element",
   "metadata": {},
   "outputs": [],
   "source": [
    "%matplotlib inline\n",
    "pd.options.display.max_rows = 300000\n",
    "pd.options.display.max_columns = 999\n",
    "pd.options.display.max_colwidth = 500\n",
    "warnings.filterwarnings(\"ignore\")"
   ]
  },
  {
   "cell_type": "markdown",
   "id": "incredible-stupid",
   "metadata": {},
   "source": [
    "## Figure Parameters"
   ]
  },
  {
   "cell_type": "code",
   "execution_count": 309,
   "id": "secret-canadian",
   "metadata": {},
   "outputs": [],
   "source": [
    "size = 20\n",
    "sns.set(style=\"white\", palette = 'RdBu')\n",
    "\n",
    "params = {\n",
    "    \"font.family\": \"Times New Roman\",\n",
    "    \"font.size\": size,\n",
    "    \"axes.labelsize\": size,\n",
    "    \"xtick.labelsize\": size * 0.75,\n",
    "    \"ytick.labelsize\": size * 0.75,\n",
    "    \"figure.titlesize\": size * 1.5,\n",
    "    \"axes.titlesize\": size * 1.5,\n",
    "    \"axes.titlepad\": size,\n",
    "    \"axes.labelpad\": size - 10,\n",
    "    \"lines.linewidth\": 2,\n",
    "    \"axes.spines.top\": False,\n",
    "    \"axes.spines.right\": False,\n",
    "    \"axes.spines.left\": False,\n",
    "    \"axes.spines.bottom\": False,\n",
    "    \"legend.fontsize\": size,\n",
    "}"
   ]
  },
  {
   "cell_type": "markdown",
   "id": "b05ff9ae",
   "metadata": {},
   "source": [
    "# Load Raw Data"
   ]
  },
  {
   "cell_type": "code",
   "execution_count": 5,
   "id": "b23e4c41",
   "metadata": {},
   "outputs": [],
   "source": [
    "football = sqlite3.connect(\n",
    "    \"C:\\\\Users\\\\Space\\\\Documents\\\\py\\\\Projects\\\\TuringCollege\\\\Football\\\\database.sqlite\"\n",
    ")"
   ]
  },
  {
   "cell_type": "code",
   "execution_count": 354,
   "id": "670cf865",
   "metadata": {},
   "outputs": [],
   "source": [
    "result = football.execute(\"SELECT name FROM sqlite_master WHERE type='table';\")\n",
    "\n",
    "for table in result:\n",
    "    query = \"SELECT * from \" + str(table[0]) + \";\"\n",
    "    football_db[table[0]] = pd.read_sql_query(query, football)"
   ]
  },
  {
   "cell_type": "markdown",
   "id": "e73026ec",
   "metadata": {},
   "source": [
    "# Dataset"
   ]
  },
  {
   "cell_type": "markdown",
   "id": "589d4772",
   "metadata": {},
   "source": [
    "For this report, I used the Ultimate 25k+ Matches Football Database - European dataset from Kaggle."
   ]
  },
  {
   "cell_type": "markdown",
   "id": "d75c889b",
   "metadata": {},
   "source": [
    "# Data Overview and Cleaning"
   ]
  },
  {
   "cell_type": "markdown",
   "id": "6aba3cdd",
   "metadata": {},
   "source": [
    "This data set is comprised of seven (7) tables\n",
    "1. Country\n",
    "2. Leauge\n",
    "3. Player\n",
    "4. Plater Attribute\n",
    "5. Team\n",
    "6. Team Attribute\n",
    "7. Match"
   ]
  },
  {
   "cell_type": "markdown",
   "id": "dab162fd",
   "metadata": {},
   "source": [
    "## Country"
   ]
  },
  {
   "cell_type": "markdown",
   "id": "1887b77f",
   "metadata": {},
   "source": [
    "The Country table is comprised of 11 countries whose leagues and teams are part of this dataset. "
   ]
  },
  {
   "cell_type": "code",
   "execution_count": 355,
   "id": "e94cbc0c",
   "metadata": {},
   "outputs": [],
   "source": [
    "country = football_db[\"Country\"].copy()"
   ]
  },
  {
   "cell_type": "code",
   "execution_count": 356,
   "id": "097d763a",
   "metadata": {},
   "outputs": [],
   "source": [
    "country.rename(columns={\"id\": \"CountryID\", \"name\": \"CountryName\"}, inplace=True)"
   ]
  },
  {
   "cell_type": "code",
   "execution_count": 358,
   "id": "ab828ad2",
   "metadata": {},
   "outputs": [
    {
     "data": {
      "text/html": [
       "<div>\n",
       "<style scoped>\n",
       "    .dataframe tbody tr th:only-of-type {\n",
       "        vertical-align: middle;\n",
       "    }\n",
       "\n",
       "    .dataframe tbody tr th {\n",
       "        vertical-align: top;\n",
       "    }\n",
       "\n",
       "    .dataframe thead th {\n",
       "        text-align: right;\n",
       "    }\n",
       "</style>\n",
       "<table border=\"1\" class=\"dataframe\">\n",
       "  <thead>\n",
       "    <tr style=\"text-align: right;\">\n",
       "      <th></th>\n",
       "      <th>CountryID</th>\n",
       "      <th>CountryName</th>\n",
       "    </tr>\n",
       "  </thead>\n",
       "  <tbody>\n",
       "    <tr>\n",
       "      <th>0</th>\n",
       "      <td>1</td>\n",
       "      <td>Belgium</td>\n",
       "    </tr>\n",
       "    <tr>\n",
       "      <th>1</th>\n",
       "      <td>1729</td>\n",
       "      <td>England</td>\n",
       "    </tr>\n",
       "    <tr>\n",
       "      <th>2</th>\n",
       "      <td>4769</td>\n",
       "      <td>France</td>\n",
       "    </tr>\n",
       "    <tr>\n",
       "      <th>3</th>\n",
       "      <td>7809</td>\n",
       "      <td>Germany</td>\n",
       "    </tr>\n",
       "    <tr>\n",
       "      <th>4</th>\n",
       "      <td>10257</td>\n",
       "      <td>Italy</td>\n",
       "    </tr>\n",
       "    <tr>\n",
       "      <th>5</th>\n",
       "      <td>13274</td>\n",
       "      <td>Netherlands</td>\n",
       "    </tr>\n",
       "    <tr>\n",
       "      <th>6</th>\n",
       "      <td>15722</td>\n",
       "      <td>Poland</td>\n",
       "    </tr>\n",
       "    <tr>\n",
       "      <th>7</th>\n",
       "      <td>17642</td>\n",
       "      <td>Portugal</td>\n",
       "    </tr>\n",
       "    <tr>\n",
       "      <th>8</th>\n",
       "      <td>19694</td>\n",
       "      <td>Scotland</td>\n",
       "    </tr>\n",
       "    <tr>\n",
       "      <th>9</th>\n",
       "      <td>21518</td>\n",
       "      <td>Spain</td>\n",
       "    </tr>\n",
       "    <tr>\n",
       "      <th>10</th>\n",
       "      <td>24558</td>\n",
       "      <td>Switzerland</td>\n",
       "    </tr>\n",
       "  </tbody>\n",
       "</table>\n",
       "</div>"
      ],
      "text/plain": [
       "    CountryID  CountryName\n",
       "0           1      Belgium\n",
       "1        1729      England\n",
       "2        4769       France\n",
       "3        7809      Germany\n",
       "4       10257        Italy\n",
       "5       13274  Netherlands\n",
       "6       15722       Poland\n",
       "7       17642     Portugal\n",
       "8       19694     Scotland\n",
       "9       21518        Spain\n",
       "10      24558  Switzerland"
      ]
     },
     "execution_count": 358,
     "metadata": {},
     "output_type": "execute_result"
    }
   ],
   "source": [
    "country"
   ]
  },
  {
   "cell_type": "code",
   "execution_count": 388,
   "id": "fb265e53",
   "metadata": {},
   "outputs": [
    {
     "data": {
      "text/plain": [
       "(11, 2)"
      ]
     },
     "execution_count": 388,
     "metadata": {},
     "output_type": "execute_result"
    }
   ],
   "source": [
    "country.shape"
   ]
  },
  {
   "cell_type": "markdown",
   "id": "d0cf3471",
   "metadata": {},
   "source": [
    "### Section Summary\n",
    "> * It is clear from the scatter plot and the performance metrics above that there is not a linear relationship between free sulfur dioxide and alcohol values."
   ]
  },
  {
   "cell_type": "markdown",
   "id": "632ddf37",
   "metadata": {},
   "source": [
    "## League"
   ]
  },
  {
   "cell_type": "markdown",
   "id": "1d89d4fa",
   "metadata": {},
   "source": [
    "The League tables contains the 11 leagues, one from each country above."
   ]
  },
  {
   "cell_type": "code",
   "execution_count": 362,
   "id": "5247800d",
   "metadata": {},
   "outputs": [],
   "source": [
    "league = football_db[\"League\"].copy()"
   ]
  },
  {
   "cell_type": "code",
   "execution_count": 363,
   "id": "b7489092",
   "metadata": {},
   "outputs": [],
   "source": [
    "del league[\"id\"]\n",
    "league = league.rename(columns={\"country_id\":\"LeagueID\", \"name\": \"LeagueName\"})"
   ]
  },
  {
   "cell_type": "code",
   "execution_count": 366,
   "id": "23e5920a",
   "metadata": {
    "scrolled": true
   },
   "outputs": [
    {
     "data": {
      "text/html": [
       "<div>\n",
       "<style scoped>\n",
       "    .dataframe tbody tr th:only-of-type {\n",
       "        vertical-align: middle;\n",
       "    }\n",
       "\n",
       "    .dataframe tbody tr th {\n",
       "        vertical-align: top;\n",
       "    }\n",
       "\n",
       "    .dataframe thead th {\n",
       "        text-align: right;\n",
       "    }\n",
       "</style>\n",
       "<table border=\"1\" class=\"dataframe\">\n",
       "  <thead>\n",
       "    <tr style=\"text-align: right;\">\n",
       "      <th></th>\n",
       "      <th>LeagueID</th>\n",
       "      <th>LeagueName</th>\n",
       "    </tr>\n",
       "  </thead>\n",
       "  <tbody>\n",
       "    <tr>\n",
       "      <th>0</th>\n",
       "      <td>1</td>\n",
       "      <td>Belgium Jupiler League</td>\n",
       "    </tr>\n",
       "    <tr>\n",
       "      <th>1</th>\n",
       "      <td>1729</td>\n",
       "      <td>England Premier League</td>\n",
       "    </tr>\n",
       "    <tr>\n",
       "      <th>2</th>\n",
       "      <td>4769</td>\n",
       "      <td>France Ligue 1</td>\n",
       "    </tr>\n",
       "    <tr>\n",
       "      <th>3</th>\n",
       "      <td>7809</td>\n",
       "      <td>Germany 1. Bundesliga</td>\n",
       "    </tr>\n",
       "    <tr>\n",
       "      <th>4</th>\n",
       "      <td>10257</td>\n",
       "      <td>Italy Serie A</td>\n",
       "    </tr>\n",
       "  </tbody>\n",
       "</table>\n",
       "</div>"
      ],
      "text/plain": [
       "   LeagueID              LeagueName\n",
       "0         1  Belgium Jupiler League\n",
       "1      1729  England Premier League\n",
       "2      4769          France Ligue 1\n",
       "3      7809   Germany 1. Bundesliga\n",
       "4     10257           Italy Serie A"
      ]
     },
     "execution_count": 366,
     "metadata": {},
     "output_type": "execute_result"
    }
   ],
   "source": [
    "league.head()"
   ]
  },
  {
   "cell_type": "code",
   "execution_count": 387,
   "id": "e545c680",
   "metadata": {},
   "outputs": [
    {
     "data": {
      "text/plain": [
       "(11, 2)"
      ]
     },
     "execution_count": 387,
     "metadata": {},
     "output_type": "execute_result"
    }
   ],
   "source": [
    "league.shape"
   ]
  },
  {
   "cell_type": "markdown",
   "id": "633671ba",
   "metadata": {},
   "source": [
    "## Player"
   ]
  },
  {
   "cell_type": "markdown",
   "id": "b68b6df6",
   "metadata": {},
   "source": [
    "The player table contains basic information about each of the players in the dataset. I calculated the Body Mass Index for each player, added it to this table for later analysis. "
   ]
  },
  {
   "cell_type": "code",
   "execution_count": 379,
   "id": "da699ec3",
   "metadata": {},
   "outputs": [],
   "source": [
    "player = football_db[\"Player\"].copy()"
   ]
  },
  {
   "cell_type": "code",
   "execution_count": 380,
   "id": "49ad8869",
   "metadata": {},
   "outputs": [],
   "source": [
    "player.drop(columns=[\"id\", \"player_fifa_api_id\"], inplace=True)\n",
    "player = player.set_index(\"player_api_id\")\n",
    "player = player.rename_axis(\"player_api_id\").reset_index()"
   ]
  },
  {
   "cell_type": "code",
   "execution_count": 381,
   "id": "f368a2ae",
   "metadata": {},
   "outputs": [],
   "source": [
    "player.rename(\n",
    "    columns={\n",
    "        \"player_api_id\": \"PlayerID\",\n",
    "        \"player_name\": \"PlayerName\",\n",
    "        \"birthday\": \"Birthday\",\n",
    "        \"height\": \"Height\",\n",
    "        \"weight\": \"Weight\",\n",
    "    },\n",
    "    inplace=True,\n",
    ")"
   ]
  },
  {
   "cell_type": "code",
   "execution_count": 382,
   "id": "2d35ef3b",
   "metadata": {},
   "outputs": [],
   "source": [
    "player[\"BMI\"] = np.round(\n",
    "    (player[\"Weight\"] / 2.205) / ((player[\"Height\"] / 100.0) ** 2), 2\n",
    ")"
   ]
  },
  {
   "cell_type": "code",
   "execution_count": 383,
   "id": "f0c183c1",
   "metadata": {},
   "outputs": [],
   "source": [
    "player[\"Birthday\"] = pd.DatetimeIndex(player[\"Birthday\"]).year"
   ]
  },
  {
   "cell_type": "code",
   "execution_count": 386,
   "id": "b4915fca",
   "metadata": {},
   "outputs": [
    {
     "data": {
      "text/plain": [
       "PlayerID      0.0\n",
       "PlayerName    0.0\n",
       "Birthday      0.0\n",
       "Height        0.0\n",
       "Weight        0.0\n",
       "BMI           0.0\n",
       "dtype: float64"
      ]
     },
     "execution_count": 386,
     "metadata": {},
     "output_type": "execute_result"
    }
   ],
   "source": [
    "player[player.duplicated()].sum()"
   ]
  },
  {
   "cell_type": "code",
   "execution_count": 384,
   "id": "5bf1a4fc",
   "metadata": {
    "scrolled": false
   },
   "outputs": [
    {
     "data": {
      "text/html": [
       "<div>\n",
       "<style scoped>\n",
       "    .dataframe tbody tr th:only-of-type {\n",
       "        vertical-align: middle;\n",
       "    }\n",
       "\n",
       "    .dataframe tbody tr th {\n",
       "        vertical-align: top;\n",
       "    }\n",
       "\n",
       "    .dataframe thead th {\n",
       "        text-align: right;\n",
       "    }\n",
       "</style>\n",
       "<table border=\"1\" class=\"dataframe\">\n",
       "  <thead>\n",
       "    <tr style=\"text-align: right;\">\n",
       "      <th></th>\n",
       "      <th>PlayerID</th>\n",
       "      <th>PlayerName</th>\n",
       "      <th>Birthday</th>\n",
       "      <th>Height</th>\n",
       "      <th>Weight</th>\n",
       "      <th>BMI</th>\n",
       "    </tr>\n",
       "  </thead>\n",
       "  <tbody>\n",
       "    <tr>\n",
       "      <th>0</th>\n",
       "      <td>505942</td>\n",
       "      <td>Aaron Appindangoye</td>\n",
       "      <td>1992</td>\n",
       "      <td>182.88</td>\n",
       "      <td>187</td>\n",
       "      <td>25.36</td>\n",
       "    </tr>\n",
       "    <tr>\n",
       "      <th>1</th>\n",
       "      <td>155782</td>\n",
       "      <td>Aaron Cresswell</td>\n",
       "      <td>1989</td>\n",
       "      <td>170.18</td>\n",
       "      <td>146</td>\n",
       "      <td>22.86</td>\n",
       "    </tr>\n",
       "    <tr>\n",
       "      <th>2</th>\n",
       "      <td>162549</td>\n",
       "      <td>Aaron Doran</td>\n",
       "      <td>1991</td>\n",
       "      <td>170.18</td>\n",
       "      <td>163</td>\n",
       "      <td>25.52</td>\n",
       "    </tr>\n",
       "    <tr>\n",
       "      <th>3</th>\n",
       "      <td>30572</td>\n",
       "      <td>Aaron Galindo</td>\n",
       "      <td>1982</td>\n",
       "      <td>182.88</td>\n",
       "      <td>198</td>\n",
       "      <td>26.85</td>\n",
       "    </tr>\n",
       "    <tr>\n",
       "      <th>4</th>\n",
       "      <td>23780</td>\n",
       "      <td>Aaron Hughes</td>\n",
       "      <td>1979</td>\n",
       "      <td>182.88</td>\n",
       "      <td>154</td>\n",
       "      <td>20.88</td>\n",
       "    </tr>\n",
       "  </tbody>\n",
       "</table>\n",
       "</div>"
      ],
      "text/plain": [
       "   PlayerID          PlayerName  Birthday  Height  Weight    BMI\n",
       "0    505942  Aaron Appindangoye      1992  182.88     187  25.36\n",
       "1    155782     Aaron Cresswell      1989  170.18     146  22.86\n",
       "2    162549         Aaron Doran      1991  170.18     163  25.52\n",
       "3     30572       Aaron Galindo      1982  182.88     198  26.85\n",
       "4     23780        Aaron Hughes      1979  182.88     154  20.88"
      ]
     },
     "execution_count": 384,
     "metadata": {},
     "output_type": "execute_result"
    }
   ],
   "source": [
    "player.head()"
   ]
  },
  {
   "cell_type": "code",
   "execution_count": 385,
   "id": "18afd4ec",
   "metadata": {},
   "outputs": [
    {
     "data": {
      "text/plain": [
       "(11060, 6)"
      ]
     },
     "execution_count": 385,
     "metadata": {},
     "output_type": "execute_result"
    }
   ],
   "source": [
    "player.shape"
   ]
  },
  {
   "cell_type": "markdown",
   "id": "c7306c86",
   "metadata": {},
   "source": [
    "## Player Attributes"
   ]
  },
  {
   "cell_type": "markdown",
   "id": "fe8dea76",
   "metadata": {},
   "source": [
    "The Player Attributes table contains vital attributes on each playermin the dataset. "
   ]
  },
  {
   "cell_type": "code",
   "execution_count": 408,
   "id": "4e520ffc",
   "metadata": {},
   "outputs": [],
   "source": [
    "player_attributes = football_db[\"Player_Attributes\"].copy()"
   ]
  },
  {
   "cell_type": "code",
   "execution_count": 409,
   "id": "e39526c5",
   "metadata": {},
   "outputs": [
    {
     "data": {
      "text/plain": [
       "(183978, 42)"
      ]
     },
     "execution_count": 409,
     "metadata": {},
     "output_type": "execute_result"
    }
   ],
   "source": [
    "player_attributes.shape"
   ]
  },
  {
   "cell_type": "code",
   "execution_count": 391,
   "id": "b9711c86",
   "metadata": {},
   "outputs": [
    {
     "data": {
      "text/plain": [
       "183781"
      ]
     },
     "execution_count": 391,
     "metadata": {},
     "output_type": "execute_result"
    }
   ],
   "source": [
    "player_attributes.duplicated(subset=[\"date\"]).sum()"
   ]
  },
  {
   "cell_type": "code",
   "execution_count": 392,
   "id": "f18e8a7d",
   "metadata": {},
   "outputs": [
    {
     "data": {
      "text/plain": [
       "172918"
      ]
     },
     "execution_count": 392,
     "metadata": {},
     "output_type": "execute_result"
    }
   ],
   "source": [
    "player_attributes.duplicated(subset=[\"player_api_id\"]).sum()"
   ]
  },
  {
   "cell_type": "code",
   "execution_count": 393,
   "id": "0796185a",
   "metadata": {},
   "outputs": [],
   "source": [
    "null_instances = player_attributes[\n",
    "    player_attributes[\"attacking_work_rate\"].isnull()\n",
    "].index\n",
    "player_attributes.drop(null_instances, inplace=True)"
   ]
  },
  {
   "cell_type": "code",
   "execution_count": 394,
   "id": "7e931c38",
   "metadata": {},
   "outputs": [],
   "source": [
    "null_instances = player_attributes[player_attributes[\"volleys\"].isnull()].index\n",
    "player_attributes.drop(null_instances, inplace=True)"
   ]
  },
  {
   "cell_type": "code",
   "execution_count": 395,
   "id": "f109af81",
   "metadata": {},
   "outputs": [],
   "source": [
    "player_attributes[\"date\"] = pd.DatetimeIndex(player_attributes[\"date\"]).year\n",
    "player_attributes.drop(columns=[\"id\", \"player_fifa_api_id\"], inplace=True)"
   ]
  },
  {
   "cell_type": "code",
   "execution_count": 396,
   "id": "171dad93",
   "metadata": {},
   "outputs": [],
   "source": [
    "player_attributes.drop(\n",
    "    columns=[\n",
    "        \"gk_diving\",\n",
    "        \"gk_handling\",\n",
    "        \"gk_kicking\",\n",
    "        \"gk_positioning\",\n",
    "        \"gk_reflexes\",\n",
    "    ],\n",
    "    inplace=True,\n",
    ")"
   ]
  },
  {
   "cell_type": "code",
   "execution_count": 397,
   "id": "7e925368",
   "metadata": {},
   "outputs": [],
   "source": [
    "def break_ties(col: str):\n",
    "    most_common = pd.Series.mode(col)\n",
    "\n",
    "    if len(most_common) > 1:\n",
    "        return most_common[0]\n",
    "    else:\n",
    "        return most_common"
   ]
  },
  {
   "cell_type": "code",
   "execution_count": 398,
   "id": "1abcc9e7",
   "metadata": {},
   "outputs": [],
   "source": [
    "players_categorical = (\n",
    "    player_attributes.groupby([\"player_api_id\", \"date\"])[\n",
    "        [\"preferred_foot\", \"attacking_work_rate\", \"defensive_work_rate\"]\n",
    "    ]\n",
    "    .agg(lambda x: break_ties(x))\n",
    "    .reset_index()\n",
    ")"
   ]
  },
  {
   "cell_type": "code",
   "execution_count": 399,
   "id": "5a68745a",
   "metadata": {},
   "outputs": [],
   "source": [
    "players_numerical = (\n",
    "    player_attributes.groupby([\"player_api_id\", \"date\"])\n",
    "    .agg(\"mean\", numeric_only=True)\n",
    "    .reset_index()\n",
    ")"
   ]
  },
  {
   "cell_type": "code",
   "execution_count": 400,
   "id": "60f403c2",
   "metadata": {},
   "outputs": [],
   "source": [
    "player_attributes = pd.merge(\n",
    "    players_categorical,\n",
    "    players_numerical,\n",
    "    on=[\"player_api_id\", \"date\"],\n",
    "    how=\"inner\",\n",
    ")"
   ]
  },
  {
   "cell_type": "code",
   "execution_count": 401,
   "id": "2ef957ea",
   "metadata": {},
   "outputs": [
    {
     "data": {
      "text/plain": [
       "array(['high', 'medium', 'None', 'low', 'norm', 'stoc', 'le', 'y'],\n",
       "      dtype=object)"
      ]
     },
     "execution_count": 401,
     "metadata": {},
     "output_type": "execute_result"
    }
   ],
   "source": [
    "player_attributes.attacking_work_rate.unique()"
   ]
  },
  {
   "cell_type": "code",
   "execution_count": 402,
   "id": "eea68797",
   "metadata": {},
   "outputs": [
    {
     "data": {
      "text/plain": [
       "array(['medium', 'low', '7', 'high', 'o', 'ormal', '4', 'tocky', '2', '9',\n",
       "       '6', '3', 'ean', '1', '5', 'es', '0', '8'], dtype=object)"
      ]
     },
     "execution_count": 402,
     "metadata": {},
     "output_type": "execute_result"
    }
   ],
   "source": [
    "player_attributes.defensive_work_rate.unique()"
   ]
  },
  {
   "cell_type": "code",
   "execution_count": 403,
   "id": "471615ba",
   "metadata": {},
   "outputs": [],
   "source": [
    "player_attributes[\"attacking_work_rate\"].replace(\n",
    "    [\"norm\", \"stoc\", \"le\", \"y\"], \"None\", inplace=True\n",
    ")\n",
    "player_attributes[\"defensive_work_rate\"].replace(\n",
    "    [\n",
    "        \"7\",\n",
    "        \"o\",\n",
    "        \"ormal\",\n",
    "        \"4\",\n",
    "        \"tocky\",\n",
    "        \"2\",\n",
    "        \"9\",\n",
    "        \"6\",\n",
    "        \"3\",\n",
    "        \"ean\",\n",
    "        \"1\",\n",
    "        \"5\",\n",
    "        \"es\",\n",
    "        \"0\",\n",
    "        \"8\",\n",
    "    ],\n",
    "    \"None\",\n",
    "    inplace=True,\n",
    ")"
   ]
  },
  {
   "cell_type": "code",
   "execution_count": 404,
   "id": "9b77dafa",
   "metadata": {},
   "outputs": [],
   "source": [
    "player_attributes.rename(\n",
    "    columns={\n",
    "        \"player_api_id\": \"PlayerID\",\n",
    "        \"date\": \"Date\",\n",
    "        \"overall_rating\": \"OverallRating\",\n",
    "        \"potential\": \"Potential\",\n",
    "        \"preferred_foot\": \"PreferredFoot\",\n",
    "        \"attacking_work_rate\": \"AttackWorkRate\",\n",
    "        \"defensive_work_rate\": \"DefenceWorkRate\",\n",
    "        \"crossing\": \"Crossing\",\n",
    "        \"finishing\": \"Finishing\",\n",
    "        \"heading_accuracy\": \"HeadingAccuracy\",\n",
    "        \"short_passing\": \"ShortPassing\",\n",
    "        \"volleys\": \"Volleys\",\n",
    "        \"dribbling\": \"Dribbling\",\n",
    "        \"curve\": \"Curve\",\n",
    "        \"free_kick_accuracy\": \"FreeKickAccuracy\",\n",
    "        \"long_passing\": \"LongPassing\",\n",
    "        \"ball_control\": \"BallControl\",\n",
    "        \"acceleration\": \"Acceleration\",\n",
    "        \"sprint_speed\": \"SprintSpeed\",\n",
    "        \"agility\": \"Agility\",\n",
    "        \"reactions\": \"Reactions\",\n",
    "        \"balance\": \"Balance\",\n",
    "        \"shot_power\": \"ShotPower\",\n",
    "        \"jumping\": \"Jumping\",\n",
    "        \"stamina\": \"Stamina\",\n",
    "        \"strength\": \"Strength\",\n",
    "        \"long_shots\": \"LongShots\",\n",
    "        \"aggression\": \"Aggression\",\n",
    "        \"interceptions\": \"Interceptions\",\n",
    "        \"positioning\": \"Positioning\",\n",
    "        \"vision\": \"Vision\",\n",
    "        \"penalties\": \"Penalties\",\n",
    "        \"marking\": \"Marking\",\n",
    "        \"standing_tackle\": \"StandingTackle\",\n",
    "        \"sliding_tackle\": \"SlidingTackle\",\n",
    "    },\n",
    "    inplace=True,\n",
    ")"
   ]
  },
  {
   "cell_type": "code",
   "execution_count": 405,
   "id": "43688136",
   "metadata": {},
   "outputs": [
    {
     "data": {
      "text/html": [
       "<div>\n",
       "<style scoped>\n",
       "    .dataframe tbody tr th:only-of-type {\n",
       "        vertical-align: middle;\n",
       "    }\n",
       "\n",
       "    .dataframe tbody tr th {\n",
       "        vertical-align: top;\n",
       "    }\n",
       "\n",
       "    .dataframe thead th {\n",
       "        text-align: right;\n",
       "    }\n",
       "</style>\n",
       "<table border=\"1\" class=\"dataframe\">\n",
       "  <thead>\n",
       "    <tr style=\"text-align: right;\">\n",
       "      <th></th>\n",
       "      <th>PlayerID</th>\n",
       "      <th>Date</th>\n",
       "      <th>PreferredFoot</th>\n",
       "      <th>AttackWorkRate</th>\n",
       "      <th>DefenceWorkRate</th>\n",
       "      <th>OverallRating</th>\n",
       "      <th>Potential</th>\n",
       "      <th>Crossing</th>\n",
       "      <th>Finishing</th>\n",
       "      <th>HeadingAccuracy</th>\n",
       "      <th>ShortPassing</th>\n",
       "      <th>Volleys</th>\n",
       "      <th>Dribbling</th>\n",
       "      <th>Curve</th>\n",
       "      <th>FreeKickAccuracy</th>\n",
       "      <th>LongPassing</th>\n",
       "      <th>BallControl</th>\n",
       "      <th>Acceleration</th>\n",
       "      <th>SprintSpeed</th>\n",
       "      <th>Agility</th>\n",
       "      <th>Reactions</th>\n",
       "      <th>Balance</th>\n",
       "      <th>ShotPower</th>\n",
       "      <th>Jumping</th>\n",
       "      <th>Stamina</th>\n",
       "      <th>Strength</th>\n",
       "      <th>LongShots</th>\n",
       "      <th>Aggression</th>\n",
       "      <th>Interceptions</th>\n",
       "      <th>Positioning</th>\n",
       "      <th>Vision</th>\n",
       "      <th>Penalties</th>\n",
       "      <th>Marking</th>\n",
       "      <th>StandingTackle</th>\n",
       "      <th>SlidingTackle</th>\n",
       "    </tr>\n",
       "  </thead>\n",
       "  <tbody>\n",
       "    <tr>\n",
       "      <th>0</th>\n",
       "      <td>2625</td>\n",
       "      <td>2007</td>\n",
       "      <td>right</td>\n",
       "      <td>high</td>\n",
       "      <td>medium</td>\n",
       "      <td>63.0</td>\n",
       "      <td>64.0</td>\n",
       "      <td>48.0</td>\n",
       "      <td>48.0</td>\n",
       "      <td>47.0</td>\n",
       "      <td>64.0</td>\n",
       "      <td>38.0</td>\n",
       "      <td>57.0</td>\n",
       "      <td>50.0</td>\n",
       "      <td>48.5</td>\n",
       "      <td>67.0</td>\n",
       "      <td>57.0</td>\n",
       "      <td>67.0</td>\n",
       "      <td>64.0</td>\n",
       "      <td>59.0</td>\n",
       "      <td>52.0</td>\n",
       "      <td>49.0</td>\n",
       "      <td>61.0</td>\n",
       "      <td>56.0</td>\n",
       "      <td>78.0</td>\n",
       "      <td>56.0</td>\n",
       "      <td>59.0</td>\n",
       "      <td>72.0</td>\n",
       "      <td>52.0</td>\n",
       "      <td>55.0</td>\n",
       "      <td>56.0</td>\n",
       "      <td>46.0</td>\n",
       "      <td>64.0</td>\n",
       "      <td>66.0</td>\n",
       "      <td>63.0</td>\n",
       "    </tr>\n",
       "    <tr>\n",
       "      <th>1</th>\n",
       "      <td>2625</td>\n",
       "      <td>2008</td>\n",
       "      <td>right</td>\n",
       "      <td>high</td>\n",
       "      <td>medium</td>\n",
       "      <td>60.0</td>\n",
       "      <td>64.0</td>\n",
       "      <td>48.0</td>\n",
       "      <td>48.0</td>\n",
       "      <td>47.0</td>\n",
       "      <td>64.0</td>\n",
       "      <td>38.0</td>\n",
       "      <td>57.0</td>\n",
       "      <td>50.0</td>\n",
       "      <td>51.0</td>\n",
       "      <td>67.0</td>\n",
       "      <td>57.0</td>\n",
       "      <td>67.0</td>\n",
       "      <td>64.0</td>\n",
       "      <td>59.0</td>\n",
       "      <td>52.0</td>\n",
       "      <td>49.0</td>\n",
       "      <td>61.0</td>\n",
       "      <td>56.0</td>\n",
       "      <td>78.0</td>\n",
       "      <td>56.0</td>\n",
       "      <td>59.0</td>\n",
       "      <td>72.0</td>\n",
       "      <td>52.0</td>\n",
       "      <td>55.0</td>\n",
       "      <td>56.0</td>\n",
       "      <td>46.0</td>\n",
       "      <td>64.0</td>\n",
       "      <td>66.0</td>\n",
       "      <td>63.0</td>\n",
       "    </tr>\n",
       "    <tr>\n",
       "      <th>2</th>\n",
       "      <td>2625</td>\n",
       "      <td>2010</td>\n",
       "      <td>right</td>\n",
       "      <td>high</td>\n",
       "      <td>medium</td>\n",
       "      <td>60.0</td>\n",
       "      <td>64.0</td>\n",
       "      <td>48.0</td>\n",
       "      <td>48.0</td>\n",
       "      <td>47.0</td>\n",
       "      <td>64.0</td>\n",
       "      <td>38.0</td>\n",
       "      <td>57.0</td>\n",
       "      <td>50.0</td>\n",
       "      <td>51.0</td>\n",
       "      <td>67.0</td>\n",
       "      <td>57.0</td>\n",
       "      <td>67.0</td>\n",
       "      <td>64.0</td>\n",
       "      <td>59.0</td>\n",
       "      <td>50.0</td>\n",
       "      <td>49.0</td>\n",
       "      <td>71.0</td>\n",
       "      <td>56.0</td>\n",
       "      <td>78.0</td>\n",
       "      <td>56.0</td>\n",
       "      <td>59.0</td>\n",
       "      <td>72.0</td>\n",
       "      <td>71.0</td>\n",
       "      <td>50.0</td>\n",
       "      <td>56.0</td>\n",
       "      <td>69.0</td>\n",
       "      <td>64.0</td>\n",
       "      <td>66.0</td>\n",
       "      <td>63.0</td>\n",
       "    </tr>\n",
       "    <tr>\n",
       "      <th>3</th>\n",
       "      <td>2625</td>\n",
       "      <td>2011</td>\n",
       "      <td>right</td>\n",
       "      <td>high</td>\n",
       "      <td>medium</td>\n",
       "      <td>58.5</td>\n",
       "      <td>60.5</td>\n",
       "      <td>52.0</td>\n",
       "      <td>47.0</td>\n",
       "      <td>46.0</td>\n",
       "      <td>58.0</td>\n",
       "      <td>37.0</td>\n",
       "      <td>56.0</td>\n",
       "      <td>49.0</td>\n",
       "      <td>50.0</td>\n",
       "      <td>66.0</td>\n",
       "      <td>58.0</td>\n",
       "      <td>66.0</td>\n",
       "      <td>63.0</td>\n",
       "      <td>58.0</td>\n",
       "      <td>49.0</td>\n",
       "      <td>61.5</td>\n",
       "      <td>68.0</td>\n",
       "      <td>55.0</td>\n",
       "      <td>77.0</td>\n",
       "      <td>55.0</td>\n",
       "      <td>58.0</td>\n",
       "      <td>71.0</td>\n",
       "      <td>65.0</td>\n",
       "      <td>49.0</td>\n",
       "      <td>55.0</td>\n",
       "      <td>66.0</td>\n",
       "      <td>63.0</td>\n",
       "      <td>63.0</td>\n",
       "      <td>57.0</td>\n",
       "    </tr>\n",
       "    <tr>\n",
       "      <th>4</th>\n",
       "      <td>2625</td>\n",
       "      <td>2012</td>\n",
       "      <td>right</td>\n",
       "      <td>medium</td>\n",
       "      <td>medium</td>\n",
       "      <td>58.0</td>\n",
       "      <td>58.0</td>\n",
       "      <td>52.0</td>\n",
       "      <td>47.0</td>\n",
       "      <td>46.0</td>\n",
       "      <td>53.0</td>\n",
       "      <td>37.0</td>\n",
       "      <td>56.0</td>\n",
       "      <td>49.0</td>\n",
       "      <td>50.0</td>\n",
       "      <td>66.0</td>\n",
       "      <td>58.0</td>\n",
       "      <td>67.0</td>\n",
       "      <td>63.0</td>\n",
       "      <td>67.0</td>\n",
       "      <td>49.0</td>\n",
       "      <td>76.0</td>\n",
       "      <td>68.0</td>\n",
       "      <td>55.0</td>\n",
       "      <td>77.0</td>\n",
       "      <td>55.5</td>\n",
       "      <td>58.0</td>\n",
       "      <td>71.0</td>\n",
       "      <td>64.0</td>\n",
       "      <td>49.0</td>\n",
       "      <td>55.0</td>\n",
       "      <td>66.0</td>\n",
       "      <td>63.0</td>\n",
       "      <td>63.0</td>\n",
       "      <td>52.0</td>\n",
       "    </tr>\n",
       "  </tbody>\n",
       "</table>\n",
       "</div>"
      ],
      "text/plain": [
       "   PlayerID  Date PreferredFoot AttackWorkRate DefenceWorkRate  OverallRating  \\\n",
       "0      2625  2007         right           high          medium           63.0   \n",
       "1      2625  2008         right           high          medium           60.0   \n",
       "2      2625  2010         right           high          medium           60.0   \n",
       "3      2625  2011         right           high          medium           58.5   \n",
       "4      2625  2012         right         medium          medium           58.0   \n",
       "\n",
       "   Potential  Crossing  Finishing  HeadingAccuracy  ShortPassing  Volleys  \\\n",
       "0       64.0      48.0       48.0             47.0          64.0     38.0   \n",
       "1       64.0      48.0       48.0             47.0          64.0     38.0   \n",
       "2       64.0      48.0       48.0             47.0          64.0     38.0   \n",
       "3       60.5      52.0       47.0             46.0          58.0     37.0   \n",
       "4       58.0      52.0       47.0             46.0          53.0     37.0   \n",
       "\n",
       "   Dribbling  Curve  FreeKickAccuracy  LongPassing  BallControl  Acceleration  \\\n",
       "0       57.0   50.0              48.5         67.0         57.0          67.0   \n",
       "1       57.0   50.0              51.0         67.0         57.0          67.0   \n",
       "2       57.0   50.0              51.0         67.0         57.0          67.0   \n",
       "3       56.0   49.0              50.0         66.0         58.0          66.0   \n",
       "4       56.0   49.0              50.0         66.0         58.0          67.0   \n",
       "\n",
       "   SprintSpeed  Agility  Reactions  Balance  ShotPower  Jumping  Stamina  \\\n",
       "0         64.0     59.0       52.0     49.0       61.0     56.0     78.0   \n",
       "1         64.0     59.0       52.0     49.0       61.0     56.0     78.0   \n",
       "2         64.0     59.0       50.0     49.0       71.0     56.0     78.0   \n",
       "3         63.0     58.0       49.0     61.5       68.0     55.0     77.0   \n",
       "4         63.0     67.0       49.0     76.0       68.0     55.0     77.0   \n",
       "\n",
       "   Strength  LongShots  Aggression  Interceptions  Positioning  Vision  \\\n",
       "0      56.0       59.0        72.0           52.0         55.0    56.0   \n",
       "1      56.0       59.0        72.0           52.0         55.0    56.0   \n",
       "2      56.0       59.0        72.0           71.0         50.0    56.0   \n",
       "3      55.0       58.0        71.0           65.0         49.0    55.0   \n",
       "4      55.5       58.0        71.0           64.0         49.0    55.0   \n",
       "\n",
       "   Penalties  Marking  StandingTackle  SlidingTackle  \n",
       "0       46.0     64.0            66.0           63.0  \n",
       "1       46.0     64.0            66.0           63.0  \n",
       "2       69.0     64.0            66.0           63.0  \n",
       "3       66.0     63.0            63.0           57.0  \n",
       "4       66.0     63.0            63.0           52.0  "
      ]
     },
     "execution_count": 405,
     "metadata": {},
     "output_type": "execute_result"
    }
   ],
   "source": [
    "player_attributes.head()"
   ]
  },
  {
   "cell_type": "code",
   "execution_count": 406,
   "id": "65cdf33e",
   "metadata": {},
   "outputs": [
    {
     "data": {
      "text/plain": [
       "(70941, 35)"
      ]
     },
     "execution_count": 406,
     "metadata": {},
     "output_type": "execute_result"
    }
   ],
   "source": [
    "player_attributes.shape"
   ]
  },
  {
   "cell_type": "markdown",
   "id": "1ca42a40",
   "metadata": {},
   "source": [
    "## Players"
   ]
  },
  {
   "cell_type": "markdown",
   "id": "a489a4d2",
   "metadata": {},
   "source": [
    "I merged the players table with the players attributes table to make one dataset with information about the players. I called this new datset players, saved it as a csv file and used it in the remainder of this analysis. "
   ]
  },
  {
   "cell_type": "code",
   "execution_count": null,
   "id": "cfdd8e0c",
   "metadata": {},
   "outputs": [],
   "source": [
    "players = pd.merge(player, player_attributes, on=\"PlayerID\", how=\"inner\")"
   ]
  },
  {
   "cell_type": "code",
   "execution_count": null,
   "id": "19dcfdd1",
   "metadata": {},
   "outputs": [],
   "source": [
    "players.to_csv(\n",
    "    \"C:\\\\Users\\\\Space\\\\Documents\\\\py\\\\Projects\\\\TuringCollege\\\\Football\\\\DataSets\\\\players.csv\",\n",
    "    index=True,\n",
    ")"
   ]
  },
  {
   "cell_type": "markdown",
   "id": "be189d20",
   "metadata": {},
   "source": [
    "## Team"
   ]
  },
  {
   "cell_type": "markdown",
   "id": "c88a0036",
   "metadata": {},
   "source": [
    "There are 299 teams in this dataset."
   ]
  },
  {
   "cell_type": "code",
   "execution_count": 49,
   "id": "73e6bf4b",
   "metadata": {},
   "outputs": [],
   "source": [
    "team = football_db[\"Team\"].copy()"
   ]
  },
  {
   "cell_type": "code",
   "execution_count": 50,
   "id": "ef26d090",
   "metadata": {},
   "outputs": [],
   "source": [
    "team.drop(columns=[\"id\", \"team_fifa_api_id\"], inplace=True)"
   ]
  },
  {
   "cell_type": "code",
   "execution_count": 51,
   "id": "cab3e26c",
   "metadata": {},
   "outputs": [],
   "source": [
    "team.rename(\n",
    "    columns={\n",
    "        \"team_api_id\": \"TeamID\",\n",
    "        \"team_long_name\": \"TeamLongName\",\n",
    "        \"team_short_name\": \"TeamShortName\",\n",
    "    },\n",
    "    inplace=True,\n",
    ")"
   ]
  },
  {
   "cell_type": "code",
   "execution_count": 54,
   "id": "76443384",
   "metadata": {},
   "outputs": [
    {
     "data": {
      "text/plain": [
       "TeamID           0.0\n",
       "TeamLongName     0.0\n",
       "TeamShortName    0.0\n",
       "dtype: float64"
      ]
     },
     "execution_count": 54,
     "metadata": {},
     "output_type": "execute_result"
    }
   ],
   "source": [
    "team[team.duplicated()].sum()"
   ]
  },
  {
   "cell_type": "code",
   "execution_count": 55,
   "id": "8a65ae96",
   "metadata": {},
   "outputs": [
    {
     "data": {
      "text/plain": [
       "TeamID           0\n",
       "TeamLongName     0\n",
       "TeamShortName    0\n",
       "dtype: int64"
      ]
     },
     "execution_count": 55,
     "metadata": {},
     "output_type": "execute_result"
    }
   ],
   "source": [
    "team.isnull().sum()"
   ]
  },
  {
   "cell_type": "code",
   "execution_count": 412,
   "id": "50b805f1",
   "metadata": {
    "scrolled": false
   },
   "outputs": [
    {
     "data": {
      "text/html": [
       "<div>\n",
       "<style scoped>\n",
       "    .dataframe tbody tr th:only-of-type {\n",
       "        vertical-align: middle;\n",
       "    }\n",
       "\n",
       "    .dataframe tbody tr th {\n",
       "        vertical-align: top;\n",
       "    }\n",
       "\n",
       "    .dataframe thead th {\n",
       "        text-align: right;\n",
       "    }\n",
       "</style>\n",
       "<table border=\"1\" class=\"dataframe\">\n",
       "  <thead>\n",
       "    <tr style=\"text-align: right;\">\n",
       "      <th></th>\n",
       "      <th>TeamID</th>\n",
       "      <th>TeamLongName</th>\n",
       "      <th>TeamShortName</th>\n",
       "    </tr>\n",
       "  </thead>\n",
       "  <tbody>\n",
       "    <tr>\n",
       "      <th>0</th>\n",
       "      <td>9987</td>\n",
       "      <td>KRC Genk</td>\n",
       "      <td>GEN</td>\n",
       "    </tr>\n",
       "    <tr>\n",
       "      <th>1</th>\n",
       "      <td>9993</td>\n",
       "      <td>Beerschot AC</td>\n",
       "      <td>BAC</td>\n",
       "    </tr>\n",
       "    <tr>\n",
       "      <th>2</th>\n",
       "      <td>10000</td>\n",
       "      <td>SV Zulte-Waregem</td>\n",
       "      <td>ZUL</td>\n",
       "    </tr>\n",
       "    <tr>\n",
       "      <th>3</th>\n",
       "      <td>9994</td>\n",
       "      <td>Sporting Lokeren</td>\n",
       "      <td>LOK</td>\n",
       "    </tr>\n",
       "    <tr>\n",
       "      <th>4</th>\n",
       "      <td>9984</td>\n",
       "      <td>KSV Cercle Brugge</td>\n",
       "      <td>CEB</td>\n",
       "    </tr>\n",
       "  </tbody>\n",
       "</table>\n",
       "</div>"
      ],
      "text/plain": [
       "   TeamID       TeamLongName TeamShortName\n",
       "0    9987           KRC Genk           GEN\n",
       "1    9993       Beerschot AC           BAC\n",
       "2   10000   SV Zulte-Waregem           ZUL\n",
       "3    9994   Sporting Lokeren           LOK\n",
       "4    9984  KSV Cercle Brugge           CEB"
      ]
     },
     "execution_count": 412,
     "metadata": {},
     "output_type": "execute_result"
    }
   ],
   "source": [
    "team.head()"
   ]
  },
  {
   "cell_type": "code",
   "execution_count": 413,
   "id": "7e08fa55",
   "metadata": {},
   "outputs": [
    {
     "data": {
      "text/plain": [
       "(299, 3)"
      ]
     },
     "execution_count": 413,
     "metadata": {},
     "output_type": "execute_result"
    }
   ],
   "source": [
    "team.shape"
   ]
  },
  {
   "cell_type": "markdown",
   "id": "795fdb47",
   "metadata": {},
   "source": [
    "## Team Attributes"
   ]
  },
  {
   "cell_type": "markdown",
   "id": "6bb70a66",
   "metadata": {},
   "source": [
    "Attributes from each team."
   ]
  },
  {
   "cell_type": "code",
   "execution_count": 414,
   "id": "f89f05e4",
   "metadata": {},
   "outputs": [],
   "source": [
    "team_attributes = football_db[\"Team_Attributes\"].copy()"
   ]
  },
  {
   "cell_type": "code",
   "execution_count": 417,
   "id": "92dcd7c0",
   "metadata": {},
   "outputs": [
    {
     "data": {
      "text/plain": [
       "id                                0.0\n",
       "team_fifa_api_id                  0.0\n",
       "team_api_id                       0.0\n",
       "date                              0.0\n",
       "buildUpPlaySpeed                  0.0\n",
       "buildUpPlaySpeedClass             0.0\n",
       "buildUpPlayDribbling              0.0\n",
       "buildUpPlayDribblingClass         0.0\n",
       "buildUpPlayPassing                0.0\n",
       "buildUpPlayPassingClass           0.0\n",
       "buildUpPlayPositioningClass       0.0\n",
       "chanceCreationPassing             0.0\n",
       "chanceCreationPassingClass        0.0\n",
       "chanceCreationCrossing            0.0\n",
       "chanceCreationCrossingClass       0.0\n",
       "chanceCreationShooting            0.0\n",
       "chanceCreationShootingClass       0.0\n",
       "chanceCreationPositioningClass    0.0\n",
       "defencePressure                   0.0\n",
       "defencePressureClass              0.0\n",
       "defenceAggression                 0.0\n",
       "defenceAggressionClass            0.0\n",
       "defenceTeamWidth                  0.0\n",
       "defenceTeamWidthClass             0.0\n",
       "defenceDefenderLineClass          0.0\n",
       "dtype: float64"
      ]
     },
     "execution_count": 417,
     "metadata": {},
     "output_type": "execute_result"
    }
   ],
   "source": [
    "team_attributes[team_attributes.duplicated()].sum()"
   ]
  },
  {
   "cell_type": "code",
   "execution_count": 62,
   "id": "7e0eb299",
   "metadata": {
    "scrolled": false
   },
   "outputs": [
    {
     "data": {
      "text/plain": [
       "id                                  0\n",
       "team_fifa_api_id                    0\n",
       "team_api_id                         0\n",
       "date                                0\n",
       "buildUpPlaySpeed                    0\n",
       "buildUpPlaySpeedClass               0\n",
       "buildUpPlayDribbling              969\n",
       "buildUpPlayDribblingClass           0\n",
       "buildUpPlayPassing                  0\n",
       "buildUpPlayPassingClass             0\n",
       "buildUpPlayPositioningClass         0\n",
       "chanceCreationPassing               0\n",
       "chanceCreationPassingClass          0\n",
       "chanceCreationCrossing              0\n",
       "chanceCreationCrossingClass         0\n",
       "chanceCreationShooting              0\n",
       "chanceCreationShootingClass         0\n",
       "chanceCreationPositioningClass      0\n",
       "defencePressure                     0\n",
       "defencePressureClass                0\n",
       "defenceAggression                   0\n",
       "defenceAggressionClass              0\n",
       "defenceTeamWidth                    0\n",
       "defenceTeamWidthClass               0\n",
       "defenceDefenderLineClass            0\n",
       "dtype: int64"
      ]
     },
     "execution_count": 62,
     "metadata": {},
     "output_type": "execute_result"
    }
   ],
   "source": [
    "team_attributes.isnull().sum()"
   ]
  },
  {
   "cell_type": "code",
   "execution_count": 63,
   "id": "5c916c63",
   "metadata": {},
   "outputs": [],
   "source": [
    "team_attributes.drop(\n",
    "    columns=[\n",
    "        \"id\",\n",
    "        \"team_fifa_api_id\",\n",
    "        \"buildUpPlayDribbling\",\n",
    "        \"buildUpPlaySpeedClass\",\n",
    "        \"buildUpPlayDribblingClass\",\n",
    "        \"buildUpPlayPassingClass\",\n",
    "        \"buildUpPlayPositioningClass\",\n",
    "        \"chanceCreationPassingClass\",\n",
    "        \"chanceCreationCrossingClass\",\n",
    "        \"chanceCreationShootingClass\",\n",
    "        \"chanceCreationPositioningClass\",\n",
    "        \"defencePressureClass\",\n",
    "        \"defenceAggressionClass\",\n",
    "        \"defenceTeamWidthClass\",\n",
    "        \"defenceDefenderLineClass\",\n",
    "    ],\n",
    "    inplace=True,\n",
    ")"
   ]
  },
  {
   "cell_type": "code",
   "execution_count": 64,
   "id": "549c6b47",
   "metadata": {},
   "outputs": [],
   "source": [
    "team_attributes.rename(\n",
    "    columns={\n",
    "        \"team_api_id\": \"TeamID\",\n",
    "        \"date\": \"Date\",\n",
    "        \"buildUpPlaySpeed\": \"BuildUpPlaySpeed\",\n",
    "        \"buildUpPlayPassing\": \"BuildUpPlayPassing\",\n",
    "        \"chanceCreationPassing\": \"ChanceCreationPassing\",\n",
    "        \"chanceCreationCrossing\": \"ChanceCreationCrossing\",\n",
    "        \"chanceCreationShooting\": \"ChanceCreationShooting\",\n",
    "        \"defencePressure\": \"DefencePressure\",\n",
    "        \"defenceAggression\": \"DefenceAggression\",\n",
    "        \"defenceTeamWidth\": \"DefenceTeamWidth\",\n",
    "    },\n",
    "    inplace=True,\n",
    ")"
   ]
  },
  {
   "cell_type": "code",
   "execution_count": 65,
   "id": "ce375772",
   "metadata": {},
   "outputs": [],
   "source": [
    "team_attributes[\"Date\"] = pd.DatetimeIndex(team_attributes[\"Date\"]).year"
   ]
  },
  {
   "cell_type": "code",
   "execution_count": 66,
   "id": "3dde99fa",
   "metadata": {},
   "outputs": [
    {
     "data": {
      "text/html": [
       "<div>\n",
       "<style scoped>\n",
       "    .dataframe tbody tr th:only-of-type {\n",
       "        vertical-align: middle;\n",
       "    }\n",
       "\n",
       "    .dataframe tbody tr th {\n",
       "        vertical-align: top;\n",
       "    }\n",
       "\n",
       "    .dataframe thead th {\n",
       "        text-align: right;\n",
       "    }\n",
       "</style>\n",
       "<table border=\"1\" class=\"dataframe\">\n",
       "  <thead>\n",
       "    <tr style=\"text-align: right;\">\n",
       "      <th></th>\n",
       "      <th>TeamID</th>\n",
       "      <th>Date</th>\n",
       "      <th>BuildUpPlaySpeed</th>\n",
       "      <th>BuildUpPlayPassing</th>\n",
       "      <th>ChanceCreationPassing</th>\n",
       "      <th>ChanceCreationCrossing</th>\n",
       "      <th>ChanceCreationShooting</th>\n",
       "      <th>DefencePressure</th>\n",
       "      <th>DefenceAggression</th>\n",
       "      <th>DefenceTeamWidth</th>\n",
       "    </tr>\n",
       "  </thead>\n",
       "  <tbody>\n",
       "    <tr>\n",
       "      <th>0</th>\n",
       "      <td>9930</td>\n",
       "      <td>2010</td>\n",
       "      <td>60</td>\n",
       "      <td>50</td>\n",
       "      <td>60</td>\n",
       "      <td>65</td>\n",
       "      <td>55</td>\n",
       "      <td>50</td>\n",
       "      <td>55</td>\n",
       "      <td>45</td>\n",
       "    </tr>\n",
       "    <tr>\n",
       "      <th>1</th>\n",
       "      <td>9930</td>\n",
       "      <td>2014</td>\n",
       "      <td>52</td>\n",
       "      <td>56</td>\n",
       "      <td>54</td>\n",
       "      <td>63</td>\n",
       "      <td>64</td>\n",
       "      <td>47</td>\n",
       "      <td>44</td>\n",
       "      <td>54</td>\n",
       "    </tr>\n",
       "    <tr>\n",
       "      <th>2</th>\n",
       "      <td>9930</td>\n",
       "      <td>2015</td>\n",
       "      <td>47</td>\n",
       "      <td>54</td>\n",
       "      <td>54</td>\n",
       "      <td>63</td>\n",
       "      <td>64</td>\n",
       "      <td>47</td>\n",
       "      <td>44</td>\n",
       "      <td>54</td>\n",
       "    </tr>\n",
       "    <tr>\n",
       "      <th>3</th>\n",
       "      <td>8485</td>\n",
       "      <td>2010</td>\n",
       "      <td>70</td>\n",
       "      <td>70</td>\n",
       "      <td>70</td>\n",
       "      <td>70</td>\n",
       "      <td>70</td>\n",
       "      <td>60</td>\n",
       "      <td>70</td>\n",
       "      <td>70</td>\n",
       "    </tr>\n",
       "    <tr>\n",
       "      <th>4</th>\n",
       "      <td>8485</td>\n",
       "      <td>2011</td>\n",
       "      <td>47</td>\n",
       "      <td>52</td>\n",
       "      <td>53</td>\n",
       "      <td>48</td>\n",
       "      <td>52</td>\n",
       "      <td>47</td>\n",
       "      <td>47</td>\n",
       "      <td>52</td>\n",
       "    </tr>\n",
       "  </tbody>\n",
       "</table>\n",
       "</div>"
      ],
      "text/plain": [
       "   TeamID  Date  BuildUpPlaySpeed  BuildUpPlayPassing  ChanceCreationPassing  \\\n",
       "0    9930  2010                60                  50                     60   \n",
       "1    9930  2014                52                  56                     54   \n",
       "2    9930  2015                47                  54                     54   \n",
       "3    8485  2010                70                  70                     70   \n",
       "4    8485  2011                47                  52                     53   \n",
       "\n",
       "   ChanceCreationCrossing  ChanceCreationShooting  DefencePressure  \\\n",
       "0                      65                      55               50   \n",
       "1                      63                      64               47   \n",
       "2                      63                      64               47   \n",
       "3                      70                      70               60   \n",
       "4                      48                      52               47   \n",
       "\n",
       "   DefenceAggression  DefenceTeamWidth  \n",
       "0                 55                45  \n",
       "1                 44                54  \n",
       "2                 44                54  \n",
       "3                 70                70  \n",
       "4                 47                52  "
      ]
     },
     "execution_count": 66,
     "metadata": {},
     "output_type": "execute_result"
    }
   ],
   "source": [
    "team_attributes.head()"
   ]
  },
  {
   "cell_type": "code",
   "execution_count": 57,
   "id": "2072789b",
   "metadata": {},
   "outputs": [
    {
     "data": {
      "text/plain": [
       "(1458, 25)"
      ]
     },
     "execution_count": 57,
     "metadata": {},
     "output_type": "execute_result"
    }
   ],
   "source": [
    "team_attributes.shape"
   ]
  },
  {
   "cell_type": "markdown",
   "id": "64db6cf2",
   "metadata": {},
   "source": [
    "I dropped all the catagorical columns"
   ]
  },
  {
   "cell_type": "markdown",
   "id": "76884572",
   "metadata": {},
   "source": [
    "## Teams"
   ]
  },
  {
   "cell_type": "code",
   "execution_count": 67,
   "id": "bf525144",
   "metadata": {},
   "outputs": [],
   "source": [
    "teams = pd.merge(team, team_attributes, on=\"TeamID\", how=\"inner\")"
   ]
  },
  {
   "cell_type": "code",
   "execution_count": 68,
   "id": "ec268759",
   "metadata": {},
   "outputs": [],
   "source": [
    "teams.to_csv(\n",
    "    \"C:\\\\Users\\\\Space\\\\Documents\\\\py\\\\Projects\\\\TuringCollege\\\\Football\\\\DataSets\\\\teams.csv\",\n",
    "    index=True,\n",
    ")"
   ]
  },
  {
   "cell_type": "markdown",
   "id": "ace12189",
   "metadata": {},
   "source": [
    "## Match"
   ]
  },
  {
   "cell_type": "markdown",
   "id": "e656a537",
   "metadata": {},
   "source": [
    "I brought information from the players into this database. "
   ]
  },
  {
   "cell_type": "code",
   "execution_count": 420,
   "id": "456a7d80",
   "metadata": {},
   "outputs": [],
   "source": [
    "match = football_db[\"Match\"].copy()"
   ]
  },
  {
   "cell_type": "code",
   "execution_count": 421,
   "id": "32a32566",
   "metadata": {},
   "outputs": [],
   "source": [
    "def extract_xml(row, col_name, xml_key, away_home):\n",
    "    count = 0\n",
    "\n",
    "    element = row[col_name]\n",
    "    team_id = row[away_home + \"_team_api_id\"]\n",
    "\n",
    "    if type(element) == int:\n",
    "        return element\n",
    "\n",
    "    elif element != None:\n",
    "        tree = ElementTree(fromstring(element))\n",
    "        root = tree.getroot()\n",
    "\n",
    "        for child in root.iter(xml_key):\n",
    "            if str(team_id) == child.text:\n",
    "                count += 1\n",
    "        return count\n",
    "    else:\n",
    "        return np.nan"
   ]
  },
  {
   "cell_type": "code",
   "execution_count": 422,
   "id": "3b39d6f3",
   "metadata": {},
   "outputs": [],
   "source": [
    "def extract_possession_xml(row, col_name, xml_key):\n",
    "    count = 0\n",
    "    sum_pos = 0\n",
    "\n",
    "    element = row[col_name]\n",
    "\n",
    "    if type(element) == int:\n",
    "        return element\n",
    "\n",
    "    elif element != None:\n",
    "        tree = ElementTree(fromstring(element))\n",
    "        root = tree.getroot()\n",
    "        for child in root.iter(xml_key):\n",
    "            count += 1\n",
    "            sum_pos += int(child.text)\n",
    "\n",
    "        if count == 0:\n",
    "            return np.nan\n",
    "        else:\n",
    "            return sum_pos / count\n",
    "    else:\n",
    "        return np.nan"
   ]
  },
  {
   "cell_type": "code",
   "execution_count": 423,
   "id": "9aeab68a",
   "metadata": {},
   "outputs": [],
   "source": [
    "match[\"HomeShoton\"] = np.nan\n",
    "match[\"AwayShoton\"] = np.nan"
   ]
  },
  {
   "cell_type": "code",
   "execution_count": null,
   "id": "5d6fa44e",
   "metadata": {},
   "outputs": [],
   "source": [
    "match[\"HomeShoton\"] = match.apply(\n",
    "    lambda x: extract_xml(x, \"shoton\", \"team\", \"home\"), axis=1\n",
    ")\n",
    "match[\"AwayShoton\"] = match.apply(\n",
    "    lambda x: extract_xml(x, \"shoton\", \"team\", \"away\"), axis=1\n",
    ")"
   ]
  },
  {
   "cell_type": "code",
   "execution_count": null,
   "id": "9039a772",
   "metadata": {},
   "outputs": [],
   "source": [
    "match[\"HomeShotoff\"] = np.nan\n",
    "match[\"AwayShotoff\"] = np.nan"
   ]
  },
  {
   "cell_type": "code",
   "execution_count": null,
   "id": "7bfd3b98",
   "metadata": {},
   "outputs": [],
   "source": [
    "match[\"HomeShotoff\"] = match.apply(\n",
    "    lambda x: extract_xml(x, \"shotoff\", \"team\", \"home\"), axis=1\n",
    ")\n",
    "match[\"AwayShotoff\"] = match.apply(\n",
    "    lambda x: extract_xml(x, \"shotoff\", \"team\", \"away\"), axis=1\n",
    ")"
   ]
  },
  {
   "cell_type": "code",
   "execution_count": null,
   "id": "7f7e9f6a",
   "metadata": {},
   "outputs": [],
   "source": [
    "match[\"HomeFoulCommit\"] = np.nan\n",
    "match[\"AwayFoulCommit\"] = np.nan"
   ]
  },
  {
   "cell_type": "code",
   "execution_count": null,
   "id": "e0e97658",
   "metadata": {},
   "outputs": [],
   "source": [
    "match[\"HomeFoulCommit\"] = match.apply(\n",
    "    lambda x: extract_xml(x, \"foulcommit\", \"team\", \"home\"), axis=1\n",
    ")\n",
    "match[\"AwayFoulCommit\"] = match.apply(\n",
    "    lambda x: extract_xml(x, \"foulcommit\", \"team\", \"away\"), axis=1\n",
    ")"
   ]
  },
  {
   "cell_type": "code",
   "execution_count": null,
   "id": "017c5679",
   "metadata": {},
   "outputs": [],
   "source": [
    "match[\"HomeCard\"] = np.nan\n",
    "match[\"AwayCard\"] = np.nan"
   ]
  },
  {
   "cell_type": "code",
   "execution_count": null,
   "id": "8620ca88",
   "metadata": {},
   "outputs": [],
   "source": [
    "match[\"HomeCard\"] = match.apply(\n",
    "    lambda x: extract_xml(x, \"card\", \"team\", \"home\"), axis=1\n",
    ")\n",
    "match[\"AwayCard\"] = match.apply(\n",
    "    lambda x: extract_xml(x, \"card\", \"team\", \"away\"), axis=1\n",
    ")"
   ]
  },
  {
   "cell_type": "code",
   "execution_count": null,
   "id": "e8cd6bb7",
   "metadata": {},
   "outputs": [],
   "source": [
    "match[\"HomeCross\"] = np.nan\n",
    "match[\"AwayCross\"] = np.nan"
   ]
  },
  {
   "cell_type": "code",
   "execution_count": null,
   "id": "eda936e5",
   "metadata": {},
   "outputs": [],
   "source": [
    "match[\"HomeCross\"] = match.apply(\n",
    "    lambda x: extract_xml(x, \"cross\", \"team\", \"home\"), axis=1\n",
    ")\n",
    "match[\"AwayCross\"] = match.apply(\n",
    "    lambda x: extract_xml(x, \"cross\", \"team\", \"away\"), axis=1\n",
    ")"
   ]
  },
  {
   "cell_type": "code",
   "execution_count": null,
   "id": "7be8eb45",
   "metadata": {},
   "outputs": [],
   "source": [
    "match[\"HomeCorner\"] = np.nan\n",
    "match[\"AwayCorner\"] = np.nan"
   ]
  },
  {
   "cell_type": "code",
   "execution_count": null,
   "id": "548cfc19",
   "metadata": {},
   "outputs": [],
   "source": [
    "match[\"HomeCorner\"] = match.apply(\n",
    "    lambda x: extract_xml(x, \"corner\", \"team\", \"home\"), axis=1\n",
    ")\n",
    "match[\"AwayCorner\"] = match.apply(\n",
    "    lambda x: extract_xml(x, \"corner\", \"team\", \"away\"), axis=1\n",
    ")"
   ]
  },
  {
   "cell_type": "code",
   "execution_count": null,
   "id": "1da25898",
   "metadata": {},
   "outputs": [],
   "source": [
    "match[\"HomePossession\"] = np.nan\n",
    "match[\"AwayPossession\"] = np.nan"
   ]
  },
  {
   "cell_type": "code",
   "execution_count": null,
   "id": "725d785b",
   "metadata": {},
   "outputs": [],
   "source": [
    "match[\"HomePossession\"] = match.apply(\n",
    "    lambda x: extract_possession_xml(x, \"possession\", \"homepos\"), axis=1\n",
    ")\n",
    "match[\"AwayPossession\"] = match.apply(\n",
    "    lambda x: extract_possession_xml(x, \"possession\", \"awaypos\"), axis=1\n",
    ")"
   ]
  },
  {
   "cell_type": "code",
   "execution_count": null,
   "id": "2a93fc22",
   "metadata": {},
   "outputs": [],
   "source": [
    "match.drop(\n",
    "    columns=[\"id\", \"stage\", \"country_id\", \"season\"],\n",
    "    inplace=True,\n",
    ")"
   ]
  },
  {
   "cell_type": "code",
   "execution_count": null,
   "id": "dc5bd6d3",
   "metadata": {},
   "outputs": [],
   "source": [
    "match.rename(\n",
    "    columns={\n",
    "        \"league_id\": \"LeagueID\",\n",
    "        \"match_api_id\": \"MatchID\",\n",
    "        \"home_team_api_id\": \"HomeTeamID\",\n",
    "        \"away_team_api_id\": \"AwayTeamID\",\n",
    "        \"date\": \"Date\",\n",
    "        \"home_team_goal\": \"HomeGoal\",\n",
    "        \"away_team_goal\": \"AwayGoal\",\n",
    "        \"home_player_1\": \"HomePlayer1\",\n",
    "        \"home_player_2\": \"HomePlayer2\",\n",
    "        \"home_player_3\": \"HomePlayer3\",\n",
    "        \"home_player_4\": \"HomePlayer4\",\n",
    "        \"home_player_5\": \"HomePlayer5\",\n",
    "        \"home_player_6\": \"HomePlayer6\",\n",
    "        \"home_player_7\": \"HomePlayer7\",\n",
    "        \"home_player_8\": \"HomePlayer8\",\n",
    "        \"home_player_9\": \"HomePlayer9\",\n",
    "        \"home_player_10\": \"HomePlayer10\",\n",
    "        \"home_player_11\": \"HomePlayer11\",\n",
    "        \"away_player_1\": \"AwayPlayer1\",\n",
    "        \"away_player_2\": \"AwayPlayer2\",\n",
    "        \"away_player_3\": \"AwayPlayer3\",\n",
    "        \"away_player_4\": \"AwayPlayer4\",\n",
    "        \"away_player_5\": \"AwayPlayer5\",\n",
    "        \"away_player_6\": \"AwayPlayer6\",\n",
    "        \"away_player_7\": \"AwayPlayer7\",\n",
    "        \"away_player_8\": \"AwayPlayer8\",\n",
    "        \"away_player_9\": \"AwayPlayer9\",\n",
    "        \"away_player_10\": \"AwayPlayer10\",\n",
    "        \"away_player_11\": \"AwayPlayer11\",\n",
    "    },\n",
    "    inplace=True,\n",
    ")"
   ]
  },
  {
   "cell_type": "code",
   "execution_count": null,
   "id": "372bdc54",
   "metadata": {},
   "outputs": [],
   "source": [
    "match.drop(match.iloc[:, 7:51], inplace=True, axis=1)"
   ]
  },
  {
   "cell_type": "code",
   "execution_count": null,
   "id": "600090da",
   "metadata": {},
   "outputs": [],
   "source": [
    "match.drop(match.iloc[:, 29:67], inplace=True, axis=1)"
   ]
  },
  {
   "cell_type": "code",
   "execution_count": null,
   "id": "5f4ad78e",
   "metadata": {},
   "outputs": [],
   "source": [
    "match[\"Date\"] = pd.DatetimeIndex(match[\"Date\"]).year"
   ]
  },
  {
   "cell_type": "code",
   "execution_count": null,
   "id": "53d0b5b6",
   "metadata": {},
   "outputs": [],
   "source": [
    "match.head()"
   ]
  },
  {
   "cell_type": "markdown",
   "id": "9c4c5010",
   "metadata": {},
   "source": [
    "## Matches"
   ]
  },
  {
   "cell_type": "markdown",
   "id": "5e51afe4",
   "metadata": {},
   "source": [
    "Bringing info from each player into this table. "
   ]
  },
  {
   "cell_type": "code",
   "execution_count": null,
   "id": "9830e805",
   "metadata": {},
   "outputs": [],
   "source": [
    "matches = pd.merge(league, match, on=\"LeagueID\", how=\"inner\")"
   ]
  },
  {
   "cell_type": "code",
   "execution_count": null,
   "id": "9435a69e",
   "metadata": {},
   "outputs": [],
   "source": [
    "df_inner_Home = pd.merge(\n",
    "    matches, teams, left_on=[\"HomeTeamID\", \"Date\"], right_on=[\"TeamID\", \"Date\"]\n",
    ")"
   ]
  },
  {
   "cell_type": "code",
   "execution_count": null,
   "id": "7f507497",
   "metadata": {},
   "outputs": [],
   "source": [
    "df_inner_Home.rename(\n",
    "    columns={\n",
    "        \"TeamID\": \"HomeTeamID\",\n",
    "        \"TeamLongName\": \"HomeTeamLongName\",\n",
    "        \"TeamShortName\": \"HomeTeamShortName\",\n",
    "        \"BuildUpPlaySpeed\": \"HomeBuildUpPlaySpeed\",\n",
    "        \"BuildUpPlayPassing\": \"HomeBuildUpPlayPassing\",\n",
    "        \"ChanceCreationPassing\": \"HomeChanceCreationPassing\",\n",
    "        \"ChanceCreationCrossing\": \"HomeChanceCreationCrossing\",\n",
    "        \"ChanceCreationShooting\": \"HomeChanceCreationShooting\",\n",
    "        \"DefencePressure\": \"HomeDefencePressure\",\n",
    "        \"DefenceAggression\": \"HomeDefenceAggression\",\n",
    "        \"DefenceTeamWidth\": \"HomeDefenceTeamWidth\",\n",
    "    },\n",
    "    inplace=True,\n",
    ")"
   ]
  },
  {
   "cell_type": "code",
   "execution_count": null,
   "id": "17242641",
   "metadata": {},
   "outputs": [],
   "source": [
    "df_inner_Away = pd.merge(\n",
    "    df_inner_Home, teams, left_on=[\"AwayTeamID\", \"Date\"], right_on=[\"TeamID\", \"Date\"]\n",
    ")"
   ]
  },
  {
   "cell_type": "code",
   "execution_count": null,
   "id": "01d084e2",
   "metadata": {},
   "outputs": [],
   "source": [
    "df_inner_Away.rename(\n",
    "    columns={\n",
    "        \"TeamID\": \"AwayTeamID\",\n",
    "        \"TeamLongName\": \"AwayTeamLongName\",\n",
    "        \"TeamShortName\": \"AwayTeamShortName\",\n",
    "        \"BuildUpPlaySpeed\": \"AwayBuildUpPlaySpeed\",\n",
    "        \"BuildUpPlayPassing\": \"AwayBuildUpPlayPassing\",\n",
    "        \"ChanceCreationPassing\": \"AwayChanceCreationPassing\",\n",
    "        \"ChanceCreationCrossing\": \"AwayChanceCreationCrossing\",\n",
    "        \"ChanceCreationShooting\": \"AwayChanceCreationShooting\",\n",
    "        \"DefencePressure\": \"AwayDefencePressure\",\n",
    "        \"DefenceAggression\": \"AwayDefenceAggression\",\n",
    "        \"DefenceTeamWidth\": \"AwayDefenceTeamWidth\",\n",
    "    },\n",
    "    inplace=True,\n",
    ")"
   ]
  },
  {
   "cell_type": "code",
   "execution_count": null,
   "id": "215c3843",
   "metadata": {},
   "outputs": [],
   "source": [
    "matches = df_inner_Away"
   ]
  },
  {
   "cell_type": "code",
   "execution_count": null,
   "id": "778cae18",
   "metadata": {},
   "outputs": [],
   "source": [
    "matches.head()"
   ]
  },
  {
   "cell_type": "code",
   "execution_count": null,
   "id": "01303fa9",
   "metadata": {},
   "outputs": [],
   "source": [
    "def overall_function(\n",
    "    player, date, player_id, rating_column, left_dataframe, right_dataframe\n",
    "):\n",
    "\n",
    "    df_merge = pd.merge(\n",
    "        left_dataframe,\n",
    "        right_dataframe,\n",
    "        left_on=[date, player_id],\n",
    "        right_on=[date, player],\n",
    "        how=\"right\",\n",
    "    )\n",
    "    df_merge[player] = df_merge[rating_column]\n",
    "    del df_merge[rating_column]\n",
    "    del df_merge[player_id]\n",
    "\n",
    "    return df_merge"
   ]
  },
  {
   "cell_type": "code",
   "execution_count": null,
   "id": "071b0e08",
   "metadata": {},
   "outputs": [],
   "source": [
    "overall_rating = players[[\"Date\", \"PlayerID\", \"OverallRating\"]]"
   ]
  },
  {
   "cell_type": "code",
   "execution_count": null,
   "id": "96b71571",
   "metadata": {},
   "outputs": [],
   "source": [
    "player = \"HomePlayer1\"\n",
    "date = \"Date\"\n",
    "player_id = \"PlayerID\"\n",
    "rating_column = \"OverallRating\"\n",
    "left_dataframe = overall_rating\n",
    "right_dataframe = matches\n",
    "\n",
    "\n",
    "df_merge = overall_function(\n",
    "    player, date, player_id, rating_column, left_dataframe, right_dataframe\n",
    ")"
   ]
  },
  {
   "cell_type": "code",
   "execution_count": null,
   "id": "8ebab2a6",
   "metadata": {},
   "outputs": [],
   "source": [
    "player = \"HomePlayer2\"\n",
    "date = \"Date\"\n",
    "player_id = \"PlayerID\"\n",
    "rating_column = \"OverallRating\"\n",
    "left_dataframe = overall_rating\n",
    "right_dataframe = df_merge\n",
    "\n",
    "\n",
    "df_merge = overall_function(\n",
    "    player, date, player_id, rating_column, left_dataframe, right_dataframe\n",
    ")"
   ]
  },
  {
   "cell_type": "code",
   "execution_count": null,
   "id": "1391f3c4",
   "metadata": {},
   "outputs": [],
   "source": [
    "player = \"HomePlayer3\"\n",
    "date = \"Date\"\n",
    "player_id = \"PlayerID\"\n",
    "rating_column = \"OverallRating\"\n",
    "left_dataframe = overall_rating\n",
    "right_dataframe = df_merge\n",
    "\n",
    "\n",
    "df_merge = overall_function(\n",
    "    player, date, player_id, rating_column, left_dataframe, right_dataframe\n",
    ")"
   ]
  },
  {
   "cell_type": "code",
   "execution_count": null,
   "id": "1c6c2d64",
   "metadata": {},
   "outputs": [],
   "source": [
    "player = \"HomePlayer4\"\n",
    "date = \"Date\"\n",
    "player_id = \"PlayerID\"\n",
    "rating_column = \"OverallRating\"\n",
    "left_dataframe = overall_rating\n",
    "right_dataframe = df_merge\n",
    "\n",
    "\n",
    "df_merge = overall_function(\n",
    "    player, date, player_id, rating_column, left_dataframe, right_dataframe\n",
    ")"
   ]
  },
  {
   "cell_type": "code",
   "execution_count": null,
   "id": "9efd9b65",
   "metadata": {},
   "outputs": [],
   "source": [
    "player = \"HomePlayer5\"\n",
    "date = \"Date\"\n",
    "player_id = \"PlayerID\"\n",
    "rating_column = \"OverallRating\"\n",
    "left_dataframe = overall_rating\n",
    "right_dataframe = df_merge\n",
    "\n",
    "\n",
    "df_merge = overall_function(\n",
    "    player, date, player_id, rating_column, left_dataframe, right_dataframe\n",
    ")"
   ]
  },
  {
   "cell_type": "code",
   "execution_count": null,
   "id": "7e8cb155",
   "metadata": {},
   "outputs": [],
   "source": [
    "player = \"HomePlayer6\"\n",
    "date = \"Date\"\n",
    "player_id = \"PlayerID\"\n",
    "rating_column = \"OverallRating\"\n",
    "left_dataframe = overall_rating\n",
    "right_dataframe = df_merge\n",
    "\n",
    "\n",
    "df_merge = overall_function(\n",
    "    player, date, player_id, rating_column, left_dataframe, right_dataframe\n",
    ")"
   ]
  },
  {
   "cell_type": "code",
   "execution_count": null,
   "id": "c8b8a0ec",
   "metadata": {},
   "outputs": [],
   "source": [
    "player = \"HomePlayer7\"\n",
    "date = \"Date\"\n",
    "player_id = \"PlayerID\"\n",
    "rating_column = \"OverallRating\"\n",
    "left_dataframe = overall_rating\n",
    "right_dataframe = df_merge\n",
    "\n",
    "\n",
    "df_merge = overall_function(\n",
    "    player, date, player_id, rating_column, left_dataframe, right_dataframe\n",
    ")"
   ]
  },
  {
   "cell_type": "code",
   "execution_count": null,
   "id": "40d408fd",
   "metadata": {},
   "outputs": [],
   "source": [
    "player = \"HomePlayer8\"\n",
    "date = \"Date\"\n",
    "player_id = \"PlayerID\"\n",
    "rating_column = \"OverallRating\"\n",
    "left_dataframe = overall_rating\n",
    "right_dataframe = df_merge\n",
    "\n",
    "\n",
    "df_merge = overall_function(\n",
    "    player, date, player_id, rating_column, left_dataframe, right_dataframe\n",
    ")"
   ]
  },
  {
   "cell_type": "code",
   "execution_count": null,
   "id": "4c03db7d",
   "metadata": {},
   "outputs": [],
   "source": [
    "player = \"HomePlayer9\"\n",
    "date = \"Date\"\n",
    "player_id = \"PlayerID\"\n",
    "rating_column = \"OverallRating\"\n",
    "left_dataframe = overall_rating\n",
    "right_dataframe = df_merge\n",
    "\n",
    "\n",
    "df_merge = overall_function(\n",
    "    player, date, player_id, rating_column, left_dataframe, right_dataframe\n",
    ")"
   ]
  },
  {
   "cell_type": "code",
   "execution_count": null,
   "id": "f02887e8",
   "metadata": {},
   "outputs": [],
   "source": [
    "player = \"HomePlayer10\"\n",
    "date = \"Date\"\n",
    "player_id = \"PlayerID\"\n",
    "rating_column = \"OverallRating\"\n",
    "left_dataframe = overall_rating\n",
    "right_dataframe = df_merge\n",
    "\n",
    "\n",
    "df_merge = overall_function(\n",
    "    player, date, player_id, rating_column, left_dataframe, right_dataframe\n",
    ")"
   ]
  },
  {
   "cell_type": "code",
   "execution_count": null,
   "id": "5954ccf5",
   "metadata": {},
   "outputs": [],
   "source": [
    "player = \"HomePlayer11\"\n",
    "date = \"Date\"\n",
    "player_id = \"PlayerID\"\n",
    "rating_column = \"OverallRating\"\n",
    "left_dataframe = overall_rating\n",
    "right_dataframe = df_merge\n",
    "\n",
    "\n",
    "df_merge = overall_function(\n",
    "    player, date, player_id, rating_column, left_dataframe, right_dataframe\n",
    ")"
   ]
  },
  {
   "cell_type": "code",
   "execution_count": null,
   "id": "8206723e",
   "metadata": {},
   "outputs": [],
   "source": [
    "player = \"AwayPlayer1\"\n",
    "date = \"Date\"\n",
    "player_id = \"PlayerID\"\n",
    "rating_column = \"OverallRating\"\n",
    "left_dataframe = overall_rating\n",
    "right_dataframe = df_merge\n",
    "\n",
    "\n",
    "df_merge = overall_function(\n",
    "    player, date, player_id, rating_column, left_dataframe, right_dataframe\n",
    ")"
   ]
  },
  {
   "cell_type": "code",
   "execution_count": null,
   "id": "103a261a",
   "metadata": {},
   "outputs": [],
   "source": [
    "player = \"AwayPlayer2\"\n",
    "date = \"Date\"\n",
    "player_id = \"PlayerID\"\n",
    "rating_column = \"OverallRating\"\n",
    "left_dataframe = overall_rating\n",
    "right_dataframe = df_merge\n",
    "\n",
    "\n",
    "df_merge = overall_function(\n",
    "    player, date, player_id, rating_column, left_dataframe, right_dataframe\n",
    ")"
   ]
  },
  {
   "cell_type": "code",
   "execution_count": null,
   "id": "ac123ec4",
   "metadata": {},
   "outputs": [],
   "source": [
    "player = \"AwayPlayer3\"\n",
    "date = \"Date\"\n",
    "player_id = \"PlayerID\"\n",
    "rating_column = \"OverallRating\"\n",
    "left_dataframe = overall_rating\n",
    "right_dataframe = df_merge\n",
    "\n",
    "\n",
    "df_merge = overall_function(\n",
    "    player, date, player_id, rating_column, left_dataframe, right_dataframe\n",
    ")"
   ]
  },
  {
   "cell_type": "code",
   "execution_count": null,
   "id": "d10f0776",
   "metadata": {},
   "outputs": [],
   "source": [
    "player = \"AwayPlayer4\"\n",
    "date = \"Date\"\n",
    "player_id = \"PlayerID\"\n",
    "rating_column = \"OverallRating\"\n",
    "left_dataframe = overall_rating\n",
    "right_dataframe = df_merge\n",
    "\n",
    "\n",
    "df_merge = overall_function(\n",
    "    player, date, player_id, rating_column, left_dataframe, right_dataframe\n",
    ")"
   ]
  },
  {
   "cell_type": "code",
   "execution_count": null,
   "id": "ed5664f9",
   "metadata": {},
   "outputs": [],
   "source": [
    "player = \"AwayPlayer5\"\n",
    "date = \"Date\"\n",
    "player_id = \"PlayerID\"\n",
    "rating_column = \"OverallRating\"\n",
    "left_dataframe = overall_rating\n",
    "right_dataframe = df_merge\n",
    "\n",
    "\n",
    "df_merge = overall_function(\n",
    "    player, date, player_id, rating_column, left_dataframe, right_dataframe\n",
    ")"
   ]
  },
  {
   "cell_type": "code",
   "execution_count": null,
   "id": "3db5adbd",
   "metadata": {},
   "outputs": [],
   "source": [
    "player = \"AwayPlayer6\"\n",
    "date = \"Date\"\n",
    "player_id = \"PlayerID\"\n",
    "rating_column = \"OverallRating\"\n",
    "left_dataframe = overall_rating\n",
    "right_dataframe = df_merge\n",
    "\n",
    "\n",
    "df_merge = overall_function(\n",
    "    player, date, player_id, rating_column, left_dataframe, right_dataframe\n",
    ")"
   ]
  },
  {
   "cell_type": "code",
   "execution_count": null,
   "id": "dd7b9af9",
   "metadata": {},
   "outputs": [],
   "source": [
    "player = \"AwayPlayer7\"\n",
    "date = \"Date\"\n",
    "player_id = \"PlayerID\"\n",
    "rating_column = \"OverallRating\"\n",
    "left_dataframe = overall_rating\n",
    "right_dataframe = df_merge\n",
    "\n",
    "\n",
    "df_merge = overall_function(\n",
    "    player, date, player_id, rating_column, left_dataframe, right_dataframe\n",
    ")"
   ]
  },
  {
   "cell_type": "code",
   "execution_count": null,
   "id": "caf1cf06",
   "metadata": {},
   "outputs": [],
   "source": [
    "player = \"AwayPlayer8\"\n",
    "date = \"Date\"\n",
    "player_id = \"PlayerID\"\n",
    "rating_column = \"OverallRating\"\n",
    "left_dataframe = overall_rating\n",
    "right_dataframe = df_merge\n",
    "\n",
    "\n",
    "df_merge = overall_function(\n",
    "    player, date, player_id, rating_column, left_dataframe, right_dataframe\n",
    ")"
   ]
  },
  {
   "cell_type": "code",
   "execution_count": null,
   "id": "a5953768",
   "metadata": {},
   "outputs": [],
   "source": [
    "player = \"AwayPlayer9\"\n",
    "date = \"Date\"\n",
    "player_id = \"PlayerID\"\n",
    "rating_column = \"OverallRating\"\n",
    "left_dataframe = overall_rating\n",
    "right_dataframe = df_merge\n",
    "\n",
    "\n",
    "df_merge = overall_function(\n",
    "    player, date, player_id, rating_column, left_dataframe, right_dataframe\n",
    ")"
   ]
  },
  {
   "cell_type": "code",
   "execution_count": null,
   "id": "109a2fb6",
   "metadata": {},
   "outputs": [],
   "source": [
    "player = \"AwayPlayer10\"\n",
    "date = \"Date\"\n",
    "player_id = \"PlayerID\"\n",
    "rating_column = \"OverallRating\"\n",
    "left_dataframe = overall_rating\n",
    "right_dataframe = df_merge\n",
    "\n",
    "\n",
    "df_merge = overall_function(\n",
    "    player, date, player_id, rating_column, left_dataframe, right_dataframe\n",
    ")"
   ]
  },
  {
   "cell_type": "code",
   "execution_count": null,
   "id": "70353ebe",
   "metadata": {},
   "outputs": [],
   "source": [
    "player = \"AwayPlayer11\"\n",
    "date = \"Date\"\n",
    "player_id = \"PlayerID\"\n",
    "rating_column = \"OverallRating\"\n",
    "left_dataframe = overall_rating\n",
    "right_dataframe = df_merge\n",
    "\n",
    "\n",
    "df_merge = overall_function(\n",
    "    player, date, player_id, rating_column, left_dataframe, right_dataframe\n",
    ")"
   ]
  },
  {
   "cell_type": "code",
   "execution_count": null,
   "id": "f5200296",
   "metadata": {},
   "outputs": [],
   "source": [
    "matches = df_merge"
   ]
  },
  {
   "cell_type": "code",
   "execution_count": null,
   "id": "10d50345",
   "metadata": {},
   "outputs": [],
   "source": [
    "matches = matches.copy(deep=True)\n",
    "\n",
    "matches[\"Result\"] = matches[\"HomeGoal\"] - matches[\"AwayGoal\"]\n",
    "matches.loc[matches[\"Result\"] < 0, \"Result\"] = -1\n",
    "matches.loc[matches[\"Result\"] == 0, \"Result\"] = 0\n",
    "matches.loc[matches[\"Result\"] > 0, \"Result\"] = 1\n",
    "\n",
    "result = matches.pop(\"Result\")\n",
    "matches.insert(8, \"Result\", result)"
   ]
  },
  {
   "cell_type": "code",
   "execution_count": null,
   "id": "dbade686",
   "metadata": {},
   "outputs": [],
   "source": [
    "def calculate_mean(df, column):\n",
    "    df[column] = df[column].fillna(df[column].mean())\n",
    "\n",
    "    return df"
   ]
  },
  {
   "cell_type": "code",
   "execution_count": null,
   "id": "8a1faf9f",
   "metadata": {},
   "outputs": [],
   "source": [
    "attribute_list = [\n",
    "    \"HomeShoton\",\n",
    "    \"AwayShoton\",\n",
    "    \"HomeShotoff\",\n",
    "    \"AwayShotoff\",\n",
    "    \"HomeFoulCommit\",\n",
    "    \"AwayFoulCommit\",\n",
    "    \"HomeCard\",\n",
    "    \"AwayCard\",\n",
    "    \"HomeCross\",\n",
    "    \"AwayCross\",\n",
    "    \"HomeCorner\",\n",
    "    \"AwayCorner\",\n",
    "    \"HomePossession\",\n",
    "    \"AwayPossession\",\n",
    "]"
   ]
  },
  {
   "cell_type": "code",
   "execution_count": null,
   "id": "82555837",
   "metadata": {},
   "outputs": [],
   "source": [
    "player_list = [\n",
    "    \"HomePlayer1\",\n",
    "    \"HomePlayer2\",\n",
    "    \"HomePlayer3\",\n",
    "    \"HomePlayer4\",\n",
    "    \"HomePlayer5\",\n",
    "    \"HomePlayer6\",\n",
    "    \"HomePlayer7\",\n",
    "    \"HomePlayer8\",\n",
    "    \"HomePlayer9\",\n",
    "    \"HomePlayer10\",\n",
    "    \"HomePlayer11\",\n",
    "    \"AwayPlayer1\",\n",
    "    \"AwayPlayer2\",\n",
    "    \"AwayPlayer3\",\n",
    "    \"AwayPlayer4\",\n",
    "    \"AwayPlayer5\",\n",
    "    \"AwayPlayer6\",\n",
    "    \"AwayPlayer7\",\n",
    "    \"AwayPlayer8\",\n",
    "    \"AwayPlayer9\",\n",
    "    \"AwayPlayer10\",\n",
    "    \"AwayPlayer11\",\n",
    "]"
   ]
  },
  {
   "cell_type": "code",
   "execution_count": null,
   "id": "e11800cf",
   "metadata": {},
   "outputs": [],
   "source": [
    "column = player_list\n",
    "\n",
    "matches = round(calculate_mean(matches, column), 1)"
   ]
  },
  {
   "cell_type": "code",
   "execution_count": null,
   "id": "b4afc6c8",
   "metadata": {},
   "outputs": [],
   "source": [
    "column = attribute_list\n",
    "\n",
    "matches = round(calculate_mean(matches, column), 0)"
   ]
  },
  {
   "cell_type": "code",
   "execution_count": null,
   "id": "80bdf086",
   "metadata": {},
   "outputs": [],
   "source": [
    "home_long = matches.pop(\"HomeTeamLongName\")\n",
    "matches.insert(5, \"HomeTeamLongName\", home_long)"
   ]
  },
  {
   "cell_type": "code",
   "execution_count": null,
   "id": "a4d827af",
   "metadata": {},
   "outputs": [],
   "source": [
    "home_short = matches.pop(\"HomeTeamShortName\")\n",
    "matches.insert(6, \"HomeTeamShortName\", home_short)"
   ]
  },
  {
   "cell_type": "code",
   "execution_count": null,
   "id": "151db3da",
   "metadata": {},
   "outputs": [],
   "source": [
    "away_long = matches.pop(\"AwayTeamLongName\")\n",
    "matches.insert(8, \"AwayTeamLongName\", away_long)"
   ]
  },
  {
   "cell_type": "code",
   "execution_count": null,
   "id": "2c28c9c5",
   "metadata": {},
   "outputs": [],
   "source": [
    "away_short = matches.pop(\"AwayTeamShortName\")\n",
    "matches.insert(9, \"AwayTeamShortName\", away_short)"
   ]
  },
  {
   "cell_type": "code",
   "execution_count": null,
   "id": "9786156a",
   "metadata": {},
   "outputs": [],
   "source": [
    "matches = matches.loc[:, ~matches.columns.duplicated()].copy()"
   ]
  },
  {
   "cell_type": "code",
   "execution_count": null,
   "id": "de238ca3",
   "metadata": {},
   "outputs": [],
   "source": [
    "matches.head()"
   ]
  },
  {
   "cell_type": "code",
   "execution_count": null,
   "id": "60edfd76",
   "metadata": {},
   "outputs": [],
   "source": [
    "matches.to_csv(\n",
    "    \"C:\\\\Users\\\\Space\\\\Documents\\\\py\\\\Projects\\\\TuringCollege\\\\Football\\\\DataSets\\\\matches.csv\",\n",
    "    index=True,\n",
    ")"
   ]
  },
  {
   "cell_type": "markdown",
   "id": "869c4da0",
   "metadata": {},
   "source": [
    "# Exploratory Data Analysis"
   ]
  },
  {
   "cell_type": "code",
   "execution_count": 133,
   "id": "8545a05c",
   "metadata": {},
   "outputs": [],
   "source": [
    "players = pd.read_csv(\n",
    "    \"C:\\\\Users\\\\Space\\\\Documents\\\\py\\\\Projects\\\\TuringCollege\\\\Football\\\\DataSets\\\\players.csv\",\n",
    "    index_col=0,\n",
    ")"
   ]
  },
  {
   "cell_type": "code",
   "execution_count": 424,
   "id": "b4fe1eb1",
   "metadata": {},
   "outputs": [],
   "source": [
    "teams = pd.read_csv(\n",
    "    \"C:\\\\Users\\\\Space\\\\Documents\\\\py\\\\Projects\\\\TuringCollege\\\\Football\\\\DataSets\\\\teams.csv\",\n",
    "    index_col=0,\n",
    ")"
   ]
  },
  {
   "cell_type": "code",
   "execution_count": 71,
   "id": "79ab51a7",
   "metadata": {},
   "outputs": [],
   "source": [
    "matches = pd.read_csv(\n",
    "    \"C:\\\\Users\\\\Space\\\\Documents\\\\py\\\\Projects\\\\TuringCollege\\\\Football\\\\DataSets\\\\matches.csv\",\n",
    "    index_col=0,\n",
    ")"
   ]
  },
  {
   "cell_type": "markdown",
   "id": "b007f065",
   "metadata": {},
   "source": [
    "## Total Number of Players"
   ]
  },
  {
   "cell_type": "markdown",
   "id": "24eb7eb1",
   "metadata": {},
   "source": [
    "Approximately 10,000 players."
   ]
  },
  {
   "cell_type": "code",
   "execution_count": 74,
   "id": "63887edf",
   "metadata": {},
   "outputs": [
    {
     "data": {
      "text/plain": [
       "10410"
      ]
     },
     "execution_count": 74,
     "metadata": {},
     "output_type": "execute_result"
    }
   ],
   "source": [
    "players.PlayerID.nunique()"
   ]
  },
  {
   "cell_type": "markdown",
   "id": "ec035c21",
   "metadata": {},
   "source": [
    "## Player's Foot and Overall Rating"
   ]
  },
  {
   "cell_type": "code",
   "execution_count": 430,
   "id": "4a5cd56a",
   "metadata": {
    "scrolled": false
   },
   "outputs": [
    {
     "data": {
      "image/png": "[encoded data removed]",
      "text/plain": [
       "<Figure size 640x480 with 1 Axes>"
      ]
     },
     "metadata": {},
     "output_type": "display_data"
    }
   ],
   "source": [
    "plt.rcParams.update(params)\n",
    "\n",
    "sns.boxplot(x=\"PreferredFoot\", y=\"OverallRating\", data=players)\n",
    "\n",
    "plt.xlabel(\"Preferred Foot\")\n",
    "plt.ylabel(\"Overall Rating\")\n",
    "plt.title('Player Preferred Foot', fontsize = size)\n",
    "sns.despine();"
   ]
  },
  {
   "cell_type": "code",
   "execution_count": 282,
   "id": "9eb4107d",
   "metadata": {},
   "outputs": [
    {
     "data": {
      "image/png": "[encoded data removed]",
      "text/plain": [
       "<Figure size 500x500 with 1 Axes>"
      ]
     },
     "metadata": {},
     "output_type": "display_data"
    }
   ],
   "source": [
    "plt.rcParams.update(params)\n",
    "\n",
    "sns.displot(data=players, x=\"BMI\", bins=15)\n",
    "\n",
    "plt.title('Player Body Mass Index', fontsize = size)\n",
    "sns.despine();"
   ]
  },
  {
   "cell_type": "code",
   "execution_count": 351,
   "id": "5d41f760",
   "metadata": {},
   "outputs": [
    {
     "data": {
      "image/png": "[encoded data removed]",
      "text/plain": [
       "<Figure size 640x480 with 1 Axes>"
      ]
     },
     "metadata": {},
     "output_type": "display_data"
    }
   ],
   "source": [
    "plt.rcParams.update(params)\n",
    "\n",
    "sns.kdeplot(data=players[[\"OverallRating\", \"Potential\"]], fill=True, legend=True)\n",
    "\n",
    "plt.title('Overall Rating and Potential Rating of Players', fontsize = size)\n",
    "sns.despine();"
   ]
  },
  {
   "cell_type": "code",
   "execution_count": 303,
   "id": "8245e5a2",
   "metadata": {},
   "outputs": [],
   "source": [
    "players[\"AttackWorkRate\"].value_counts()\n",
    "allowed_values = [\"high\", \"medium\", \"low\"]\n",
    "players.loc[~players[\"AttackWorkRate\"].isin(allowed_values), \"AttackWorkRate\"] = np.nan\n",
    "\n",
    "attack_values = players.groupby(\"AttackWorkRate\")[\"PlayerID\"].nunique()\n",
    "attack_values = (\n",
    "    attack_values.to_frame().reset_index().rename(columns={\"PlayerID\": \"Count\"})\n",
    ")\n",
    "attack_values = attack_values.sort_values(\"Count\", ascending=False)"
   ]
  },
  {
   "cell_type": "code",
   "execution_count": 304,
   "id": "a34daf41",
   "metadata": {},
   "outputs": [],
   "source": [
    "players[\"DefenceWorkRate\"].value_counts()\n",
    "allowed_values = [\"high\", \"medium\", \"low\"]\n",
    "players.loc[\n",
    "    ~players[\"DefenceWorkRate\"].isin(allowed_values), \"DefenceWorkRate\"\n",
    "] = np.nan\n",
    "\n",
    "defence_values = players.groupby(\"DefenceWorkRate\")[\"PlayerID\"].nunique()\n",
    "defence_values = (\n",
    "    defence_values.to_frame().reset_index().rename(columns={\"PlayerID\": \"Count\"})\n",
    ")\n",
    "defence_values = defence_values.sort_values(\"Count\", ascending=False)"
   ]
  },
  {
   "cell_type": "code",
   "execution_count": 451,
   "id": "c9f81d1b",
   "metadata": {},
   "outputs": [
    {
     "data": {
      "image/png": "[encoded data removed]",
      "text/plain": [
       "<Figure size 2000x800 with 2 Axes>"
      ]
     },
     "metadata": {},
     "output_type": "display_data"
    }
   ],
   "source": [
    "plt.rcParams.update(params)\n",
    "fig, (ax1, ax2) = plt.subplots(1,2, figsize=(20,8))\n",
    "\n",
    "sns.barplot(data=attack_values, x=\"AttackWorkRate\", y=\"Count\", ax=ax1)\n",
    "sns.barplot(data=defence_values, x=\"DefenceWorkRate\", y=\"Count\", ax = ax2)\n",
    "\n",
    "ax1.set_xlabel('Attack Work Rate')\n",
    "ax1.set_ylabel('Count')\n",
    "\n",
    "ax2.set_xlabel('Defense Work Rate')\n",
    "ax2.set_ylabel('Count')\n",
    "\n",
    "plt.suptitle (\"Attack and Defence Work Rate\", fontsize = size*2)\n",
    "sns.despine();"
   ]
  },
  {
   "cell_type": "code",
   "execution_count": 183,
   "id": "741553c0",
   "metadata": {},
   "outputs": [],
   "source": [
    "birthdays = players.groupby(\"Birthday\")[\"PlayerID\"].nunique()\n",
    "birthdays = birthdays.to_frame().reset_index().rename(columns={\"PlayerID\": \"Count\"})"
   ]
  },
  {
   "cell_type": "code",
   "execution_count": 311,
   "id": "9e0b33b2",
   "metadata": {},
   "outputs": [
    {
     "data": {
      "image/png": "[encoded data removed]",
      "text/plain": [
       "<Figure size 2000x400 with 1 Axes>"
      ]
     },
     "metadata": {},
     "output_type": "display_data"
    }
   ],
   "source": [
    "plt.rcParams.update(params)\n",
    "plt.figure(figsize=(20, 4))\n",
    "\n",
    "sns.barplot(data=birthdays, x=\"Birthday\", y='Count')\n",
    "\n",
    "plt.title('Player Birthdays', fontsize = size * 1.5)\n",
    "sns.despine();"
   ]
  },
  {
   "cell_type": "code",
   "execution_count": 313,
   "id": "abcd40f5",
   "metadata": {},
   "outputs": [
    {
     "data": {
      "image/png": "[encoded data removed]",
      "text/plain": [
       "<Figure size 2000x800 with 2 Axes>"
      ]
     },
     "metadata": {},
     "output_type": "display_data"
    }
   ],
   "source": [
    "plt.rcParams.update(params)\n",
    "fig, (ax1, ax2) = plt.subplots(1,2, figsize=(20,8))\n",
    "\n",
    "sns.kdeplot(data=players['Weight'], fill=True, legend=True, ax=ax1)\n",
    "sns.kdeplot(data=players['Height'], fill=True, legend=True, ax=ax2)\n",
    "\n",
    "plt.suptitle (\"Players Weight and Height\", fontsize = size*2)\n",
    "sns.despine()"
   ]
  },
  {
   "cell_type": "code",
   "execution_count": 441,
   "id": "8c65b0a4",
   "metadata": {},
   "outputs": [],
   "source": [
    "goals=matches[['HomeGoal','AwayGoal']]\n",
    "goals = goals.sum(numeric_only = True)\n",
    "goals = goals.to_frame().reset_index().rename(columns = {'index':'Goals', 0: 'Count'})"
   ]
  },
  {
   "cell_type": "code",
   "execution_count": 446,
   "id": "fd8b36f6",
   "metadata": {},
   "outputs": [
    {
     "data": {
      "image/png": "[encoded data removed]",
      "text/plain": [
       "<Figure size 640x480 with 1 Axes>"
      ]
     },
     "metadata": {},
     "output_type": "display_data"
    }
   ],
   "source": [
    "plt.rcParams.update(params)\n",
    "fig, ax = plt.subplots()\n",
    "\n",
    "sns.barplot(x=\"Goals\", y = 'Count', data=goals)\n",
    "\n",
    "ax.set_xticklabels(['Home Goals', 'Away Goals'])\n",
    "plt.title('Home Goals and Away Goals', fontsize = size)\n",
    "sns.despine();"
   ]
  },
  {
   "cell_type": "code",
   "execution_count": 328,
   "id": "a5b233ad",
   "metadata": {},
   "outputs": [],
   "source": [
    "goals_season = matches[[\"Date\", \"HomeGoal\", \"AwayGoal\"]].groupby(by=\"Date\").sum()\n",
    "goals_season=goals_season.rename(columns = {\"HomeGoal\": \"Home Goals\", \"AwayGoal\": \"Away Goals\" })"
   ]
  },
  {
   "cell_type": "code",
   "execution_count": 329,
   "id": "bf027c0f",
   "metadata": {},
   "outputs": [
    {
     "data": {
      "image/png": "[encoded data removed]",
      "text/plain": [
       "<Figure size 640x480 with 1 Axes>"
      ]
     },
     "metadata": {},
     "output_type": "display_data"
    }
   ],
   "source": [
    "plt.rcParams.update(params)\n",
    "\n",
    "sns.lineplot(data=goals_season)\n",
    "plt.xticks(rotation=60)\n",
    "\n",
    "labels = [\"Away Goals\", \"Home Goals\"]\n",
    "plt.ylabel(\"Number of Goals\")\n",
    "plt.xlabel(\"Season\")\n",
    "plt.title('Home Goals and Away Goals by Season')\n",
    "sns.despine()"
   ]
  },
  {
   "cell_type": "code",
   "execution_count": 333,
   "id": "382f8808",
   "metadata": {},
   "outputs": [],
   "source": [
    "goals = matches.sort_values(\"Result\", ascending=False)"
   ]
  },
  {
   "cell_type": "code",
   "execution_count": 452,
   "id": "d5118fdd",
   "metadata": {},
   "outputs": [
    {
     "data": {
      "image/png": "[encoded data removed]",
      "text/plain": [
       "<Figure size 640x480 with 1 Axes>"
      ]
     },
     "metadata": {},
     "output_type": "display_data"
    }
   ],
   "source": [
    "plt.rcParams.update(params)\n",
    "fig, ax = plt.subplots()\n",
    "\n",
    "sns.countplot(x=matches[\"Result\"], order=matches['Result'].value_counts().index)\n",
    "\n",
    "ax.set_ylabel('Count')\n",
    "ax.set_xticklabels(['Win', 'Draw', 'Lose'])\n",
    "plt.title('Wins, Draws and Losses', fontsize = size)\n",
    "sns.despine();"
   ]
  },
  {
   "cell_type": "markdown",
   "id": "8ad8cf67",
   "metadata": {},
   "source": [
    "# Machine Learning"
   ]
  },
  {
   "cell_type": "markdown",
   "id": "56005863",
   "metadata": {},
   "source": [
    "I used various machine learning models to guess the winner."
   ]
  },
  {
   "cell_type": "code",
   "execution_count": null,
   "id": "2a805fa0",
   "metadata": {},
   "outputs": [],
   "source": [
    "X = matches.loc[:, \"HomePlayer1\":\"AwayDefenceTeamWidth\"]\n",
    "y = matches[\"Result\"]"
   ]
  },
  {
   "cell_type": "markdown",
   "id": "e9b35315",
   "metadata": {},
   "source": [
    "## Logistic Regression"
   ]
  },
  {
   "cell_type": "markdown",
   "id": "8a76a737",
   "metadata": {},
   "source": [
    "The logistic regresssion model did not show good results."
   ]
  },
  {
   "cell_type": "code",
   "execution_count": null,
   "id": "e4da4748",
   "metadata": {},
   "outputs": [],
   "source": [
    "X_train, X_test, y_train, y_test = train_test_split(\n",
    "    X, y, test_size=0.25, random_state=101\n",
    ")"
   ]
  },
  {
   "cell_type": "code",
   "execution_count": null,
   "id": "68f97f9e",
   "metadata": {},
   "outputs": [],
   "source": [
    "scaler = StandardScaler()"
   ]
  },
  {
   "cell_type": "code",
   "execution_count": null,
   "id": "5e88de7c",
   "metadata": {},
   "outputs": [],
   "source": [
    "scaled_X_train = scaler.fit_transform(X_train)\n",
    "scaled_X_test = scaler.transform(X_test)"
   ]
  },
  {
   "cell_type": "code",
   "execution_count": null,
   "id": "5e10e228",
   "metadata": {},
   "outputs": [],
   "source": [
    "log_model = LogisticRegression(solver=\"saga\", multi_class=\"ovr\", max_iter=5000)"
   ]
  },
  {
   "cell_type": "code",
   "execution_count": null,
   "id": "a523a30f",
   "metadata": {},
   "outputs": [],
   "source": [
    "log_model.fit(scaled_X_train, y_train)"
   ]
  },
  {
   "cell_type": "code",
   "execution_count": null,
   "id": "594b984e",
   "metadata": {},
   "outputs": [],
   "source": [
    "y_predict = log_model.predict(scaled_X_test)"
   ]
  },
  {
   "cell_type": "code",
   "execution_count": null,
   "id": "c8bef6e8",
   "metadata": {},
   "outputs": [],
   "source": [
    "accuracy_score(y_test, y_predict)"
   ]
  },
  {
   "cell_type": "code",
   "execution_count": null,
   "id": "2ec6dd34",
   "metadata": {},
   "outputs": [],
   "source": [
    "confusion_matrix(y_test, y_predict)"
   ]
  },
  {
   "cell_type": "code",
   "execution_count": null,
   "id": "5badbc80",
   "metadata": {},
   "outputs": [],
   "source": [
    "print(classification_report(y_test, y_predict))"
   ]
  },
  {
   "cell_type": "markdown",
   "id": "b46817ee",
   "metadata": {},
   "source": [
    "## PCA"
   ]
  },
  {
   "cell_type": "markdown",
   "id": "146c0769",
   "metadata": {},
   "source": [
    "Principle Component Analysis"
   ]
  },
  {
   "cell_type": "code",
   "execution_count": null,
   "id": "44cfcef5",
   "metadata": {},
   "outputs": [],
   "source": [
    "y = matches[\"Result\"]"
   ]
  },
  {
   "cell_type": "code",
   "execution_count": null,
   "id": "0fd553e3",
   "metadata": {},
   "outputs": [],
   "source": [
    "sc = StandardScaler()\n",
    "X_scaled = sc.fit_transform(X)"
   ]
  },
  {
   "cell_type": "code",
   "execution_count": null,
   "id": "cb25969c",
   "metadata": {},
   "outputs": [],
   "source": [
    "from sklearn.decomposition import PCA\n",
    "\n",
    "pca = PCA(n_components=None)\n",
    "pca.fit(X_scaled)"
   ]
  },
  {
   "cell_type": "code",
   "execution_count": null,
   "id": "36f27c53",
   "metadata": {},
   "outputs": [],
   "source": [
    "print(\"Eigenvalues:\")\n",
    "print(pca.explained_variance_)\n",
    "print()"
   ]
  },
  {
   "cell_type": "code",
   "execution_count": null,
   "id": "06829c15",
   "metadata": {},
   "outputs": [],
   "source": [
    "print(\"Variances (Percentage):\")\n",
    "print(pca.explained_variance_ratio_ * 100)\n",
    "print()"
   ]
  },
  {
   "cell_type": "code",
   "execution_count": null,
   "id": "e95a01fb",
   "metadata": {},
   "outputs": [],
   "source": [
    "plt.plot(np.cumsum(pca.explained_variance_ratio_ * 100))\n",
    "plt.xlabel(\"Number of components (Dimensions)\")\n",
    "plt.ylabel(\"Explained variance (%)\")"
   ]
  },
  {
   "cell_type": "code",
   "execution_count": null,
   "id": "1cd290c7",
   "metadata": {},
   "outputs": [],
   "source": [
    "from sklearn.preprocessing import StandardScaler\n",
    "\n",
    "sc = StandardScaler()\n",
    "X_scaled = sc.fit_transform(X)\n",
    "\n",
    "from sklearn.decomposition import PCA\n",
    "\n",
    "pca = PCA(n_components=6)\n",
    "X_pca = pca.fit_transform(X_scaled)\n",
    "\n",
    "X_pca = pd.DataFrame(X_pca)\n",
    "print(X_pca.head())\n",
    "print(\"\\nSize: \")\n",
    "print(X_pca.shape)"
   ]
  },
  {
   "cell_type": "code",
   "execution_count": null,
   "id": "4b346aa4",
   "metadata": {},
   "outputs": [],
   "source": [
    "fig = plt.figure(figsize=(10, 8))\n",
    "\n",
    "sns.heatmap(X_pca.corr(), annot=True)"
   ]
  },
  {
   "cell_type": "code",
   "execution_count": null,
   "id": "21ea4e4c",
   "metadata": {},
   "outputs": [],
   "source": [
    "from sklearn.model_selection import train_test_split\n",
    "\n",
    "X_train_pca, X_test_pca, y_train, y_test = train_test_split(\n",
    "    X_pca, y, test_size=0.20, shuffle=True, random_state=2\n",
    ")\n",
    "\n",
    "from sklearn.linear_model import LogisticRegression\n",
    "\n",
    "clf = LogisticRegression(max_iter=2500)\n",
    "\n",
    "clf.fit(X_train_pca, y_train)\n",
    "\n",
    "\n",
    "y_pred = clf.predict(X_test_pca) \n",
    "y_true = y_test  \n",
    "\n",
    "\n",
    "from sklearn.metrics import accuracy_score\n",
    "import numpy as np\n",
    "\n",
    "print(\"Train accuracy:\", np.round(accuracy_score(y_train, clf.predict(X_train_pca)), 2))\n",
    "print(\"Test accuracy:\", np.round(accuracy_score(y_true, y_pred), 2))\n",
    "\n",
    "\n",
    "from sklearn.metrics import confusion_matrix\n",
    "\n",
    "cf_matrix = confusion_matrix(y_true, y_pred)\n",
    "print(\"\\nTest confusion_matrix\")\n",
    "sns.heatmap(cf_matrix, annot=True, cmap=\"Blues\")\n",
    "plt.xlabel(\"Predicted\", fontsize=12)\n",
    "plt.ylabel(\"True\", fontsize=12)"
   ]
  },
  {
   "cell_type": "code",
   "execution_count": null,
   "id": "2ff0b631",
   "metadata": {},
   "outputs": [],
   "source": [
    "print(classification_report(y_true, y_pred))"
   ]
  },
  {
   "cell_type": "markdown",
   "id": "138fed55",
   "metadata": {},
   "source": [
    "## Random Forest"
   ]
  },
  {
   "cell_type": "markdown",
   "id": "a4ec648e",
   "metadata": {},
   "source": [
    "Random Forest cannot overfit."
   ]
  },
  {
   "cell_type": "code",
   "execution_count": null,
   "id": "7b618c9a",
   "metadata": {},
   "outputs": [],
   "source": [
    "from sklearn.model_selection import train_test_split\n",
    "\n",
    "X_train, X_test, y_train, y_test = train_test_split(\n",
    "    X, y, test_size=0.3, random_state=101\n",
    ")"
   ]
  },
  {
   "cell_type": "code",
   "execution_count": null,
   "id": "12d60d01",
   "metadata": {},
   "outputs": [],
   "source": [
    "from sklearn.ensemble import RandomForestClassifier\n",
    "\n",
    "model = RandomForestClassifier(n_estimators=10, max_features=\"sqrt\", random_state=101)"
   ]
  },
  {
   "cell_type": "code",
   "execution_count": null,
   "id": "868908d7",
   "metadata": {},
   "outputs": [],
   "source": [
    "model.fit(X_train, y_train)\n",
    "preds = model.predict(X_test)"
   ]
  },
  {
   "cell_type": "code",
   "execution_count": null,
   "id": "10bb96d8",
   "metadata": {},
   "outputs": [],
   "source": [
    "from sklearn.metrics import (\n",
    "    confusion_matrix,\n",
    "    classification_report,\n",
    "    plot_confusion_matrix,\n",
    "    accuracy_score,\n",
    ")\n",
    "\n",
    "confusion_matrix(y_test, preds)"
   ]
  },
  {
   "cell_type": "code",
   "execution_count": null,
   "id": "56a9f072",
   "metadata": {
    "scrolled": true
   },
   "outputs": [],
   "source": [
    "print(classification_report(y_test, preds))"
   ]
  },
  {
   "cell_type": "markdown",
   "id": "663af15f",
   "metadata": {},
   "source": [
    "## Random Forest Grid Search"
   ]
  },
  {
   "cell_type": "markdown",
   "id": "9676357a",
   "metadata": {},
   "source": [
    "Testing different models."
   ]
  },
  {
   "cell_type": "code",
   "execution_count": null,
   "id": "88dd7bba",
   "metadata": {},
   "outputs": [],
   "source": [
    "X_train, X_test, y_train, y_test = train_test_split(\n",
    "    X, y, test_size=0.2, random_state=101\n",
    ")"
   ]
  },
  {
   "cell_type": "code",
   "execution_count": null,
   "id": "02469182",
   "metadata": {},
   "outputs": [],
   "source": [
    "n_estimators = [\n",
    "    25,\n",
    "    75,\n",
    "    100,\n",
    "]\n",
    "max_features = [14, 28, 42]\n",
    "bootstrap = [True, False]\n",
    "oob_score = [True, False]"
   ]
  },
  {
   "cell_type": "code",
   "execution_count": null,
   "id": "23724719",
   "metadata": {},
   "outputs": [],
   "source": [
    "param_grid = {\n",
    "    \"n_estimators\": n_estimators,\n",
    "    \"max_features\": max_features,\n",
    "    \"bootstrap\": bootstrap,\n",
    "    \"oob_score\": oob_score,\n",
    "}"
   ]
  },
  {
   "cell_type": "code",
   "execution_count": null,
   "id": "83ab545f",
   "metadata": {},
   "outputs": [],
   "source": [
    "rfc = RandomForestClassifier()\n",
    "grid = GridSearchCV(rfc, param_grid)"
   ]
  },
  {
   "cell_type": "code",
   "execution_count": null,
   "id": "305ae14f",
   "metadata": {},
   "outputs": [],
   "source": [
    "grid.fit(X_train, y_train)"
   ]
  },
  {
   "cell_type": "code",
   "execution_count": null,
   "id": "1b60d362",
   "metadata": {},
   "outputs": [],
   "source": [
    "grid.best_params_"
   ]
  },
  {
   "cell_type": "code",
   "execution_count": null,
   "id": "d8e39d44",
   "metadata": {},
   "outputs": [],
   "source": [
    "predictions = grid.predict(X_test)"
   ]
  },
  {
   "cell_type": "code",
   "execution_count": null,
   "id": "b7f9c1cd",
   "metadata": {},
   "outputs": [],
   "source": [
    "print(classification_report(y_test, predictions))"
   ]
  },
  {
   "cell_type": "code",
   "execution_count": null,
   "id": "3e4047a9",
   "metadata": {},
   "outputs": [],
   "source": [
    "rfc = RandomForestClassifier(\n",
    "    bootstrap=True, max_features=28, n_estimators=15, oob_score=False\n",
    ")"
   ]
  },
  {
   "cell_type": "code",
   "execution_count": null,
   "id": "17716bd3",
   "metadata": {},
   "outputs": [],
   "source": [
    "rfc.fit(X_train, y_train)\n",
    "preds = rfc.predict(X_test)"
   ]
  },
  {
   "cell_type": "code",
   "execution_count": null,
   "id": "930e8d85",
   "metadata": {},
   "outputs": [],
   "source": [
    "confusion_matrix(y_test, preds)"
   ]
  },
  {
   "cell_type": "code",
   "execution_count": null,
   "id": "710e5f05",
   "metadata": {},
   "outputs": [],
   "source": [
    "print(classification_report(y_test, preds))"
   ]
  },
  {
   "cell_type": "markdown",
   "id": "89826119",
   "metadata": {},
   "source": [
    "## ELI5"
   ]
  },
  {
   "cell_type": "markdown",
   "id": "6cee71e5",
   "metadata": {},
   "source": [
    "Model importance"
   ]
  },
  {
   "cell_type": "code",
   "execution_count": null,
   "id": "40a51eca",
   "metadata": {},
   "outputs": [],
   "source": [
    "log_model.fit(X_test, y_test)\n",
    "\n",
    "perm = PermutationImportance(log_model, random_state=1)\n",
    "\n",
    "eli.show_prediction(\n",
    "    log_model, X_test.iloc[1], feature_names=list(X.columns), show_feature_values=True\n",
    ")"
   ]
  },
  {
   "cell_type": "markdown",
   "id": "d29a69d7",
   "metadata": {},
   "source": [
    "# Conclusions"
   ]
  },
  {
   "cell_type": "markdown",
   "id": "1c9ac04d",
   "metadata": {},
   "source": [
    "Here is a summary of the conclusions that may be drawn from this report. "
   ]
  },
  {
   "cell_type": "markdown",
   "id": "f1925dff",
   "metadata": {},
   "source": [
    ">* **The Analysis of the Data:** I reviewed nearly 1,600 data points of red Portuguese \"Vinho Verde\" wines. The data in this dataset is imbalanced. For example, while there are only 18 wines of quality 8 there are 681 wines of quality 5. It is hard to trust our conclusions fully since we don't have a balance in the amount of data in each quality category.<br> \n",
    ">* **The Goals:** The goal of this analysis was to determine what makes wine, \"good.\" Since the quality score was given subjectively by a human taster, I chose both 7 and 8 as \"good quality,\" to allow for the natural subjectivity that went into scoring the quality of wines. The report divided the wines in the dataset into two groups: Good wines were quality 7 or 8. Bad wines were quality 3 - 6. The other goal was to predict the alcohol values from the data in this dataset. <br> \n",
    ">* **Multivariant Logistic Regression Model to Predict Quality:** The logistic regression model I tested in this report used 7 features. It predicted quality with an ADEQUATE accuracy score of approximately 0.80. <br>\n",
    ">* **Multivariant Decision Tree Model to Predict Quality:** The decision tree model I tested in this report used 7 features. It predicted quality with an ADEQUATE accuracy score of 0.80. <br>\n",
    ">* **Multivariant Linear Regression Model to Predict Alcohol:** The linear regression model I tested in this report used 6 features. It predicted alcohol with an INADEQUATE R-Squared value of 0.44 and an INADEQUATE adjusted R-Squared value of 0.39. It was clear from the scatter plots that the relationships of none of the features with alcohol were linear. It would be prudent to assume that a non-linear model may give better results.<br> \n",
    ">* **Overall Conclusion:** This analysis seems to indicate that it is possible to adequately predict the quality values from other data in this dataset but it is not possible to adequately predict the alcohol values from the data in this dataset. <br> "
   ]
  },
  {
   "cell_type": "markdown",
   "id": "f4c7f3d5",
   "metadata": {},
   "source": [
    "# Suggestions for Improvement"
   ]
  },
  {
   "cell_type": "markdown",
   "id": "1885cf09",
   "metadata": {},
   "source": [
    "This report has certain weaknesses. In this section, I outlined those weaknesses and indicated some avenues for improvement. "
   ]
  },
  {
   "cell_type": "markdown",
   "id": "612c766e",
   "metadata": {},
   "source": [
    ">* **The Dataset:** As I've mentioned in several locations in this report, the data in this dataset is imbalanced concerning data on wines of different qualities. A more balanced dataset would improve the quality of this analysis substantially. <br>\n",
    ">* **Logistic Regression Model:** My model had an accuracy value of approximately 0.80. The model could improve to achieve a higher accuracy value. I will continue to learn more about creating such models.<br>\n",
    ">* **Decision Tree Model:** My model had an accuracy value of approximately 0.80, almost identical to the logistic regression model. Similar to the logistic regression model, this model could improve to achieve a higher accuracy value and I will continue to learn more in this area as well.<br>\n",
    ">* **Linear Regression Model:** Perhaps it is possible to create a better model to predict alcohol values. The results I obtained with my linear regression model were not impressive. Working with non-linear models could be more helpful.<br>\n",
    ">* **Data Scaling:** I scaled the data for all models that I tested before I split the data into train and test sets. By doing so, I changed the data before the model could see it. This is not a good practice. It is better if the model works with unchanged, \"never seen before\" data. <br>\n",
    ">* **Statistics:** I will continue to improve my statistical knowledge to create better analyses.<br>\n",
    ">* **Pandas:** I will continue to learn to utilize more optimized Pandas techniques and algorithms.<br>\n",
    ">* **Seaborn and Matplotlib:** I will continue to improve my knowledge of Seaborn and Matplotlib for creating visualizations. <br>\n",
    ">* **Python Code:** I will continue to write better and more efficient Python code. <br>\n",
    ">* **Clean Code:** I will continue to adhere to the principles of writing clean code. <br>\n",
    ">* **Readability and Efficiency:** I will continue to improve my skills to find the delicate balance between readability and efficiency in coding.<br>"
   ]
  }
 ],
 "metadata": {
  "kernelspec": {
   "display_name": "Python 3 (ipykernel)",
   "language": "python",
   "name": "python3"
  },
  "language_info": {
   "codemirror_mode": {
    "name": "ipython",
    "version": 3
   },
   "file_extension": ".py",
   "mimetype": "text/x-python",
   "name": "python",
   "nbconvert_exporter": "python",
   "pygments_lexer": "ipython3",
   "version": "3.10.7"
  },
  "toc": {
   "base_numbering": 1,
   "nav_menu": {},
   "number_sections": true,
   "sideBar": true,
   "skip_h1_title": false,
   "title_cell": "Table of Contents",
   "title_sidebar": "Contents",
   "toc_cell": false,
   "toc_position": {},
   "toc_section_display": true,
   "toc_window_display": false
  }
 },
 "nbformat": 4,
 "nbformat_minor": 5
}
