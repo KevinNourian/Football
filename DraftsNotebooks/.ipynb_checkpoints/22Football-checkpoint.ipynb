{
 "cells": [
  {
   "cell_type": "markdown",
   "id": "double-logging",
   "metadata": {},
   "source": [
    "## Display Features"
   ]
  },
  {
   "cell_type": "code",
   "execution_count": null,
   "id": "edbd314d",
   "metadata": {},
   "outputs": [],
   "source": [
    "import pandas as pd\n",
    "import numpy as np\n",
    "import sqlite3\n",
    "import seaborn as sns\n",
    "import matplotlib as mpl\n",
    "import matplotlib.pyplot as plt\n",
    "import warnings\n",
    "\n",
    "from xml.etree.ElementTree import fromstring, ElementTree\n",
    "import xml.etree.ElementTree as ET"
   ]
  },
  {
   "cell_type": "code",
   "execution_count": null,
   "id": "driven-element",
   "metadata": {},
   "outputs": [],
   "source": [
    "%matplotlib inline\n",
    "pd.options.display.max_rows = 300000\n",
    "pd.options.display.max_columns = 999\n",
    "pd.options.display.max_colwidth = 500"
   ]
  },
  {
   "cell_type": "markdown",
   "id": "ff76411d",
   "metadata": {},
   "source": [
    "# Matches"
   ]
  },
  {
   "cell_type": "code",
   "execution_count": 57,
   "id": "b23e4c41",
   "metadata": {},
   "outputs": [],
   "source": [
    "matches = pd.read_csv(\n",
    "    \"C:\\\\Users\\\\Space\\\\Documents\\\\py\\\\Projects\\\\TuringCollege\\\\Football\\\\DataSets\\\\matches.csv\",\n",
    "    index_col=0,\n",
    ")"
   ]
  },
  {
   "cell_type": "code",
   "execution_count": 58,
   "id": "189dff34",
   "metadata": {},
   "outputs": [],
   "source": [
    "sample = matches[['HomeShoton', 'HomeShotoff','HomeFoulCommit', 'HomeCard', 'HomeCross']]"
   ]
  },
  {
   "cell_type": "code",
   "execution_count": 59,
   "id": "77e43365",
   "metadata": {},
   "outputs": [],
   "source": [
    "def calculate_mean(df, column):\n",
    "    df[column] = df[column].fillna(df[column].mean())\n",
    "    \n",
    "    return df"
   ]
  },
  {
   "cell_type": "code",
   "execution_count": 60,
   "id": "73a87a5e",
   "metadata": {},
   "outputs": [],
   "source": [
    "sample = sample.copy(deep=True)"
   ]
  },
  {
   "cell_type": "code",
   "execution_count": 61,
   "id": "8f782898",
   "metadata": {},
   "outputs": [],
   "source": [
    "col_list = ['HomeShoton', 'HomeShotoff','HomeFoulCommit', 'HomeCard', 'HomeCross']"
   ]
  },
  {
   "cell_type": "code",
   "execution_count": 62,
   "id": "88fb1d15",
   "metadata": {},
   "outputs": [],
   "source": [
    "column = col_list \n",
    "\n",
    "sample = round(calculate_mean(sample, column), 1)"
   ]
  },
  {
   "cell_type": "code",
   "execution_count": 63,
   "id": "b13911b7",
   "metadata": {},
   "outputs": [
    {
     "data": {
      "text/html": [
       "<div>\n",
       "<style scoped>\n",
       "    .dataframe tbody tr th:only-of-type {\n",
       "        vertical-align: middle;\n",
       "    }\n",
       "\n",
       "    .dataframe tbody tr th {\n",
       "        vertical-align: top;\n",
       "    }\n",
       "\n",
       "    .dataframe thead th {\n",
       "        text-align: right;\n",
       "    }\n",
       "</style>\n",
       "<table border=\"1\" class=\"dataframe\">\n",
       "  <thead>\n",
       "    <tr style=\"text-align: right;\">\n",
       "      <th></th>\n",
       "      <th>HomeShoton</th>\n",
       "      <th>HomeShotoff</th>\n",
       "      <th>HomeFoulCommit</th>\n",
       "      <th>HomeCard</th>\n",
       "      <th>HomeCross</th>\n",
       "    </tr>\n",
       "  </thead>\n",
       "  <tbody>\n",
       "    <tr>\n",
       "      <th>0</th>\n",
       "      <td>3.5</td>\n",
       "      <td>3.5</td>\n",
       "      <td>7.0</td>\n",
       "      <td>2.0</td>\n",
       "      <td>10.7</td>\n",
       "    </tr>\n",
       "    <tr>\n",
       "      <th>1</th>\n",
       "      <td>3.5</td>\n",
       "      <td>3.5</td>\n",
       "      <td>7.0</td>\n",
       "      <td>2.0</td>\n",
       "      <td>10.7</td>\n",
       "    </tr>\n",
       "    <tr>\n",
       "      <th>2</th>\n",
       "      <td>3.5</td>\n",
       "      <td>3.5</td>\n",
       "      <td>7.0</td>\n",
       "      <td>2.0</td>\n",
       "      <td>10.7</td>\n",
       "    </tr>\n",
       "    <tr>\n",
       "      <th>3</th>\n",
       "      <td>3.5</td>\n",
       "      <td>3.5</td>\n",
       "      <td>7.0</td>\n",
       "      <td>2.0</td>\n",
       "      <td>10.7</td>\n",
       "    </tr>\n",
       "    <tr>\n",
       "      <th>4</th>\n",
       "      <td>3.5</td>\n",
       "      <td>3.5</td>\n",
       "      <td>7.0</td>\n",
       "      <td>2.0</td>\n",
       "      <td>10.7</td>\n",
       "    </tr>\n",
       "  </tbody>\n",
       "</table>\n",
       "</div>"
      ],
      "text/plain": [
       "   HomeShoton  HomeShotoff  HomeFoulCommit  HomeCard  HomeCross\n",
       "0         3.5          3.5             7.0       2.0       10.7\n",
       "1         3.5          3.5             7.0       2.0       10.7\n",
       "2         3.5          3.5             7.0       2.0       10.7\n",
       "3         3.5          3.5             7.0       2.0       10.7\n",
       "4         3.5          3.5             7.0       2.0       10.7"
      ]
     },
     "execution_count": 63,
     "metadata": {},
     "output_type": "execute_result"
    }
   ],
   "source": [
    "sample.head()"
   ]
  },
  {
   "cell_type": "code",
   "execution_count": 64,
   "id": "de3e5e74",
   "metadata": {},
   "outputs": [
    {
     "data": {
      "text/plain": [
       "HomeShoton        0\n",
       "HomeShotoff       0\n",
       "HomeFoulCommit    0\n",
       "HomeCard          0\n",
       "HomeCross         0\n",
       "dtype: int64"
      ]
     },
     "execution_count": 64,
     "metadata": {},
     "output_type": "execute_result"
    }
   ],
   "source": [
    "sample.isnull().sum()"
   ]
  },
  {
   "cell_type": "code",
   "execution_count": null,
   "id": "bff17240",
   "metadata": {},
   "outputs": [],
   "source": []
  }
 ],
 "metadata": {
  "kernelspec": {
   "display_name": "Python 3 (ipykernel)",
   "language": "python",
   "name": "python3"
  },
  "language_info": {
   "codemirror_mode": {
    "name": "ipython",
    "version": 3
   },
   "file_extension": ".py",
   "mimetype": "text/x-python",
   "name": "python",
   "nbconvert_exporter": "python",
   "pygments_lexer": "ipython3",
   "version": "3.10.7"
  }
 },
 "nbformat": 4,
 "nbformat_minor": 5
}
