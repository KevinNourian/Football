{
 "cells": [
  {
   "cell_type": "markdown",
   "id": "double-logging",
   "metadata": {},
   "source": [
    "## Display Features"
   ]
  },
  {
   "cell_type": "code",
   "execution_count": 29,
   "id": "edbd314d",
   "metadata": {},
   "outputs": [],
   "source": [
    "import pandas as pd\n",
    "import numpy as np\n",
    "import sqlite3\n",
    "import seaborn as sns\n",
    "import matplotlib as mpl\n",
    "import matplotlib.pyplot as plt\n",
    "import warnings\n",
    "\n",
    "from xml.etree.ElementTree import fromstring, ElementTree\n",
    "import xml.etree.ElementTree as ET"
   ]
  },
  {
   "cell_type": "code",
   "execution_count": 30,
   "id": "driven-element",
   "metadata": {},
   "outputs": [],
   "source": [
    "%matplotlib inline\n",
    "pd.options.display.max_rows = 300000\n",
    "pd.options.display.max_columns = 999\n",
    "pd.options.display.max_colwidth = 500"
   ]
  },
  {
   "cell_type": "markdown",
   "id": "1060a9e2",
   "metadata": {},
   "source": [
    "# Load Datasets"
   ]
  },
  {
   "cell_type": "markdown",
   "id": "02ea06cb",
   "metadata": {},
   "source": [
    "## Players"
   ]
  },
  {
   "cell_type": "code",
   "execution_count": 31,
   "id": "bb1a633c",
   "metadata": {},
   "outputs": [],
   "source": [
    "players = pd.read_csv(\n",
    "    \"C:\\\\Users\\\\Space\\\\Documents\\\\py\\\\Projects\\\\TuringCollege\\\\Football\\\\DataSets\\\\players.csv\",\n",
    "    index_col=0,\n",
    ")"
   ]
  },
  {
   "cell_type": "code",
   "execution_count": 32,
   "id": "aae2217a",
   "metadata": {
    "scrolled": true
   },
   "outputs": [
    {
     "data": {
      "text/html": [
       "<div>\n",
       "<style scoped>\n",
       "    .dataframe tbody tr th:only-of-type {\n",
       "        vertical-align: middle;\n",
       "    }\n",
       "\n",
       "    .dataframe tbody tr th {\n",
       "        vertical-align: top;\n",
       "    }\n",
       "\n",
       "    .dataframe thead th {\n",
       "        text-align: right;\n",
       "    }\n",
       "</style>\n",
       "<table border=\"1\" class=\"dataframe\">\n",
       "  <thead>\n",
       "    <tr style=\"text-align: right;\">\n",
       "      <th></th>\n",
       "      <th>PlayerID</th>\n",
       "      <th>Date</th>\n",
       "      <th>PreferredFoot</th>\n",
       "      <th>AttachWorkRate</th>\n",
       "      <th>DefenceWorkRate</th>\n",
       "      <th>Birthday</th>\n",
       "      <th>Height</th>\n",
       "      <th>Weight</th>\n",
       "      <th>BMI</th>\n",
       "      <th>OverallRating</th>\n",
       "      <th>Potential</th>\n",
       "      <th>Crossing</th>\n",
       "      <th>Finishing</th>\n",
       "      <th>HeadingAccuracy</th>\n",
       "      <th>ShortPassing</th>\n",
       "      <th>Volleys</th>\n",
       "      <th>Dribbling</th>\n",
       "      <th>Curve</th>\n",
       "      <th>FreeKickAccuracy</th>\n",
       "      <th>LongPassing</th>\n",
       "      <th>BallControl</th>\n",
       "      <th>Acceleration</th>\n",
       "      <th>SprintSpeed</th>\n",
       "      <th>Agility</th>\n",
       "      <th>Reactions</th>\n",
       "      <th>Balance</th>\n",
       "      <th>ShotPower</th>\n",
       "      <th>Jumping</th>\n",
       "      <th>Stamina</th>\n",
       "      <th>Strength</th>\n",
       "      <th>LongShots</th>\n",
       "      <th>Aggression</th>\n",
       "      <th>Interceptions</th>\n",
       "      <th>Positioning</th>\n",
       "      <th>Vision</th>\n",
       "      <th>Penalties</th>\n",
       "      <th>Marking</th>\n",
       "      <th>StandingTackle</th>\n",
       "      <th>SlidingTackle</th>\n",
       "    </tr>\n",
       "  </thead>\n",
       "  <tbody>\n",
       "    <tr>\n",
       "      <th>0</th>\n",
       "      <td>2625</td>\n",
       "      <td>2007</td>\n",
       "      <td>right</td>\n",
       "      <td>high</td>\n",
       "      <td>medium</td>\n",
       "      <td>1981.0</td>\n",
       "      <td>175.26</td>\n",
       "      <td>154.0</td>\n",
       "      <td>22.74</td>\n",
       "      <td>63.0</td>\n",
       "      <td>64.0</td>\n",
       "      <td>48.0</td>\n",
       "      <td>48.0</td>\n",
       "      <td>47.0</td>\n",
       "      <td>64.0</td>\n",
       "      <td>38.0</td>\n",
       "      <td>57.0</td>\n",
       "      <td>50.0</td>\n",
       "      <td>48.5</td>\n",
       "      <td>67.0</td>\n",
       "      <td>57.0</td>\n",
       "      <td>67.0</td>\n",
       "      <td>64.0</td>\n",
       "      <td>59.0</td>\n",
       "      <td>52.0</td>\n",
       "      <td>49.0</td>\n",
       "      <td>61.0</td>\n",
       "      <td>56.0</td>\n",
       "      <td>78.0</td>\n",
       "      <td>56.0</td>\n",
       "      <td>59.0</td>\n",
       "      <td>72.0</td>\n",
       "      <td>52.0</td>\n",
       "      <td>55.0</td>\n",
       "      <td>56.0</td>\n",
       "      <td>46.0</td>\n",
       "      <td>64.0</td>\n",
       "      <td>66.0</td>\n",
       "      <td>63.0</td>\n",
       "    </tr>\n",
       "    <tr>\n",
       "      <th>1</th>\n",
       "      <td>2625</td>\n",
       "      <td>2008</td>\n",
       "      <td>right</td>\n",
       "      <td>high</td>\n",
       "      <td>medium</td>\n",
       "      <td>1981.0</td>\n",
       "      <td>175.26</td>\n",
       "      <td>154.0</td>\n",
       "      <td>22.74</td>\n",
       "      <td>60.0</td>\n",
       "      <td>64.0</td>\n",
       "      <td>48.0</td>\n",
       "      <td>48.0</td>\n",
       "      <td>47.0</td>\n",
       "      <td>64.0</td>\n",
       "      <td>38.0</td>\n",
       "      <td>57.0</td>\n",
       "      <td>50.0</td>\n",
       "      <td>51.0</td>\n",
       "      <td>67.0</td>\n",
       "      <td>57.0</td>\n",
       "      <td>67.0</td>\n",
       "      <td>64.0</td>\n",
       "      <td>59.0</td>\n",
       "      <td>52.0</td>\n",
       "      <td>49.0</td>\n",
       "      <td>61.0</td>\n",
       "      <td>56.0</td>\n",
       "      <td>78.0</td>\n",
       "      <td>56.0</td>\n",
       "      <td>59.0</td>\n",
       "      <td>72.0</td>\n",
       "      <td>52.0</td>\n",
       "      <td>55.0</td>\n",
       "      <td>56.0</td>\n",
       "      <td>46.0</td>\n",
       "      <td>64.0</td>\n",
       "      <td>66.0</td>\n",
       "      <td>63.0</td>\n",
       "    </tr>\n",
       "    <tr>\n",
       "      <th>2</th>\n",
       "      <td>2625</td>\n",
       "      <td>2010</td>\n",
       "      <td>right</td>\n",
       "      <td>high</td>\n",
       "      <td>medium</td>\n",
       "      <td>1981.0</td>\n",
       "      <td>175.26</td>\n",
       "      <td>154.0</td>\n",
       "      <td>22.74</td>\n",
       "      <td>60.0</td>\n",
       "      <td>64.0</td>\n",
       "      <td>48.0</td>\n",
       "      <td>48.0</td>\n",
       "      <td>47.0</td>\n",
       "      <td>64.0</td>\n",
       "      <td>38.0</td>\n",
       "      <td>57.0</td>\n",
       "      <td>50.0</td>\n",
       "      <td>51.0</td>\n",
       "      <td>67.0</td>\n",
       "      <td>57.0</td>\n",
       "      <td>67.0</td>\n",
       "      <td>64.0</td>\n",
       "      <td>59.0</td>\n",
       "      <td>50.0</td>\n",
       "      <td>49.0</td>\n",
       "      <td>71.0</td>\n",
       "      <td>56.0</td>\n",
       "      <td>78.0</td>\n",
       "      <td>56.0</td>\n",
       "      <td>59.0</td>\n",
       "      <td>72.0</td>\n",
       "      <td>71.0</td>\n",
       "      <td>50.0</td>\n",
       "      <td>56.0</td>\n",
       "      <td>69.0</td>\n",
       "      <td>64.0</td>\n",
       "      <td>66.0</td>\n",
       "      <td>63.0</td>\n",
       "    </tr>\n",
       "    <tr>\n",
       "      <th>3</th>\n",
       "      <td>2625</td>\n",
       "      <td>2011</td>\n",
       "      <td>right</td>\n",
       "      <td>high</td>\n",
       "      <td>medium</td>\n",
       "      <td>1981.0</td>\n",
       "      <td>175.26</td>\n",
       "      <td>154.0</td>\n",
       "      <td>22.74</td>\n",
       "      <td>58.5</td>\n",
       "      <td>60.5</td>\n",
       "      <td>52.0</td>\n",
       "      <td>47.0</td>\n",
       "      <td>46.0</td>\n",
       "      <td>58.0</td>\n",
       "      <td>37.0</td>\n",
       "      <td>56.0</td>\n",
       "      <td>49.0</td>\n",
       "      <td>50.0</td>\n",
       "      <td>66.0</td>\n",
       "      <td>58.0</td>\n",
       "      <td>66.0</td>\n",
       "      <td>63.0</td>\n",
       "      <td>58.0</td>\n",
       "      <td>49.0</td>\n",
       "      <td>61.5</td>\n",
       "      <td>68.0</td>\n",
       "      <td>55.0</td>\n",
       "      <td>77.0</td>\n",
       "      <td>55.0</td>\n",
       "      <td>58.0</td>\n",
       "      <td>71.0</td>\n",
       "      <td>65.0</td>\n",
       "      <td>49.0</td>\n",
       "      <td>55.0</td>\n",
       "      <td>66.0</td>\n",
       "      <td>63.0</td>\n",
       "      <td>63.0</td>\n",
       "      <td>57.0</td>\n",
       "    </tr>\n",
       "    <tr>\n",
       "      <th>4</th>\n",
       "      <td>2625</td>\n",
       "      <td>2012</td>\n",
       "      <td>right</td>\n",
       "      <td>medium</td>\n",
       "      <td>medium</td>\n",
       "      <td>1981.0</td>\n",
       "      <td>175.26</td>\n",
       "      <td>154.0</td>\n",
       "      <td>22.74</td>\n",
       "      <td>58.0</td>\n",
       "      <td>58.0</td>\n",
       "      <td>52.0</td>\n",
       "      <td>47.0</td>\n",
       "      <td>46.0</td>\n",
       "      <td>53.0</td>\n",
       "      <td>37.0</td>\n",
       "      <td>56.0</td>\n",
       "      <td>49.0</td>\n",
       "      <td>50.0</td>\n",
       "      <td>66.0</td>\n",
       "      <td>58.0</td>\n",
       "      <td>67.0</td>\n",
       "      <td>63.0</td>\n",
       "      <td>67.0</td>\n",
       "      <td>49.0</td>\n",
       "      <td>76.0</td>\n",
       "      <td>68.0</td>\n",
       "      <td>55.0</td>\n",
       "      <td>77.0</td>\n",
       "      <td>55.5</td>\n",
       "      <td>58.0</td>\n",
       "      <td>71.0</td>\n",
       "      <td>64.0</td>\n",
       "      <td>49.0</td>\n",
       "      <td>55.0</td>\n",
       "      <td>66.0</td>\n",
       "      <td>63.0</td>\n",
       "      <td>63.0</td>\n",
       "      <td>52.0</td>\n",
       "    </tr>\n",
       "  </tbody>\n",
       "</table>\n",
       "</div>"
      ],
      "text/plain": [
       "   PlayerID  Date PreferredFoot AttachWorkRate DefenceWorkRate  Birthday  \\\n",
       "0      2625  2007         right           high          medium    1981.0   \n",
       "1      2625  2008         right           high          medium    1981.0   \n",
       "2      2625  2010         right           high          medium    1981.0   \n",
       "3      2625  2011         right           high          medium    1981.0   \n",
       "4      2625  2012         right         medium          medium    1981.0   \n",
       "\n",
       "   Height  Weight    BMI  OverallRating  Potential  Crossing  Finishing  \\\n",
       "0  175.26   154.0  22.74           63.0       64.0      48.0       48.0   \n",
       "1  175.26   154.0  22.74           60.0       64.0      48.0       48.0   \n",
       "2  175.26   154.0  22.74           60.0       64.0      48.0       48.0   \n",
       "3  175.26   154.0  22.74           58.5       60.5      52.0       47.0   \n",
       "4  175.26   154.0  22.74           58.0       58.0      52.0       47.0   \n",
       "\n",
       "   HeadingAccuracy  ShortPassing  Volleys  Dribbling  Curve  FreeKickAccuracy  \\\n",
       "0             47.0          64.0     38.0       57.0   50.0              48.5   \n",
       "1             47.0          64.0     38.0       57.0   50.0              51.0   \n",
       "2             47.0          64.0     38.0       57.0   50.0              51.0   \n",
       "3             46.0          58.0     37.0       56.0   49.0              50.0   \n",
       "4             46.0          53.0     37.0       56.0   49.0              50.0   \n",
       "\n",
       "   LongPassing  BallControl  Acceleration  SprintSpeed  Agility  Reactions  \\\n",
       "0         67.0         57.0          67.0         64.0     59.0       52.0   \n",
       "1         67.0         57.0          67.0         64.0     59.0       52.0   \n",
       "2         67.0         57.0          67.0         64.0     59.0       50.0   \n",
       "3         66.0         58.0          66.0         63.0     58.0       49.0   \n",
       "4         66.0         58.0          67.0         63.0     67.0       49.0   \n",
       "\n",
       "   Balance  ShotPower  Jumping  Stamina  Strength  LongShots  Aggression  \\\n",
       "0     49.0       61.0     56.0     78.0      56.0       59.0        72.0   \n",
       "1     49.0       61.0     56.0     78.0      56.0       59.0        72.0   \n",
       "2     49.0       71.0     56.0     78.0      56.0       59.0        72.0   \n",
       "3     61.5       68.0     55.0     77.0      55.0       58.0        71.0   \n",
       "4     76.0       68.0     55.0     77.0      55.5       58.0        71.0   \n",
       "\n",
       "   Interceptions  Positioning  Vision  Penalties  Marking  StandingTackle  \\\n",
       "0           52.0         55.0    56.0       46.0     64.0            66.0   \n",
       "1           52.0         55.0    56.0       46.0     64.0            66.0   \n",
       "2           71.0         50.0    56.0       69.0     64.0            66.0   \n",
       "3           65.0         49.0    55.0       66.0     63.0            63.0   \n",
       "4           64.0         49.0    55.0       66.0     63.0            63.0   \n",
       "\n",
       "   SlidingTackle  \n",
       "0           63.0  \n",
       "1           63.0  \n",
       "2           63.0  \n",
       "3           57.0  \n",
       "4           52.0  "
      ]
     },
     "execution_count": 32,
     "metadata": {},
     "output_type": "execute_result"
    }
   ],
   "source": [
    "players.head()"
   ]
  },
  {
   "cell_type": "code",
   "execution_count": 33,
   "id": "05ea6b58",
   "metadata": {},
   "outputs": [
    {
     "data": {
      "text/plain": [
       "(71615, 39)"
      ]
     },
     "execution_count": 33,
     "metadata": {},
     "output_type": "execute_result"
    }
   ],
   "source": [
    "players.shape"
   ]
  },
  {
   "cell_type": "code",
   "execution_count": 34,
   "id": "6996808f",
   "metadata": {},
   "outputs": [],
   "source": [
    "overall_rating = players[[\"Date\", \"PlayerID\", \"OverallRating\"]]"
   ]
  },
  {
   "cell_type": "markdown",
   "id": "ff76411d",
   "metadata": {},
   "source": [
    "## Matches"
   ]
  },
  {
   "cell_type": "code",
   "execution_count": 35,
   "id": "b23e4c41",
   "metadata": {},
   "outputs": [],
   "source": [
    "matches = pd.read_csv(\n",
    "    \"C:\\\\Users\\\\Space\\\\Documents\\\\py\\\\Projects\\\\TuringCollege\\\\Football\\\\DataSets\\\\matches.csv\",\n",
    "    index_col=0,\n",
    ")"
   ]
  },
  {
   "cell_type": "code",
   "execution_count": 36,
   "id": "5b0924be",
   "metadata": {},
   "outputs": [],
   "source": [
    "sample_matches = matches[[\"Date\", \"HomePlayer1\", \"HomePlayer2\", \"HomePlayer3\", \"HomePlayer4\", \"HomePlayer5\"]]"
   ]
  },
  {
   "cell_type": "code",
   "execution_count": 37,
   "id": "7c1d65c3",
   "metadata": {},
   "outputs": [],
   "source": [
    "def overall_function(player, date, player_id, rating_column, left_dataframe, right_dataframe):\n",
    "\n",
    "    df_merge = pd.merge(left_dataframe, right_dataframe, left_on=[date, player_id], right_on=[date, player], how='right')\n",
    "    df_merge[player] = df_merge[rating_column]\n",
    "    del df_merge[rating_column]\n",
    "    del df_merge[player_id]\n",
    "\n",
    "    return df_merge"
   ]
  },
  {
   "cell_type": "code",
   "execution_count": 38,
   "id": "edfcd987",
   "metadata": {},
   "outputs": [],
   "source": [
    "player = \"HomePlayer1\"\n",
    "date = \"Date\"\n",
    "player_id = \"PlayerID\"\n",
    "rating_column = \"OverallRating\"\n",
    "left_dataframe = overall_rating\n",
    "right_dataframe = sample_matches\n",
    "\n",
    "\n",
    "df_merge = overall_function(player, date, player_id, rating_column, left_dataframe, right_dataframe)"
   ]
  },
  {
   "cell_type": "code",
   "execution_count": 39,
   "id": "0bacb8c9",
   "metadata": {
    "scrolled": true
   },
   "outputs": [
    {
     "data": {
      "text/html": [
       "<div>\n",
       "<style scoped>\n",
       "    .dataframe tbody tr th:only-of-type {\n",
       "        vertical-align: middle;\n",
       "    }\n",
       "\n",
       "    .dataframe tbody tr th {\n",
       "        vertical-align: top;\n",
       "    }\n",
       "\n",
       "    .dataframe thead th {\n",
       "        text-align: right;\n",
       "    }\n",
       "</style>\n",
       "<table border=\"1\" class=\"dataframe\">\n",
       "  <thead>\n",
       "    <tr style=\"text-align: right;\">\n",
       "      <th></th>\n",
       "      <th>Date</th>\n",
       "      <th>HomePlayer1</th>\n",
       "      <th>HomePlayer2</th>\n",
       "      <th>HomePlayer3</th>\n",
       "      <th>HomePlayer4</th>\n",
       "      <th>HomePlayer5</th>\n",
       "    </tr>\n",
       "  </thead>\n",
       "  <tbody>\n",
       "    <tr>\n",
       "      <th>0</th>\n",
       "      <td>2010</td>\n",
       "      <td>72.0</td>\n",
       "      <td>33620.0</td>\n",
       "      <td>38388.0</td>\n",
       "      <td>38389.0</td>\n",
       "      <td>38253.0</td>\n",
       "    </tr>\n",
       "    <tr>\n",
       "      <th>1</th>\n",
       "      <td>2010</td>\n",
       "      <td>72.0</td>\n",
       "      <td>38389.0</td>\n",
       "      <td>38253.0</td>\n",
       "      <td>69713.0</td>\n",
       "      <td>94553.0</td>\n",
       "    </tr>\n",
       "    <tr>\n",
       "      <th>2</th>\n",
       "      <td>2010</td>\n",
       "      <td>55.0</td>\n",
       "      <td>39977.0</td>\n",
       "      <td>93054.0</td>\n",
       "      <td>46666.0</td>\n",
       "      <td>93344.0</td>\n",
       "    </tr>\n",
       "    <tr>\n",
       "      <th>3</th>\n",
       "      <td>2010</td>\n",
       "      <td>69.5</td>\n",
       "      <td>67950.0</td>\n",
       "      <td>39389.0</td>\n",
       "      <td>80184.0</td>\n",
       "      <td>67941.0</td>\n",
       "    </tr>\n",
       "    <tr>\n",
       "      <th>4</th>\n",
       "      <td>2010</td>\n",
       "      <td>68.5</td>\n",
       "      <td>33595.0</td>\n",
       "      <td>37866.0</td>\n",
       "      <td>3329.0</td>\n",
       "      <td>149150.0</td>\n",
       "    </tr>\n",
       "  </tbody>\n",
       "</table>\n",
       "</div>"
      ],
      "text/plain": [
       "   Date  HomePlayer1  HomePlayer2  HomePlayer3  HomePlayer4  HomePlayer5\n",
       "0  2010         72.0      33620.0      38388.0      38389.0      38253.0\n",
       "1  2010         72.0      38389.0      38253.0      69713.0      94553.0\n",
       "2  2010         55.0      39977.0      93054.0      46666.0      93344.0\n",
       "3  2010         69.5      67950.0      39389.0      80184.0      67941.0\n",
       "4  2010         68.5      33595.0      37866.0       3329.0     149150.0"
      ]
     },
     "execution_count": 39,
     "metadata": {},
     "output_type": "execute_result"
    }
   ],
   "source": [
    "df_merge.head()"
   ]
  },
  {
   "cell_type": "code",
   "execution_count": 40,
   "id": "7b167f54",
   "metadata": {},
   "outputs": [
    {
     "data": {
      "text/plain": [
       "(18243, 6)"
      ]
     },
     "execution_count": 40,
     "metadata": {},
     "output_type": "execute_result"
    }
   ],
   "source": [
    "df_merge.shape"
   ]
  },
  {
   "cell_type": "code",
   "execution_count": 41,
   "id": "96f8686b",
   "metadata": {},
   "outputs": [
    {
     "data": {
      "text/plain": [
       "Date             0\n",
       "HomePlayer1    411\n",
       "HomePlayer2    299\n",
       "HomePlayer3    289\n",
       "HomePlayer4    324\n",
       "HomePlayer5    304\n",
       "dtype: int64"
      ]
     },
     "execution_count": 41,
     "metadata": {},
     "output_type": "execute_result"
    }
   ],
   "source": [
    "df_merge.isna().sum()"
   ]
  },
  {
   "cell_type": "code",
   "execution_count": 42,
   "id": "4efd631d",
   "metadata": {},
   "outputs": [],
   "source": [
    "player = \"HomePlayer2\"\n",
    "date = \"Date\"\n",
    "player_id = \"PlayerID\"\n",
    "rating_column = \"OverallRating\"\n",
    "left_dataframe = overall_rating\n",
    "right_dataframe = df_merge\n",
    "\n",
    "\n",
    "df_merge = overall_function(player, date, player_id, rating_column, left_dataframe, right_dataframe)"
   ]
  },
  {
   "cell_type": "code",
   "execution_count": 43,
   "id": "0738cd1a",
   "metadata": {},
   "outputs": [
    {
     "data": {
      "text/html": [
       "<div>\n",
       "<style scoped>\n",
       "    .dataframe tbody tr th:only-of-type {\n",
       "        vertical-align: middle;\n",
       "    }\n",
       "\n",
       "    .dataframe tbody tr th {\n",
       "        vertical-align: top;\n",
       "    }\n",
       "\n",
       "    .dataframe thead th {\n",
       "        text-align: right;\n",
       "    }\n",
       "</style>\n",
       "<table border=\"1\" class=\"dataframe\">\n",
       "  <thead>\n",
       "    <tr style=\"text-align: right;\">\n",
       "      <th></th>\n",
       "      <th>Date</th>\n",
       "      <th>HomePlayer1</th>\n",
       "      <th>HomePlayer2</th>\n",
       "      <th>HomePlayer3</th>\n",
       "      <th>HomePlayer4</th>\n",
       "      <th>HomePlayer5</th>\n",
       "    </tr>\n",
       "  </thead>\n",
       "  <tbody>\n",
       "    <tr>\n",
       "      <th>0</th>\n",
       "      <td>2010</td>\n",
       "      <td>72.0</td>\n",
       "      <td>72.5</td>\n",
       "      <td>38388.0</td>\n",
       "      <td>38389.0</td>\n",
       "      <td>38253.0</td>\n",
       "    </tr>\n",
       "    <tr>\n",
       "      <th>11276</th>\n",
       "      <td>2010</td>\n",
       "      <td>65.0</td>\n",
       "      <td>56.5</td>\n",
       "      <td>68744.0</td>\n",
       "      <td>NaN</td>\n",
       "      <td>13551.0</td>\n",
       "    </tr>\n",
       "    <tr>\n",
       "      <th>11277</th>\n",
       "      <td>2010</td>\n",
       "      <td>NaN</td>\n",
       "      <td>NaN</td>\n",
       "      <td>150670.0</td>\n",
       "      <td>NaN</td>\n",
       "      <td>NaN</td>\n",
       "    </tr>\n",
       "    <tr>\n",
       "      <th>11278</th>\n",
       "      <td>2010</td>\n",
       "      <td>74.0</td>\n",
       "      <td>63.0</td>\n",
       "      <td>NaN</td>\n",
       "      <td>72543.0</td>\n",
       "      <td>NaN</td>\n",
       "    </tr>\n",
       "    <tr>\n",
       "      <th>11279</th>\n",
       "      <td>2010</td>\n",
       "      <td>59.0</td>\n",
       "      <td>56.0</td>\n",
       "      <td>74827.0</td>\n",
       "      <td>NaN</td>\n",
       "      <td>114827.0</td>\n",
       "    </tr>\n",
       "  </tbody>\n",
       "</table>\n",
       "</div>"
      ],
      "text/plain": [
       "       Date  HomePlayer1  HomePlayer2  HomePlayer3  HomePlayer4  HomePlayer5\n",
       "0      2010         72.0         72.5      38388.0      38389.0      38253.0\n",
       "11276  2010         65.0         56.5      68744.0          NaN      13551.0\n",
       "11277  2010          NaN          NaN     150670.0          NaN          NaN\n",
       "11278  2010         74.0         63.0          NaN      72543.0          NaN\n",
       "11279  2010         59.0         56.0      74827.0          NaN     114827.0"
      ]
     },
     "execution_count": 43,
     "metadata": {},
     "output_type": "execute_result"
    }
   ],
   "source": [
    "df_merge.sort_values(\"Date\").head()"
   ]
  },
  {
   "cell_type": "code",
   "execution_count": 44,
   "id": "e523a264",
   "metadata": {},
   "outputs": [
    {
     "data": {
      "text/plain": [
       "(18243, 6)"
      ]
     },
     "execution_count": 44,
     "metadata": {},
     "output_type": "execute_result"
    }
   ],
   "source": [
    "df_merge.shape"
   ]
  },
  {
   "cell_type": "code",
   "execution_count": 45,
   "id": "17315435",
   "metadata": {},
   "outputs": [
    {
     "data": {
      "text/plain": [
       "Date             0\n",
       "HomePlayer1    411\n",
       "HomePlayer2    579\n",
       "HomePlayer3    289\n",
       "HomePlayer4    324\n",
       "HomePlayer5    304\n",
       "dtype: int64"
      ]
     },
     "execution_count": 45,
     "metadata": {},
     "output_type": "execute_result"
    }
   ],
   "source": [
    "df_merge.isna().sum()"
   ]
  },
  {
   "cell_type": "code",
   "execution_count": 46,
   "id": "302fd513",
   "metadata": {},
   "outputs": [],
   "source": [
    "player = \"HomePlayer3\"\n",
    "date = \"Date\"\n",
    "player_id = \"PlayerID\"\n",
    "rating_column = \"OverallRating\"\n",
    "left_dataframe = overall_rating\n",
    "right_dataframe = df_merge\n",
    "\n",
    "\n",
    "df_merge = overall_function(player, date, player_id, rating_column, left_dataframe, right_dataframe)"
   ]
  },
  {
   "cell_type": "code",
   "execution_count": 47,
   "id": "e2760389",
   "metadata": {},
   "outputs": [
    {
     "data": {
      "text/html": [
       "<div>\n",
       "<style scoped>\n",
       "    .dataframe tbody tr th:only-of-type {\n",
       "        vertical-align: middle;\n",
       "    }\n",
       "\n",
       "    .dataframe tbody tr th {\n",
       "        vertical-align: top;\n",
       "    }\n",
       "\n",
       "    .dataframe thead th {\n",
       "        text-align: right;\n",
       "    }\n",
       "</style>\n",
       "<table border=\"1\" class=\"dataframe\">\n",
       "  <thead>\n",
       "    <tr style=\"text-align: right;\">\n",
       "      <th></th>\n",
       "      <th>Date</th>\n",
       "      <th>HomePlayer1</th>\n",
       "      <th>HomePlayer2</th>\n",
       "      <th>HomePlayer3</th>\n",
       "      <th>HomePlayer4</th>\n",
       "      <th>HomePlayer5</th>\n",
       "    </tr>\n",
       "  </thead>\n",
       "  <tbody>\n",
       "    <tr>\n",
       "      <th>0</th>\n",
       "      <td>2010</td>\n",
       "      <td>72.0</td>\n",
       "      <td>72.5</td>\n",
       "      <td>72.0</td>\n",
       "      <td>38389.0</td>\n",
       "      <td>38253.0</td>\n",
       "    </tr>\n",
       "    <tr>\n",
       "      <th>11276</th>\n",
       "      <td>2010</td>\n",
       "      <td>65.0</td>\n",
       "      <td>56.5</td>\n",
       "      <td>68.0</td>\n",
       "      <td>NaN</td>\n",
       "      <td>13551.0</td>\n",
       "    </tr>\n",
       "    <tr>\n",
       "      <th>11277</th>\n",
       "      <td>2010</td>\n",
       "      <td>NaN</td>\n",
       "      <td>NaN</td>\n",
       "      <td>67.0</td>\n",
       "      <td>NaN</td>\n",
       "      <td>NaN</td>\n",
       "    </tr>\n",
       "    <tr>\n",
       "      <th>11278</th>\n",
       "      <td>2010</td>\n",
       "      <td>74.0</td>\n",
       "      <td>63.0</td>\n",
       "      <td>NaN</td>\n",
       "      <td>72543.0</td>\n",
       "      <td>NaN</td>\n",
       "    </tr>\n",
       "    <tr>\n",
       "      <th>11279</th>\n",
       "      <td>2010</td>\n",
       "      <td>59.0</td>\n",
       "      <td>56.0</td>\n",
       "      <td>74.0</td>\n",
       "      <td>NaN</td>\n",
       "      <td>114827.0</td>\n",
       "    </tr>\n",
       "  </tbody>\n",
       "</table>\n",
       "</div>"
      ],
      "text/plain": [
       "       Date  HomePlayer1  HomePlayer2  HomePlayer3  HomePlayer4  HomePlayer5\n",
       "0      2010         72.0         72.5         72.0      38389.0      38253.0\n",
       "11276  2010         65.0         56.5         68.0          NaN      13551.0\n",
       "11277  2010          NaN          NaN         67.0          NaN          NaN\n",
       "11278  2010         74.0         63.0          NaN      72543.0          NaN\n",
       "11279  2010         59.0         56.0         74.0          NaN     114827.0"
      ]
     },
     "execution_count": 47,
     "metadata": {},
     "output_type": "execute_result"
    }
   ],
   "source": [
    "df_merge.sort_values(\"Date\").head()"
   ]
  },
  {
   "cell_type": "code",
   "execution_count": 48,
   "id": "bfeda081",
   "metadata": {},
   "outputs": [
    {
     "data": {
      "text/plain": [
       "(18243, 6)"
      ]
     },
     "execution_count": 48,
     "metadata": {},
     "output_type": "execute_result"
    }
   ],
   "source": [
    "df_merge.shape"
   ]
  },
  {
   "cell_type": "code",
   "execution_count": 49,
   "id": "c453c6f5",
   "metadata": {},
   "outputs": [
    {
     "data": {
      "text/plain": [
       "Date             0\n",
       "HomePlayer1    411\n",
       "HomePlayer2    579\n",
       "HomePlayer3    462\n",
       "HomePlayer4    324\n",
       "HomePlayer5    304\n",
       "dtype: int64"
      ]
     },
     "execution_count": 49,
     "metadata": {},
     "output_type": "execute_result"
    }
   ],
   "source": [
    "df_merge.isna().sum()"
   ]
  },
  {
   "cell_type": "code",
   "execution_count": 50,
   "id": "173ffb0b",
   "metadata": {},
   "outputs": [],
   "source": [
    "player = \"HomePlayer4\"\n",
    "date = \"Date\"\n",
    "player_id = \"PlayerID\"\n",
    "rating_column = \"OverallRating\"\n",
    "left_dataframe = overall_rating\n",
    "right_dataframe = df_merge\n",
    "\n",
    "\n",
    "df_merge = overall_function(player, date, player_id, rating_column, left_dataframe, right_dataframe)"
   ]
  },
  {
   "cell_type": "code",
   "execution_count": 51,
   "id": "3ea56e16",
   "metadata": {},
   "outputs": [
    {
     "data": {
      "text/html": [
       "<div>\n",
       "<style scoped>\n",
       "    .dataframe tbody tr th:only-of-type {\n",
       "        vertical-align: middle;\n",
       "    }\n",
       "\n",
       "    .dataframe tbody tr th {\n",
       "        vertical-align: top;\n",
       "    }\n",
       "\n",
       "    .dataframe thead th {\n",
       "        text-align: right;\n",
       "    }\n",
       "</style>\n",
       "<table border=\"1\" class=\"dataframe\">\n",
       "  <thead>\n",
       "    <tr style=\"text-align: right;\">\n",
       "      <th></th>\n",
       "      <th>Date</th>\n",
       "      <th>HomePlayer1</th>\n",
       "      <th>HomePlayer2</th>\n",
       "      <th>HomePlayer3</th>\n",
       "      <th>HomePlayer4</th>\n",
       "      <th>HomePlayer5</th>\n",
       "    </tr>\n",
       "  </thead>\n",
       "  <tbody>\n",
       "    <tr>\n",
       "      <th>0</th>\n",
       "      <td>2010</td>\n",
       "      <td>72.0</td>\n",
       "      <td>72.5</td>\n",
       "      <td>72.0</td>\n",
       "      <td>74.0</td>\n",
       "      <td>38253.0</td>\n",
       "    </tr>\n",
       "    <tr>\n",
       "      <th>11276</th>\n",
       "      <td>2010</td>\n",
       "      <td>65.0</td>\n",
       "      <td>56.5</td>\n",
       "      <td>68.0</td>\n",
       "      <td>NaN</td>\n",
       "      <td>13551.0</td>\n",
       "    </tr>\n",
       "    <tr>\n",
       "      <th>11277</th>\n",
       "      <td>2010</td>\n",
       "      <td>NaN</td>\n",
       "      <td>NaN</td>\n",
       "      <td>67.0</td>\n",
       "      <td>NaN</td>\n",
       "      <td>NaN</td>\n",
       "    </tr>\n",
       "    <tr>\n",
       "      <th>11278</th>\n",
       "      <td>2010</td>\n",
       "      <td>74.0</td>\n",
       "      <td>63.0</td>\n",
       "      <td>NaN</td>\n",
       "      <td>67.0</td>\n",
       "      <td>NaN</td>\n",
       "    </tr>\n",
       "    <tr>\n",
       "      <th>11279</th>\n",
       "      <td>2010</td>\n",
       "      <td>59.0</td>\n",
       "      <td>56.0</td>\n",
       "      <td>74.0</td>\n",
       "      <td>NaN</td>\n",
       "      <td>114827.0</td>\n",
       "    </tr>\n",
       "  </tbody>\n",
       "</table>\n",
       "</div>"
      ],
      "text/plain": [
       "       Date  HomePlayer1  HomePlayer2  HomePlayer3  HomePlayer4  HomePlayer5\n",
       "0      2010         72.0         72.5         72.0         74.0      38253.0\n",
       "11276  2010         65.0         56.5         68.0          NaN      13551.0\n",
       "11277  2010          NaN          NaN         67.0          NaN          NaN\n",
       "11278  2010         74.0         63.0          NaN         67.0          NaN\n",
       "11279  2010         59.0         56.0         74.0          NaN     114827.0"
      ]
     },
     "execution_count": 51,
     "metadata": {},
     "output_type": "execute_result"
    }
   ],
   "source": [
    "df_merge.sort_values(\"Date\").head()"
   ]
  },
  {
   "cell_type": "code",
   "execution_count": 52,
   "id": "7b79d1aa",
   "metadata": {},
   "outputs": [
    {
     "data": {
      "text/plain": [
       "(18243, 6)"
      ]
     },
     "execution_count": 52,
     "metadata": {},
     "output_type": "execute_result"
    }
   ],
   "source": [
    "df_merge.shape"
   ]
  },
  {
   "cell_type": "code",
   "execution_count": 53,
   "id": "beee3a3d",
   "metadata": {
    "scrolled": true
   },
   "outputs": [
    {
     "data": {
      "text/plain": [
       "Date             0\n",
       "HomePlayer1    411\n",
       "HomePlayer2    579\n",
       "HomePlayer3    462\n",
       "HomePlayer4    539\n",
       "HomePlayer5    304\n",
       "dtype: int64"
      ]
     },
     "execution_count": 53,
     "metadata": {},
     "output_type": "execute_result"
    }
   ],
   "source": [
    "df_merge.isna().sum()"
   ]
  },
  {
   "cell_type": "code",
   "execution_count": 54,
   "id": "9afb24cd",
   "metadata": {},
   "outputs": [],
   "source": [
    "player = \"HomePlayer5\"\n",
    "date = \"Date\"\n",
    "player_id = \"PlayerID\"\n",
    "rating_column = \"OverallRating\"\n",
    "left_dataframe = overall_rating\n",
    "right_dataframe = df_merge\n",
    "\n",
    "\n",
    "df_merge = overall_function(player, date, player_id, rating_column, left_dataframe, right_dataframe)"
   ]
  },
  {
   "cell_type": "code",
   "execution_count": 55,
   "id": "87965542",
   "metadata": {},
   "outputs": [
    {
     "data": {
      "text/html": [
       "<div>\n",
       "<style scoped>\n",
       "    .dataframe tbody tr th:only-of-type {\n",
       "        vertical-align: middle;\n",
       "    }\n",
       "\n",
       "    .dataframe tbody tr th {\n",
       "        vertical-align: top;\n",
       "    }\n",
       "\n",
       "    .dataframe thead th {\n",
       "        text-align: right;\n",
       "    }\n",
       "</style>\n",
       "<table border=\"1\" class=\"dataframe\">\n",
       "  <thead>\n",
       "    <tr style=\"text-align: right;\">\n",
       "      <th></th>\n",
       "      <th>Date</th>\n",
       "      <th>HomePlayer1</th>\n",
       "      <th>HomePlayer2</th>\n",
       "      <th>HomePlayer3</th>\n",
       "      <th>HomePlayer4</th>\n",
       "      <th>HomePlayer5</th>\n",
       "    </tr>\n",
       "  </thead>\n",
       "  <tbody>\n",
       "    <tr>\n",
       "      <th>0</th>\n",
       "      <td>2010</td>\n",
       "      <td>72.0</td>\n",
       "      <td>72.5</td>\n",
       "      <td>72.0</td>\n",
       "      <td>74.0</td>\n",
       "      <td>70.5</td>\n",
       "    </tr>\n",
       "    <tr>\n",
       "      <th>11276</th>\n",
       "      <td>2010</td>\n",
       "      <td>65.0</td>\n",
       "      <td>56.5</td>\n",
       "      <td>68.0</td>\n",
       "      <td>NaN</td>\n",
       "      <td>60.5</td>\n",
       "    </tr>\n",
       "    <tr>\n",
       "      <th>11277</th>\n",
       "      <td>2010</td>\n",
       "      <td>NaN</td>\n",
       "      <td>NaN</td>\n",
       "      <td>67.0</td>\n",
       "      <td>NaN</td>\n",
       "      <td>NaN</td>\n",
       "    </tr>\n",
       "    <tr>\n",
       "      <th>11278</th>\n",
       "      <td>2010</td>\n",
       "      <td>74.0</td>\n",
       "      <td>63.0</td>\n",
       "      <td>NaN</td>\n",
       "      <td>67.0</td>\n",
       "      <td>NaN</td>\n",
       "    </tr>\n",
       "    <tr>\n",
       "      <th>11279</th>\n",
       "      <td>2010</td>\n",
       "      <td>59.0</td>\n",
       "      <td>56.0</td>\n",
       "      <td>74.0</td>\n",
       "      <td>NaN</td>\n",
       "      <td>57.0</td>\n",
       "    </tr>\n",
       "  </tbody>\n",
       "</table>\n",
       "</div>"
      ],
      "text/plain": [
       "       Date  HomePlayer1  HomePlayer2  HomePlayer3  HomePlayer4  HomePlayer5\n",
       "0      2010         72.0         72.5         72.0         74.0         70.5\n",
       "11276  2010         65.0         56.5         68.0          NaN         60.5\n",
       "11277  2010          NaN          NaN         67.0          NaN          NaN\n",
       "11278  2010         74.0         63.0          NaN         67.0          NaN\n",
       "11279  2010         59.0         56.0         74.0          NaN         57.0"
      ]
     },
     "execution_count": 55,
     "metadata": {},
     "output_type": "execute_result"
    }
   ],
   "source": [
    "df_merge.sort_values(\"Date\").head()"
   ]
  },
  {
   "cell_type": "code",
   "execution_count": 56,
   "id": "aa0d3655",
   "metadata": {},
   "outputs": [
    {
     "data": {
      "text/plain": [
       "(18243, 6)"
      ]
     },
     "execution_count": 56,
     "metadata": {},
     "output_type": "execute_result"
    }
   ],
   "source": [
    "df_merge.shape"
   ]
  },
  {
   "cell_type": "code",
   "execution_count": 57,
   "id": "b900d24b",
   "metadata": {},
   "outputs": [
    {
     "data": {
      "text/plain": [
       "Date             0\n",
       "HomePlayer1    411\n",
       "HomePlayer2    579\n",
       "HomePlayer3    462\n",
       "HomePlayer4    539\n",
       "HomePlayer5    478\n",
       "dtype: int64"
      ]
     },
     "execution_count": 57,
     "metadata": {},
     "output_type": "execute_result"
    }
   ],
   "source": [
    "df_merge.isna().sum()"
   ]
  }
 ],
 "metadata": {
  "kernelspec": {
   "display_name": "Python 3 (ipykernel)",
   "language": "python",
   "name": "python3"
  },
  "language_info": {
   "codemirror_mode": {
    "name": "ipython",
    "version": 3
   },
   "file_extension": ".py",
   "mimetype": "text/x-python",
   "name": "python",
   "nbconvert_exporter": "python",
   "pygments_lexer": "ipython3",
   "version": "3.10.7"
  }
 },
 "nbformat": 4,
 "nbformat_minor": 5
}
