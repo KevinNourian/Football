{
 "cells": [
  {
   "cell_type": "markdown",
   "id": "double-logging",
   "metadata": {},
   "source": [
    "## Display Features"
   ]
  },
  {
   "cell_type": "code",
   "execution_count": 1,
   "id": "edbd314d",
   "metadata": {},
   "outputs": [],
   "source": [
    "import pandas as pd\n",
    "import numpy as np\n",
    "import sqlite3\n",
    "import seaborn as sns\n",
    "import matplotlib as mpl\n",
    "import matplotlib.pyplot as plt\n",
    "import warnings\n",
    "\n",
    "from xml.etree.ElementTree import fromstring, ElementTree\n",
    "import xml.etree.ElementTree as ET"
   ]
  },
  {
   "cell_type": "code",
   "execution_count": 2,
   "id": "driven-element",
   "metadata": {},
   "outputs": [],
   "source": [
    "%matplotlib inline\n",
    "pd.options.display.max_rows = 300000\n",
    "pd.options.display.max_columns = 999\n",
    "pd.options.display.max_colwidth = 500"
   ]
  },
  {
   "cell_type": "markdown",
   "id": "1060a9e2",
   "metadata": {},
   "source": [
    "# Load Dataset"
   ]
  },
  {
   "cell_type": "code",
   "execution_count": 3,
   "id": "b1548de8",
   "metadata": {},
   "outputs": [],
   "source": [
    "football = sqlite3.connect(\n",
    "    \"C:\\\\Users\\\\Space\\\\Documents\\\\py\\\\Projects\\\\TuringCollege\\\\Football\\\\DataSet\\\\database.sqlite\"\n",
    ")"
   ]
  },
  {
   "cell_type": "markdown",
   "id": "3b54ec70",
   "metadata": {},
   "source": [
    "# List of Tables"
   ]
  },
  {
   "cell_type": "code",
   "execution_count": 4,
   "id": "110ba231",
   "metadata": {},
   "outputs": [
    {
     "data": {
      "text/plain": [
       "dict_keys(['sqlite_sequence', 'Player_Attributes', 'Player', 'Match', 'League', 'Country', 'Team', 'Team_Attributes'])"
      ]
     },
     "execution_count": 4,
     "metadata": {},
     "output_type": "execute_result"
    }
   ],
   "source": [
    "football_db = {}\n",
    "\n",
    "result = football.execute(\"SELECT name FROM sqlite_master WHERE type='table';\")\n",
    "\n",
    "for table in result:\n",
    "    query = \"SELECT * from \" + str(table[0]) + \";\"\n",
    "    football_db[table[0]] = pd.read_sql_query(query, football)\n",
    "\n",
    "football_db.keys()"
   ]
  },
  {
   "cell_type": "markdown",
   "id": "f1563cf5",
   "metadata": {},
   "source": [
    "# Country"
   ]
  },
  {
   "cell_type": "code",
   "execution_count": 5,
   "id": "cc9e06d3",
   "metadata": {},
   "outputs": [],
   "source": [
    "country = football_db[\"Country\"].copy()"
   ]
  },
  {
   "cell_type": "code",
   "execution_count": 6,
   "id": "f981ee65",
   "metadata": {},
   "outputs": [],
   "source": [
    "country.rename(columns={\"id\": \"CountryID\", \"name\": \"CountryName\"}, inplace=True)"
   ]
  },
  {
   "cell_type": "code",
   "execution_count": 7,
   "id": "bd1d2c81",
   "metadata": {},
   "outputs": [
    {
     "data": {
      "text/html": [
       "<div>\n",
       "<style scoped>\n",
       "    .dataframe tbody tr th:only-of-type {\n",
       "        vertical-align: middle;\n",
       "    }\n",
       "\n",
       "    .dataframe tbody tr th {\n",
       "        vertical-align: top;\n",
       "    }\n",
       "\n",
       "    .dataframe thead th {\n",
       "        text-align: right;\n",
       "    }\n",
       "</style>\n",
       "<table border=\"1\" class=\"dataframe\">\n",
       "  <thead>\n",
       "    <tr style=\"text-align: right;\">\n",
       "      <th></th>\n",
       "      <th>CountryID</th>\n",
       "      <th>CountryName</th>\n",
       "    </tr>\n",
       "  </thead>\n",
       "  <tbody>\n",
       "    <tr>\n",
       "      <th>0</th>\n",
       "      <td>1</td>\n",
       "      <td>Belgium</td>\n",
       "    </tr>\n",
       "    <tr>\n",
       "      <th>1</th>\n",
       "      <td>1729</td>\n",
       "      <td>England</td>\n",
       "    </tr>\n",
       "    <tr>\n",
       "      <th>2</th>\n",
       "      <td>4769</td>\n",
       "      <td>France</td>\n",
       "    </tr>\n",
       "    <tr>\n",
       "      <th>3</th>\n",
       "      <td>7809</td>\n",
       "      <td>Germany</td>\n",
       "    </tr>\n",
       "    <tr>\n",
       "      <th>4</th>\n",
       "      <td>10257</td>\n",
       "      <td>Italy</td>\n",
       "    </tr>\n",
       "    <tr>\n",
       "      <th>5</th>\n",
       "      <td>13274</td>\n",
       "      <td>Netherlands</td>\n",
       "    </tr>\n",
       "    <tr>\n",
       "      <th>6</th>\n",
       "      <td>15722</td>\n",
       "      <td>Poland</td>\n",
       "    </tr>\n",
       "    <tr>\n",
       "      <th>7</th>\n",
       "      <td>17642</td>\n",
       "      <td>Portugal</td>\n",
       "    </tr>\n",
       "    <tr>\n",
       "      <th>8</th>\n",
       "      <td>19694</td>\n",
       "      <td>Scotland</td>\n",
       "    </tr>\n",
       "    <tr>\n",
       "      <th>9</th>\n",
       "      <td>21518</td>\n",
       "      <td>Spain</td>\n",
       "    </tr>\n",
       "    <tr>\n",
       "      <th>10</th>\n",
       "      <td>24558</td>\n",
       "      <td>Switzerland</td>\n",
       "    </tr>\n",
       "  </tbody>\n",
       "</table>\n",
       "</div>"
      ],
      "text/plain": [
       "    CountryID  CountryName\n",
       "0           1      Belgium\n",
       "1        1729      England\n",
       "2        4769       France\n",
       "3        7809      Germany\n",
       "4       10257        Italy\n",
       "5       13274  Netherlands\n",
       "6       15722       Poland\n",
       "7       17642     Portugal\n",
       "8       19694     Scotland\n",
       "9       21518        Spain\n",
       "10      24558  Switzerland"
      ]
     },
     "execution_count": 7,
     "metadata": {},
     "output_type": "execute_result"
    }
   ],
   "source": [
    "country"
   ]
  },
  {
   "cell_type": "code",
   "execution_count": 8,
   "id": "977bcf8a",
   "metadata": {},
   "outputs": [
    {
     "data": {
      "text/plain": [
       "(11, 2)"
      ]
     },
     "execution_count": 8,
     "metadata": {},
     "output_type": "execute_result"
    }
   ],
   "source": [
    "country.shape"
   ]
  },
  {
   "cell_type": "markdown",
   "id": "7aebcf25",
   "metadata": {},
   "source": [
    "# League"
   ]
  },
  {
   "cell_type": "code",
   "execution_count": 9,
   "id": "3ce237dd",
   "metadata": {},
   "outputs": [],
   "source": [
    "league = football_db[\"League\"].copy()"
   ]
  },
  {
   "cell_type": "code",
   "execution_count": 10,
   "id": "ec532094",
   "metadata": {},
   "outputs": [],
   "source": [
    "del league[\"id\"]"
   ]
  },
  {
   "cell_type": "code",
   "execution_count": 11,
   "id": "7cb73ff9",
   "metadata": {},
   "outputs": [],
   "source": [
    "league.rename(columns={\"country_id\": \"CountryID\", \"name\": \"LeagueName\"}, inplace=True)"
   ]
  },
  {
   "cell_type": "code",
   "execution_count": 12,
   "id": "ab103fb3",
   "metadata": {
    "scrolled": true
   },
   "outputs": [
    {
     "data": {
      "text/html": [
       "<div>\n",
       "<style scoped>\n",
       "    .dataframe tbody tr th:only-of-type {\n",
       "        vertical-align: middle;\n",
       "    }\n",
       "\n",
       "    .dataframe tbody tr th {\n",
       "        vertical-align: top;\n",
       "    }\n",
       "\n",
       "    .dataframe thead th {\n",
       "        text-align: right;\n",
       "    }\n",
       "</style>\n",
       "<table border=\"1\" class=\"dataframe\">\n",
       "  <thead>\n",
       "    <tr style=\"text-align: right;\">\n",
       "      <th></th>\n",
       "      <th>CountryID</th>\n",
       "      <th>LeagueName</th>\n",
       "    </tr>\n",
       "  </thead>\n",
       "  <tbody>\n",
       "    <tr>\n",
       "      <th>0</th>\n",
       "      <td>1</td>\n",
       "      <td>Belgium Jupiler League</td>\n",
       "    </tr>\n",
       "    <tr>\n",
       "      <th>1</th>\n",
       "      <td>1729</td>\n",
       "      <td>England Premier League</td>\n",
       "    </tr>\n",
       "    <tr>\n",
       "      <th>2</th>\n",
       "      <td>4769</td>\n",
       "      <td>France Ligue 1</td>\n",
       "    </tr>\n",
       "    <tr>\n",
       "      <th>3</th>\n",
       "      <td>7809</td>\n",
       "      <td>Germany 1. Bundesliga</td>\n",
       "    </tr>\n",
       "    <tr>\n",
       "      <th>4</th>\n",
       "      <td>10257</td>\n",
       "      <td>Italy Serie A</td>\n",
       "    </tr>\n",
       "    <tr>\n",
       "      <th>5</th>\n",
       "      <td>13274</td>\n",
       "      <td>Netherlands Eredivisie</td>\n",
       "    </tr>\n",
       "    <tr>\n",
       "      <th>6</th>\n",
       "      <td>15722</td>\n",
       "      <td>Poland Ekstraklasa</td>\n",
       "    </tr>\n",
       "    <tr>\n",
       "      <th>7</th>\n",
       "      <td>17642</td>\n",
       "      <td>Portugal Liga ZON Sagres</td>\n",
       "    </tr>\n",
       "    <tr>\n",
       "      <th>8</th>\n",
       "      <td>19694</td>\n",
       "      <td>Scotland Premier League</td>\n",
       "    </tr>\n",
       "    <tr>\n",
       "      <th>9</th>\n",
       "      <td>21518</td>\n",
       "      <td>Spain LIGA BBVA</td>\n",
       "    </tr>\n",
       "    <tr>\n",
       "      <th>10</th>\n",
       "      <td>24558</td>\n",
       "      <td>Switzerland Super League</td>\n",
       "    </tr>\n",
       "  </tbody>\n",
       "</table>\n",
       "</div>"
      ],
      "text/plain": [
       "    CountryID                LeagueName\n",
       "0           1    Belgium Jupiler League\n",
       "1        1729    England Premier League\n",
       "2        4769            France Ligue 1\n",
       "3        7809     Germany 1. Bundesliga\n",
       "4       10257             Italy Serie A\n",
       "5       13274    Netherlands Eredivisie\n",
       "6       15722        Poland Ekstraklasa\n",
       "7       17642  Portugal Liga ZON Sagres\n",
       "8       19694   Scotland Premier League\n",
       "9       21518           Spain LIGA BBVA\n",
       "10      24558  Switzerland Super League"
      ]
     },
     "execution_count": 12,
     "metadata": {},
     "output_type": "execute_result"
    }
   ],
   "source": [
    "league"
   ]
  },
  {
   "cell_type": "code",
   "execution_count": 13,
   "id": "43b94aac",
   "metadata": {},
   "outputs": [
    {
     "data": {
      "text/plain": [
       "(11, 2)"
      ]
     },
     "execution_count": 13,
     "metadata": {},
     "output_type": "execute_result"
    }
   ],
   "source": [
    "league.shape"
   ]
  },
  {
   "cell_type": "markdown",
   "id": "5b19f015",
   "metadata": {},
   "source": [
    "# Player"
   ]
  },
  {
   "cell_type": "code",
   "execution_count": 263,
   "id": "98204de4",
   "metadata": {},
   "outputs": [],
   "source": [
    "player = football_db[\"Player\"].copy()"
   ]
  },
  {
   "cell_type": "code",
   "execution_count": 264,
   "id": "1f2f2576",
   "metadata": {},
   "outputs": [],
   "source": [
    "player[\"birthday\"] = pd.DatetimeIndex(player[\"birthday\"]).year"
   ]
  },
  {
   "cell_type": "code",
   "execution_count": 265,
   "id": "bd29b0c7",
   "metadata": {},
   "outputs": [],
   "source": [
    "player.drop(columns=[\"id\", \"player_fifa_api_id\"], inplace=True)"
   ]
  },
  {
   "cell_type": "code",
   "execution_count": 266,
   "id": "7d7c9766",
   "metadata": {},
   "outputs": [],
   "source": [
    "player.rename(\n",
    "    columns={\n",
    "        \"player_api_id\": \"PlayerID\",\n",
    "        \"player_name\": \"PlayerName\",\n",
    "        \"birthday\": \"Birthday\",\n",
    "        \"height\": \"Height\",\n",
    "        \"weight\": \"Weight\",\n",
    "    },\n",
    "    inplace=True,\n",
    ")"
   ]
  },
  {
   "cell_type": "code",
   "execution_count": 269,
   "id": "7c3f495f",
   "metadata": {},
   "outputs": [],
   "source": [
    "player[\"BMI\"] = (player[\"Weight\"] / 2.205) / ((player[\"Height\"] / 100.0) ** 2)"
   ]
  },
  {
   "cell_type": "code",
   "execution_count": 270,
   "id": "9481ee84",
   "metadata": {
    "scrolled": true
   },
   "outputs": [
    {
     "data": {
      "text/html": [
       "<div>\n",
       "<style scoped>\n",
       "    .dataframe tbody tr th:only-of-type {\n",
       "        vertical-align: middle;\n",
       "    }\n",
       "\n",
       "    .dataframe tbody tr th {\n",
       "        vertical-align: top;\n",
       "    }\n",
       "\n",
       "    .dataframe thead th {\n",
       "        text-align: right;\n",
       "    }\n",
       "</style>\n",
       "<table border=\"1\" class=\"dataframe\">\n",
       "  <thead>\n",
       "    <tr style=\"text-align: right;\">\n",
       "      <th></th>\n",
       "      <th>PlayerID</th>\n",
       "      <th>PlayerName</th>\n",
       "      <th>Birthday</th>\n",
       "      <th>Height</th>\n",
       "      <th>Weight</th>\n",
       "      <th>BMI</th>\n",
       "    </tr>\n",
       "  </thead>\n",
       "  <tbody>\n",
       "    <tr>\n",
       "      <th>0</th>\n",
       "      <td>505942</td>\n",
       "      <td>Aaron Appindangoye</td>\n",
       "      <td>1992</td>\n",
       "      <td>182.88</td>\n",
       "      <td>187</td>\n",
       "      <td>25.357159</td>\n",
       "    </tr>\n",
       "    <tr>\n",
       "      <th>1</th>\n",
       "      <td>155782</td>\n",
       "      <td>Aaron Cresswell</td>\n",
       "      <td>1989</td>\n",
       "      <td>170.18</td>\n",
       "      <td>146</td>\n",
       "      <td>22.862685</td>\n",
       "    </tr>\n",
       "    <tr>\n",
       "      <th>2</th>\n",
       "      <td>162549</td>\n",
       "      <td>Aaron Doran</td>\n",
       "      <td>1991</td>\n",
       "      <td>170.18</td>\n",
       "      <td>163</td>\n",
       "      <td>25.524778</td>\n",
       "    </tr>\n",
       "    <tr>\n",
       "      <th>3</th>\n",
       "      <td>30572</td>\n",
       "      <td>Aaron Galindo</td>\n",
       "      <td>1982</td>\n",
       "      <td>182.88</td>\n",
       "      <td>198</td>\n",
       "      <td>26.848756</td>\n",
       "    </tr>\n",
       "    <tr>\n",
       "      <th>4</th>\n",
       "      <td>23780</td>\n",
       "      <td>Aaron Hughes</td>\n",
       "      <td>1979</td>\n",
       "      <td>182.88</td>\n",
       "      <td>154</td>\n",
       "      <td>20.882366</td>\n",
       "    </tr>\n",
       "  </tbody>\n",
       "</table>\n",
       "</div>"
      ],
      "text/plain": [
       "   PlayerID          PlayerName  Birthday  Height  Weight        BMI\n",
       "0    505942  Aaron Appindangoye      1992  182.88     187  25.357159\n",
       "1    155782     Aaron Cresswell      1989  170.18     146  22.862685\n",
       "2    162549         Aaron Doran      1991  170.18     163  25.524778\n",
       "3     30572       Aaron Galindo      1982  182.88     198  26.848756\n",
       "4     23780        Aaron Hughes      1979  182.88     154  20.882366"
      ]
     },
     "execution_count": 270,
     "metadata": {},
     "output_type": "execute_result"
    }
   ],
   "source": [
    "player.head()"
   ]
  },
  {
   "cell_type": "code",
   "execution_count": 15,
   "id": "1c247ce2",
   "metadata": {},
   "outputs": [
    {
     "data": {
      "text/plain": [
       "(11060, 7)"
      ]
     },
     "execution_count": 15,
     "metadata": {},
     "output_type": "execute_result"
    }
   ],
   "source": [
    "player.shape"
   ]
  },
  {
   "cell_type": "markdown",
   "id": "e3e7b048",
   "metadata": {},
   "source": [
    "# Team"
   ]
  },
  {
   "cell_type": "code",
   "execution_count": 20,
   "id": "bc073ff5",
   "metadata": {},
   "outputs": [],
   "source": [
    "team = football_db[\"Team\"].copy()"
   ]
  },
  {
   "cell_type": "code",
   "execution_count": 21,
   "id": "b461c2fc",
   "metadata": {},
   "outputs": [],
   "source": [
    "team.drop(\n",
    "    columns=[\n",
    "        \"id\",\n",
    "        \"team_fifa_api_id\",\n",
    "    ],\n",
    "    inplace=True,\n",
    ")"
   ]
  },
  {
   "cell_type": "code",
   "execution_count": 22,
   "id": "d01d1677",
   "metadata": {},
   "outputs": [],
   "source": [
    "team.rename(\n",
    "    columns={\n",
    "        \"team_api_id\": \"TeamID\",\n",
    "        \"team_long_name\": \"TeamLongName\",\n",
    "        \"team_short_name\": \"TeamShortName\",\n",
    "    },\n",
    "    inplace=True,\n",
    ")"
   ]
  },
  {
   "cell_type": "code",
   "execution_count": 23,
   "id": "5b01ed2d",
   "metadata": {
    "scrolled": false
   },
   "outputs": [
    {
     "data": {
      "text/html": [
       "<div>\n",
       "<style scoped>\n",
       "    .dataframe tbody tr th:only-of-type {\n",
       "        vertical-align: middle;\n",
       "    }\n",
       "\n",
       "    .dataframe tbody tr th {\n",
       "        vertical-align: top;\n",
       "    }\n",
       "\n",
       "    .dataframe thead th {\n",
       "        text-align: right;\n",
       "    }\n",
       "</style>\n",
       "<table border=\"1\" class=\"dataframe\">\n",
       "  <thead>\n",
       "    <tr style=\"text-align: right;\">\n",
       "      <th></th>\n",
       "      <th>TeamID</th>\n",
       "      <th>TeamLongName</th>\n",
       "      <th>TeamShortName</th>\n",
       "    </tr>\n",
       "  </thead>\n",
       "  <tbody>\n",
       "    <tr>\n",
       "      <th>0</th>\n",
       "      <td>9987</td>\n",
       "      <td>KRC Genk</td>\n",
       "      <td>GEN</td>\n",
       "    </tr>\n",
       "    <tr>\n",
       "      <th>1</th>\n",
       "      <td>9993</td>\n",
       "      <td>Beerschot AC</td>\n",
       "      <td>BAC</td>\n",
       "    </tr>\n",
       "    <tr>\n",
       "      <th>2</th>\n",
       "      <td>10000</td>\n",
       "      <td>SV Zulte-Waregem</td>\n",
       "      <td>ZUL</td>\n",
       "    </tr>\n",
       "    <tr>\n",
       "      <th>3</th>\n",
       "      <td>9994</td>\n",
       "      <td>Sporting Lokeren</td>\n",
       "      <td>LOK</td>\n",
       "    </tr>\n",
       "    <tr>\n",
       "      <th>4</th>\n",
       "      <td>9984</td>\n",
       "      <td>KSV Cercle Brugge</td>\n",
       "      <td>CEB</td>\n",
       "    </tr>\n",
       "  </tbody>\n",
       "</table>\n",
       "</div>"
      ],
      "text/plain": [
       "   TeamID       TeamLongName TeamShortName\n",
       "0    9987           KRC Genk           GEN\n",
       "1    9993       Beerschot AC           BAC\n",
       "2   10000   SV Zulte-Waregem           ZUL\n",
       "3    9994   Sporting Lokeren           LOK\n",
       "4    9984  KSV Cercle Brugge           CEB"
      ]
     },
     "execution_count": 23,
     "metadata": {},
     "output_type": "execute_result"
    }
   ],
   "source": [
    "team.head()"
   ]
  },
  {
   "cell_type": "code",
   "execution_count": 24,
   "id": "7430cada",
   "metadata": {},
   "outputs": [
    {
     "data": {
      "text/plain": [
       "(299, 3)"
      ]
     },
     "execution_count": 24,
     "metadata": {},
     "output_type": "execute_result"
    }
   ],
   "source": [
    "team.shape"
   ]
  },
  {
   "cell_type": "markdown",
   "id": "09456769",
   "metadata": {},
   "source": [
    "# Player Attributes"
   ]
  },
  {
   "cell_type": "code",
   "execution_count": 14,
   "id": "e26ed520",
   "metadata": {},
   "outputs": [],
   "source": [
    "player_attributes = football_db[\"Player_Attributes\"].copy()"
   ]
  },
  {
   "cell_type": "code",
   "execution_count": 15,
   "id": "0bdd8ed8",
   "metadata": {},
   "outputs": [],
   "source": [
    "player_attributes.drop(\n",
    "    columns=[\n",
    "        \"id\",\n",
    "        \"player_fifa_api_id\",\n",
    "        \"gk_diving\",\n",
    "        \"gk_handling\",\n",
    "        \"gk_kicking\",\n",
    "        \"gk_positioning\",\n",
    "        \"gk_reflexes\",\n",
    "    ],\n",
    "    inplace=True,\n",
    ")"
   ]
  },
  {
   "cell_type": "code",
   "execution_count": 16,
   "id": "d8ab9335",
   "metadata": {},
   "outputs": [],
   "source": [
    "def break_ties(col: str):\n",
    "    most_common = pd.Series.mode(col)\n",
    "\n",
    "    if len(most_common) > 1:\n",
    "        return most_common[0]\n",
    "    else:\n",
    "        return most_common"
   ]
  },
  {
   "cell_type": "code",
   "execution_count": null,
   "id": "e595bf62",
   "metadata": {},
   "outputs": [],
   "source": [
    "player_attributes_cat = (\n",
    "    player_attributes.groupby([\"player_api_id\", \"date\"])[\n",
    "        [\"preferred_foot\", \"attacking_work_rate\", \"defensive_work_rate\"]\n",
    "    ]\n",
    "    .agg(lambda x: break_ties(x))\n",
    "    .reset_index()\n",
    ")"
   ]
  },
  {
   "cell_type": "code",
   "execution_count": 7,
   "id": "4e9eaa45",
   "metadata": {},
   "outputs": [],
   "source": [
    "player_attributes.rename(\n",
    "    columns={\n",
    "        \"player_api_id\": \"PlayerID\",\n",
    "        \"date\": \"Date\",\n",
    "        \"overall_rating\": \"OverallRating\",\n",
    "        \"potential\": \"Potential\",\n",
    "        \"preferred_foot\": \"PreferredFoot\",\n",
    "        \"attacking_work_rate\": \"AttachWorkRate\",\n",
    "        \"defensive_work_rate\": \"DefenceWorkRate\",\n",
    "        \"crossing\": \"Crossing\",\n",
    "        \"finishing\": \"Finishing\",\n",
    "        \"heading_accuracy\": \"HeadingAccuracy\",\n",
    "        \"short_passing\": \"ShortPassing\",\n",
    "        \"volleys\": \"Volleys\",\n",
    "        \"dribbling\": \"Dribbling\",\n",
    "        \"curve\": \"Curve\",\n",
    "        \"free_kick_accuracy\": \"FreeKickAccuracy\",\n",
    "        \"long_passing\": \"LongPassing\",\n",
    "        \"ball_control\": \"BallControl\",\n",
    "        \"acceleration\": \"Acceleration\",\n",
    "        \"sprint_speed\": \"SprintSpeed\",\n",
    "        \"agility\": \"Agility\",\n",
    "        \"reactions\": \"Reactions\",\n",
    "        \"balance\": \"Balance\",\n",
    "        \"shot_power\": \"ShotPower\",\n",
    "        \"jumping\": \"Jumping\",\n",
    "        \"stamina\": \"Stamina\",\n",
    "        \"strength\": \"Strength\",\n",
    "        \"long_shots\": \"LongShots\",\n",
    "        \"aggression\": \"Aggression\",\n",
    "        \"interceptions\": \"Interceptions\",\n",
    "        \"positioning\": \"Positioning\",\n",
    "        \"vision\": \"Vision\",\n",
    "        \"penalties\": \"Penalties\",\n",
    "        \"marking\": \"Marking\",\n",
    "        \"standing_tackle\": \"StandingTackle\",\n",
    "        \"sliding_tackle\": \"SlidingTackle\",\n",
    "    },\n",
    "    inplace=True,\n",
    ")"
   ]
  },
  {
   "cell_type": "code",
   "execution_count": 8,
   "id": "71c80692",
   "metadata": {},
   "outputs": [],
   "source": [
    "player_attributes[\"Date\"] = pd.DatetimeIndex(player_attributes[\"Date\"]).year"
   ]
  },
  {
   "cell_type": "code",
   "execution_count": 9,
   "id": "d438b483",
   "metadata": {},
   "outputs": [],
   "source": [
    "null_instances = player_attributes[player_attributes[\"OverallRating\"].isnull()].index"
   ]
  },
  {
   "cell_type": "code",
   "execution_count": 10,
   "id": "27d18dbf",
   "metadata": {},
   "outputs": [],
   "source": [
    "player_attributes.drop(null_instances, inplace=True)"
   ]
  },
  {
   "cell_type": "code",
   "execution_count": 11,
   "id": "85173344",
   "metadata": {},
   "outputs": [
    {
     "data": {
      "text/plain": [
       "(183142, 35)"
      ]
     },
     "execution_count": 11,
     "metadata": {},
     "output_type": "execute_result"
    }
   ],
   "source": [
    "player_attributes.shape"
   ]
  },
  {
   "cell_type": "code",
   "execution_count": 12,
   "id": "9c67125e",
   "metadata": {
    "scrolled": true
   },
   "outputs": [
    {
     "data": {
      "text/plain": [
       "PlayerID               0\n",
       "Date                   0\n",
       "OverallRating          0\n",
       "Potential              0\n",
       "PreferredFoot          0\n",
       "AttachWorkRate      2394\n",
       "DefenceWorkRate        0\n",
       "Crossing               0\n",
       "Finishing              0\n",
       "HeadingAccuracy        0\n",
       "ShortPassing           0\n",
       "Volleys             1877\n",
       "Dribbling              0\n",
       "Curve               1877\n",
       "FreeKickAccuracy       0\n",
       "LongPassing            0\n",
       "BallControl            0\n",
       "Acceleration           0\n",
       "SprintSpeed            0\n",
       "Agility             1877\n",
       "Reactions              0\n",
       "Balance             1877\n",
       "ShotPower              0\n",
       "Jumping             1877\n",
       "Stamina                0\n",
       "Strength               0\n",
       "LongShots              0\n",
       "Aggression             0\n",
       "Interceptions          0\n",
       "Positioning            0\n",
       "Vision              1877\n",
       "Penalties              0\n",
       "Marking                0\n",
       "StandingTackle         0\n",
       "SlidingTackle       1877\n",
       "dtype: int64"
      ]
     },
     "execution_count": 12,
     "metadata": {},
     "output_type": "execute_result"
    }
   ],
   "source": [
    "player_attributes.isnull().sum()"
   ]
  },
  {
   "cell_type": "code",
   "execution_count": 243,
   "id": "1eb701c5",
   "metadata": {},
   "outputs": [],
   "source": [
    "df_inner = pd.merge(player, player_attributes, on=\"PlayerID\", how=\"inner\")"
   ]
  },
  {
   "cell_type": "code",
   "execution_count": 244,
   "id": "cf4c0f4b",
   "metadata": {},
   "outputs": [
    {
     "data": {
      "text/html": [
       "<div>\n",
       "<style scoped>\n",
       "    .dataframe tbody tr th:only-of-type {\n",
       "        vertical-align: middle;\n",
       "    }\n",
       "\n",
       "    .dataframe tbody tr th {\n",
       "        vertical-align: top;\n",
       "    }\n",
       "\n",
       "    .dataframe thead th {\n",
       "        text-align: right;\n",
       "    }\n",
       "</style>\n",
       "<table border=\"1\" class=\"dataframe\">\n",
       "  <thead>\n",
       "    <tr style=\"text-align: right;\">\n",
       "      <th></th>\n",
       "      <th>PlayerID</th>\n",
       "      <th>PlayerName</th>\n",
       "      <th>Birthday</th>\n",
       "      <th>Height</th>\n",
       "      <th>Weight</th>\n",
       "      <th>Date</th>\n",
       "      <th>overall_rating</th>\n",
       "      <th>potential</th>\n",
       "      <th>preferred_foot</th>\n",
       "      <th>attacking_work_rate</th>\n",
       "      <th>defensive_work_rate</th>\n",
       "      <th>crossing</th>\n",
       "      <th>finishing</th>\n",
       "      <th>heading_accuracy</th>\n",
       "      <th>short_passing</th>\n",
       "      <th>volleys</th>\n",
       "      <th>dribbling</th>\n",
       "      <th>curve</th>\n",
       "      <th>free_kick_accuracy</th>\n",
       "      <th>long_passing</th>\n",
       "      <th>ball_control</th>\n",
       "      <th>acceleration</th>\n",
       "      <th>sprint_speed</th>\n",
       "      <th>agility</th>\n",
       "      <th>reactions</th>\n",
       "      <th>balance</th>\n",
       "      <th>shot_power</th>\n",
       "      <th>jumping</th>\n",
       "      <th>stamina</th>\n",
       "      <th>strength</th>\n",
       "      <th>long_shots</th>\n",
       "      <th>aggression</th>\n",
       "      <th>interceptions</th>\n",
       "      <th>positioning</th>\n",
       "      <th>vision</th>\n",
       "      <th>penalties</th>\n",
       "      <th>marking</th>\n",
       "      <th>standing_tackle</th>\n",
       "      <th>sliding_tackle</th>\n",
       "    </tr>\n",
       "  </thead>\n",
       "  <tbody>\n",
       "    <tr>\n",
       "      <th>0</th>\n",
       "      <td>505942</td>\n",
       "      <td>Aaron Appindangoye</td>\n",
       "      <td>1992</td>\n",
       "      <td>182.88</td>\n",
       "      <td>187</td>\n",
       "      <td>2016</td>\n",
       "      <td>67.0</td>\n",
       "      <td>71.0</td>\n",
       "      <td>right</td>\n",
       "      <td>medium</td>\n",
       "      <td>medium</td>\n",
       "      <td>49.0</td>\n",
       "      <td>44.0</td>\n",
       "      <td>71.0</td>\n",
       "      <td>61.0</td>\n",
       "      <td>44.0</td>\n",
       "      <td>51.0</td>\n",
       "      <td>45.0</td>\n",
       "      <td>39.0</td>\n",
       "      <td>64.0</td>\n",
       "      <td>49.0</td>\n",
       "      <td>60.0</td>\n",
       "      <td>64.0</td>\n",
       "      <td>59.0</td>\n",
       "      <td>47.0</td>\n",
       "      <td>65.0</td>\n",
       "      <td>55.0</td>\n",
       "      <td>58.0</td>\n",
       "      <td>54.0</td>\n",
       "      <td>76.0</td>\n",
       "      <td>35.0</td>\n",
       "      <td>71.0</td>\n",
       "      <td>70.0</td>\n",
       "      <td>45.0</td>\n",
       "      <td>54.0</td>\n",
       "      <td>48.0</td>\n",
       "      <td>65.0</td>\n",
       "      <td>69.0</td>\n",
       "      <td>69.0</td>\n",
       "    </tr>\n",
       "    <tr>\n",
       "      <th>1</th>\n",
       "      <td>505942</td>\n",
       "      <td>Aaron Appindangoye</td>\n",
       "      <td>1992</td>\n",
       "      <td>182.88</td>\n",
       "      <td>187</td>\n",
       "      <td>2015</td>\n",
       "      <td>67.0</td>\n",
       "      <td>71.0</td>\n",
       "      <td>right</td>\n",
       "      <td>medium</td>\n",
       "      <td>medium</td>\n",
       "      <td>49.0</td>\n",
       "      <td>44.0</td>\n",
       "      <td>71.0</td>\n",
       "      <td>61.0</td>\n",
       "      <td>44.0</td>\n",
       "      <td>51.0</td>\n",
       "      <td>45.0</td>\n",
       "      <td>39.0</td>\n",
       "      <td>64.0</td>\n",
       "      <td>49.0</td>\n",
       "      <td>60.0</td>\n",
       "      <td>64.0</td>\n",
       "      <td>59.0</td>\n",
       "      <td>47.0</td>\n",
       "      <td>65.0</td>\n",
       "      <td>55.0</td>\n",
       "      <td>58.0</td>\n",
       "      <td>54.0</td>\n",
       "      <td>76.0</td>\n",
       "      <td>35.0</td>\n",
       "      <td>71.0</td>\n",
       "      <td>70.0</td>\n",
       "      <td>45.0</td>\n",
       "      <td>54.0</td>\n",
       "      <td>48.0</td>\n",
       "      <td>65.0</td>\n",
       "      <td>69.0</td>\n",
       "      <td>69.0</td>\n",
       "    </tr>\n",
       "    <tr>\n",
       "      <th>2</th>\n",
       "      <td>505942</td>\n",
       "      <td>Aaron Appindangoye</td>\n",
       "      <td>1992</td>\n",
       "      <td>182.88</td>\n",
       "      <td>187</td>\n",
       "      <td>2015</td>\n",
       "      <td>62.0</td>\n",
       "      <td>66.0</td>\n",
       "      <td>right</td>\n",
       "      <td>medium</td>\n",
       "      <td>medium</td>\n",
       "      <td>49.0</td>\n",
       "      <td>44.0</td>\n",
       "      <td>71.0</td>\n",
       "      <td>61.0</td>\n",
       "      <td>44.0</td>\n",
       "      <td>51.0</td>\n",
       "      <td>45.0</td>\n",
       "      <td>39.0</td>\n",
       "      <td>64.0</td>\n",
       "      <td>49.0</td>\n",
       "      <td>60.0</td>\n",
       "      <td>64.0</td>\n",
       "      <td>59.0</td>\n",
       "      <td>47.0</td>\n",
       "      <td>65.0</td>\n",
       "      <td>55.0</td>\n",
       "      <td>58.0</td>\n",
       "      <td>54.0</td>\n",
       "      <td>76.0</td>\n",
       "      <td>35.0</td>\n",
       "      <td>63.0</td>\n",
       "      <td>41.0</td>\n",
       "      <td>45.0</td>\n",
       "      <td>54.0</td>\n",
       "      <td>48.0</td>\n",
       "      <td>65.0</td>\n",
       "      <td>66.0</td>\n",
       "      <td>69.0</td>\n",
       "    </tr>\n",
       "    <tr>\n",
       "      <th>3</th>\n",
       "      <td>505942</td>\n",
       "      <td>Aaron Appindangoye</td>\n",
       "      <td>1992</td>\n",
       "      <td>182.88</td>\n",
       "      <td>187</td>\n",
       "      <td>2015</td>\n",
       "      <td>61.0</td>\n",
       "      <td>65.0</td>\n",
       "      <td>right</td>\n",
       "      <td>medium</td>\n",
       "      <td>medium</td>\n",
       "      <td>48.0</td>\n",
       "      <td>43.0</td>\n",
       "      <td>70.0</td>\n",
       "      <td>60.0</td>\n",
       "      <td>43.0</td>\n",
       "      <td>50.0</td>\n",
       "      <td>44.0</td>\n",
       "      <td>38.0</td>\n",
       "      <td>63.0</td>\n",
       "      <td>48.0</td>\n",
       "      <td>60.0</td>\n",
       "      <td>64.0</td>\n",
       "      <td>59.0</td>\n",
       "      <td>46.0</td>\n",
       "      <td>65.0</td>\n",
       "      <td>54.0</td>\n",
       "      <td>58.0</td>\n",
       "      <td>54.0</td>\n",
       "      <td>76.0</td>\n",
       "      <td>34.0</td>\n",
       "      <td>62.0</td>\n",
       "      <td>40.0</td>\n",
       "      <td>44.0</td>\n",
       "      <td>53.0</td>\n",
       "      <td>47.0</td>\n",
       "      <td>62.0</td>\n",
       "      <td>63.0</td>\n",
       "      <td>66.0</td>\n",
       "    </tr>\n",
       "    <tr>\n",
       "      <th>4</th>\n",
       "      <td>505942</td>\n",
       "      <td>Aaron Appindangoye</td>\n",
       "      <td>1992</td>\n",
       "      <td>182.88</td>\n",
       "      <td>187</td>\n",
       "      <td>2007</td>\n",
       "      <td>61.0</td>\n",
       "      <td>65.0</td>\n",
       "      <td>right</td>\n",
       "      <td>medium</td>\n",
       "      <td>medium</td>\n",
       "      <td>48.0</td>\n",
       "      <td>43.0</td>\n",
       "      <td>70.0</td>\n",
       "      <td>60.0</td>\n",
       "      <td>43.0</td>\n",
       "      <td>50.0</td>\n",
       "      <td>44.0</td>\n",
       "      <td>38.0</td>\n",
       "      <td>63.0</td>\n",
       "      <td>48.0</td>\n",
       "      <td>60.0</td>\n",
       "      <td>64.0</td>\n",
       "      <td>59.0</td>\n",
       "      <td>46.0</td>\n",
       "      <td>65.0</td>\n",
       "      <td>54.0</td>\n",
       "      <td>58.0</td>\n",
       "      <td>54.0</td>\n",
       "      <td>76.0</td>\n",
       "      <td>34.0</td>\n",
       "      <td>62.0</td>\n",
       "      <td>40.0</td>\n",
       "      <td>44.0</td>\n",
       "      <td>53.0</td>\n",
       "      <td>47.0</td>\n",
       "      <td>62.0</td>\n",
       "      <td>63.0</td>\n",
       "      <td>66.0</td>\n",
       "    </tr>\n",
       "  </tbody>\n",
       "</table>\n",
       "</div>"
      ],
      "text/plain": [
       "   PlayerID          PlayerName  Birthday  Height  Weight  Date  \\\n",
       "0    505942  Aaron Appindangoye      1992  182.88     187  2016   \n",
       "1    505942  Aaron Appindangoye      1992  182.88     187  2015   \n",
       "2    505942  Aaron Appindangoye      1992  182.88     187  2015   \n",
       "3    505942  Aaron Appindangoye      1992  182.88     187  2015   \n",
       "4    505942  Aaron Appindangoye      1992  182.88     187  2007   \n",
       "\n",
       "   overall_rating  potential preferred_foot attacking_work_rate  \\\n",
       "0            67.0       71.0          right              medium   \n",
       "1            67.0       71.0          right              medium   \n",
       "2            62.0       66.0          right              medium   \n",
       "3            61.0       65.0          right              medium   \n",
       "4            61.0       65.0          right              medium   \n",
       "\n",
       "  defensive_work_rate  crossing  finishing  heading_accuracy  short_passing  \\\n",
       "0              medium      49.0       44.0              71.0           61.0   \n",
       "1              medium      49.0       44.0              71.0           61.0   \n",
       "2              medium      49.0       44.0              71.0           61.0   \n",
       "3              medium      48.0       43.0              70.0           60.0   \n",
       "4              medium      48.0       43.0              70.0           60.0   \n",
       "\n",
       "   volleys  dribbling  curve  free_kick_accuracy  long_passing  ball_control  \\\n",
       "0     44.0       51.0   45.0                39.0          64.0          49.0   \n",
       "1     44.0       51.0   45.0                39.0          64.0          49.0   \n",
       "2     44.0       51.0   45.0                39.0          64.0          49.0   \n",
       "3     43.0       50.0   44.0                38.0          63.0          48.0   \n",
       "4     43.0       50.0   44.0                38.0          63.0          48.0   \n",
       "\n",
       "   acceleration  sprint_speed  agility  reactions  balance  shot_power  \\\n",
       "0          60.0          64.0     59.0       47.0     65.0        55.0   \n",
       "1          60.0          64.0     59.0       47.0     65.0        55.0   \n",
       "2          60.0          64.0     59.0       47.0     65.0        55.0   \n",
       "3          60.0          64.0     59.0       46.0     65.0        54.0   \n",
       "4          60.0          64.0     59.0       46.0     65.0        54.0   \n",
       "\n",
       "   jumping  stamina  strength  long_shots  aggression  interceptions  \\\n",
       "0     58.0     54.0      76.0        35.0        71.0           70.0   \n",
       "1     58.0     54.0      76.0        35.0        71.0           70.0   \n",
       "2     58.0     54.0      76.0        35.0        63.0           41.0   \n",
       "3     58.0     54.0      76.0        34.0        62.0           40.0   \n",
       "4     58.0     54.0      76.0        34.0        62.0           40.0   \n",
       "\n",
       "   positioning  vision  penalties  marking  standing_tackle  sliding_tackle  \n",
       "0         45.0    54.0       48.0     65.0             69.0            69.0  \n",
       "1         45.0    54.0       48.0     65.0             69.0            69.0  \n",
       "2         45.0    54.0       48.0     65.0             66.0            69.0  \n",
       "3         44.0    53.0       47.0     62.0             63.0            66.0  \n",
       "4         44.0    53.0       47.0     62.0             63.0            66.0  "
      ]
     },
     "execution_count": 244,
     "metadata": {},
     "output_type": "execute_result"
    }
   ],
   "source": [
    "df_inner.head()"
   ]
  },
  {
   "cell_type": "markdown",
   "id": "ef43e76a",
   "metadata": {},
   "source": [
    "# Team Attributes"
   ]
  },
  {
   "cell_type": "code",
   "execution_count": 213,
   "id": "2263af30",
   "metadata": {},
   "outputs": [],
   "source": [
    "team_attributes = football_db[\"Team_Attributes\"].copy()"
   ]
  },
  {
   "cell_type": "code",
   "execution_count": 214,
   "id": "0f41ebae",
   "metadata": {},
   "outputs": [
    {
     "data": {
      "text/plain": [
       "(1458, 25)"
      ]
     },
     "execution_count": 214,
     "metadata": {},
     "output_type": "execute_result"
    }
   ],
   "source": [
    "team_attributes.shape"
   ]
  },
  {
   "cell_type": "code",
   "execution_count": 215,
   "id": "5c916c63",
   "metadata": {},
   "outputs": [],
   "source": [
    "team_attributes.drop(\n",
    "    columns=[\n",
    "        \"id\",\n",
    "        \"team_fifa_api_id\",\n",
    "        \"buildUpPlayDribbling\",\n",
    "        \"buildUpPlaySpeedClass\",\n",
    "        \"buildUpPlayDribblingClass\",\n",
    "        \"buildUpPlayPassingClass\",\n",
    "        \"buildUpPlayPositioningClass\",\n",
    "        \"chanceCreationPassingClass\",\n",
    "        \"chanceCreationCrossingClass\",\n",
    "        \"chanceCreationShootingClass\",\n",
    "        \"chanceCreationPositioningClass\",\n",
    "        \"defencePressureClass\",\n",
    "        \"defenceAggressionClass\",\n",
    "        \"defenceTeamWidthClass\",\n",
    "        \"defenceDefenderLineClass\",\n",
    "    ],\n",
    "    inplace=True,\n",
    ")"
   ]
  },
  {
   "cell_type": "code",
   "execution_count": 217,
   "id": "549c6b47",
   "metadata": {},
   "outputs": [],
   "source": [
    "team_attributes.rename(\n",
    "    columns={\n",
    "        \"team_api_id\": \"TeamID\",\n",
    "        \"date\": \"Date\",\n",
    "        \"buildUpPlaySpeed\": \"BuildUpPlaySpeed\",\n",
    "        \"buildUpPlayPassing\": \"BuildUpPlayPassing\",\n",
    "        \"chanceCreationPassing\": \"ChanceCreationPassing\",\n",
    "        \"chanceCreationCrossing\": \"ChanceCreationCrossing\",\n",
    "        \"chanceCreationShooting\": \"ChanceCreationShooting\",\n",
    "        \"defencePressure\": \"DefencePressure\",\n",
    "        \"defenceAggression\": \"DefenceAggression\",\n",
    "        \"defenceTeamWidth\": \"DefenceTeamWidth\",\n",
    "    },\n",
    "    inplace=True,\n",
    ")"
   ]
  },
  {
   "cell_type": "code",
   "execution_count": 218,
   "id": "ce375772",
   "metadata": {},
   "outputs": [],
   "source": [
    "team_attributes[\"Date\"] = pd.DatetimeIndex(team_attributes[\"Date\"]).year"
   ]
  },
  {
   "cell_type": "code",
   "execution_count": 219,
   "id": "b7e1989e",
   "metadata": {
    "scrolled": true
   },
   "outputs": [
    {
     "data": {
      "text/html": [
       "<div>\n",
       "<style scoped>\n",
       "    .dataframe tbody tr th:only-of-type {\n",
       "        vertical-align: middle;\n",
       "    }\n",
       "\n",
       "    .dataframe tbody tr th {\n",
       "        vertical-align: top;\n",
       "    }\n",
       "\n",
       "    .dataframe thead th {\n",
       "        text-align: right;\n",
       "    }\n",
       "</style>\n",
       "<table border=\"1\" class=\"dataframe\">\n",
       "  <thead>\n",
       "    <tr style=\"text-align: right;\">\n",
       "      <th></th>\n",
       "      <th>TeamID</th>\n",
       "      <th>Date</th>\n",
       "      <th>BuildUpPlaySpeed</th>\n",
       "      <th>BuildUpPlayPassing</th>\n",
       "      <th>ChanceCreationPassing</th>\n",
       "      <th>ChanceCreationCrossing</th>\n",
       "      <th>ChanceCreationShooting</th>\n",
       "      <th>DefencePressure</th>\n",
       "      <th>DefenceAggression</th>\n",
       "      <th>DefenceTeamWidth</th>\n",
       "    </tr>\n",
       "  </thead>\n",
       "  <tbody>\n",
       "    <tr>\n",
       "      <th>0</th>\n",
       "      <td>9930</td>\n",
       "      <td>2010</td>\n",
       "      <td>60</td>\n",
       "      <td>50</td>\n",
       "      <td>60</td>\n",
       "      <td>65</td>\n",
       "      <td>55</td>\n",
       "      <td>50</td>\n",
       "      <td>55</td>\n",
       "      <td>45</td>\n",
       "    </tr>\n",
       "    <tr>\n",
       "      <th>1</th>\n",
       "      <td>9930</td>\n",
       "      <td>2014</td>\n",
       "      <td>52</td>\n",
       "      <td>56</td>\n",
       "      <td>54</td>\n",
       "      <td>63</td>\n",
       "      <td>64</td>\n",
       "      <td>47</td>\n",
       "      <td>44</td>\n",
       "      <td>54</td>\n",
       "    </tr>\n",
       "    <tr>\n",
       "      <th>2</th>\n",
       "      <td>9930</td>\n",
       "      <td>2015</td>\n",
       "      <td>47</td>\n",
       "      <td>54</td>\n",
       "      <td>54</td>\n",
       "      <td>63</td>\n",
       "      <td>64</td>\n",
       "      <td>47</td>\n",
       "      <td>44</td>\n",
       "      <td>54</td>\n",
       "    </tr>\n",
       "    <tr>\n",
       "      <th>3</th>\n",
       "      <td>8485</td>\n",
       "      <td>2010</td>\n",
       "      <td>70</td>\n",
       "      <td>70</td>\n",
       "      <td>70</td>\n",
       "      <td>70</td>\n",
       "      <td>70</td>\n",
       "      <td>60</td>\n",
       "      <td>70</td>\n",
       "      <td>70</td>\n",
       "    </tr>\n",
       "    <tr>\n",
       "      <th>4</th>\n",
       "      <td>8485</td>\n",
       "      <td>2011</td>\n",
       "      <td>47</td>\n",
       "      <td>52</td>\n",
       "      <td>53</td>\n",
       "      <td>48</td>\n",
       "      <td>52</td>\n",
       "      <td>47</td>\n",
       "      <td>47</td>\n",
       "      <td>52</td>\n",
       "    </tr>\n",
       "  </tbody>\n",
       "</table>\n",
       "</div>"
      ],
      "text/plain": [
       "   TeamID  Date  BuildUpPlaySpeed  BuildUpPlayPassing  ChanceCreationPassing  \\\n",
       "0    9930  2010                60                  50                     60   \n",
       "1    9930  2014                52                  56                     54   \n",
       "2    9930  2015                47                  54                     54   \n",
       "3    8485  2010                70                  70                     70   \n",
       "4    8485  2011                47                  52                     53   \n",
       "\n",
       "   ChanceCreationCrossing  ChanceCreationShooting  DefencePressure  \\\n",
       "0                      65                      55               50   \n",
       "1                      63                      64               47   \n",
       "2                      63                      64               47   \n",
       "3                      70                      70               60   \n",
       "4                      48                      52               47   \n",
       "\n",
       "   DefenceAggression  DefenceTeamWidth  \n",
       "0                 55                45  \n",
       "1                 44                54  \n",
       "2                 44                54  \n",
       "3                 70                70  \n",
       "4                 47                52  "
      ]
     },
     "execution_count": 219,
     "metadata": {},
     "output_type": "execute_result"
    }
   ],
   "source": [
    "team_attributes.head()"
   ]
  },
  {
   "cell_type": "markdown",
   "id": "68cb3fe7",
   "metadata": {},
   "source": [
    "# Match"
   ]
  },
  {
   "cell_type": "code",
   "execution_count": 177,
   "id": "2f61950c",
   "metadata": {},
   "outputs": [],
   "source": [
    "def extract_xml(row, col_name, xml_key, away_home):\n",
    "    count = 0\n",
    "\n",
    "    element = row[col_name]\n",
    "    team_id = row[away_home + \"_team_api_id\"]\n",
    "\n",
    "    if type(element) == int:\n",
    "        return element\n",
    "\n",
    "    elif element != None:\n",
    "        # print(row,element)\n",
    "        tree = ElementTree(fromstring(element))\n",
    "        root = tree.getroot()\n",
    "\n",
    "        for child in root.iter(xml_key):\n",
    "            if str(team_id) == child.text:\n",
    "                count += 1\n",
    "        return count\n",
    "    else:\n",
    "        return np.nan"
   ]
  },
  {
   "cell_type": "code",
   "execution_count": 190,
   "id": "715f21eb",
   "metadata": {},
   "outputs": [],
   "source": [
    "def extract_possession_xml(row, col_name, xml_key):\n",
    "    count = 0\n",
    "    sum_pos = 0\n",
    "\n",
    "    element = row[col_name]\n",
    "\n",
    "    if type(element) == int:\n",
    "        return element\n",
    "\n",
    "    elif element != None:\n",
    "        # print(row,element)\n",
    "        tree = ElementTree(fromstring(element))\n",
    "        root = tree.getroot()\n",
    "        for child in root.iter(xml_key):\n",
    "            count += 1\n",
    "            sum_pos += int(child.text)\n",
    "\n",
    "        if count == 0:\n",
    "            return np.nan\n",
    "        else:\n",
    "            return sum_pos / count\n",
    "    else:\n",
    "        return np.nan"
   ]
  },
  {
   "cell_type": "code",
   "execution_count": 174,
   "id": "08d2a417",
   "metadata": {},
   "outputs": [],
   "source": [
    "match = football_db[\"Match\"].copy()"
   ]
  },
  {
   "cell_type": "code",
   "execution_count": 175,
   "id": "d7553190",
   "metadata": {},
   "outputs": [],
   "source": [
    "match[\"TotalGoals\"] = np.nan"
   ]
  },
  {
   "cell_type": "code",
   "execution_count": 176,
   "id": "ee569cd8",
   "metadata": {},
   "outputs": [],
   "source": [
    "match[\"TotalGoals\"] = match[\"home_team_goal\"] + match[\"away_team_goal\"]"
   ]
  },
  {
   "cell_type": "code",
   "execution_count": 178,
   "id": "6d307337",
   "metadata": {},
   "outputs": [],
   "source": [
    "match[\"ShotonHome\"] = np.nan\n",
    "match[\"ShotonAway\"] = np.nan"
   ]
  },
  {
   "cell_type": "code",
   "execution_count": 179,
   "id": "85ac1582",
   "metadata": {},
   "outputs": [],
   "source": [
    "match[\"ShotonHome\"] = match.apply(\n",
    "    lambda x: extract_xml(x, \"shoton\", \"team\", \"home\"), axis=1\n",
    ")\n",
    "match[\"ShotonAway\"] = match.apply(\n",
    "    lambda x: extract_xml(x, \"shoton\", \"team\", \"away\"), axis=1\n",
    ")"
   ]
  },
  {
   "cell_type": "code",
   "execution_count": 180,
   "id": "b8fc7bbe",
   "metadata": {},
   "outputs": [],
   "source": [
    "match[\"ShotoffHome\"] = np.nan\n",
    "match[\"ShotoffAway\"] = np.nan"
   ]
  },
  {
   "cell_type": "code",
   "execution_count": 181,
   "id": "afb32638",
   "metadata": {},
   "outputs": [],
   "source": [
    "match[\"ShotoffHome\"] = match.apply(\n",
    "    lambda x: extract_xml(x, \"shotoff\", \"team\", \"home\"), axis=1\n",
    ")\n",
    "match[\"ShotoffAway\"] = match.apply(\n",
    "    lambda x: extract_xml(x, \"shotoff\", \"team\", \"away\"), axis=1\n",
    ")"
   ]
  },
  {
   "cell_type": "code",
   "execution_count": 182,
   "id": "78e1760d",
   "metadata": {},
   "outputs": [],
   "source": [
    "match[\"FoulCommitHome\"] = np.nan\n",
    "match[\"FoulCommitAway\"] = np.nan"
   ]
  },
  {
   "cell_type": "code",
   "execution_count": 183,
   "id": "3ef5adaf",
   "metadata": {},
   "outputs": [],
   "source": [
    "match[\"FoulCommitHome\"] = match.apply(\n",
    "    lambda x: extract_xml(x, \"foulcommit\", \"team\", \"home\"), axis=1\n",
    ")\n",
    "match[\"FoulCommitAway\"] = match.apply(\n",
    "    lambda x: extract_xml(x, \"foulcommit\", \"team\", \"away\"), axis=1\n",
    ")"
   ]
  },
  {
   "cell_type": "code",
   "execution_count": 184,
   "id": "23ade3bd",
   "metadata": {},
   "outputs": [],
   "source": [
    "match[\"CardHome\"] = np.nan\n",
    "match[\"CardAway\"] = np.nan"
   ]
  },
  {
   "cell_type": "code",
   "execution_count": 185,
   "id": "805023a8",
   "metadata": {},
   "outputs": [],
   "source": [
    "match[\"CardHome\"] = match.apply(\n",
    "    lambda x: extract_xml(x, \"card\", \"team\", \"home\"), axis=1\n",
    ")\n",
    "match[\"CardAway\"] = match.apply(\n",
    "    lambda x: extract_xml(x, \"card\", \"team\", \"away\"), axis=1\n",
    ")"
   ]
  },
  {
   "cell_type": "code",
   "execution_count": 186,
   "id": "2b3a1ca5",
   "metadata": {},
   "outputs": [],
   "source": [
    "match[\"CrossHome\"] = np.nan\n",
    "match[\"CrossAway\"] = np.nan"
   ]
  },
  {
   "cell_type": "code",
   "execution_count": 187,
   "id": "92081223",
   "metadata": {},
   "outputs": [],
   "source": [
    "match[\"CrossHome\"] = match.apply(\n",
    "    lambda x: extract_xml(x, \"cross\", \"team\", \"home\"), axis=1\n",
    ")\n",
    "match[\"CrossAway\"] = match.apply(\n",
    "    lambda x: extract_xml(x, \"cross\", \"team\", \"away\"), axis=1\n",
    ")"
   ]
  },
  {
   "cell_type": "code",
   "execution_count": 188,
   "id": "9335bef0",
   "metadata": {},
   "outputs": [],
   "source": [
    "match[\"CornerHome\"] = np.nan\n",
    "match[\"CornerAway\"] = np.nan"
   ]
  },
  {
   "cell_type": "code",
   "execution_count": 189,
   "id": "fa641bd8",
   "metadata": {},
   "outputs": [],
   "source": [
    "match[\"CornerHome\"] = match.apply(\n",
    "    lambda x: extract_xml(x, \"corner\", \"team\", \"home\"), axis=1\n",
    ")\n",
    "match[\"CornerAway\"] = match.apply(\n",
    "    lambda x: extract_xml(x, \"corner\", \"team\", \"away\"), axis=1\n",
    ")"
   ]
  },
  {
   "cell_type": "code",
   "execution_count": 191,
   "id": "a3888efb",
   "metadata": {},
   "outputs": [],
   "source": [
    "match[\"PossessionHome\"] = np.nan\n",
    "match[\"PossessionAway\"] = np.nan"
   ]
  },
  {
   "cell_type": "code",
   "execution_count": 192,
   "id": "752b4509",
   "metadata": {},
   "outputs": [],
   "source": [
    "match[\"PossessionHome\"] = match.apply(\n",
    "    lambda x: extract_possession_xml(x, \"possession\", \"homepos\"), axis=1\n",
    ")\n",
    "match[\"PossessionAway\"] = match.apply(\n",
    "    lambda x: extract_possession_xml(x, \"possession\", \"awaypos\"), axis=1\n",
    ")"
   ]
  },
  {
   "cell_type": "code",
   "execution_count": 193,
   "id": "8c5c07d8",
   "metadata": {},
   "outputs": [],
   "source": [
    "match.drop(\n",
    "    columns=[\"id\", \"stage\", \"country_id\"],\n",
    "    inplace=True,\n",
    ")"
   ]
  },
  {
   "cell_type": "code",
   "execution_count": 194,
   "id": "be64b755",
   "metadata": {},
   "outputs": [],
   "source": [
    "match.rename(\n",
    "    columns={\n",
    "        \"league_id\": \"LeagueID\",\n",
    "        \"match_api_id\": \"MatchID\",\n",
    "        \"home_team_api_id\": \"HomeTeamID\",\n",
    "        \"away_team_api_id\": \"AwayTeamID\",\n",
    "        \"date\": \"Date\",\n",
    "        \"season\": \"Season\",\n",
    "        \"home_team_goal\": \"HomeTeamGoal\",\n",
    "        \"away_team_goal\": \"AwayTeamGoal\",\n",
    "    },\n",
    "    inplace=True,\n",
    ")"
   ]
  },
  {
   "cell_type": "code",
   "execution_count": null,
   "id": "20af5871",
   "metadata": {},
   "outputs": [],
   "source": [
    "match.head()"
   ]
  },
  {
   "cell_type": "code",
   "execution_count": 196,
   "id": "f5dc0e34",
   "metadata": {},
   "outputs": [],
   "source": [
    "# match.drop(match.iloc[:, 8:112], inplace = True, axis = 1)"
   ]
  },
  {
   "cell_type": "code",
   "execution_count": 197,
   "id": "1b424d5f",
   "metadata": {},
   "outputs": [],
   "source": [
    "match[\"Date\"] = pd.DatetimeIndex(match[\"Date\"]).year"
   ]
  },
  {
   "cell_type": "code",
   "execution_count": 198,
   "id": "074bf37a",
   "metadata": {
    "scrolled": false
   },
   "outputs": [
    {
     "data": {
      "text/html": [
       "<div>\n",
       "<style scoped>\n",
       "    .dataframe tbody tr th:only-of-type {\n",
       "        vertical-align: middle;\n",
       "    }\n",
       "\n",
       "    .dataframe tbody tr th {\n",
       "        vertical-align: top;\n",
       "    }\n",
       "\n",
       "    .dataframe thead th {\n",
       "        text-align: right;\n",
       "    }\n",
       "</style>\n",
       "<table border=\"1\" class=\"dataframe\">\n",
       "  <thead>\n",
       "    <tr style=\"text-align: right;\">\n",
       "      <th></th>\n",
       "      <th>LeagueID</th>\n",
       "      <th>Season</th>\n",
       "      <th>Date</th>\n",
       "      <th>MatchID</th>\n",
       "      <th>HomeTeamID</th>\n",
       "      <th>AwayTeamID</th>\n",
       "      <th>HomeTeamGoal</th>\n",
       "      <th>AwayTeamGoal</th>\n",
       "      <th>TotalGoals</th>\n",
       "      <th>ShotonHome</th>\n",
       "      <th>ShotonAway</th>\n",
       "      <th>ShotoffHome</th>\n",
       "      <th>ShotoffAway</th>\n",
       "      <th>FoulCommitHome</th>\n",
       "      <th>FoulCommitAway</th>\n",
       "      <th>CardHome</th>\n",
       "      <th>CardAway</th>\n",
       "      <th>CrossHome</th>\n",
       "      <th>CrossAway</th>\n",
       "      <th>CornerHome</th>\n",
       "      <th>CornerAway</th>\n",
       "      <th>PossessionHome</th>\n",
       "      <th>PossessionAway</th>\n",
       "    </tr>\n",
       "  </thead>\n",
       "  <tbody>\n",
       "    <tr>\n",
       "      <th>0</th>\n",
       "      <td>1</td>\n",
       "      <td>2008/2009</td>\n",
       "      <td>2008</td>\n",
       "      <td>492473</td>\n",
       "      <td>9987</td>\n",
       "      <td>9993</td>\n",
       "      <td>1</td>\n",
       "      <td>1</td>\n",
       "      <td>2</td>\n",
       "      <td>NaN</td>\n",
       "      <td>NaN</td>\n",
       "      <td>NaN</td>\n",
       "      <td>NaN</td>\n",
       "      <td>NaN</td>\n",
       "      <td>NaN</td>\n",
       "      <td>NaN</td>\n",
       "      <td>NaN</td>\n",
       "      <td>NaN</td>\n",
       "      <td>NaN</td>\n",
       "      <td>NaN</td>\n",
       "      <td>NaN</td>\n",
       "      <td>NaN</td>\n",
       "      <td>NaN</td>\n",
       "    </tr>\n",
       "    <tr>\n",
       "      <th>1</th>\n",
       "      <td>1</td>\n",
       "      <td>2008/2009</td>\n",
       "      <td>2008</td>\n",
       "      <td>492474</td>\n",
       "      <td>10000</td>\n",
       "      <td>9994</td>\n",
       "      <td>0</td>\n",
       "      <td>0</td>\n",
       "      <td>0</td>\n",
       "      <td>NaN</td>\n",
       "      <td>NaN</td>\n",
       "      <td>NaN</td>\n",
       "      <td>NaN</td>\n",
       "      <td>NaN</td>\n",
       "      <td>NaN</td>\n",
       "      <td>NaN</td>\n",
       "      <td>NaN</td>\n",
       "      <td>NaN</td>\n",
       "      <td>NaN</td>\n",
       "      <td>NaN</td>\n",
       "      <td>NaN</td>\n",
       "      <td>NaN</td>\n",
       "      <td>NaN</td>\n",
       "    </tr>\n",
       "    <tr>\n",
       "      <th>2</th>\n",
       "      <td>1</td>\n",
       "      <td>2008/2009</td>\n",
       "      <td>2008</td>\n",
       "      <td>492475</td>\n",
       "      <td>9984</td>\n",
       "      <td>8635</td>\n",
       "      <td>0</td>\n",
       "      <td>3</td>\n",
       "      <td>3</td>\n",
       "      <td>NaN</td>\n",
       "      <td>NaN</td>\n",
       "      <td>NaN</td>\n",
       "      <td>NaN</td>\n",
       "      <td>NaN</td>\n",
       "      <td>NaN</td>\n",
       "      <td>NaN</td>\n",
       "      <td>NaN</td>\n",
       "      <td>NaN</td>\n",
       "      <td>NaN</td>\n",
       "      <td>NaN</td>\n",
       "      <td>NaN</td>\n",
       "      <td>NaN</td>\n",
       "      <td>NaN</td>\n",
       "    </tr>\n",
       "    <tr>\n",
       "      <th>3</th>\n",
       "      <td>1</td>\n",
       "      <td>2008/2009</td>\n",
       "      <td>2008</td>\n",
       "      <td>492476</td>\n",
       "      <td>9991</td>\n",
       "      <td>9998</td>\n",
       "      <td>5</td>\n",
       "      <td>0</td>\n",
       "      <td>5</td>\n",
       "      <td>NaN</td>\n",
       "      <td>NaN</td>\n",
       "      <td>NaN</td>\n",
       "      <td>NaN</td>\n",
       "      <td>NaN</td>\n",
       "      <td>NaN</td>\n",
       "      <td>NaN</td>\n",
       "      <td>NaN</td>\n",
       "      <td>NaN</td>\n",
       "      <td>NaN</td>\n",
       "      <td>NaN</td>\n",
       "      <td>NaN</td>\n",
       "      <td>NaN</td>\n",
       "      <td>NaN</td>\n",
       "    </tr>\n",
       "    <tr>\n",
       "      <th>4</th>\n",
       "      <td>1</td>\n",
       "      <td>2008/2009</td>\n",
       "      <td>2008</td>\n",
       "      <td>492477</td>\n",
       "      <td>7947</td>\n",
       "      <td>9985</td>\n",
       "      <td>1</td>\n",
       "      <td>3</td>\n",
       "      <td>4</td>\n",
       "      <td>NaN</td>\n",
       "      <td>NaN</td>\n",
       "      <td>NaN</td>\n",
       "      <td>NaN</td>\n",
       "      <td>NaN</td>\n",
       "      <td>NaN</td>\n",
       "      <td>NaN</td>\n",
       "      <td>NaN</td>\n",
       "      <td>NaN</td>\n",
       "      <td>NaN</td>\n",
       "      <td>NaN</td>\n",
       "      <td>NaN</td>\n",
       "      <td>NaN</td>\n",
       "      <td>NaN</td>\n",
       "    </tr>\n",
       "  </tbody>\n",
       "</table>\n",
       "</div>"
      ],
      "text/plain": [
       "   LeagueID     Season  Date  MatchID  HomeTeamID  AwayTeamID  HomeTeamGoal  \\\n",
       "0         1  2008/2009  2008   492473        9987        9993             1   \n",
       "1         1  2008/2009  2008   492474       10000        9994             0   \n",
       "2         1  2008/2009  2008   492475        9984        8635             0   \n",
       "3         1  2008/2009  2008   492476        9991        9998             5   \n",
       "4         1  2008/2009  2008   492477        7947        9985             1   \n",
       "\n",
       "   AwayTeamGoal  TotalGoals  ShotonHome  ShotonAway  ShotoffHome  ShotoffAway  \\\n",
       "0             1           2         NaN         NaN          NaN          NaN   \n",
       "1             0           0         NaN         NaN          NaN          NaN   \n",
       "2             3           3         NaN         NaN          NaN          NaN   \n",
       "3             0           5         NaN         NaN          NaN          NaN   \n",
       "4             3           4         NaN         NaN          NaN          NaN   \n",
       "\n",
       "   FoulCommitHome  FoulCommitAway  CardHome  CardAway  CrossHome  CrossAway  \\\n",
       "0             NaN             NaN       NaN       NaN        NaN        NaN   \n",
       "1             NaN             NaN       NaN       NaN        NaN        NaN   \n",
       "2             NaN             NaN       NaN       NaN        NaN        NaN   \n",
       "3             NaN             NaN       NaN       NaN        NaN        NaN   \n",
       "4             NaN             NaN       NaN       NaN        NaN        NaN   \n",
       "\n",
       "   CornerHome  CornerAway  PossessionHome  PossessionAway  \n",
       "0         NaN         NaN             NaN             NaN  \n",
       "1         NaN         NaN             NaN             NaN  \n",
       "2         NaN         NaN             NaN             NaN  \n",
       "3         NaN         NaN             NaN             NaN  \n",
       "4         NaN         NaN             NaN             NaN  "
      ]
     },
     "execution_count": 198,
     "metadata": {},
     "output_type": "execute_result"
    }
   ],
   "source": [
    "match.head()"
   ]
  }
 ],
 "metadata": {
  "kernelspec": {
   "display_name": "Python 3 (ipykernel)",
   "language": "python",
   "name": "python3"
  },
  "language_info": {
   "codemirror_mode": {
    "name": "ipython",
    "version": 3
   },
   "file_extension": ".py",
   "mimetype": "text/x-python",
   "name": "python",
   "nbconvert_exporter": "python",
   "pygments_lexer": "ipython3",
   "version": "3.10.7"
  }
 },
 "nbformat": 4,
 "nbformat_minor": 5
}