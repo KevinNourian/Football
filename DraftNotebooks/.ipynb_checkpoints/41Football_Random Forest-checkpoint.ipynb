{
 "cells": [
  {
   "cell_type": "markdown",
   "id": "double-logging",
   "metadata": {},
   "source": [
    "## Display Features"
   ]
  },
  {
   "cell_type": "code",
   "execution_count": 1,
   "id": "edbd314d",
   "metadata": {},
   "outputs": [],
   "source": [
    "import pandas as pd\n",
    "import numpy as np\n",
    "import sqlite3\n",
    "import seaborn as sns\n",
    "import matplotlib as mpl\n",
    "import matplotlib.pyplot as plt\n",
    "import warnings\n",
    "\n",
    "# from xml.etree.ElementTree import fromstring, ElementTree\n",
    "# import xml.etree.ElementTree as ET"
   ]
  },
  {
   "cell_type": "code",
   "execution_count": 2,
   "id": "driven-element",
   "metadata": {},
   "outputs": [],
   "source": [
    "%matplotlib inline\n",
    "pd.options.display.max_rows = 300000\n",
    "pd.options.display.max_columns = 999\n",
    "pd.options.display.max_colwidth = 500"
   ]
  },
  {
   "cell_type": "markdown",
   "id": "ff76411d",
   "metadata": {},
   "source": [
    "# Matches"
   ]
  },
  {
   "cell_type": "code",
   "execution_count": 3,
   "id": "b23e4c41",
   "metadata": {},
   "outputs": [],
   "source": [
    "matches = pd.read_csv(\n",
    "    \"C:\\\\Users\\\\Space\\\\Documents\\\\py\\\\Projects\\\\TuringCollege\\\\Football\\\\DataSets\\\\matches8.csv\",\n",
    "    index_col=0,\n",
    ")"
   ]
  },
  {
   "cell_type": "code",
   "execution_count": 4,
   "id": "2a805fa0",
   "metadata": {},
   "outputs": [],
   "source": [
    "X = matches.loc [:, 'HomePlayer1': 'AwayDefenceTeamWidth']\n",
    "y = matches['Result']"
   ]
  },
  {
   "cell_type": "markdown",
   "id": "138fed55",
   "metadata": {},
   "source": [
    "# Random Forest"
   ]
  },
  {
   "cell_type": "code",
   "execution_count": 5,
   "id": "7b618c9a",
   "metadata": {},
   "outputs": [],
   "source": [
    "from sklearn.model_selection import train_test_split\n",
    "\n",
    "X_train, X_test, y_train, y_test = train_test_split(X, y, test_size=0.3, random_state=101)"
   ]
  },
  {
   "cell_type": "code",
   "execution_count": 8,
   "id": "12d60d01",
   "metadata": {},
   "outputs": [],
   "source": [
    "from sklearn.ensemble import RandomForestClassifier\n",
    "\n",
    "# Use 10 random trees\n",
    "model = RandomForestClassifier(n_estimators=10,max_features='sqrt',random_state=101)"
   ]
  },
  {
   "cell_type": "code",
   "execution_count": 11,
   "id": "868908d7",
   "metadata": {},
   "outputs": [],
   "source": [
    "model.fit(X_train,y_train)\n",
    "preds = model.predict(X_test)"
   ]
  },
  {
   "cell_type": "code",
   "execution_count": 12,
   "id": "10bb96d8",
   "metadata": {},
   "outputs": [
    {
     "data": {
      "text/plain": [
       "array([[ 660,  284,  608],\n",
       "       [ 451,  248,  691],\n",
       "       [ 494,  464, 1573]], dtype=int64)"
      ]
     },
     "execution_count": 12,
     "metadata": {},
     "output_type": "execute_result"
    }
   ],
   "source": [
    "from sklearn.metrics import confusion_matrix,classification_report,plot_confusion_matrix,accuracy_score\n",
    "\n",
    "confusion_matrix(y_test,preds)"
   ]
  },
  {
   "cell_type": "code",
   "execution_count": 14,
   "id": "56a9f072",
   "metadata": {},
   "outputs": [
    {
     "name": "stdout",
     "output_type": "stream",
     "text": [
      "              precision    recall  f1-score   support\n",
      "\n",
      "          -1       0.41      0.43      0.42      1552\n",
      "           0       0.25      0.18      0.21      1390\n",
      "           1       0.55      0.62      0.58      2531\n",
      "\n",
      "    accuracy                           0.45      5473\n",
      "   macro avg       0.40      0.41      0.40      5473\n",
      "weighted avg       0.43      0.45      0.44      5473\n",
      "\n"
     ]
    }
   ],
   "source": [
    "print(classification_report(y_test,preds))"
   ]
  },
  {
   "cell_type": "code",
   "execution_count": 15,
   "id": "01b517bd",
   "metadata": {},
   "outputs": [
    {
     "data": {
      "text/plain": [
       "array([0.02399549, 0.02308647, 0.02390639, 0.02300461, 0.0225971 ,\n",
       "       0.02704731, 0.02417937, 0.02729205, 0.02861723, 0.02696988,\n",
       "       0.02855696, 0.02248999, 0.02256538, 0.02320749, 0.02385653,\n",
       "       0.02338779, 0.02663125, 0.02819326, 0.02735465, 0.02530058,\n",
       "       0.02642963, 0.02411163, 0.00722819, 0.0067827 , 0.00700106,\n",
       "       0.00662539, 0.00816706, 0.0079076 , 0.00965946, 0.01036807,\n",
       "       0.01424108, 0.01146303, 0.00856573, 0.00742893, 0.02179545,\n",
       "       0.0223006 , 0.02178009, 0.02230494, 0.02154932, 0.02220901,\n",
       "       0.02065315, 0.02003013, 0.02091022, 0.02069623, 0.01984686,\n",
       "       0.02298561, 0.02190322, 0.02210579, 0.019472  , 0.02123804])"
      ]
     },
     "execution_count": 15,
     "metadata": {},
     "output_type": "execute_result"
    }
   ],
   "source": [
    "model.feature_importances_"
   ]
  },
  {
   "cell_type": "code",
   "execution_count": null,
   "id": "e82c5c47",
   "metadata": {},
   "outputs": [],
   "source": []
  }
 ],
 "metadata": {
  "kernelspec": {
   "display_name": "Python 3 (ipykernel)",
   "language": "python",
   "name": "python3"
  },
  "language_info": {
   "codemirror_mode": {
    "name": "ipython",
    "version": 3
   },
   "file_extension": ".py",
   "mimetype": "text/x-python",
   "name": "python",
   "nbconvert_exporter": "python",
   "pygments_lexer": "ipython3",
   "version": "3.10.7"
  }
 },
 "nbformat": 4,
 "nbformat_minor": 5
}
