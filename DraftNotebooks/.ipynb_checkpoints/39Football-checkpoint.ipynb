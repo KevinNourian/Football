{
 "cells": [
  {
   "cell_type": "markdown",
   "id": "double-logging",
   "metadata": {},
   "source": [
    "## Display Features"
   ]
  },
  {
   "cell_type": "code",
   "execution_count": 1,
   "id": "edbd314d",
   "metadata": {},
   "outputs": [],
   "source": [
    "import pandas as pd\n",
    "import numpy as np\n",
    "import sqlite3\n",
    "import seaborn as sns\n",
    "import matplotlib as mpl\n",
    "import matplotlib.pyplot as plt\n",
    "import warnings\n",
    "\n",
    "# from xml.etree.ElementTree import fromstring, ElementTree\n",
    "# import xml.etree.ElementTree as ET"
   ]
  },
  {
   "cell_type": "code",
   "execution_count": 12,
   "id": "712bc013",
   "metadata": {},
   "outputs": [],
   "source": [
    "from sklearn.model_selection import train_test_split\n",
    "from sklearn.linear_model import LogisticRegression\n",
    "from sklearn.preprocessing import StandardScaler\n",
    "from sklearn.metrics import classification_report"
   ]
  },
  {
   "cell_type": "code",
   "execution_count": 2,
   "id": "driven-element",
   "metadata": {},
   "outputs": [],
   "source": [
    "%matplotlib inline\n",
    "pd.options.display.max_rows = 300000\n",
    "pd.options.display.max_columns = 999\n",
    "pd.options.display.max_colwidth = 500"
   ]
  },
  {
   "cell_type": "markdown",
   "id": "ff76411d",
   "metadata": {},
   "source": [
    "# Matches"
   ]
  },
  {
   "cell_type": "code",
   "execution_count": 3,
   "id": "b23e4c41",
   "metadata": {},
   "outputs": [],
   "source": [
    "matches = pd.read_csv(\n",
    "    \"C:\\\\Users\\\\Space\\\\Documents\\\\py\\\\Projects\\\\TuringCollege\\\\Football\\\\DataSets\\\\matches8.csv\",\n",
    "    index_col=0,\n",
    ")"
   ]
  },
  {
   "cell_type": "code",
   "execution_count": 5,
   "id": "2a805fa0",
   "metadata": {},
   "outputs": [],
   "source": [
    "X = matches.loc [:, 'HomePlayer1': 'AwayDefenceTeamWidth']\n",
    "y = matches['Result']"
   ]
  },
  {
   "cell_type": "markdown",
   "id": "20dcbf8f",
   "metadata": {},
   "source": [
    "# Logistic Regression (Multiclass \"OVR\")"
   ]
  },
  {
   "cell_type": "code",
   "execution_count": 39,
   "id": "a88259c1",
   "metadata": {},
   "outputs": [],
   "source": [
    "X_train, X_test, y_train, y_test = train_test_split(X, y, shuffle=True, test_size=0.2, random_state=101)\n",
    "\n",
    "log_model = LogisticRegression(multi_class=\"ovr\", max_iter=5000)\n",
    "log_model.fit(X_train, y_train)\n",
    "\n",
    "y_predict = log_model.predict(X_test)"
   ]
  },
  {
   "cell_type": "code",
   "execution_count": 40,
   "id": "9890909c",
   "metadata": {
    "scrolled": true
   },
   "outputs": [
    {
     "name": "stdout",
     "output_type": "stream",
     "text": [
      "              precision    recall  f1-score   support\n",
      "\n",
      "          -1       0.48      0.51      0.50      1050\n",
      "           0       0.19      0.01      0.02       933\n",
      "           1       0.55      0.82      0.66      1666\n",
      "\n",
      "    accuracy                           0.52      3649\n",
      "   macro avg       0.41      0.45      0.39      3649\n",
      "weighted avg       0.44      0.52      0.45      3649\n",
      "\n"
     ]
    }
   ],
   "source": [
    " print(classification_report(y_test, y_predict))"
   ]
  },
  {
   "cell_type": "markdown",
   "id": "98735011",
   "metadata": {},
   "source": [
    "# Simple Logistic Regression Liblinear Solver"
   ]
  },
  {
   "cell_type": "code",
   "execution_count": 28,
   "id": "b2ac1f8c",
   "metadata": {},
   "outputs": [],
   "source": [
    "X_train, X_test, y_train, y_test = train_test_split(X, y, shuffle=True, test_size=0.2, random_state=101)\n",
    "\n",
    "log_model = LogisticRegression(solver=\"liblinear\", multi_class=\"ovr\", max_iter=5000)\n",
    "log_model.fit(X_train, y_train)\n",
    "\n",
    "y_predict = log_model.predict(X_test)"
   ]
  },
  {
   "cell_type": "code",
   "execution_count": 29,
   "id": "09d6a0f4",
   "metadata": {
    "scrolled": true
   },
   "outputs": [
    {
     "name": "stdout",
     "output_type": "stream",
     "text": [
      "              precision    recall  f1-score   support\n",
      "\n",
      "          -1       0.49      0.52      0.50      1050\n",
      "           0       0.16      0.00      0.01       933\n",
      "           1       0.55      0.83      0.66      1666\n",
      "\n",
      "    accuracy                           0.53      3649\n",
      "   macro avg       0.40      0.45      0.39      3649\n",
      "weighted avg       0.43      0.53      0.45      3649\n",
      "\n"
     ]
    }
   ],
   "source": [
    " print(classification_report(y_test, y_predict))"
   ]
  },
  {
   "cell_type": "markdown",
   "id": "19dc248f",
   "metadata": {},
   "source": [
    "## Standardized Features"
   ]
  },
  {
   "cell_type": "code",
   "execution_count": 30,
   "id": "44243f9d",
   "metadata": {},
   "outputs": [],
   "source": [
    "X_train, X_test, y_train, y_test = train_test_split(X, y, shuffle=True, test_size=0.2, random_state=101)\n",
    "\n",
    "scaler = StandardScaler()\n",
    "scaled_X_train = scaler.fit_transform(X_train)\n",
    "scaled_X_test = scaler.transform(X_test)\n",
    "\n",
    "log_model = LogisticRegression(solver=\"liblinear\", multi_class=\"ovr\", max_iter=5000)\n",
    "log_model.fit(scaled_X_train, y_train)\n",
    "\n",
    "y_predict = log_model.predict(scaled_X_test)"
   ]
  },
  {
   "cell_type": "code",
   "execution_count": 31,
   "id": "f0c78efc",
   "metadata": {},
   "outputs": [
    {
     "name": "stdout",
     "output_type": "stream",
     "text": [
      "              precision    recall  f1-score   support\n",
      "\n",
      "          -1       0.49      0.52      0.50      1050\n",
      "           0       0.15      0.00      0.01       933\n",
      "           1       0.55      0.82      0.66      1666\n",
      "\n",
      "    accuracy                           0.53      3649\n",
      "   macro avg       0.40      0.45      0.39      3649\n",
      "weighted avg       0.43      0.53      0.45      3649\n",
      "\n"
     ]
    }
   ],
   "source": [
    "print(classification_report(y_test, y_predict))"
   ]
  },
  {
   "cell_type": "markdown",
   "id": "9302f103",
   "metadata": {},
   "source": [
    "# Simple Logistic Regression Saga Solver"
   ]
  },
  {
   "cell_type": "code",
   "execution_count": 26,
   "id": "757aba59",
   "metadata": {},
   "outputs": [],
   "source": [
    "X_train, X_test, y_train, y_test = train_test_split(X, y, shuffle=True, test_size=0.2, random_state=101)\n",
    "\n",
    "log_model = LogisticRegression(solver='saga',multi_class=\"ovr\",max_iter=5000)\n",
    "log_model.fit(X_train, y_train)\n",
    "\n",
    "y_predict = log_model.predict(X_test)"
   ]
  },
  {
   "cell_type": "code",
   "execution_count": 27,
   "id": "2890975e",
   "metadata": {},
   "outputs": [
    {
     "name": "stdout",
     "output_type": "stream",
     "text": [
      "              precision    recall  f1-score   support\n",
      "\n",
      "          -1       0.50      0.52      0.51      1051\n",
      "           0       0.14      0.01      0.01       921\n",
      "           1       0.56      0.84      0.67      1677\n",
      "\n",
      "    accuracy                           0.54      3649\n",
      "   macro avg       0.40      0.46      0.40      3649\n",
      "weighted avg       0.44      0.54      0.46      3649\n",
      "\n"
     ]
    }
   ],
   "source": [
    " print(classification_report(y_test, y_predict))"
   ]
  },
  {
   "cell_type": "markdown",
   "id": "d792c530",
   "metadata": {},
   "source": [
    "## Standardized Features"
   ]
  },
  {
   "cell_type": "code",
   "execution_count": 45,
   "id": "be8e6450",
   "metadata": {},
   "outputs": [],
   "source": [
    "X_train, X_test, y_train, y_test = train_test_split(X, y, shuffle=True, test_size=0.2, random_state=101)\n",
    "\n",
    "scaler = StandardScaler()\n",
    "scaled_X_train = scaler.fit_transform(X_train)\n",
    "scaled_X_test = scaler.transform(X_test)\n",
    "\n",
    "log_model = LogisticRegression(solver='saga',multi_class=\"ovr\",max_iter=5000)\n",
    "log_model.fit(scaled_X_train, y_train)\n",
    "\n",
    "y_predict = log_model.predict(scaled_X_test)"
   ]
  },
  {
   "cell_type": "code",
   "execution_count": 46,
   "id": "e679b297",
   "metadata": {},
   "outputs": [
    {
     "name": "stdout",
     "output_type": "stream",
     "text": [
      "              precision    recall  f1-score   support\n",
      "\n",
      "          -1       0.49      0.52      0.50      1050\n",
      "           0       0.15      0.00      0.01       933\n",
      "           1       0.55      0.83      0.66      1666\n",
      "\n",
      "    accuracy                           0.53      3649\n",
      "   macro avg       0.40      0.45      0.39      3649\n",
      "weighted avg       0.43      0.53      0.45      3649\n",
      "\n"
     ]
    }
   ],
   "source": [
    "print(classification_report(y_test, y_predict))"
   ]
  },
  {
   "cell_type": "markdown",
   "id": "d572a7e1",
   "metadata": {},
   "source": [
    "# Simple Logistic Regression newton-cg Solver"
   ]
  },
  {
   "cell_type": "code",
   "execution_count": 41,
   "id": "3c37531d",
   "metadata": {},
   "outputs": [],
   "source": [
    "X_train, X_test, y_train, y_test = train_test_split(X, y, shuffle=True, test_size=0.2, random_state=101)\n",
    "\n",
    "log_model = LogisticRegression(solver='newton-cg',multi_class=\"ovr\",max_iter=5000)\n",
    "log_model.fit(X_train, y_train)\n",
    "\n",
    "y_predict = log_model.predict(X_test)"
   ]
  },
  {
   "cell_type": "code",
   "execution_count": 42,
   "id": "62dc886c",
   "metadata": {},
   "outputs": [
    {
     "name": "stdout",
     "output_type": "stream",
     "text": [
      "              precision    recall  f1-score   support\n",
      "\n",
      "          -1       0.49      0.52      0.50      1050\n",
      "           0       0.15      0.00      0.01       933\n",
      "           1       0.55      0.82      0.66      1666\n",
      "\n",
      "    accuracy                           0.53      3649\n",
      "   macro avg       0.40      0.45      0.39      3649\n",
      "weighted avg       0.43      0.53      0.45      3649\n",
      "\n"
     ]
    }
   ],
   "source": [
    " print(classification_report(y_test, y_predict))"
   ]
  }
 ],
 "metadata": {
  "kernelspec": {
   "display_name": "Python 3 (ipykernel)",
   "language": "python",
   "name": "python3"
  },
  "language_info": {
   "codemirror_mode": {
    "name": "ipython",
    "version": 3
   },
   "file_extension": ".py",
   "mimetype": "text/x-python",
   "name": "python",
   "nbconvert_exporter": "python",
   "pygments_lexer": "ipython3",
   "version": "3.10.7"
  }
 },
 "nbformat": 4,
 "nbformat_minor": 5
}
